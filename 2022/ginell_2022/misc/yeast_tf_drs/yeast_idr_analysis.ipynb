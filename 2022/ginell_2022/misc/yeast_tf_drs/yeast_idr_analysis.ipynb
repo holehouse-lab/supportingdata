{
 "cells": [
  {
   "cell_type": "code",
   "execution_count": 21,
   "id": "f28cbaa7",
   "metadata": {},
   "outputs": [],
   "source": [
    "from shephard import interfaces\n",
    "from shephard.apis import uniprot\n",
    "\n",
    "AAs = ['A','C','D','E','F','G','H','I','K','L','M','N','P','Q','R','S','T','V','W','Y']"
   ]
  },
  {
   "cell_type": "code",
   "execution_count": 13,
   "id": "3a01a939",
   "metadata": {},
   "outputs": [],
   "source": [
    "# The gene_name_to_uid.tsv data comes from http://www.yeastract.com/consensuslist.php\n",
    "# where we use the list of yeast TFs.\n",
    "#\n",
    "# NOTE: This may not be an exaustative list of yeast TFs (!!) Also the definition of TF\n",
    "# here is defined as DNA-specific binding proteins, which is not how I would personally\n",
    "# define TFs...\n",
    "#\n",
    "\n",
    "# the code here reads in the tsv file which has 2 columns:\n",
    "# gene name, uniprot ID\n",
    "# and builds a list of the uniprot IDs called TF_UIDs\n",
    "#\n",
    "with open('gene_name_to_uid.tsv','r') as fh:\n",
    "    content = fh.readlines()    \n",
    "    \n",
    "TF_UIDs = [x.split('\\t')[1].strip() for x in content[1:]]    "
   ]
  },
  {
   "cell_type": "code",
   "execution_count": 19,
   "id": "1e13bd4e",
   "metadata": {},
   "outputs": [
    {
     "name": "stdout",
     "output_type": "stream",
     "text": [
      "NB yeast proteome missing P40068\n"
     ]
    }
   ],
   "source": [
    "# read yeast proteome and annotate with yeast IDRs\n",
    "yeast_proteome = uniprot.uniprot_fasta_to_proteome('../../shprd_data/yeast/s_cerevisiae_clean.fasta')\n",
    "interfaces.si_domains.add_domains_from_file(yeast_proteome, '../../shprd_data/yeast/shprd_domains_idrs_s_cerevisiae.tsv')\n",
    "\n",
    "\n",
    "# now extract out IDRs from yeast TFs\n",
    "IDRs_in_TFs = []\n",
    "for uid in TF_UIDs:\n",
    "    if uid in yeast_proteome:\n",
    "        for domain in yeast_proteome.protein(uid).domains:\n",
    "            IDRs_in_TFs.append(domain)\n",
    "    else:\n",
    "        print(f'NB yeast proteome missing {uid}')\n",
    "        \n",
    "        \n"
   ]
  },
  {
   "cell_type": "code",
   "execution_count": 24,
   "id": "22f12b51",
   "metadata": {},
   "outputs": [],
   "source": [
    "# initialize an empty dictionary which we're going to count\n",
    "# the different types of amino acids in the yeast TF IDRs\n",
    "AA_counts = {}\n",
    "for AA in AAs:\n",
    "    AA_counts[AA] = 0\n",
    "\n",
    "# for each IDR domani    \n",
    "for idr in IDRs_in_TFs:\n",
    "    for AA in AAs:\n",
    "        AA_counts[AA] = AA_counts[AA] + idr.sequence.count(AA)\n",
    "    "
   ]
  },
  {
   "cell_type": "code",
   "execution_count": 25,
   "id": "a9ae6765",
   "metadata": {},
   "outputs": [
    {
     "data": {
      "text/plain": [
       "{'A': 2609,\n",
       " 'C': 347,\n",
       " 'D': 2990,\n",
       " 'E': 2369,\n",
       " 'F': 1384,\n",
       " 'G': 2238,\n",
       " 'H': 1271,\n",
       " 'I': 2227,\n",
       " 'K': 2728,\n",
       " 'L': 3272,\n",
       " 'M': 995,\n",
       " 'N': 5288,\n",
       " 'P': 3397,\n",
       " 'Q': 2604,\n",
       " 'R': 1822,\n",
       " 'S': 6866,\n",
       " 'T': 3788,\n",
       " 'V': 1837,\n",
       " 'W': 152,\n",
       " 'Y': 968}"
      ]
     },
     "execution_count": 25,
     "metadata": {},
     "output_type": "execute_result"
    }
   ],
   "source": [
    "AA_counts"
   ]
  }
 ],
 "metadata": {
  "kernelspec": {
   "display_name": "Python 3 (ipykernel)",
   "language": "python",
   "name": "python3"
  },
  "language_info": {
   "codemirror_mode": {
    "name": "ipython",
    "version": 3
   },
   "file_extension": ".py",
   "mimetype": "text/x-python",
   "name": "python",
   "nbconvert_exporter": "python",
   "pygments_lexer": "ipython3",
   "version": "3.8.12"
  }
 },
 "nbformat": 4,
 "nbformat_minor": 5
}
