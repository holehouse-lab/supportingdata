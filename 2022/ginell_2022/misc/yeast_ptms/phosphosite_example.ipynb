{
 "cells": [
  {
   "cell_type": "code",
   "execution_count": 1,
   "id": "67326bf6",
   "metadata": {},
   "outputs": [],
   "source": [
    "from shephard.interfaces import si_domains, si_sites\n",
    "from shephard.apis import uniprot"
   ]
  },
  {
   "cell_type": "code",
   "execution_count": 2,
   "id": "346c7dbb",
   "metadata": {},
   "outputs": [],
   "source": [
    "# points to the local directory that matches where you hae the files from\n",
    "# https://github.com/holehouse-lab/shephard-data/tree/main/data/proteomes/s_cerevisiae\n",
    "# saved\n",
    "\n",
    "# You will need to change this!!!\n",
    "root_data_dir = ''\n",
    "\n"
   ]
  },
  {
   "cell_type": "code",
   "execution_count": 14,
   "id": "3e362829",
   "metadata": {},
   "outputs": [
    {
     "name": "stdout",
     "output_type": "stream",
     "text": [
      "Sanity check - we read in 6060 proteins with 15761 ptms and 8302 IDRs\n"
     ]
    }
   ],
   "source": [
    "# build a Proteome object from the yeast proteome FASTA file (clean just means we removed/fixed)\n",
    "# sequences that had non-canonical amino acids\n",
    "yeast_proteome = uniprot.uniprot_fasta_to_proteome(f'{root_data_dir}/s_cerevisiae_clean.fasta')\n",
    "\n",
    "# annotate the yeast proteome with all the ptms\n",
    "si_sites.add_sites_from_file(yeast_proteome, f'{root_data_dir}/shprd_sites_ptms_s_cerevisiae.tsv')\n",
    "\n",
    "n_sites = len(yeast_proteome.sites)\n",
    "n_proteins = len(yeast_proteome)\n",
    "\n",
    "# optional - annotate on domains and IDRs. Note that both ECOD domains (mostly evolutionarily-conserved folded/globular domains)\n",
    "# and IDRs exist as Shephard Domain objects - for more info check out the preprint!\n",
    "si_domains.add_domains_from_file(yeast_proteome, f'{root_data_dir}/shprd_domains_ecod_domainmapper_s_cerevisiae.tsv')\n",
    "\n",
    "si_domains.add_domains_from_file(yeast_proteome, f'{root_data_dir}/shprd_domains_idrs_s_cerevisiae.tsv')\n",
    "\n",
    "# this extracts all the IDR domains so you can count how many IDRs there are, because why would anyone care about\n",
    "# anything except the number of IDRs :)\n",
    "n_idrs = len(yeast_proteome.get_domains_by_type('IDR'))\n",
    "\n",
    "\n",
    "print(f\"Sanity check - we read in {n_proteins} proteins with {n_sites} ptms and {n_idrs} IDRs\")"
   ]
  },
  {
   "cell_type": "code",
   "execution_count": 22,
   "id": "36970e2a",
   "metadata": {},
   "outputs": [],
   "source": [
    "# This cell extracts the phosphosites as a list of Site objects (Site objects know about the Protein)\n",
    "# they come from, so there's no need to track this independently\n",
    "#\n",
    "\n",
    "# this is going to be our list of Site objects where each Site is a phosphosite\n",
    "phosphosites = []\n",
    "\n",
    "# for each proteome in yeast proteome\n",
    "for protein in yeast_proteome:    \n",
    "    \n",
    "    # for each site in that protein\n",
    "    for site in protein.sites:\n",
    "        \n",
    "        # if the site type is one of the three types of phosphoresidues...\n",
    "        if site.site_type in ['Phosphoserine', 'Phosphothreonine', 'Phosphotyrosine']:\n",
    "            phosphosites.append(site)\n",
    "\n",
    "# determine how many phosphosites were found\n",
    "n_phosphosites = len(phosphosites)            "
   ]
  },
  {
   "cell_type": "code",
   "execution_count": 23,
   "id": "2b4ad0b7",
   "metadata": {},
   "outputs": [
    {
     "name": "stdout",
     "output_type": "stream",
     "text": [
      "There are 14541 phosphosites in the yeast proteome\n"
     ]
    }
   ],
   "source": [
    "print(f\"There are {n_phosphosites} phosphosites in the yeast proteome\")"
   ]
  },
  {
   "cell_type": "code",
   "execution_count": 27,
   "id": "7cfeebc8",
   "metadata": {},
   "outputs": [],
   "source": [
    "# Finally, this cell figures out the unique proteins from which these \n",
    "# phosphosites came (note this uses a set to keep track of unique uniprotIDs)\n",
    "# which is the protein ID that UniProt-derived Proteome objects automatically\n",
    "# use.\n",
    "#\n",
    "\n",
    "# this is going to be a set of unique UniProt IDs\n",
    "unique_IDs = set([])\n",
    "\n",
    "# cycle over each phosphosite\n",
    "for phos in phosphosites:\n",
    "    \n",
    "    # if the UniProt ID associates with the protein from whence this phosphosite\n",
    "    # came is not currently in the unique_IDs set, add it!\n",
    "    if phos.protein.unique_ID not in unique_IDs:\n",
    "        unique_IDs.add(phos.protein.unique_ID)\n",
    "\n",
    "# and finally count the number of proteins        \n",
    "n_unique_phosphorylated_proteins = len(unique_IDs)"
   ]
  },
  {
   "cell_type": "code",
   "execution_count": 28,
   "id": "ea9d81f0",
   "metadata": {},
   "outputs": [
    {
     "name": "stdout",
     "output_type": "stream",
     "text": [
      "There are 14541 phosphosites spread over 2825 proteins\n"
     ]
    }
   ],
   "source": [
    "print(f\"There are {n_phosphosites} phosphosites spread over {n_unique_phosphorylated_proteins} proteins\")"
   ]
  }
 ],
 "metadata": {
  "kernelspec": {
   "display_name": "Python 3 (ipykernel)",
   "language": "python",
   "name": "python3"
  },
  "language_info": {
   "codemirror_mode": {
    "name": "ipython",
    "version": 3
   },
   "file_extension": ".py",
   "mimetype": "text/x-python",
   "name": "python",
   "nbconvert_exporter": "python",
   "pygments_lexer": "ipython3",
   "version": "3.8.12"
  }
 },
 "nbformat": 4,
 "nbformat_minor": 5
}
