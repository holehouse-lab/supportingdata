{
 "cells": [
  {
   "cell_type": "markdown",
   "id": "ab07c536",
   "metadata": {},
   "source": [
    "## Build all LCDs as SHEPHARD domains\n",
    "##### Last updated 2022-09-01\n",
    "This notebook provides code for building all single-amino acid or chemically consistent low-complexity domains.\n",
    "\n",
    "Note that to use this code requires the Python package [sparrow](https://github.com/idptools/sparrow). sparrow is in active development and we'd encourage you to avoid integrating it into your standard workflow, however, we have provided it so all analysis in the paper can be unambigiously reproduced with ease."
   ]
  },
  {
   "cell_type": "code",
   "execution_count": 1,
   "id": "56b69ef2",
   "metadata": {},
   "outputs": [],
   "source": [
    "from shephard.apis import uniprot\n",
    "from shephard import interfaces\n",
    "from sparrow import Protein"
   ]
  },
  {
   "cell_type": "code",
   "execution_count": 2,
   "id": "9155ecdb",
   "metadata": {},
   "outputs": [],
   "source": [
    "# name of a FASTA file from uniprot. The example here uses the cleaned human proteome\n",
    "# - i.e., the human proteome with proteins that lack non-standard amino acids, but this\n",
    "# could be any FASTA file generated from UniProt (e.g. mouse proteome etc)\n",
    "filename = '../../shprd_data/human_proteome_validated.fasta'"
   ]
  },
  {
   "cell_type": "code",
   "execution_count": 3,
   "id": "949aba0a",
   "metadata": {},
   "outputs": [],
   "source": [
    "# read in FASTA file from uniprot\n",
    "human_proteome = uniprot.uniprot_fasta_to_proteome(filename)"
   ]
  },
  {
   "cell_type": "code",
   "execution_count": 4,
   "id": "f19f475d",
   "metadata": {},
   "outputs": [],
   "source": [
    "residue_groupings = ['A','C','D','E','F','G','H','I','K','L','M','N','P','Q','R','S','T','V','W','Y']\n",
    "\n",
    "for r in residue_groupings:\n",
    "    for p in human_proteome:\n",
    "        s = Protein(p.sequence)\n",
    "\n",
    "        # get pLCDs from the sequencd\n",
    "        b = s.low_complexity_domains(mode='holt', residue_selector=r, max_interruption=5, minimum_length=20, fractional_threshold=0.25)\n",
    "\n",
    "        # if we found 1 or more pLCDs...\n",
    "        if len(b) >0:\n",
    "            for d in b:\n",
    "                p.add_domain(d[1]+1, d[2], f'{r}_at_25pct')\n",
    "\n",
    "    \n",
    "    \n",
    "    "
   ]
  },
  {
   "cell_type": "code",
   "execution_count": 5,
   "id": "ae28ea7f",
   "metadata": {},
   "outputs": [],
   "source": [
    "residue_groupings = ['ILVMA','EDRK','RGYWF','PEST']\n",
    "\n",
    "for r in residue_groupings:\n",
    "    for p in human_proteome:\n",
    "        s = Protein(p.sequence)\n",
    "\n",
    "        # get pLCDs from the sequencd\n",
    "        b = s.low_complexity_domains(mode='holt', residue_selector=r, max_interruption=5, minimum_length=20, fractional_threshold=0.5)\n",
    "\n",
    "        # if we found 1 or more pLCDs...\n",
    "        if len(b) >0:\n",
    "            for d in b:\n",
    "                p.add_domain(d[1]+1, d[2], f'{r}_at_50pct')\n",
    "\n",
    "    \n",
    "    \n",
    "    "
   ]
  },
  {
   "cell_type": "code",
   "execution_count": 6,
   "id": "d04c227d",
   "metadata": {},
   "outputs": [
    {
     "ename": "ProteinException",
     "evalue": "Domain [ILVMA_at_50pct_193_220] already found in proteins sp|A6NCQ9|RN222_HUMAN RING finger protein 222 OS=Homo sapiens OX=9606 GN=RNF222 PE=4 SV=1",
     "output_type": "error",
     "traceback": [
      "\u001b[0;31m---------------------------------------------------------------------------\u001b[0m",
      "\u001b[0;31mProteinException\u001b[0m                          Traceback (most recent call last)",
      "Input \u001b[0;32mIn [6]\u001b[0m, in \u001b[0;36m<cell line: 3>\u001b[0;34m()\u001b[0m\n\u001b[1;32m     11\u001b[0m \u001b[38;5;28;01mif\u001b[39;00m \u001b[38;5;28mlen\u001b[39m(b) \u001b[38;5;241m>\u001b[39m\u001b[38;5;241m0\u001b[39m:\n\u001b[1;32m     12\u001b[0m     \u001b[38;5;28;01mfor\u001b[39;00m d \u001b[38;5;129;01min\u001b[39;00m b:\n\u001b[0;32m---> 13\u001b[0m         \u001b[43mp\u001b[49m\u001b[38;5;241;43m.\u001b[39;49m\u001b[43madd_domain\u001b[49m\u001b[43m(\u001b[49m\u001b[43md\u001b[49m\u001b[43m[\u001b[49m\u001b[38;5;241;43m1\u001b[39;49m\u001b[43m]\u001b[49m\u001b[38;5;241;43m+\u001b[39;49m\u001b[38;5;241;43m1\u001b[39;49m\u001b[43m,\u001b[49m\u001b[43m \u001b[49m\u001b[43md\u001b[49m\u001b[43m[\u001b[49m\u001b[38;5;241;43m2\u001b[39;49m\u001b[43m]\u001b[49m\u001b[43m,\u001b[49m\u001b[43m \u001b[49m\u001b[38;5;124;43mf\u001b[39;49m\u001b[38;5;124;43m'\u001b[39;49m\u001b[38;5;132;43;01m{\u001b[39;49;00m\u001b[43mr\u001b[49m\u001b[38;5;132;43;01m}\u001b[39;49;00m\u001b[38;5;124;43m_at_50pct\u001b[39;49m\u001b[38;5;124;43m'\u001b[39;49m\u001b[43m)\u001b[49m\n",
      "File \u001b[0;32m~/Dropbox/WASHU/Holehouse/tools/shephard/shephard/shephard/protein.py:1563\u001b[0m, in \u001b[0;36mProtein.add_domain\u001b[0;34m(self, start, end, domain_type, attributes, safe, autoname)\u001b[0m\n\u001b[1;32m   1561\u001b[0m         full_name \u001b[38;5;241m=\u001b[39m newname\n\u001b[1;32m   1562\u001b[0m     \u001b[38;5;28;01melif\u001b[39;00m safe:\n\u001b[0;32m-> 1563\u001b[0m         \u001b[38;5;28;01mraise\u001b[39;00m exceptions\u001b[38;5;241m.\u001b[39mProteinException(\u001b[38;5;124m'\u001b[39m\u001b[38;5;124mDomain [\u001b[39m\u001b[38;5;132;01m%s\u001b[39;00m\u001b[38;5;124m] already found in proteins \u001b[39m\u001b[38;5;132;01m%s\u001b[39;00m\u001b[38;5;124m'\u001b[39m \u001b[38;5;241m%\u001b[39m (full_name, \u001b[38;5;28mself\u001b[39m\u001b[38;5;241m.\u001b[39mname))\n\u001b[1;32m   1565\u001b[0m \u001b[38;5;28mself\u001b[39m\u001b[38;5;241m.\u001b[39m_domains[full_name] \u001b[38;5;241m=\u001b[39m Domain(start, end, \u001b[38;5;28mself\u001b[39m, domain_type, full_name, attributes\u001b[38;5;241m=\u001b[39mattributes)\n",
      "\u001b[0;31mProteinException\u001b[0m: Domain [ILVMA_at_50pct_193_220] already found in proteins sp|A6NCQ9|RN222_HUMAN RING finger protein 222 OS=Homo sapiens OX=9606 GN=RNF222 PE=4 SV=1"
     ]
    }
   ],
   "source": [
    "residue_groupings = ['ILVMA','EDRK','RGYWF','PEST']\n",
    "\n",
    "for r in residue_groupings:\n",
    "    for p in human_proteome:\n",
    "        s = Protein(p.sequence)\n",
    "\n",
    "        # get pLCDs from the sequencd\n",
    "        b = s.low_complexity_domains(mode='holt', residue_selector=r, max_interruption=5, minimum_length=20, fractional_threshold=0.75)\n",
    "\n",
    "        # if we found 1 or more pLCDs...\n",
    "        if len(b) >0:\n",
    "            for d in b:\n",
    "                p.add_domain(d[1]+1, d[2], f'{r}_at_50pct')\n",
    "\n",
    "    \n",
    "    \n",
    "    "
   ]
  },
  {
   "cell_type": "code",
   "execution_count": null,
   "id": "8b227877",
   "metadata": {},
   "outputs": [],
   "source": [
    "residue_groupings = ['ED','RK']\n",
    "\n",
    "for r in residue_groupings:\n",
    "    for p in human_proteome:\n",
    "        s = Protein(p.sequence)\n",
    "\n",
    "        # get pLCDs from the sequencd\n",
    "        b = s.low_complexity_domains(mode='holt', residue_selector=r, max_interruption=5, minimum_length=20, fractional_threshold=0.5)\n",
    "\n",
    "        # if we found 1 or more pLCDs...\n",
    "        if len(b) >0:\n",
    "            for d in b:\n",
    "                p.add_domain(d[1]+1, d[2], f'{r}_at_50pct')\n",
    "\n",
    "    \n",
    "    \n",
    "    "
   ]
  },
  {
   "cell_type": "code",
   "execution_count": null,
   "id": "ab1b9e27",
   "metadata": {},
   "outputs": [],
   "source": [
    "residue_groupings = ['YWF']\n",
    "\n",
    "for r in residue_groupings:\n",
    "    for p in human_proteome:\n",
    "        s = Protein(p.sequence)\n",
    "\n",
    "        # get pLCDs from the sequencd\n",
    "        b = s.low_complexity_domains(mode='holt', residue_selector=r, max_interruption=5, minimum_length=20, fractional_threshold=0.25)\n",
    "\n",
    "        # if we found 1 or more pLCDs...\n",
    "        if len(b) >0:\n",
    "            for d in b:\n",
    "                p.add_domain(d[1]+1, d[2], f'{r}_at_25pct')\n",
    "\n",
    "    \n",
    "    \n",
    "    "
   ]
  },
  {
   "cell_type": "code",
   "execution_count": null,
   "id": "db5de82d",
   "metadata": {},
   "outputs": [],
   "source": [
    "interfaces.si_domains.write_domains(human_proteome, 'shprd_domains_human_LCDs_all.tsv')"
   ]
  },
  {
   "cell_type": "code",
   "execution_count": null,
   "id": "33ad4751",
   "metadata": {},
   "outputs": [],
   "source": [
    "d = human_proteome.get_domains_by_type('PEST_at_50pct')"
   ]
  },
  {
   "cell_type": "code",
   "execution_count": null,
   "id": "ffca3909",
   "metadata": {},
   "outputs": [],
   "source": []
  }
 ],
 "metadata": {
  "kernelspec": {
   "display_name": "Python 3 (ipykernel)",
   "language": "python",
   "name": "python3"
  },
  "language_info": {
   "codemirror_mode": {
    "name": "ipython",
    "version": 3
   },
   "file_extension": ".py",
   "mimetype": "text/x-python",
   "name": "python",
   "nbconvert_exporter": "python",
   "pygments_lexer": "ipython3",
   "version": "3.8.12"
  }
 },
 "nbformat": 4,
 "nbformat_minor": 5
}
