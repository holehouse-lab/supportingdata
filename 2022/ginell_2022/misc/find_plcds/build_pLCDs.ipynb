{
 "cells": [
  {
   "cell_type": "markdown",
   "id": "41fc84c4",
   "metadata": {},
   "source": [
    "## Build pLCD SHEPHARD domains\n",
    "##### Last updated 2022-09-01\n",
    "This notebook provides code for building polar-rich low-complexity domains as used for analysis in Figure 2.\n",
    "\n",
    "Note that to use this code requires the Python package [sparrow](https://github.com/idptools/sparrow). sparrow is in active development and we'd encourage you to avoid integrating it into your standard workflow, however, we have provided it so all analysis in the paper can be unambigiously reproduced with ease."
   ]
  },
  {
   "cell_type": "code",
   "execution_count": 50,
   "id": "fd32c013",
   "metadata": {},
   "outputs": [],
   "source": [
    "from shephard.apis import uniprot\n",
    "from shephard import interfaces\n",
    "from sparrow import Protein"
   ]
  },
  {
   "cell_type": "code",
   "execution_count": 51,
   "id": "159f4903",
   "metadata": {},
   "outputs": [],
   "source": [
    "# name of a FASTA file from uniprot. The example here uses the cleaned human proteome\n",
    "# - i.e., the human proteome with proteins that lack non-standard amino acids, but this\n",
    "# could be any FASTA file generated from UniProt (e.g. mouse proteome etc)\n",
    "filename = '../../shprd_data/human_proteome_validated.fasta'"
   ]
  },
  {
   "cell_type": "code",
   "execution_count": 52,
   "id": "ad788ba1",
   "metadata": {},
   "outputs": [],
   "source": [
    "# read in FASTA file from uniprot\n",
    "human_proteome = uniprot.uniprot_fasta_to_proteome(filename)"
   ]
  },
  {
   "cell_type": "code",
   "execution_count": 53,
   "id": "c91dc0af",
   "metadata": {},
   "outputs": [],
   "source": [
    "for p in human_proteome:\n",
    "    s = Protein(p.sequence)\n",
    "    \n",
    "    # get pLCDs from the sequencd\n",
    "    b = s.low_complexity_domains(mode='holt', residue_selector='QSGNTP', max_interruption=5, minimum_length=50, fractional_threshold=0.5)\n",
    "    \n",
    "    # if we found 1 or more pLCDs...\n",
    "    if len(b) >0:\n",
    "        for d in b:\n",
    "            p.add_domain(d[1]+1, d[2], 'QSGNTP_LCD')\n",
    "\n",
    "    \n",
    "    \n",
    "    "
   ]
  },
  {
   "cell_type": "code",
   "execution_count": 54,
   "id": "a2d9a09e",
   "metadata": {},
   "outputs": [
    {
     "name": "stdout",
     "output_type": "stream",
     "text": [
      "Foud 5138 pLCDs in the human proteome\n"
     ]
    }
   ],
   "source": [
    "print(f\"Foud {len(human_proteome.get_domains_by_type('QSGNTP_LCD'))} pLCDs in the human proteome\")"
   ]
  },
  {
   "cell_type": "code",
   "execution_count": 55,
   "id": "325872fe",
   "metadata": {},
   "outputs": [],
   "source": [
    "interfaces.si_domains.write_domains(human_proteome, 'shprd_domains_human_QSGNTP_LCD.tsv')"
   ]
  },
  {
   "cell_type": "code",
   "execution_count": null,
   "id": "01346245",
   "metadata": {},
   "outputs": [],
   "source": []
  }
 ],
 "metadata": {
  "kernelspec": {
   "display_name": "Python 3 (ipykernel)",
   "language": "python",
   "name": "python3"
  },
  "language_info": {
   "codemirror_mode": {
    "name": "ipython",
    "version": 3
   },
   "file_extension": ".py",
   "mimetype": "text/x-python",
   "name": "python",
   "nbconvert_exporter": "python",
   "pygments_lexer": "ipython3",
   "version": "3.8.12"
  }
 },
 "nbformat": 4,
 "nbformat_minor": 5
}
