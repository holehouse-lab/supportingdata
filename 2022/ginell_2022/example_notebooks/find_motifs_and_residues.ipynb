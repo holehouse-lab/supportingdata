{
 "cells": [
  {
   "cell_type": "markdown",
   "id": "e33e3ecc",
   "metadata": {},
   "source": [
    "### Find motifs and residues sites\n",
    "This notebook provides some examples for searching for specific motifs in the human proteom. Specifically, this makes use of the `sequence_tools` module which contains a string-search function, as described below."
   ]
  },
  {
   "cell_type": "code",
   "execution_count": 1,
   "id": "f166a000-0c27-4fd8-adb4-73e536030e86",
   "metadata": {},
   "outputs": [],
   "source": [
    "from shephard.apis import uniprot\n",
    "from shephard.interfaces import si_domains\n",
    "from shephard.tools import sequence_tools\n",
    "from shephard import Proteome"
   ]
  },
  {
   "cell_type": "markdown",
   "id": "86baf5d3",
   "metadata": {},
   "source": [
    "#### Using `sequence_tools`\n",
    "The cell below makes use of `sequence_tools`, a module that contains stand-alone, stateless functions for exploring sequences.\n",
    "\n",
    "Specifically, we're going to be using a search function for finding degenerate motifs. For those familiar, this acts like a regular expression (regex). The cell below shows a demonstration of how this works; the first parameter is the search query and the second should be a string of interest. The function returns the positions in the string using 1-indexing to make this compatible with protein indexing."
   ]
  },
  {
   "cell_type": "code",
   "execution_count": 2,
   "id": "725aa198",
   "metadata": {},
   "outputs": [
    {
     "name": "stdout",
     "output_type": "stream",
     "text": [
      "We searched for L.VP in AAALAVPAAAA, and this motif starts at position 4 in the sequence, using protein indexing\n"
     ]
    }
   ],
   "source": [
    "hits = sequence_tools.find_string_positions('L.VP', 'AAALAVPAAAA')\n",
    "print(f'We searched for L.VP in AAALAVPAAAA, and this motif starts at position {hits[0]:d} in the sequence, using protein indexing')"
   ]
  },
  {
   "cell_type": "code",
   "execution_count": 3,
   "id": "b123d93d",
   "metadata": {},
   "outputs": [],
   "source": [
    "# read in human proteome and annotated with disordered regions\n",
    "human_proteome = uniprot.uniprot_fasta_to_proteome('../shprd_data/human_proteome_validated.fasta')\n",
    "si_domains.add_domains_from_file(human_proteome, '../shprd_data/shprd_domains_metapredictv2_rerun.tsv')"
   ]
  },
  {
   "cell_type": "code",
   "execution_count": 4,
   "id": "88d432e1",
   "metadata": {},
   "outputs": [
    {
     "name": "stdout",
     "output_type": "stream",
     "text": [
      "Found 863 LxVxE sites in IDRs in the human proteome\n"
     ]
    }
   ],
   "source": [
    "LxVxE_count = 0   \n",
    "\n",
    "# The loop here cycles over each protein in the human proteom\n",
    "for protein in human_proteome:\n",
    "    \n",
    "    # for each domain \n",
    "    for domain in protein.domains:\n",
    "        \n",
    "        # find hits in the IDR\n",
    "        hits = sequence_tools.find_string_positions('L.V.E', domain.sequence)\n",
    "        \n",
    "        # for each position in the sequence, create a new site and increment\n",
    "        for hit in hits:        \n",
    "            protein.add_site(hit, 'LxVxE site')            \n",
    "            LxVxE_count = LxVxE_count + 1\n",
    "\n",
    "\n",
    "# The eas\n",
    "print(f'Found {LxVxE_count:d} LxVxE sites in IDRs in the human proteome')    "
   ]
  }
 ],
 "metadata": {
  "kernelspec": {
   "display_name": "Python 3 (ipykernel)",
   "language": "python",
   "name": "python3"
  },
  "language_info": {
   "codemirror_mode": {
    "name": "ipython",
    "version": 3
   },
   "file_extension": ".py",
   "mimetype": "text/x-python",
   "name": "python",
   "nbconvert_exporter": "python",
   "pygments_lexer": "ipython3",
   "version": "3.8.12"
  }
 },
 "nbformat": 4,
 "nbformat_minor": 5
}
