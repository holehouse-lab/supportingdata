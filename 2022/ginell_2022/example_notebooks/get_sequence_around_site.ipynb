{
 "cells": [
  {
   "cell_type": "markdown",
   "id": "136d3613",
   "metadata": {},
   "source": [
    "### Get sequence context around a site\n",
    "SHEPHARD makes it easy to find local sequence context around sites in an easy and automated way that deals with end effects automatically.\n",
    "\n",
    "Here, we use `find_string_position()` to find all the arginine residues in a sequence, and then select the sequence context around that site.\n",
    "\n",
    "In the demo below we're going to examine context of sequence around arginine in a fragment of the protein [TDP-43](https://www.uniprot.org/uniprotkb/Q13148/entry)."
   ]
  },
  {
   "cell_type": "code",
   "execution_count": 4,
   "id": "f166a000-0c27-4fd8-adb4-73e536030e86",
   "metadata": {},
   "outputs": [],
   "source": [
    "import shephard\n",
    "from shephard.proteome import Proteome\n",
    "from shephard.tools import sequence_tools"
   ]
  },
  {
   "cell_type": "code",
   "execution_count": 9,
   "id": "2743fec8-6bd8-42b0-84da-282518a23815",
   "metadata": {},
   "outputs": [],
   "source": [
    "# define empty proteome\n",
    "new_prot = Proteome([])\n",
    "\n",
    "# add a protein\n",
    "seq = 'KGISVHISNAEPKHNSNRQLERSGRFGGNPGGFGNQGGFGNSRGGGAGLGNNQGSNMGGGMNFGAFSINPAMMAAAQAALQSSWGMMGMLASQQNQSGPSGNNQNQGNMQREPNQAFGSGNNSYSGSNSGAAIGWGSASNAGSGSGFNGGFGSSMDSKSSGWGM'\n",
    "new_prot.add_protein(seq, 'fragment_TDP43', 'seq_001')\n",
    "\n",
    "# save protein object as variable\n",
    "p = new_prot.protein('seq_001')\n",
    "\n",
    "# add a site to that protein for every Arginine residue \n",
    "for i in sequence_tools.find_string_positions('R', p.sequence):\n",
    "    p.add_site(i, 'intrest_site_R' , value=.23)"
   ]
  },
  {
   "cell_type": "code",
   "execution_count": 12,
   "id": "cd39b569-18fe-4aab-b7cf-0649f96bb293",
   "metadata": {},
   "outputs": [
    {
     "name": "stdout",
     "output_type": "stream",
     "text": [
      "Local sequence context of R sites:\n"
     ]
    },
    {
     "data": {
      "text/plain": [
       "['HNSNRQLER', 'RQLERSGRF', 'ERSGRFGGN', 'FGNSRGGGA', 'GNMQREPNQ']"
      ]
     },
     "execution_count": 12,
     "metadata": {},
     "output_type": "execute_result"
    }
   ],
   "source": [
    "# get sequence around all sites\n",
    "print('Local sequence context of R sites:')\n",
    "[s.get_local_sequence_context(offset=4) for s in new_prot.protein('seq_001').sites]"
   ]
  }
 ],
 "metadata": {
  "kernelspec": {
   "display_name": "Python 3 (ipykernel)",
   "language": "python",
   "name": "python3"
  },
  "language_info": {
   "codemirror_mode": {
    "name": "ipython",
    "version": 3
   },
   "file_extension": ".py",
   "mimetype": "text/x-python",
   "name": "python",
   "nbconvert_exporter": "python",
   "pygments_lexer": "ipython3",
   "version": "3.8.12"
  }
 },
 "nbformat": 4,
 "nbformat_minor": 5
}
