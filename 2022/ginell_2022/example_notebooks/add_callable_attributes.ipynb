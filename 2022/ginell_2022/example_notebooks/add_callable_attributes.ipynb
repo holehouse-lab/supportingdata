{
 "cells": [
  {
   "cell_type": "markdown",
   "id": "057faf48",
   "metadata": {},
   "source": [
    "## Add callable attribute\n",
    "Because attributes are just Python objects, one can add functions as attributes to make it syntactically simple to ask complex questions.\n",
    "\n",
    "In this example, we're going to read in a proteome and define some lambda functions which we assign to the proteome as an attribute. This means the proteome actually gets a new function which we can pass variables to! \n",
    "\n"
   ]
  },
  {
   "cell_type": "code",
   "execution_count": 1,
   "id": "86055af6-0425-4755-a305-d24e50bd6e4e",
   "metadata": {},
   "outputs": [],
   "source": [
    "import numpy as np\n",
    "from shephard.apis import uniprot"
   ]
  },
  {
   "cell_type": "code",
   "execution_count": 2,
   "id": "f53f45cc",
   "metadata": {},
   "outputs": [],
   "source": [
    "# read in the proteome\n",
    "# define file \n",
    "in_file = '../shprd_data/human_proteome_validated.fasta'\n",
    "\n",
    "# Build proteome \n",
    "proteome = uniprot.uniprot_fasta_to_proteome(in_file)\n"
   ]
  },
  {
   "cell_type": "code",
   "execution_count": 3,
   "id": "408cf9c6-0a04-49f1-a301-d1dd252dd7c1",
   "metadata": {},
   "outputs": [],
   "source": [
    "# determine the length of all proteins in human proteome\n",
    "protein_lengths = []\n",
    "\n",
    "# for each protein in the human proteome\n",
    "for p in proteome:\n",
    "    \n",
    "    # append the protein's length to the protein_lengths list\n",
    "    protein_lengths.append(len(p))\n",
    "\n",
    "# note we need this to be an array for a later function\n",
    "protein_lengths = np.array(protein_lengths)\n",
    "    "
   ]
  },
  {
   "cell_type": "code",
   "execution_count": 4,
   "id": "d26a0468-4983-45eb-b5eb-de3901e76bec",
   "metadata": {},
   "outputs": [],
   "source": [
    "# define some custom functions related to proteome\n",
    "# lambda functions are a conveinent way of defining simple functions inline\n",
    "# the general syntax is\n",
    "#\n",
    "# lambda <variable> : <code that uses <variable>>\n",
    "\n",
    "\n",
    "# here we define a lambda function which takes a percentile (i.e. a value between 0 and 100)\n",
    "# and returns the length of the protein in the human proteome that correspond to this \n",
    "# specific percentile\n",
    "proteome.add_attribute('get_length_from_percentile', lambda a: int(np.percentile(protein_lengths, a)))\n",
    "\n",
    "# here we do the opposite as above - define a function that takes a protein length and returns\n",
    "# the percentile that length corresponds to (i.e. a value between 0 and 100)\n",
    "proteome.add_attribute('get_percentile_from_length', lambda a: 100*(sum(protein_lengths < a) / len(protein_lengths)))\n"
   ]
  },
  {
   "cell_type": "code",
   "execution_count": 5,
   "id": "c9c0bcc7-3d78-40ee-9563-357a8deb596e",
   "metadata": {},
   "outputs": [
    {
     "name": "stdout",
     "output_type": "stream",
     "text": [
      "Seq. Length of 100 in the 3.6 percentile\n",
      "Seq. Length threshold for the 20th percentile: 214\n"
     ]
    }
   ],
   "source": [
    "# now lets say we are doing analyis and want to know percentile a given sequence falls at \n",
    "length_example = 100\n",
    "p_out = proteome.attribute('get_percentile_from_length')(length_example)\n",
    "print(\"Seq. Length of %i in the %.1f percentile\" % (length_example, p_out))\n",
    "\n",
    "# here we can ask what is the lenght threshold a x percenctile in the data\n",
    "percentile_example = 20\n",
    "l_out = proteome.attribute('get_length_from_percentile')(percentile_example)\n",
    "print(\"Seq. Length threshold for the %ith percentile: %i\" % (percentile_example, l_out))"
   ]
  }
 ],
 "metadata": {
  "kernelspec": {
   "display_name": "Python 3 (ipykernel)",
   "language": "python",
   "name": "python3"
  },
  "language_info": {
   "codemirror_mode": {
    "name": "ipython",
    "version": 3
   },
   "file_extension": ".py",
   "mimetype": "text/x-python",
   "name": "python",
   "nbconvert_exporter": "python",
   "pygments_lexer": "ipython3",
   "version": "3.8.12"
  }
 },
 "nbformat": 4,
 "nbformat_minor": 5
}
