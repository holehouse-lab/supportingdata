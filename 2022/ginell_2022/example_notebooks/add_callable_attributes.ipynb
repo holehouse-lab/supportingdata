{
 "cells": [
  {
   "cell_type": "code",
   "execution_count": 3,
   "id": "86055af6-0425-4755-a305-d24e50bd6e4e",
   "metadata": {},
   "outputs": [],
   "source": [
    "import numpy as np\n",
    "from shephard.apis import uniprot"
   ]
  },
  {
   "cell_type": "code",
   "execution_count": 4,
   "id": "408cf9c6-0a04-49f1-a301-d1dd252dd7c1",
   "metadata": {},
   "outputs": [],
   "source": [
    "# define file \n",
    "in_file = '../shprd_data/human_proteome_validated.fasta'\n",
    "\n",
    "# Build proteome \n",
    "new_proteome = uniprot.uniprot_fasta_to_proteome(in_file)\n",
    "\n",
    "# do some analysis on all the protien sequences \n",
    "# here we get the lengths of all proteins in the proteome \n",
    "protein_lenghts = np.array([p.__len__() for p in new_proteome])"
   ]
  },
  {
   "cell_type": "code",
   "execution_count": 5,
   "id": "d26a0468-4983-45eb-b5eb-de3901e76bec",
   "metadata": {},
   "outputs": [],
   "source": [
    "# define some custom functions related to proteome\n",
    "# here we get the sequence length for X percentile of distribution of sequence lengths in the proteome \n",
    "new_proteome.add_attribute('get_length_from_percentile', lambda a: int(np.percentile(protein_lenghts,a)))\n",
    "\n",
    "# here we get the percentile for specific sequence length\n",
    "new_proteome.add_attribute('get_percentile_from_length', lambda a: 100*(sum(protein_lenghts < a) / len(protein_lenghts)))"
   ]
  },
  {
   "cell_type": "code",
   "execution_count": 6,
   "id": "c9c0bcc7-3d78-40ee-9563-357a8deb596e",
   "metadata": {},
   "outputs": [
    {
     "name": "stdout",
     "output_type": "stream",
     "text": [
      "Seq. Length of 100 in the 3.6 percentile\n",
      "Seq. Length threshold for the 20th percentile: 214\n"
     ]
    }
   ],
   "source": [
    "# now lets say we are doing analyis and want to know percentile a given sequence falls at \n",
    "length_example = 100\n",
    "p_out = new_proteome.attribute('get_percentile_from_length')(length_example)\n",
    "print(\"Seq. Length of %i in the %.1f percentile\" % (length_example, p_out))\n",
    "\n",
    "# here we can ask what is the lenght threshold a x percenctile in the data\n",
    "percentile_example = 20\n",
    "l_out = new_proteome.attribute('get_length_from_percentile')(percentile_example)\n",
    "print(\"Seq. Length threshold for the %ith percentile: %i\" % (percentile_example, l_out))"
   ]
  },
  {
   "cell_type": "code",
   "execution_count": null,
   "id": "2a9cf2a6-8834-4150-80c6-1621b07ef9c1",
   "metadata": {},
   "outputs": [],
   "source": []
  }
 ],
 "metadata": {
  "kernelspec": {
   "display_name": "Python 3 (ipykernel)",
   "language": "python",
   "name": "python3"
  },
  "language_info": {
   "codemirror_mode": {
    "name": "ipython",
    "version": 3
   },
   "file_extension": ".py",
   "mimetype": "text/x-python",
   "name": "python",
   "nbconvert_exporter": "python",
   "pygments_lexer": "ipython3",
   "version": "3.7.6"
  }
 },
 "nbformat": 4,
 "nbformat_minor": 5
}
