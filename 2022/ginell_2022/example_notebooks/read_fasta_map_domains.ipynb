{
 "cells": [
  {
   "cell_type": "markdown",
   "id": "1b397d9a",
   "metadata": {},
   "source": [
    "### Read fasta and map domains\n",
    "This notebook creates de novo domains at the N- and C-terminus and then investigates their composition\n"
   ]
  },
  {
   "cell_type": "code",
   "execution_count": 1,
   "id": "2621947f-57ca-4c33-94e8-d98c0871f078",
   "metadata": {},
   "outputs": [],
   "source": [
    "import numpy as np\n",
    "from shephard.apis import uniprot"
   ]
  },
  {
   "cell_type": "code",
   "execution_count": 16,
   "id": "c26a0cf3-85e3-4610-821f-88ca4de5dece",
   "metadata": {},
   "outputs": [],
   "source": [
    "# define the input sequence file\n",
    "in_file = '../shprd_data/human_proteome_validated.fasta'\n",
    "\n",
    "# Build proteome \n",
    "new_proteome = uniprot.uniprot_fasta_to_proteome(in_file)\n",
    "\n",
    "# Define the first 5 residues of every protein as C and N terminal domains\n",
    "for p in new_proteome:\n",
    "    p.add_domain(1,min(25, len(p)), 'N-Terminus')\n",
    "    p.add_domain(max(len(p)-24,1),len(p), 'C-Terminus')"
   ]
  },
  {
   "cell_type": "code",
   "execution_count": 17,
   "id": "4a862e97-4b94-4f89-9535-167328ad6680",
   "metadata": {},
   "outputs": [],
   "source": [
    "# for each domain in the human proteome...\n",
    "for d in new_proteome.domains:\n",
    "    \n",
    "    # if the domain type is N or C terminus\n",
    "    if d.domain_type in ['N-Terminus','C-Terminus']:\n",
    "        \n",
    "        # add fraction of glycine and serine in these N and C terminii\n",
    "        d.add_attribute('f_G', d.sequence.count('G')/len(d))\n",
    "        d.add_attribute('f_S', d.sequence.count('S')/len(d))"
   ]
  },
  {
   "cell_type": "code",
   "execution_count": 18,
   "id": "a14c9016-4c3d-4567-b9b5-0f7ea6124e1c",
   "metadata": {},
   "outputs": [
    {
     "name": "stdout",
     "output_type": "stream",
     "text": [
      "Average N-terminal GS fractions: 0.16092141661492163\n",
      "Average C-terminal GS fractions: 0.1475482003152109\n"
     ]
    }
   ],
   "source": [
    "# Caluclate fraction of Gly & Ser in C and N terminal regions \n",
    "\n",
    "\n",
    "N_terms = []\n",
    "C_terms = []\n",
    "\n",
    "# for each domain\n",
    "for d in new_proteome.domains:\n",
    "    \n",
    "    # if the domain is an N-terminal domain...\n",
    "    if d.domain_type == 'N-Terminus':\n",
    "        \n",
    "        # add the fraction G and S together and then\n",
    "        N_terms.append(d.attribute('f_G') + d.attribute('f_S'))\n",
    "\n",
    "    # else iif it's a C-terminal domain add S and G fractions\n",
    "    elif d.domain_type == 'C-Terminus':\n",
    "        C_terms.append(d.attribute('f_G') + d.attribute('f_S'))\n",
    "        \n",
    "    \n",
    "\n",
    "print(f'Average N-terminal GS fractions: {np.mean(N_terms)}')\n",
    "print(f'Average C-terminal GS fractions: {np.mean(C_terms)}')"
   ]
  },
  {
   "cell_type": "code",
   "execution_count": 27,
   "id": "bcfd677f-4402-4c84-9b0c-a7be53286600",
   "metadata": {},
   "outputs": [
    {
     "name": "stdout",
     "output_type": "stream",
     "text": [
      "Number of proteins with G and/or S rich C-Terminal or N-Terminal: 7\n",
      "Proteins: ['Q15059', 'Q9H7D7', 'Q9HCS4', 'Q9Y2X9', 'Q2TAP0', 'P25440', 'Q12791']\n"
     ]
    }
   ],
   "source": [
    "poly_GS_termi_proteins = []\n",
    "\n",
    "# for each domain in human proteome\n",
    "for d in new_proteome.domains:\n",
    "    \n",
    "    # if the N- and C-termini are entirely made of G and S...\n",
    "    if d.attribute('f_G') + d.attribute('f_S') > 0.75:\n",
    "        \n",
    "        # save!\n",
    "        poly_GS_termi_proteins.append(d.protein)\n",
    "\n",
    "# annotate list of proteins with C or N terminal poly-GS \n",
    "\n",
    "\n",
    "print('Number of proteins with G and/or S rich C-Terminal or N-Terminal:', len(poly_GS_termi_proteins))\n",
    "print('Proteins:', [p.unique_ID for p in poly_GS_termi_proteins])\n"
   ]
  },
  {
   "cell_type": "code",
   "execution_count": null,
   "id": "74df7326",
   "metadata": {},
   "outputs": [],
   "source": []
  }
 ],
 "metadata": {
  "kernelspec": {
   "display_name": "Python 3 (ipykernel)",
   "language": "python",
   "name": "python3"
  },
  "language_info": {
   "codemirror_mode": {
    "name": "ipython",
    "version": 3
   },
   "file_extension": ".py",
   "mimetype": "text/x-python",
   "name": "python",
   "nbconvert_exporter": "python",
   "pygments_lexer": "ipython3",
   "version": "3.8.12"
  }
 },
 "nbformat": 4,
 "nbformat_minor": 5
}
