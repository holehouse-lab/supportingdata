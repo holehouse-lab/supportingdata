{
 "cells": [
  {
   "cell_type": "code",
   "execution_count": 19,
   "id": "f166a000-0c27-4fd8-adb4-73e536030e86",
   "metadata": {},
   "outputs": [],
   "source": [
    "from shephard.apis import uniprot\n",
    "from shephard.interfaces import si_domains\n",
    "from shephard.tools import sequence_tools"
   ]
  },
  {
   "cell_type": "code",
   "execution_count": 18,
   "id": "75d533a5",
   "metadata": {},
   "outputs": [],
   "source": [
    "human_proteome = uniprot.uniprot_fasta_to_proteome('../shprd_data/human_proteome_validated.fasta')\n",
    "si_domains.add_domains_from_file(human_proteome, '../shprd_data/shprd_domains_human_IDRs_0.420.tsv')"
   ]
  },
  {
   "cell_type": "code",
   "execution_count": 24,
   "id": "7036a33b",
   "metadata": {},
   "outputs": [
    {
     "data": {
      "text/plain": [
       "[5]"
      ]
     },
     "execution_count": 24,
     "metadata": {},
     "output_type": "execute_result"
    }
   ],
   "source": [
    "sequence_tools.find_string_positions('L*VP', 'AAALAVPAAAA')"
   ]
  },
  {
   "cell_type": "code",
   "execution_count": null,
   "id": "88d432e1",
   "metadata": {},
   "outputs": [],
   "source": [
    "for protein in human_proteome:\n",
    "    for domain in protein.domains:\n",
    "        "
   ]
  },
  {
   "cell_type": "code",
   "execution_count": 10,
   "id": "2743fec8-6bd8-42b0-84da-282518a23815",
   "metadata": {},
   "outputs": [],
   "source": [
    "# define empty proteome\n",
    "new_prot = Proteome()\n",
    "\n",
    "# add a protein\n",
    "seq = 'KGISVHISNAEPKHNSNRQLERSGRFGGNPGGFGNQGGFGNSRGGGAGLGNNQGSNMGGGMNFGAFSINPAMMAAAQAALQSSWGMMGMLASQQNQSGPSGNNQNQGNMQREPNQAFGSGNNSYSGSNSGAAIGWGSASNAGSGSGFNGGFGSSMDSKSSGWGM'\n",
    "new_prot.add_protein(seq, 'fragment_TDP43', 'seq_001')\n",
    "\n",
    "# save protein object as variable\n",
    "p = new_prot.protein('seq_001')\n",
    "\n",
    "# add a site to that protein for every Arginine residue \n",
    "for i in sequence_tools.find_string_positions('R', p.sequence):\n",
    "    p.add_site(i+1, 'intrest_site_R' , value=.23)"
   ]
  },
  {
   "cell_type": "code",
   "execution_count": 11,
   "id": "cd39b569-18fe-4aab-b7cf-0649f96bb293",
   "metadata": {},
   "outputs": [
    {
     "name": "stdout",
     "output_type": "stream",
     "text": [
      "Local sequence context of R sites:\n"
     ]
    },
    {
     "data": {
      "text/plain": [
       "['NSNRQLE', 'QLERSGR', 'RSGRFGG', 'GNSRGGG', 'NMQREPN']"
      ]
     },
     "execution_count": 11,
     "metadata": {},
     "output_type": "execute_result"
    }
   ],
   "source": [
    "# get sequence around all sites\n",
    "print('Local sequence context of R sites:')\n",
    "[s.get_local_sequence_context(offset=3) for s in new_prot.protein('seq_001').sites]"
   ]
  },
  {
   "cell_type": "code",
   "execution_count": null,
   "id": "c4a6f467-5918-4c14-b5e9-4553defe571c",
   "metadata": {},
   "outputs": [],
   "source": []
  }
 ],
 "metadata": {
  "kernelspec": {
   "display_name": "Python 3 (ipykernel)",
   "language": "python",
   "name": "python3"
  },
  "language_info": {
   "codemirror_mode": {
    "name": "ipython",
    "version": 3
   },
   "file_extension": ".py",
   "mimetype": "text/x-python",
   "name": "python",
   "nbconvert_exporter": "python",
   "pygments_lexer": "ipython3",
   "version": "3.8.12"
  }
 },
 "nbformat": 4,
 "nbformat_minor": 5
}
