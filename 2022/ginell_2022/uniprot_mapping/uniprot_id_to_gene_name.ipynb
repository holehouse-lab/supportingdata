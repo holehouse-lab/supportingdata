{
 "cells": [
  {
   "cell_type": "markdown",
   "id": "1fc6f1f0",
   "metadata": {},
   "source": [
    "### Demo notebook: uniprot to gene name mapping\n",
    "The code below is a simple example of using SHEPHARD to build an interactive Proteome object which can be used to map uniprot IDs to gene names."
   ]
  },
  {
   "cell_type": "code",
   "execution_count": 1,
   "id": "bff10f58",
   "metadata": {},
   "outputs": [],
   "source": [
    "from shephard.apis import uniprot\n",
    "from shephard import interfaces"
   ]
  },
  {
   "cell_type": "code",
   "execution_count": 2,
   "id": "3a9a9a1d",
   "metadata": {},
   "outputs": [],
   "source": [
    "# name of a FASTA file from uniprot. The example here uses the cleaned human proteome\n",
    "# - i.e., the human proteome with proteins that lack non-standard amino acids, but this\n",
    "# could be any FASTA file generated from UniProt (e.g. mouse proteome etc)\n",
    "filename = '../shprd_data/human_proteome_validated.fasta'"
   ]
  },
  {
   "cell_type": "code",
   "execution_count": 3,
   "id": "2341a351",
   "metadata": {},
   "outputs": [],
   "source": [
    "# read in FASTA file from uniprot\n",
    "human_proteome = uniprot.uniprot_fasta_to_proteome(filename)"
   ]
  },
  {
   "cell_type": "markdown",
   "id": "d87a6a29",
   "metadata": {},
   "source": [
    "### extract gene names from uniprot headers\n",
    "The code below takes advantage of the fact that by default in a [proteome](https://www.uniprot.org/proteomes/UP000005640) downloaded by uniprot the standard gene name is included in the FASTA header record using the `GN=` delimiter. Because when using the `shephard.apis.uniprot` api the full fasta header is available under the `protein.name` variable, we can parse out the gene names from here and assign them as protein attributes."
   ]
  },
  {
   "cell_type": "code",
   "execution_count": 4,
   "id": "d613b54e",
   "metadata": {},
   "outputs": [],
   "source": [
    "# excise and assign gene names as attributes\n",
    "for protein in human_proteome:\n",
    "    name_string = protein.name\n",
    "    \n",
    "    # first try and get gene name from the GN= entry in the FASTA header\n",
    "    try:\n",
    "        gene_name = name_string.split('GN=')[1].split()[0]\n",
    "    except IndexError:\n",
    "        # if this fails get the UID-assigned identifier which is \n",
    "        # typicall gene-name (or close to) followed by species identifier\n",
    "        # - e.g. P53_HUMAN in instead of TP53. We keep the _HUMAN so records\n",
    "        # parsed in this way can be easily identified (although) the _HUMAN\n",
    "        # could be excised \n",
    "        gene_name = name_string.split()[0].split('|')[2]\n",
    "        \n",
    "    protein.add_attribute('gene_name', gene_name)\n",
    "    "
   ]
  },
  {
   "cell_type": "markdown",
   "id": "cd01e83b",
   "metadata": {},
   "source": [
    "#### Using the annotated human proteome object\n",
    "Having run the code above, you've generated an annotated human proteome object which can be used to lookup uniprot ID to gen the gene name as follows"
   ]
  },
  {
   "cell_type": "code",
   "execution_count": 5,
   "id": "0bf89147",
   "metadata": {},
   "outputs": [
    {
     "name": "stdout",
     "output_type": "stream",
     "text": [
      "TP53\n"
     ]
    }
   ],
   "source": [
    "# lets check out p53...\n",
    "uid_of_interest = 'P04637'\n",
    "\n",
    "print(human_proteome.protein(uid_of_interest).attribute('gene_name'))"
   ]
  },
  {
   "cell_type": "markdown",
   "id": "9d628418",
   "metadata": {},
   "source": [
    "#### Saving this annotation\n",
    "To be fancy, you could save this annotation and then you only need to re-load it rather than reparse\n"
   ]
  },
  {
   "cell_type": "code",
   "execution_count": 6,
   "id": "ed9dd4e5",
   "metadata": {},
   "outputs": [],
   "source": [
    "# the line here writes the gene name annotations out to a SHEPHARD protein attributes file\n",
    "interfaces.si_protein_attributes.write_protein_attributes(human_proteome,'shprd_prot_atts_gene_names.tsv')"
   ]
  },
  {
   "cell_type": "code",
   "execution_count": 7,
   "id": "409fdb50",
   "metadata": {},
   "outputs": [],
   "source": [
    "# then the two lines below load in a new (unannotated) proteome and then annotate using those attributes we wrote\n",
    "# - this is obviously just a use case example but illustrates how you only need to do the parsing once, strictly\n",
    "# speaking...\n",
    "new_proteome = uniprot.uniprot_fasta_to_proteome(filename)\n",
    "interfaces.si_protein_attributes.add_protein_attributes_from_file(new_proteome,'shprd_prot_atts_gene_names.tsv')"
   ]
  }
 ],
 "metadata": {
  "kernelspec": {
   "display_name": "Python 3 (ipykernel)",
   "language": "python",
   "name": "python3"
  },
  "language_info": {
   "codemirror_mode": {
    "name": "ipython",
    "version": 3
   },
   "file_extension": ".py",
   "mimetype": "text/x-python",
   "name": "python",
   "nbconvert_exporter": "python",
   "pygments_lexer": "ipython3",
   "version": "3.8.12"
  }
 },
 "nbformat": 4,
 "nbformat_minor": 5
}
