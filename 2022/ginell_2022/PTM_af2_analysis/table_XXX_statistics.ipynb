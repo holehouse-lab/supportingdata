{
 "cells": [
  {
   "cell_type": "markdown",
   "id": "f184cae7",
   "metadata": {},
   "source": [
    "### Statistics for table XXX\n",
    "This notebook computes some basic statistics for table XXX"
   ]
  },
  {
   "cell_type": "code",
   "execution_count": 14,
   "id": "2bffa73a",
   "metadata": {},
   "outputs": [],
   "source": [
    "import numpy as np\n",
    "\n",
    "import shephard\n",
    "from shephard.apis import uniprot, fasta\n",
    "from shephard.interfaces import si_domains, si_tracks, si_proteins, si_sites\n",
    "from shephard.tools import domain_tools, sequence_tools"
   ]
  },
  {
   "cell_type": "code",
   "execution_count": 15,
   "id": "a42af209",
   "metadata": {},
   "outputs": [
    {
     "name": "stdout",
     "output_type": "stream",
     "text": [
      "Reading in human proteome...\n",
      "Reading in all IDRs...\n",
      "Reading in all PTMs...\n"
     ]
    }
   ],
   "source": [
    "print('Reading in human proteome...')\n",
    "af2_prot = shephard.proteome.Proteome([])\n",
    "si_proteins.add_proteins_from_file(af2_prot,'../shprd_data/shprd_proteins_filtered_human_af2_f1acc.tsv')\n",
    "\n",
    "print('Reading in all IDRs...')\n",
    "si_domains.add_domains_from_file(af2_prot, '../shprd_data/shprd_domains_idrs_metapredict_v2.tsv' ) # metapredict2 IDRS\n",
    "\n",
    "print('Reading in all PTMs...')\n",
    "si_sites.add_sites_from_file(af2_prot, '../shprd_data/shprd_sites_filtered_proteomescout.tsv')"
   ]
  },
  {
   "cell_type": "code",
   "execution_count": 16,
   "id": "73c82b15",
   "metadata": {},
   "outputs": [],
   "source": [
    "all_residues = 0\n",
    "idr_residues = 0\n",
    "all_ptm_sites = 0\n",
    "idr_ptm_sites = 0\n",
    "\n",
    "for protein in af2_prot:\n",
    "    all_residues = all_residues + len(protein)\n",
    "    \n",
    "    # note PTMs are the ONLY sites so we can be non-discriminatory\n",
    "    all_ptm_sites = all_ptm_sites + len(protein.sites)\n",
    "    \n",
    "    for domain in protein.domains:\n",
    "        idr_residues = idr_residues + len(domain)\n",
    "        idr_ptm_sites = idr_ptm_sites + len(domain.sites)\n",
    "    \n"
   ]
  },
  {
   "cell_type": "code",
   "execution_count": 17,
   "id": "d1681f56",
   "metadata": {},
   "outputs": [
    {
     "name": "stdout",
     "output_type": "stream",
     "text": [
      "Residues in human proteome: 10483347\n",
      "Residues in human IDRs: 3439190\n",
      "Fraction of human proteome in IDRs: 0.32806221142923153\n",
      "Total number of PTM sites: 326923\n",
      "Total number of PTM sites in IDRs: 159631\n",
      "Fraction of ptms in IDRs: 0.488\n",
      "Fraction of positions in IDRs that are modified: 0.046\n",
      "Fraction of positions in all proteins that are modified: 0.031\n"
     ]
    }
   ],
   "source": [
    "print(f'Residues in human proteome: {all_residues}')\n",
    "print(f'Residues in human IDRs: {idr_residues}')\n",
    "print(f'Fraction of human proteome in IDRs: {idr_residues/all_residues}')\n",
    "print(f'Total number of PTM sites: {all_ptm_sites}')\n",
    "print(f'Total number of PTM sites in IDRs: {idr_ptm_sites}')\n",
    "print(f'Fraction of ptms in IDRs: {np.round(idr_ptm_sites/all_ptm_sites,3)}')\n",
    "print(f\"Fraction of positions in IDRs that are modified: {np.round(idr_ptm_sites/idr_residues,3)}\")    \n",
    "print(f\"Fraction of positions in all proteins that are modified: {np.round(all_ptm_sites/all_residues,3)}\")    "
   ]
  },
  {
   "cell_type": "code",
   "execution_count": null,
   "id": "eff9db19",
   "metadata": {},
   "outputs": [],
   "source": []
  }
 ],
 "metadata": {
  "kernelspec": {
   "display_name": "Python 3 (ipykernel)",
   "language": "python",
   "name": "python3"
  },
  "language_info": {
   "codemirror_mode": {
    "name": "ipython",
    "version": 3
   },
   "file_extension": ".py",
   "mimetype": "text/x-python",
   "name": "python",
   "nbconvert_exporter": "python",
   "pygments_lexer": "ipython3",
   "version": "3.8.12"
  }
 },
 "nbformat": 4,
 "nbformat_minor": 5
}
