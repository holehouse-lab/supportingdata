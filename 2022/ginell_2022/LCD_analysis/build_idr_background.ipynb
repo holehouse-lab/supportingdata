{
 "cells": [
  {
   "cell_type": "markdown",
   "metadata": {},
   "source": [
    "## Global analysis of human low-complexity sequences in the human proteom\n",
    "#### Last updated 2023-04-30\n",
    "\n",
    "The notebook contains code to generate the set of UniProt IDs for IDR containing proteins, which we use as our reference background for PANTHER-based analysis.\n",
    "\n",
    "\n"
   ]
  },
  {
   "cell_type": "code",
   "execution_count": 8,
   "metadata": {},
   "outputs": [],
   "source": [
    "import shephard\n",
    "from shephard.apis import uniprot, fasta\n",
    "from shephard.interfaces import si_domains, si_tracks, si_proteins\n",
    "from shephard.tools import domain_tools"
   ]
  },
  {
   "cell_type": "markdown",
   "metadata": {},
   "source": [
    "## Read in human data "
   ]
  },
  {
   "cell_type": "code",
   "execution_count": null,
   "metadata": {},
   "outputs": [],
   "source": [
    "fasta.fasta_to_proteome()"
   ]
  },
  {
   "cell_type": "code",
   "execution_count": 2,
   "metadata": {},
   "outputs": [
    {
     "name": "stdout",
     "output_type": "stream",
     "text": [
      "Reading in data...\n"
     ]
    }
   ],
   "source": [
    "# read in human IDRs and a track with all the aromatic residues annotated\n",
    "\n",
    "# read in the human proteome from a uniprot-derived FASTA file\n",
    "filename ='../shprd_data/human_proteome_validated.fasta'\n",
    "human_prot = uniprot.uniprot_fasta_to_proteome(filename)\n",
    "\n",
    "print('Reading in data...')\n",
    "\n",
    "# load IDRs\n",
    "si_domains.add_domains_from_file(human_prot, '../shprd_data/shprd_domains_idrs_metapredict_v2.tsv') # metapredict2 IDRS\n",
    "\n",
    "\n"
   ]
  },
  {
   "cell_type": "code",
   "execution_count": 4,
   "metadata": {},
   "outputs": [],
   "source": [
    "UIDs = []\n",
    "for protein in human_prot:\n",
    "    if len(protein.domains) > 0:\n",
    "        UIDs.append(protein.unique_ID)"
   ]
  },
  {
   "cell_type": "code",
   "execution_count": 6,
   "metadata": {},
   "outputs": [],
   "source": [
    "with open('../generated_data/uniprot_ids_IDR_containing_proteins.txt', 'w') as fh:\n",
    "    for uid in UIDs:\n",
    "        fh.write(f\"{uid}\\n\")"
   ]
  }
 ],
 "metadata": {
  "kernelspec": {
   "display_name": "Python 3 (ipykernel)",
   "language": "python",
   "name": "python3"
  },
  "language_info": {
   "codemirror_mode": {
    "name": "ipython",
    "version": 3
   },
   "file_extension": ".py",
   "mimetype": "text/x-python",
   "name": "python",
   "nbconvert_exporter": "python",
   "pygments_lexer": "ipython3",
   "version": "3.8.12"
  }
 },
 "nbformat": 4,
 "nbformat_minor": 4
}
