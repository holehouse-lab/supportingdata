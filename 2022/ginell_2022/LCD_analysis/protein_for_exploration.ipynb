{
 "cells": [
  {
   "cell_type": "markdown",
   "id": "ea13c33e",
   "metadata": {},
   "source": [
    "## Proteins for exploration\n",
    "#### Last updated 2022-08-07\n",
    "This notebook takes the output of the `ana_polar_LCD_stickerspacer_vM.ipynb` notebook and writes the hits and the uniprot IDs out for further analysis an exploration.\n",
    "\n",
    "Note that to generate HTML pages this notebook requires [sparrow](https://github.com/idptools/sparrow). As mentioned earlier, sparrow is public but we would suggest folks avoid using it for now as its in active development. If you DO want to use sparrow, please reach out to [Alex](https://www.holehouselab.com/team) so he can advise on the best way to avoid issues etc."
   ]
  },
  {
   "cell_type": "code",
   "execution_count": 1,
   "id": "baaebc94",
   "metadata": {},
   "outputs": [],
   "source": [
    "import shephard\n",
    "from shephard.apis import uniprot, fasta\n",
    "from shephard.interfaces import si_domains, si_tracks\n",
    "\n"
   ]
  },
  {
   "cell_type": "code",
   "execution_count": 2,
   "id": "f068a614",
   "metadata": {},
   "outputs": [
    {
     "name": "stdout",
     "output_type": "stream",
     "text": [
      "Reading in data...\n"
     ]
    }
   ],
   "source": [
    "filename ='../shprd_data/human_proteome_validated.fasta'\n",
    "human_prot = uniprot.uniprot_fasta_to_proteome(filename)\n",
    "\n",
    "print('Reading in data...')\n",
    "\n",
    "# load IDRs\n",
    "si_domains.add_domains_from_file(human_prot, '../generated_data/shprd_domains_polar_LCDs_annotated.tsv')\n"
   ]
  },
  {
   "cell_type": "markdown",
   "id": "e70433d9",
   "metadata": {},
   "source": [
    "### Extract out proteins with LCDs\n",
    "The code below excises out proteins with specific types of LCDs"
   ]
  },
  {
   "cell_type": "code",
   "execution_count": 3,
   "id": "a847c724",
   "metadata": {},
   "outputs": [],
   "source": [
    "UIDs_with_aromatic_polar_lcds = []\n",
    "UIDs_with_aliphatic_polar_lcds = []\n",
    "UIDs_with_charged_polar_lcds = []\n",
    "\n",
    "for protein in human_prot:\n",
    "    for d in protein.domains:\n",
    "\n",
    "        if d.attribute('aromatic_polar_lcds',safe=False):\n",
    "            UIDs_with_aromatic_polar_lcds.append(protein.unique_ID)\n",
    "            \n",
    "        if d.attribute('aliphatic_polar_lcds',safe=False):\n",
    "            UIDs_with_aliphatic_polar_lcds.append(protein.unique_ID)\n",
    "\n",
    "        if d.attribute('charged_polar_lcds',safe=False):\n",
    "            UIDs_with_charged_polar_lcds.append(protein.unique_ID)\n",
    "\n",
    "            \n",
    "UIDs_with_aromatic_polar_lcds = list(set(UIDs_with_aromatic_polar_lcds))\n",
    "UIDs_with_aliphatic_polar_lcds = list(set(UIDs_with_aliphatic_polar_lcds))\n",
    "UIDs_with_charged_polar_lcds = list(set(UIDs_with_charged_polar_lcds))"
   ]
  },
  {
   "cell_type": "markdown",
   "id": "5bcb2ee1",
   "metadata": {},
   "source": [
    "### Generate output data\n",
    "The cells below generate text outputs of either the Uniprot IDs in isolation (one per line) or uniprot IDs + protein names. These data can be used by other analysis pipelines."
   ]
  },
  {
   "cell_type": "code",
   "execution_count": 4,
   "id": "146d92f2",
   "metadata": {},
   "outputs": [],
   "source": [
    "with open('../generated_data/uniprot_ids_aromatic_polar_lcds.txt', 'w') as fh:\n",
    "    for uid in UIDs_with_aromatic_polar_lcds:\n",
    "        fh.write(f\"{uid}\\n\")\n",
    "\n",
    "with open('../generated_data/uniprot_ids_aliphatic_polar_lcds.txt', 'w') as fh:\n",
    "    for uid in UIDs_with_aliphatic_polar_lcds:\n",
    "        fh.write(f\"{uid}\\n\")\n",
    "\n",
    "with open('../generated_data/uniprot_ids_charged_polar_lcds.txt', 'w') as fh:\n",
    "    for uid in UIDs_with_charged_polar_lcds:\n",
    "        fh.write(f\"{uid}\\n\")\n",
    "        "
   ]
  },
  {
   "cell_type": "code",
   "execution_count": 5,
   "id": "077e40ca",
   "metadata": {},
   "outputs": [],
   "source": [
    "with open('../generated_data/uniprot_ids_aromatic_polar_lcds_with_name.txt', 'w') as fh:\n",
    "    for uid in UIDs_with_aromatic_polar_lcds:\n",
    "        fh.write(f\"{uid}, {human_prot.protein(uid).name}, \\n\")\n",
    "\n",
    "with open('../generated_data/uniprot_ids_aliphatic_polar_lcds_with_name.txt', 'w') as fh:\n",
    "    for uid in UIDs_with_aliphatic_polar_lcds:\n",
    "        fh.write(f\"{uid}, {human_prot.protein(uid).name}, \\n\")\n",
    "\n",
    "with open('../generated_data/uniprot_ids_charged_polar_lcds_with_name.txt', 'w') as fh:\n",
    "    for uid in UIDs_with_charged_polar_lcds:\n",
    "        fh.write(f\"{uid}, {human_prot.protein(uid).name}, \\n\")\n",
    "        "
   ]
  },
  {
   "cell_type": "markdown",
   "id": "b632c2fd",
   "metadata": {},
   "source": [
    "### Write HTML summary data\n",
    "The cell below will generate HTML pages showing the polar-rich low complexity domains highlighted using standard amino acid coloring."
   ]
  },
  {
   "cell_type": "code",
   "execution_count": 8,
   "id": "77d69ee9",
   "metadata": {},
   "outputs": [],
   "source": [
    "WRITE_OUT_HTML = True\n",
    "\n",
    "if WRITE_OUT_HTML:\n",
    "    \n",
    "\n",
    "    from sparrow import Protein\n",
    "    head = '<!DOCTYPE html>\\n<html lang=\"en\">\\n<head>\\n<meta charset=\"utf-8\">\\n<title>{n}</title>\\n</head>\\n<body>\\n\\n'\n",
    "    \n",
    "    \n",
    "    for n in ['aromatic_polar_lcds','charged_polar_lcds','aliphatic_polar_lcds']:\n",
    "        \n",
    "        fh = open(f'html_out/{n}.html','w')\n",
    "        \n",
    "        # write footer\n",
    "        fh.write(head)\n",
    "        idx = 0\n",
    "        for protein in human_prot:\n",
    "            for d in protein.domains:\n",
    "\n",
    "                if d.attribute(n,safe=False):\n",
    "                    \n",
    "                    fh.write(f'<p>Entry {idx}: <a href=\"https://www.uniprot.org/uniprotkb/{protein.unique_ID}/\">{protein.name}</a>\\n</p>')\n",
    "                    fh.write(f'<p>Domain boundaries: {d.start} - {d.end} \\n</p>')\n",
    "\n",
    "                    a= Protein(d.sequence).show_sequence(return_raw_string=True)\n",
    "                    fh.write(a+\"\\n\")\n",
    "                    idx = idx +1\n",
    "                    \n",
    "        # write footer\n",
    "        fh.write('</body>\\n</html>\\n\\n')\n",
    "        \n",
    "        fh.close()\n",
    "                     \n"
   ]
  },
  {
   "cell_type": "code",
   "execution_count": null,
   "id": "995b8c4c",
   "metadata": {},
   "outputs": [],
   "source": []
  }
 ],
 "metadata": {
  "kernelspec": {
   "display_name": "Python 3 (ipykernel)",
   "language": "python",
   "name": "python3"
  },
  "language_info": {
   "codemirror_mode": {
    "name": "ipython",
    "version": 3
   },
   "file_extension": ".py",
   "mimetype": "text/x-python",
   "name": "python",
   "nbconvert_exporter": "python",
   "pygments_lexer": "ipython3",
   "version": "3.8.12"
  }
 },
 "nbformat": 4,
 "nbformat_minor": 5
}
