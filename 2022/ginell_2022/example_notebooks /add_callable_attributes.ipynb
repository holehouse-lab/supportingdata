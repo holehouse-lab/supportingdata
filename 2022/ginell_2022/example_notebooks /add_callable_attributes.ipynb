{
 "cells": [
  {
   "cell_type": "code",
   "execution_count": 10,
   "id": "d01c7b69-33bc-424c-993c-0bc0062f7460",
   "metadata": {},
   "outputs": [],
   "source": [
    "import numpy as np\n",
    "from shephard.apis import uniprot"
   ]
  },
  {
   "cell_type": "code",
   "execution_count": 41,
   "id": "4b4195a9-0aa7-47aa-ad4c-562c63c9fc18",
   "metadata": {},
   "outputs": [],
   "source": [
    "# define file \n",
    "in_file = '../shprd_data/human_proteome_validated.fasta'\n",
    "\n",
    "# Build proteome \n",
    "new_proteome = uniprot.uniprot_fasta_to_proteome(in_file)\n",
    "\n",
    "# do some analysis on all the protien sequences \n",
    "# here we get the lengths of all proteins in the proteome \n",
    "protein_lenghts = np.array([p.__len__() for p in new_proteome])"
   ]
  },
  {
   "cell_type": "code",
   "execution_count": 42,
   "id": "a388d577-26b2-49b2-adcd-d4d45c1652f1",
   "metadata": {},
   "outputs": [],
   "source": [
    "# define some custom functions related to proteome\n",
    "# here we get the sequence length for X percentile of distribution of sequence lengths in the proteome \n",
    "new_proteome.add_attribute('get_length_from_percentile', lambda a: int(np.percentile(protein_lenghts,a)))\n",
    "\n",
    "# here we get the percentile for specific sequence length\n",
    "new_proteome.add_attribute('get_percentile_from_length', lambda a: 100*(sum(protein_lenghts < a) / len(protein_lenghts)))"
   ]
  },
  {
   "cell_type": "code",
   "execution_count": 45,
   "id": "6be21093-64b7-4b76-9137-76f66e0a402c",
   "metadata": {},
   "outputs": [
    {
     "name": "stdout",
     "output_type": "stream",
     "text": [
      "Seq. Length of 100 in the 3.6 percentile\n",
      "Seq. Length threshold for the 20th percentile: 214\n"
     ]
    }
   ],
   "source": [
    "# now lets say we are doing analyis and want to know percentile a given sequence falls at \n",
    "length_example = 100\n",
    "p_out = new_proteome.attribute('get_percentile_from_length')(length_example)\n",
    "print(\"Seq. Length of %i in the %.1f percentile\" % (length_example, p_out))\n",
    "\n",
    "# here we can ask what is the lenght threshold a x percenctile in the data\n",
    "percentile_example = 20\n",
    "l_out = new_proteome.attribute('get_length_from_percentile')(percentile_example)\n",
    "print(\"Seq. Length threshold for the %ith percentile: %i\" % (percentile_example, l_out))"
   ]
  }
 ],
 "metadata": {
  "kernelspec": {
   "display_name": "Python 3 (ipykernel)",
   "language": "python",
   "name": "python3"
  },
  "language_info": {
   "codemirror_mode": {
    "name": "ipython",
    "version": 3
   },
   "file_extension": ".py",
   "mimetype": "text/x-python",
   "name": "python",
   "nbconvert_exporter": "python",
   "pygments_lexer": "ipython3",
   "version": "3.7.6"
  }
 },
 "nbformat": 4,
 "nbformat_minor": 5
}
