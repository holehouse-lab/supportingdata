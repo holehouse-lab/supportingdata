{
 "cells": [
  {
   "cell_type": "code",
   "execution_count": 14,
   "id": "2621947f-57ca-4c33-94e8-d98c0871f078",
   "metadata": {},
   "outputs": [],
   "source": [
    "import numpy as np\n",
    "from shephard.apis import uniprot"
   ]
  },
  {
   "cell_type": "code",
   "execution_count": 37,
   "id": "c26a0cf3-85e3-4610-821f-88ca4de5dece",
   "metadata": {},
   "outputs": [],
   "source": [
    "# define file \n",
    "in_file = '../shprd_data/human_proteome_validated.fasta'\n",
    "\n",
    "# Build proteome \n",
    "new_proteome = uniprot.uniprot_fasta_to_proteome(in_file)\n",
    "\n",
    "# Define first 5 residues of every protien as C and N terminal domains\n",
    "for p in new_proteome:\n",
    "    p.add_domain(1,5, 'N-Terminus')\n",
    "    p.add_domain(p._len-4,p._len, 'C-Terminus')"
   ]
  },
  {
   "cell_type": "code",
   "execution_count": 38,
   "id": "4a862e97-4b94-4f89-9535-167328ad6680",
   "metadata": {},
   "outputs": [],
   "source": [
    "# anylize C and N terminal domains \n",
    "for d in new_proteome.domains:\n",
    "    if d.domain_type in ['N-Terminus','C-Terminus']:\n",
    "        d.add_attribute('f_G', d.sequence.count('G')/len(d.sequence))\n",
    "        d.add_attribute('f_S', d.sequence.count('S')/len(d.sequence))"
   ]
  },
  {
   "cell_type": "code",
   "execution_count": 39,
   "id": "a14c9016-4c3d-4567-b9b5-0f7ea6124e1c",
   "metadata": {},
   "outputs": [
    {
     "name": "stdout",
     "output_type": "stream",
     "text": [
      "Average N Termainal fractions: G:0.063  S:0.081\n",
      "Average C Termainal fractions: G:0.055  S:0.095\n"
     ]
    }
   ],
   "source": [
    "# Caluclate fraction of Gly & Ser in C and N terminal regions \n",
    "N_terms = [(d.attribute('f_G'), d.attribute('f_S')) for d in new_proteome.domains if d.domain_type == 'N-Terminus']\n",
    "C_terms = [(d.attribute('f_G'), d.attribute('f_S')) for d in new_proteome.domains if d.domain_type == 'C-Terminus']\n",
    "\n",
    "print('Average N Termainal fractions: G:%.3f  S:%.3f' % tuple(map(np.mean, zip(*N_terms))))\n",
    "print('Average C Termainal fractions: G:%.3f  S:%.3f' % tuple(map(np.mean, zip(*C_terms))))"
   ]
  },
  {
   "cell_type": "code",
   "execution_count": 41,
   "id": "bcfd677f-4402-4c84-9b0c-a7be53286600",
   "metadata": {},
   "outputs": [
    {
     "name": "stdout",
     "output_type": "stream",
     "text": [
      "Number of protiens with poly-GS C-Terminal or N-Terminal: 2\n",
      "Proteins: ['Q8NCU1', 'Q86UT6']\n"
     ]
    }
   ],
   "source": [
    "# annotate list of proteins with C or N terminal poly-GS \n",
    "poly_GS_termi_proteins = [d.protein for d in new_proteome.domains if d.attribute('f_G') + d.attribute('f_S') == 1]\n",
    "\n",
    "print('Number of protiens with poly-GS C-Terminal or N-Terminal:', len(poly_GS_termi_proteins))\n",
    "print('Proteins:', [p.unique_ID for p in poly_GS_termi_proteins])"
   ]
  }
 ],
 "metadata": {
  "kernelspec": {
   "display_name": "Python 3 (ipykernel)",
   "language": "python",
   "name": "python3"
  },
  "language_info": {
   "codemirror_mode": {
    "name": "ipython",
    "version": 3
   },
   "file_extension": ".py",
   "mimetype": "text/x-python",
   "name": "python",
   "nbconvert_exporter": "python",
   "pygments_lexer": "ipython3",
   "version": "3.7.6"
  }
 },
 "nbformat": 4,
 "nbformat_minor": 5
}
