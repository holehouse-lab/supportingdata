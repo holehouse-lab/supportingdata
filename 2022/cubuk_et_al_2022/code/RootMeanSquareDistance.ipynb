{
 "cells": [
  {
   "cell_type": "markdown",
   "metadata": {},
   "source": [
    "## Root Mean Square Distance Calculations"
   ]
  },
  {
   "cell_type": "code",
   "execution_count": 1,
   "metadata": {},
   "outputs": [
    {
     "name": "stderr",
     "output_type": "stream",
     "text": [
      "\n",
      "Bad key \"text.kerning_factor\" on line 4 in\n",
      "/home/alstonj/miniconda3/envs/labconda/lib/python3.7/site-packages/matplotlib/mpl-data/stylelib/_classic_test_patch.mplstyle.\n",
      "You probably need to get an updated matplotlibrc file from\n",
      "https://github.com/matplotlib/matplotlib/blob/v3.1.3/matplotlibrc.template\n",
      "or from the matplotlib source distribution\n"
     ]
    }
   ],
   "source": [
    "import mdtraj as md\n",
    "import itertools\n",
    "\n",
    "import numpy as np\n",
    "\n",
    "import pandas as pd\n",
    "\n",
    "from pathlib import Path\n",
    "\n",
    "import seaborn as sns\n",
    "\n",
    "import soursop as ss\n",
    "from soursop.sstrajectory import SSTrajectory\n",
    "NA_EXTENSION = ['D5P', 'DPC',  'DPU',  'DPT',  'DPA',  'DPG',  'R5P',  'RPC' , 'RPU',  'RPT',  'RPA',  'RPG']\n",
    "\n",
    "# importing mean()\n",
    "from statistics import mean\n",
    "\n",
    "def Average(lst):\n",
    "    return mean(lst)\n",
    "\n",
    "import matplotlib.pyplot as plt\n",
    "\n",
    "import itertools\n",
    "colors = ['#747FE3']\n",
    "colors2 = ['#E37346']\n",
    "sns.set_palette(sns.color_palette(colors))"
   ]
  },
  {
   "cell_type": "code",
   "execution_count": 2,
   "metadata": {},
   "outputs": [],
   "source": [
    "#define distance cutoff to be 6 ang\n",
    "dc = 6"
   ]
  },
  {
   "cell_type": "code",
   "execution_count": 3,
   "metadata": {
    "tags": []
   },
   "outputs": [
    {
     "name": "stdout",
     "output_type": "stream",
     "text": [
      "25\n",
      "unbound 0\n",
      "<mdtraj.Trajectory with 2985 frames, 198 atoms, 198 residues, and unitcells>\n",
      "2330\n",
      "655\n"
     ]
    }
   ],
   "source": [
    "\"\"\"\n",
    "We want to build a dictionary that is able to access each lammps_fixed_traj.pdb/equilibrated.xtc for each RNA length + NTDRBD. \n",
    "We make a mdtraj object for each simulation.\n",
    "We calculate the pairwise distances for NTD and RNA\n",
    "Then we make nested dictionaries that contain values that are bound and unbound and correspond to frames that have a\n",
    "value corresponding to less than our distance cutoff\n",
    "\"\"\"\n",
    "\n",
    "traj_dict = {}\n",
    "for i in [25]:\n",
    "                   \n",
    "    traj_dict['system_%i'%(i)] = None  \n",
    "    prefix = '/work/alstonj/supportingdata/2022/cubuk_et_al_2022/data'\n",
    "    xtcfilename = prefix+ '/equilibrated_traj.xtc'\n",
    "    pdbfilename = prefix + '/lammps_fixed_traj.pdb'\n",
    "    MDTD = md.load(xtcfilename, top = pdbfilename)\n",
    "    traj_dict['system_%i'%(i)] = {}\n",
    "    traj_dict['system_%i'%(i)]['SST'] = MDTD\n",
    "    print(i)\n",
    "\n",
    "    #Group 1 is the RNA nts\n",
    "\n",
    "    group_1 = [nucleotide + 173 for nucleotide in range(i)]\n",
    "    #print(group_1)\n",
    "\n",
    "    #Group 2 is the NTD, this is always 68nts\n",
    "\n",
    "    group_2 = [aminoacid for aminoacid in range(68)]\n",
    "    #print(group_2)\n",
    "\n",
    "    pairs = list(itertools.product(group_1, group_2))\n",
    "    #len(pairs)\n",
    "\n",
    "    #compute the pairwise distance for every frame \n",
    "    cc = md.compute_contacts(traj_dict['system_%i'%(i)]['SST'], pairs, ignore_nonprotein = False)\n",
    "\n",
    "    bound = []\n",
    "    unbound = []\n",
    "\n",
    "    for a in range(len(traj_dict['system_%i'%(i)]['SST'])):\n",
    "        if any(a <= dc for a in cc[0][a]):\n",
    "            bound.append(a)\n",
    "            #print(a)\n",
    "            if a % 10000 == 0:\n",
    "                print('bound', a)\n",
    "\n",
    "        else:\n",
    "            unbound.append(a)\n",
    "            #print(a)\n",
    "            if a % 10000 == 0:\n",
    "                print('unbound', a)\n",
    "\n",
    "\n",
    "    print(traj_dict['system_%i'%(i)]['SST'])\n",
    "\n",
    "    traj_dict['system_%i'%(i)]['Bound'] = bound\n",
    "    traj_dict['system_%i'%(i)]['UnBound'] = unbound\n",
    "    print(len(bound))\n",
    "    print(len(unbound))\n",
    "\n",
    "\n",
    "    bound_df = pd.DataFrame.from_dict(data=traj_dict['system_%i'%(i)]['Bound'])\n",
    "\n",
    "    bound_df.to_csv(prefix + '/bound_frames.csv', header=False)\n",
    "\n",
    "    unbound_df = pd.DataFrame.from_dict(data=traj_dict['system_%i'%(i)]['UnBound'])\n",
    "\n",
    "    unbound_df.to_csv(prefix + '/unbound_frames.csv', header=False)\n",
    "\n"
   ]
  },
  {
   "cell_type": "code",
   "execution_count": 4,
   "metadata": {},
   "outputs": [
    {
     "name": "stdout",
     "output_type": "stream",
     "text": [
      "         0     1\n",
      "0        0     9\n",
      "1        1    10\n",
      "2        2    48\n",
      "3        3    71\n",
      "4        4    72\n",
      "...    ...   ...\n",
      "2325  2325  2980\n",
      "2326  2326  2981\n",
      "2327  2327  2982\n",
      "2328  2328  2983\n",
      "2329  2329  2984\n",
      "\n",
      "[2330 rows x 2 columns]\n",
      "       0     1\n",
      "0      0     0\n",
      "1      1     1\n",
      "2      2     2\n",
      "3      3     3\n",
      "4      4     4\n",
      "..   ...   ...\n",
      "650  650  2167\n",
      "651  651  2168\n",
      "652  652  2169\n",
      "653  653  2171\n",
      "654  654  2172\n",
      "\n",
      "[655 rows x 2 columns]\n"
     ]
    }
   ],
   "source": [
    "#Replicates = a, for test this is 1\n",
    "\n",
    "for a in [1]:\n",
    "    \n",
    "#RNA Lengths, so you can analyze in batch, but for test this is 25nt\n",
    "    for i in [25]:\n",
    "        traj_dict['%i_system_%i'%(i,a)] = {}\n",
    "        traj_dict['%i_system_%i'%(i,a)]['Bound'] = pd.read_csv(prefix+'/bound_frames.csv', header = None)\n",
    "        print(traj_dict['%i_system_%i'%(i,a)]['Bound'])\n",
    "        traj_dict['%i_system_%i'%(i,a)]['UnBound'] = pd.read_csv(prefix+'/unbound_frames.csv', header = None)\n",
    "        print(traj_dict['%i_system_%i'%(i,a)]['UnBound'])"
   ]
  },
  {
   "cell_type": "code",
   "execution_count": 5,
   "metadata": {},
   "outputs": [
    {
     "name": "stdout",
     "output_type": "stream",
     "text": [
      "2985\n",
      "SSProtein (0x7f444d4cb9e8): 173 res and 2985 frames\n"
     ]
    }
   ],
   "source": [
    "#Generate the SST for each RNA:Protein and store in a corresponding dict\n",
    "\n",
    "for a in [1]:\n",
    "    for i in [25]:\n",
    "        #print(i)\n",
    "        prefix = '/work/alstonj/supportingdata/2022/cubuk_et_al_2022/data'\n",
    "        xtcfilename = prefix+ '/equilibrated_traj.xtc'\n",
    "        pdbfilename = prefix + '/lammps_fixed_traj.pdb'\n",
    "        SST = SSTrajectory(xtcfilename, pdbfilename,extra_valid_residue_names=NA_EXTENSION)\n",
    "        traj_dict['%i_protein_%i_all'%(i,a)] = {}\n",
    "        traj_dict['%i_protein_%i_all'%(i,a)]['SST'] = SST\n",
    "        print(SST.n_frames)\n",
    "        traj_dict['%i_protein_%i'%(i,a)] = {}\n",
    "        traj_dict['%i_protein_%i'%(i,a)]['SST'] = SST.proteinTrajectoryList[0]\n",
    "        print(traj_dict['%i_protein_%i'%(i,a)]['SST'])\n",
    "        traj_dict['%i_rna_%i'%(i,a)] = {}\n",
    "        traj_dict['%i_rna_%i'%(i,a)]['SST'] = SST.proteinTrajectoryList[1]"
   ]
  },
  {
   "cell_type": "code",
   "execution_count": 6,
   "metadata": {},
   "outputs": [
    {
     "name": "stdout",
     "output_type": "stream",
     "text": [
      "25\n"
     ]
    }
   ],
   "source": [
    "#Calculate the IRD of NTD for the frames that are bound/unbound\n",
    "\n",
    "for a in [1]:\n",
    "    for i in [25]:\n",
    "    \n",
    "        IRD = traj_dict['%i_protein_%i'%(i,a)]['SST'].get_inter_residue_COM_distance(R1=1, R2=68)\n",
    "\n",
    "        traj_dict['%i_system_%i'%(i,a)]['IRD_Bound'] = [IRD[a] for a in traj_dict['%i_system_%i'%(i,a)]['Bound'][1]]\n",
    "        traj_dict['%i_system_%i'%(i,a)]['IRD_UnBound'] = [IRD[a] for a in traj_dict['%i_system_%i'%(i,a)]['UnBound'][1]]\n",
    "        dfBound = pd.DataFrame.from_dict(traj_dict['%i_system_%i'%(i,a)]['IRD_Bound'])\n",
    "        dfBound.to_csv ('/work/alstonj/supportingdata/2022/cubuk_et_al_2022/data/Bound_nt%i_r%i.csv'%(i,a), index = False)\n",
    "        dfUnBound = pd.DataFrame.from_dict(traj_dict['%i_system_%i'%(i,a)]['UnBound'])\n",
    "        dfUnBound.to_csv ('/work/alstonj/supportingdata/2022/cubuk_et_al_2022/data/Unbound_nt%i_r%i.csv'%(i,a), index = False)\n",
    "        print(i)"
   ]
  },
  {
   "cell_type": "code",
   "execution_count": 13,
   "metadata": {},
   "outputs": [
    {
     "data": {
      "image/png": "[encoded data removed]",
      "text/plain": [
       "<Figure size 432x288 with 1 Axes>"
      ]
     },
     "metadata": {
      "needs_background": "light"
     },
     "output_type": "display_data"
    },
    {
     "name": "stdout",
     "output_type": "stream",
     "text": [
      "The average NTD IRD when bound is 58.462962264124975\n",
      "Root Mean Square Distance when Bound is: 61.45610686508 in Ang\n"
     ]
    }
   ],
   "source": [
    "#Check the distribution's of the bound state\n",
    "\n",
    "plt.xlabel(\"Root Mean Square Distance in Angstroms\")\n",
    "plt.title('Bound Distribution')\n",
    "\n",
    "for a in [1]:\n",
    "    for i in [25]:\n",
    "        sns.histplot(traj_dict['%i_system_%i'%(i,a)]['IRD_Bound'], bins = 20,label = \"NTD Bound\", color = 'Blue')\n",
    "        plt.legend(bbox_to_anchor=(1.05, 1), loc=2, borderaxespad=0.)\n",
    "        plt.show()\n",
    "        print('The average NTD IRD when bound is', Average(traj_dict['%i_system_%i'%(i,a)]['IRD_Bound']))\n",
    "        power = [ x**2 for x in traj_dict['%i_system_%i'%(i,a)]['IRD_Bound'] ]\n",
    "        \n",
    "        rms = np.sqrt(Average((power)))\n",
    "        print('Root Mean Square Distance when Bound is:', rms, 'in Ang')"
   ]
  },
  {
   "cell_type": "code",
   "execution_count": 11,
   "metadata": {},
   "outputs": [
    {
     "data": {
      "image/png": "[encoded data removed]",
      "text/plain": [
       "<Figure size 432x288 with 1 Axes>"
      ]
     },
     "metadata": {
      "needs_background": "light"
     },
     "output_type": "display_data"
    },
    {
     "name": "stdout",
     "output_type": "stream",
     "text": [
      "The average NTD IRD when Unbound is 55.18181400144078\n",
      "Root Mean Square Distance when Bound is: 58.1444543826063 in Ang\n"
     ]
    }
   ],
   "source": [
    "#Check the distribution's of the unbound state\n",
    "\n",
    "plt.xlabel(\"Root Mean Square Distance in Angstroms\")\n",
    "plt.title('Unbound Distribution')\n",
    "\n",
    "\n",
    "for a in [1]:\n",
    "    for i in [25]:\n",
    "        sns.histplot(traj_dict['%i_system_%i'%(i,a)]['IRD_UnBound'], bins = 20, label = \"NTD UnBound\", color = 'Red')\n",
    "        plt.legend(bbox_to_anchor=(1.05, 1), loc=2, borderaxespad=0.)\n",
    "        plt.show()\n",
    "        print('The average NTD IRD when Unbound is', Average(traj_dict['%i_system_%i'%(i,a)]['IRD_UnBound']))\n",
    "        power = [ x**2 for x in traj_dict['%i_system_%i'%(i,a)]['IRD_UnBound'] ]\n",
    "        \n",
    "        rms = np.sqrt(Average((power)))\n",
    "        print('Root Mean Square Distance when Bound is:', rms, 'in Ang')"
   ]
  },
  {
   "cell_type": "code",
   "execution_count": 14,
   "metadata": {},
   "outputs": [
    {
     "data": {
      "text/plain": [
       "<matplotlib.axes._subplots.AxesSubplot at 0x7f444aedc470>"
      ]
     },
     "execution_count": 14,
     "metadata": {},
     "output_type": "execute_result"
    },
    {
     "data": {
      "image/png": "[encoded data removed]",
      "text/plain": [
       "<Figure size 432x288 with 1 Axes>"
      ]
     },
     "metadata": {
      "needs_background": "light"
     },
     "output_type": "display_data"
    }
   ],
   "source": [
    "#Make lists to store distances in bound and unbound state\n",
    "\n",
    "Bound_distance = []\n",
    "Unbound_distance = []\n",
    "\n",
    "#Make Lists to store corresponding RNA lengths for plotting\n",
    "\n",
    "#Bound RNA\n",
    "RNA = []\n",
    "\n",
    "#Unbound RNA\n",
    "RNAu = []\n",
    "\n",
    "plt.xlim(0,50)\n",
    "plt.xlabel(\"RNA Length in nucleotides\")\n",
    "plt.ylabel(\"Root Mean Square Distance in Angstroms\")\n",
    "plt.title('Example RMSD of SARS-CoV-2 N Protein NTD \\n in RNA Bound and Unbound State ')\n",
    "\n",
    "\n",
    "for a in [1]:\n",
    "    for nt_length in [25]:\n",
    "        power = [ x**2 for x in traj_dict['%i_system_%i'%(nt_length,a)]['IRD_Bound'] ]\n",
    "        \n",
    "        rms = np.sqrt(Average((power)))\n",
    "        \n",
    "        Bound_distance.append(rms)\n",
    "        Unbound_distance.append(Average(traj_dict['%i_system_%i'%(nt_length,a)]['IRD_UnBound']))\n",
    "        RNA.append(i)\n",
    "        RNAu.append(i)\n",
    "        \n",
    "\n",
    "sns.scatterplot(x = RNA, y = Bound_distance, color= 'Blue', s = 100, label = \"Bound\")\n",
    "sns.scatterplot(x = RNAu, y = Unbound_distance, color= 'Red', s = 100, label = \"Unbound\")"
   ]
  },
  {
   "cell_type": "code",
   "execution_count": null,
   "metadata": {},
   "outputs": [],
   "source": []
  }
 ],
 "metadata": {
  "kernelspec": {
   "display_name": "Python 3",
   "language": "python",
   "name": "python3"
  },
  "language_info": {
   "codemirror_mode": {
    "name": "ipython",
    "version": 3
   },
   "file_extension": ".py",
   "mimetype": "text/x-python",
   "name": "python",
   "nbconvert_exporter": "python",
   "pygments_lexer": "ipython3",
   "version": "3.7.3"
  }
 },
 "nbformat": 4,
 "nbformat_minor": 4
}
