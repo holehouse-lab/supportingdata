{
 "cells": [
  {
   "cell_type": "markdown",
   "metadata": {},
   "source": [
    "## Root Mean Square Distance Calculations"
   ]
  },
  {
   "cell_type": "code",
   "execution_count": 14,
   "metadata": {},
   "outputs": [
    {
     "name": "stderr",
     "output_type": "stream",
     "text": [
      "\n",
      "Bad key \"text.kerning_factor\" on line 4 in\n",
      "/home/alstonj/miniconda3/envs/labconda/lib/python3.7/site-packages/matplotlib/mpl-data/stylelib/_classic_test_patch.mplstyle.\n",
      "You probably need to get an updated matplotlibrc file from\n",
      "https://github.com/matplotlib/matplotlib/blob/v3.1.3/matplotlibrc.template\n",
      "or from the matplotlib source distribution\n"
     ]
    }
   ],
   "source": [
    "import mdtraj as md\n",
    "import itertools\n",
    "\n",
    "import numpy as np\n",
    "\n",
    "import pandas as pd\n",
    "\n",
    "from pathlib import Path\n",
    "\n",
    "import seaborn as sns\n",
    "\n",
    "import soursop as ss\n",
    "from soursop.sstrajectory import SSTrajectory\n",
    "NA_EXTENSION = ['D5P', 'DPC',  'DPU',  'DPT',  'DPA',  'DPG',  'R5P',  'RPC' , 'RPU',  'RPT',  'RPA',  'RPG']\n",
    "\n",
    "# importing mean()\n",
    "from statistics import mean\n",
    "\n",
    "def Average(lst):\n",
    "    return mean(lst)\n",
    "\n",
    "import matplotlib.pyplot as plt\n",
    "\n",
    "import itertools\n",
    "colors = ['#747FE3']\n",
    "colors2 = ['#E37346']\n",
    "sns.set_palette(sns.color_palette(colors))"
   ]
  },
  {
   "cell_type": "code",
   "execution_count": 12,
   "metadata": {},
   "outputs": [],
   "source": [
    "#define distance cutoff to be 6 ang\n",
    "dc = 6"
   ]
  },
  {
   "cell_type": "code",
   "execution_count": 13,
   "metadata": {},
   "outputs": [
    {
     "name": "stdout",
     "output_type": "stream",
     "text": [
      "25\n",
      "unbound 0\n",
      "<mdtraj.Trajectory with 2985 frames, 198 atoms, 198 residues, and unitcells>\n",
      "2330\n",
      "655\n"
     ]
    }
   ],
   "source": [
    "\"\"\"\n",
    "We want to build a dictionary that is able to access each full.pdb/full.xtc for each RNA length + NTDRBD. \n",
    "We make a mdtraj object for each simulation.\n",
    "We calculate the pairwise distances for NTD and RNA\n",
    "Then we make nested dictionaries that contain v that are bound and unbound and correspond to frames that have a\n",
    "value corresponding to less than our distance cutoff\n",
    "\"\"\"\n",
    "\n",
    "traj_dict = {}\n",
    "for i in [25]:\n",
    "                   \n",
    "    traj_dict['system_%i'%(i)] = None  \n",
    "    prefix = '/work/alstonj/supportingdata/2022/cubuk_et_al_2022/data'\n",
    "    xtcfilename = prefix+ '/equilibrated_traj.xtc'\n",
    "    pdbfilename = prefix + '/lammps_fixed_traj.pdb'\n",
    "    MDTD = md.load(xtcfilename, top = pdbfilename)\n",
    "    traj_dict['system_%i'%(i)] = {}\n",
    "    traj_dict['system_%i'%(i)]['SST'] = MDTD\n",
    "    print(i)\n",
    "\n",
    "    #Group 1 is the RNA nts\n",
    "\n",
    "    group_1 = [nucleotide + 173 for nucleotide in range(i)]\n",
    "    #print(group_1)\n",
    "\n",
    "    #Group 2 is the NTD, this is always 68nts\n",
    "\n",
    "    group_2 = [aminoacid for aminoacid in range(68)]\n",
    "    #print(group_2)\n",
    "\n",
    "    pairs = list(itertools.product(group_1, group_2))\n",
    "    #len(pairs)\n",
    "\n",
    "    #compute the pairwise distance for every frame \n",
    "    cc = md.compute_contacts(traj_dict['system_%i'%(i)]['SST'], pairs, ignore_nonprotein = False)\n",
    "\n",
    "    bound = []\n",
    "    unbound = []\n",
    "\n",
    "    for a in range(len(traj_dict['system_%i'%(i)]['SST'])):\n",
    "        if any(a <= dc for a in cc[0][a]):\n",
    "            bound.append(a)\n",
    "            if a % 10000 == 0:\n",
    "                print('bound', a)\n",
    "\n",
    "        else:\n",
    "            unbound.append(a)\n",
    "            if a % 10000 == 0:\n",
    "                print('unbound', a)\n",
    "\n",
    "\n",
    "    print(traj_dict['system_%i'%(i)]['SST'])\n",
    "\n",
    "    traj_dict['system_%i'%(i)]['Bound'] = bound\n",
    "    traj_dict['system_%i'%(i)]['UnBound'] = unbound\n",
    "    print(len(bound))\n",
    "    print(len(unbound))\n",
    "\n",
    "\n",
    "    bound_df = pd.DataFrame.from_dict(data=traj_dict['system_%i'%(i)]['Bound'])\n",
    "\n",
    "    bound_df.to_csv(prefix + '/bound_frames.csv', header=False)\n",
    "\n",
    "    unbound_df = pd.DataFrame.from_dict(data=traj_dict['system_%i'%(i)]['UnBound'])\n",
    "\n",
    "    unbound_df.to_csv(prefix + '/unbound_frames.csv', header=False)\n",
    "\n"
   ]
  },
  {
   "cell_type": "code",
   "execution_count": 15,
   "metadata": {},
   "outputs": [],
   "source": [
    "#Replicates = a, for test this is 1\n",
    "\n",
    "for a in [1]:\n",
    "    \n",
    "#RNA Lengths, so you can analyze in batch, but for test this is 25nt\n",
    "    for i in [25]:\n",
    "        traj_dict['%i_system_%i'%(i,a)] = {}\n",
    "        traj_dict['%i_system_%i'%(i,a)]['Bound'] = pd.read_csv(prefix+'/bound_frames.csv', header = None)\n",
    "        traj_dict['%i_system_%i'%(i,a)]['UnBound'] = pd.read_csv(prefix+'/unbound_frames.csv', header = None)"
   ]
  },
  {
   "cell_type": "code",
   "execution_count": null,
   "metadata": {},
   "outputs": [],
   "source": [
    "#Generate the SST for each RNA:Protein and store in a corresponding dict\n",
    "\n",
    "for a in [1]:\n",
    "    for i in [25]:\n",
    "        #print(i)\n",
    "        prefix = \"/work/alstonj/2022/Phase_Separation/LAMMPS/NTDRBD_PolyrU/NTDRBD_Titrate_Length_NoSalt/%i/%i_300_%i/FULL\"%(i,i,a)\n",
    "        xtcfilename = prefix+ '/full.xtc'\n",
    "        pdbfilename = prefix + '/full.pdb'\n",
    "        SST = SSTrajectory(xtcfilename, pdbfilename,extra_valid_residue_names=NA_EXTENSION)\n",
    "        traj_dict['%i_protein_%i_all'%(i,a)] = {}\n",
    "        traj_dict['%i_protein_%i_all'%(i,a)]['SST'] = SST\n",
    "        traj_dict['%i_protein_%i'%(i,a)] = {}\n",
    "        traj_dict['%i_protein_%i'%(i,a)]['SST'] = SST.proteinTrajectoryList[0]\n",
    "        traj_dict['%i_rna_%i'%(i,a)] = {}\n",
    "        traj_dict['%i_rna_%i'%(i,a)]['SST'] = SST.proteinTrajectoryList[1]"
   ]
  }
 ],
 "metadata": {
  "kernelspec": {
   "display_name": "Python 3",
   "language": "python",
   "name": "python3"
  },
  "language_info": {
   "codemirror_mode": {
    "name": "ipython",
    "version": 3
   },
   "file_extension": ".py",
   "mimetype": "text/x-python",
   "name": "python",
   "nbconvert_exporter": "python",
   "pygments_lexer": "ipython3",
   "version": "3.7.3"
  }
 },
 "nbformat": 4,
 "nbformat_minor": 4
}
