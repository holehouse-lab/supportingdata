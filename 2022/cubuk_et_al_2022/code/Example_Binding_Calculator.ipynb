{
 "cells": [
  {
   "cell_type": "markdown",
   "metadata": {},
   "source": [
    "# Two Molecule Analysis Notebook"
   ]
  },
  {
   "cell_type": "markdown",
   "metadata": {},
   "source": [
    "#### Last Updated 08-10-2022"
   ]
  },
  {
   "cell_type": "markdown",
   "metadata": {},
   "source": [
    "This notebook outlines how to do the analysis from the Cubuk, Alston et al 2022 paper."
   ]
  },
  {
   "cell_type": "markdown",
   "metadata": {},
   "source": [
    "## Data Used"
   ]
  },
  {
   "cell_type": "markdown",
   "metadata": {},
   "source": [
    "This notebook uses a test data set that is a segment of 5 concatenated replicates of the simulations run from the aforementioned paper:\n",
    "\n",
    "This consists of only two key pieces of data:\n",
    "\n",
    "1. Start.pdb\n",
    "2. __traj.xtc\n",
    "\n",
    "In particular these come from the NTDRBD simulations of RBD conformation 1 and rU25, replicate 1"
   ]
  },
  {
   "cell_type": "markdown",
   "metadata": {},
   "source": [
    "## Before Trajectory Analysis"
   ]
  },
  {
   "cell_type": "markdown",
   "metadata": {},
   "source": [
    "Before the trajectory is analyzed each of the five trajectories in each conformational replicate are pbc corrected using the bash command:\n",
    "\n",
    "lammpstools_pbcfix --pdb Start.pdb --xtc __traj.xtc\n",
    "\n",
    "which outputs a corrected pdb and traj file - > lammps_fixed_traj.pdb and lammps_fixed_traj.xtc\n",
    "\n",
    "This corrects for periodic boundary condition clashes\n",
    "\n"
   ]
  },
  {
   "cell_type": "code",
   "execution_count": 1,
   "metadata": {},
   "outputs": [],
   "source": [
    "import pandas as pd\n",
    "\n",
    "import mdtraj as md\n",
    "import itertools\n",
    "import numpy as np\n",
    "\n",
    "import soursop as ss\n",
    "from soursop.sstrajectory import SSTrajectory\n",
    "NA_EXTENSION = ['D5P', 'DPC',  'DPU',  'DPT',  'DPA',  'DPG',  'R5P',  'RPC' , 'RPU',  'RPT',  'RPA',  'RPG']\n",
    "\n",
    "from pathlib import Path"
   ]
  },
  {
   "cell_type": "code",
   "execution_count": 2,
   "metadata": {},
   "outputs": [
    {
     "data": {
      "text/plain": [
       "'/work/alstonj/2022/Phase_Separation/LAMMPS/NTDRBD_PolyrU/NTDRBD_Titrate_Length_NoSalt/GitHub'"
      ]
     },
     "execution_count": 2,
     "metadata": {},
     "output_type": "execute_result"
    }
   ],
   "source": [
    "path = str(Path().absolute())\n",
    "path"
   ]
  },
  {
   "cell_type": "markdown",
   "metadata": {},
   "source": [
    "Necessary files are included in supportingdata/2022/cubuk_et_al_2022/data"
   ]
  },
  {
   "cell_type": "code",
   "execution_count": 4,
   "metadata": {},
   "outputs": [
    {
     "name": "stdout",
     "output_type": "stream",
     "text": [
      "/work/alstonj/2022/Phase_Separation/LAMMPS/NTDRBD_PolyrU/NTDRBD_Titrate_Length_NoSalt/GitHub/lammps_fixed_traj.xtc\n",
      "/work/alstonj/2022/Phase_Separation/LAMMPS/NTDRBD_PolyrU/NTDRBD_Titrate_Length_NoSalt/GitHub/lammps_fixed_traj.pdb\n",
      "Loading trajectory...\n",
      "Trajectory loaded!\n",
      "2991\n",
      "6\n",
      "<mdtraj.Trajectory with 2985 frames, 198 atoms, 198 residues, and unitcells>\n"
     ]
    }
   ],
   "source": [
    "#Next we take our PBC corrected xtc and pdb and we remove (based on looking at energy plots) the beginning of the simulation for equilibration\n",
    "\n",
    "#PBC Corrected xtc and pdb\n",
    "xtcfilename = path + '/lammps_fixed_traj.xtc'\n",
    "print(xtcfilename)\n",
    "pdbfilename = path + '/lammps_fixed_traj.pdb'\n",
    "print(pdbfilename)\n",
    "\n",
    "#Load into Soursop\n",
    "print('Loading trajectory...')\n",
    "TrajOb = SSTrajectory(xtcfilename, pdbfilename, extra_valid_residue_names=NA_EXTENSION)\n",
    "print('Trajectory loaded!')\n",
    "\n",
    "#Get total number of frames in simulation\n",
    "nframes = TrajOb.n_frames\n",
    "print((TrajOb.n_frames))\n",
    "\n",
    "#Remove pre-equilibration frames\n",
    "print(round(.002*(TrajOb.n_frames)))\n",
    "\n",
    "sliced_list = list(range(round(.002*(TrajOb.n_frames)),TrajOb.n_frames))\n",
    "\n",
    "sliced = TrajOb.traj.slice((sliced_list))\n",
    "\n",
    "print(sliced)\n",
    "\n",
    "#save equilibrated xtc\n",
    "sliced.save(path + \"/equilibrated_traj.xtc\")"
   ]
  },
  {
   "cell_type": "markdown",
   "metadata": {},
   "source": [
    "## A note on xtc concatenation"
   ]
  },
  {
   "cell_type": "markdown",
   "metadata": {},
   "source": [
    "In our workflow there are 5 replicates for each starting state and after getting equilibrated xtc's they are concatenated using cattraj with the following bash command:\n",
    "\n",
    "cattraj -n 5 --everything --pdb lammps_fixed_traj.pdb --xtc equilibrated_traj.xtc\n",
    "\n",
    "which outputs a folder called \"Full\" that contains a full.pdb and full.xtc that are the concatenated trajectories that include all amino acids and nucleotides\n",
    "\n",
    "These are then concatenated with each of the other starting states from the other starting RBD comformations that have been run, again using cattraj\n",
    "\n",
    "For this tutorial we will just be working with the test data set"
   ]
  },
  {
   "cell_type": "markdown",
   "metadata": {},
   "source": [
    "________________________________________________________________________________________________________________________________________________________________________________________________________________________________"
   ]
  },
  {
   "cell_type": "markdown",
   "metadata": {},
   "source": [
    "# Binding Affinity Analysis"
   ]
  },
  {
   "cell_type": "markdown",
   "metadata": {},
   "source": [
    "We want to calculate a second osmotic virial coefficient to correct the Kds of simulations of 2 molecules binding for finite size effects"
   ]
  },
  {
   "cell_type": "markdown",
   "metadata": {},
   "source": [
    "This requires us to calculate $B_{ij}$   and   $K_{D}$\n",
    "\n",
    "$B_{ij}$ can be estimated using the equation:  $$B_{ij}= -\\frac{V}{2}\\Bigg[\\frac{1-\\frac{v}{V}}{1-P_{u}(V)}-1\\Bigg]$$\n",
    "\n",
    "Where $V =$ Simulation Box Volume, $v$ = subvolume, and $P_{u}V$ = probability that molecule j is in the subvolume of molecule i\n",
    "\n",
    "$K_{D}$ corrected for finite size effects can be estimated using the equation: $$K_{D} = \\frac{1}{N_{A}P_{B}(V)(V-2B_{ij})}$$\n",
    "\n",
    "Where $P_{B}(V)$ = fraction of bound protein events and $N_{A}$ is avagadros number\n",
    "\n",
    "We will be using the subvolume method, defining an area around the molecule i (NTDRBD) that corresponds to the interaction area between i and j (RNA).\n",
    "\n",
    "For a rudimentary first pass we will define this volume as a sphere with diameter = the sum of half the Rg of i and j\n",
    "\n",
    "If the COM of j falls within the subolume of j then it is defined as potentially being bound\n"
   ]
  },
  {
   "cell_type": "code",
   "execution_count": 8,
   "metadata": {},
   "outputs": [
    {
     "name": "stdout",
     "output_type": "stream",
     "text": [
      "SSTrajectory (0x7f6764a032b0): 2 proteins and 2985 frames\n"
     ]
    }
   ],
   "source": [
    "#read in necessary files\n",
    "\n",
    "xtcfilename = path + '/equilibrated_traj.xtc'\n",
    "#print(xtcfilename)\n",
    "pdbfilename = path + '/lammps_fixed_traj.pdb'\n",
    "#print(pdbfilename)\n",
    "TrajOb = SSTrajectory(xtcfilename, pdbfilename, extra_valid_residue_names=NA_EXTENSION)\n",
    "\n",
    "#Confirm that we have 2 molecules in simulation\n",
    "\n",
    "print(TrajOb)"
   ]
  },
  {
   "cell_type": "code",
   "execution_count": 51,
   "metadata": {},
   "outputs": [
    {
     "name": "stdout",
     "output_type": "stream",
     "text": [
      "RNA_Largest 0\n",
      "RNA_Largest 0\n",
      "RNA Diameter in nm is:  9.495762\n",
      "NTDRBD Diameter in nm is:  12.937882\n"
     ]
    }
   ],
   "source": [
    "#Calculate largest distance between residues and nucleotides individually to create a subvolume\n",
    "\n",
    "#Here I is the length of your RNA\n",
    "\n",
    "i = 25\n",
    "\n",
    "#Define the RNA and protein the protein in this case is 173 residues long\n",
    "\n",
    "#Group 1 is the RNA nts\n",
    "group_1 = [nucleotide + 173 for nucleotide in range(i)]\n",
    "#print(group_1)\n",
    "\n",
    "#Group 2 is the NTDRBD, this is always 173nts\n",
    "\n",
    "group_2 = [aminoacid for aminoacid in range(173)]\n",
    "#print(group_2)\n",
    "\n",
    "#For the RNA we can use the min and max residues to compute the largest distance\n",
    "pairs = (min(group_1), max(group_1))\n",
    "#print(pairs)\n",
    "\n",
    "#compute the distance\n",
    "cc = md.compute_contacts(TrajOb.traj, [pairs], ignore_nonprotein = False)\n",
    "\n",
    "#Get RNA largest Diameter\n",
    "RNA_Largest = []\n",
    "for a in range(len(TrajOb.traj)):\n",
    "    RNA_Largest.append(np.max(cc[0][a]))\n",
    "    if a % 10000 == 0:\n",
    "        print('RNA_Largest', a)\n",
    "            \n",
    "RNA_Diam = np.max(RNA_Largest)\n",
    "\n",
    "#For the protein the largest distance isnt necasarily between the first and last residue and so we compute all pairwise distances and extract the largest\n",
    "pairs = list(itertools.product(group_2, group_2))\n",
    "\n",
    "#compute the pairwise distance for every frame protein\n",
    "cc = md.compute_contacts(TrajOb.traj, pairs, ignore_nonprotein = False)\n",
    "\n",
    "NTDRBD_Largest = []\n",
    "for a in range(len(TrajOb.traj)): \n",
    "    NTDRBD_Largest.append(np.max(cc[0][a]))\n",
    "    if a % 10000 == 0:\n",
    "        print('RNA_Largest', a)\n",
    "\n",
    "NTDRBD_Diam = np.max(NTDRBD_Largest)\n",
    "\n",
    "print(\"RNA Diameter in nm is: \", RNA_Diam)\n",
    "print(\"NTDRBD Diameter in nm is: \", NTDRBD_Diam)"
   ]
  },
  {
   "cell_type": "code",
   "execution_count": 46,
   "metadata": {},
   "outputs": [
    {
     "name": "stdout",
     "output_type": "stream",
     "text": [
      "Subvolume distance cutoff is 11.216821670532227\n"
     ]
    }
   ],
   "source": [
    "#Define a subvolume size as 1/2 of (NTDRBD_Rg + rU25_Rg) in nm\n",
    "\n",
    "subvolume = .5*(RNA_Diam + NTDRBD_Diam)\n",
    "print(\"Subvolume distance cutoff is\", subvolume)"
   ]
  },
  {
   "cell_type": "code",
   "execution_count": 47,
   "metadata": {},
   "outputs": [
    {
     "name": "stdout",
     "output_type": "stream",
     "text": [
      "# of Events outside Subvolume 2752\n",
      "# of Events inside Subvolume 233\n"
     ]
    }
   ],
   "source": [
    "#Define the COM of the NTDRBD and RNA for each frame\n",
    "\n",
    "NTDRBD_coord = TrajOb.proteinTrajectoryList[0].get_center_of_mass()\n",
    "RNA_coord = TrajOb.proteinTrajectoryList[1].get_center_of_mass()\n",
    "\n",
    "#Compute distance between COM of NTDRBD and RNA and store frames in within a subvolume or outside a subvolume\n",
    "\n",
    "Outside = []\n",
    "Inside = []\n",
    "\n",
    "for i in range(len(NTDRBD_coord)):\n",
    "    dist = np.linalg.norm(NTDRBD_coord[i] - RNA_coord[i])\n",
    "    if dist >=subvolume:\n",
    "        Outside.append(dist)\n",
    "    else:\n",
    "        Inside.append(dist)\n",
    "\n",
    "print(\"# of Events outside Subvolume\", len(Outside))\n",
    "print(\"# of Events inside Subvolume\", len(Inside))"
   ]
  },
  {
   "cell_type": "code",
   "execution_count": 48,
   "metadata": {},
   "outputs": [
    {
     "name": "stdout",
     "output_type": "stream",
     "text": [
      "Probability of RNA sampling within the subvolume 0.07805695142378559\n",
      "Simulation Volume in nm^3 27000.0\n",
      "Subvolume Volume in nm^3 5911.504919432612\n",
      "Percentage of Simulation box taken up by the subvolume:  0.21894462664565228\n"
     ]
    }
   ],
   "source": [
    "#Define the probability of RNA being within or outside the subvolume\n",
    "\n",
    "PuV = len(Inside)/(len(Outside)+len(Inside))\n",
    "print(\"Probability of RNA sampling within the subvolume\", PuV)\n",
    "\n",
    "#Define Simulation Volume convert to nm\n",
    "\n",
    "SimV = ((300/10)**3)\n",
    "\n",
    "print(\"Simulation Volume in nm^3\", SimV)\n",
    "\n",
    "#Define a subvolume volume as spherical area converted to nm\n",
    "\n",
    "SubV = 4/3*(np.pi)*(subvolume)**3\n",
    "\n",
    "print(\"Subvolume Volume in nm^3\", SubV)\n",
    "\n",
    "print(\"Percentage of Simulation box taken up by the subvolume: \", SubV/SimV)"
   ]
  },
  {
   "cell_type": "code",
   "execution_count": 49,
   "metadata": {},
   "outputs": [
    {
     "name": "stdout",
     "output_type": "stream",
     "text": [
      "Bij =  2063.0163852664145\n"
     ]
    }
   ],
   "source": [
    "#Calculate second virial coefficient\n",
    "\n",
    "term1 = -(SimV/2)\n",
    "numerator = 1- (SubV/SimV)\n",
    "denominator = 1 - PuV\n",
    "\n",
    "Bij = term1*((numerator/denominator)-1)\n",
    "print(\"Bij = \", Bij)"
   ]
  },
  {
   "cell_type": "code",
   "execution_count": 53,
   "metadata": {},
   "outputs": [
    {
     "name": "stdout",
     "output_type": "stream",
     "text": [
      "unbound 0\n"
     ]
    }
   ],
   "source": [
    "#Determine the fraction bound by generating a list of bound and not bound frames using a distance cutoff of .7nm\n",
    "\n",
    "i = 25\n",
    "\n",
    "distance_cutoff = .7\n",
    "\n",
    "#Group 1 is the RNA nts\n",
    "\n",
    "group_1 = [nucleotide + 173 for nucleotide in range(i)]\n",
    "#print(group_1)\n",
    "\n",
    "#Group 2 is the NTD, this is always 68nts\n",
    "\n",
    "group_2 = [aminoacid for aminoacid in range(173)]\n",
    "#print(group_2)\n",
    "\n",
    "pairs = list(itertools.product(group_1, group_2))\n",
    "#len(pairs)\n",
    "\n",
    "#compute the pairwise distance for every frame \n",
    "cc = md.compute_contacts(TrajOb.traj, pairs, ignore_nonprotein = False)\n",
    "\n",
    "bound = []\n",
    "unbound = []\n",
    "\n",
    "for a in range(len(TrajOb.traj)):\n",
    "    if any(a <= distance_cutoff for a in cc[0][a]):\n",
    "        bound.append(a)\n",
    "        if a % 10000 == 0:\n",
    "            print('bound', a)\n",
    "\n",
    "    else:\n",
    "        unbound.append(a)\n",
    "        if a % 10000 == 0:\n",
    "            print('unbound', a)\n",
    "\n",
    "\n",
    "#print(TrajOb.traj)\n",
    "#print(len(bound))\n",
    "#print(len(unbound))"
   ]
  },
  {
   "cell_type": "code",
   "execution_count": 54,
   "metadata": {},
   "outputs": [
    {
     "name": "stdout",
     "output_type": "stream",
     "text": [
      "Kd is in nm  163.05612184200936\n",
      "Ka is in nm  0.006132857746788152\n"
     ]
    }
   ],
   "source": [
    "#Define terms and calculate\n",
    "\n",
    "#(Avo #)\n",
    "Na = (6.022*(10**23))\n",
    "\n",
    "#Probability of being in bound state\n",
    "PbV = len(bound)/(len(bound)+len(unbound))\n",
    "#x = (Na*PbV)\n",
    "\n",
    "#Calculate Kd and and Ka and subsequently convert to nM\n",
    "Kd = (10**24)/(Na*PbV*(SimV-(2*Bij)))\n",
    "Ka = ((1/Kd)/10**6)\n",
    "\n",
    "KdinnM = 1/Ka\n",
    "\n",
    "print(\"Kd is in nm \",KdinnM)\n",
    "print(\"Ka is in nm \",Ka)\n",
    "\n",
    "rows = [[\"KD\", \"KA\", \"Bij\"],[KdinnM, Ka, Bij]]\n",
    "\n",
    "# using the savetxt \n",
    "# from the numpy module\n",
    "np.savetxt(\"Binding_Affinity.csv\", \n",
    "           rows,\n",
    "           delimiter =\", \", \n",
    "           fmt ='% s')"
   ]
  },
  {
   "cell_type": "code",
   "execution_count": null,
   "metadata": {},
   "outputs": [],
   "source": []
  }
 ],
 "metadata": {
  "kernelspec": {
   "display_name": "Python 3",
   "language": "python",
   "name": "python3"
  },
  "language_info": {
   "codemirror_mode": {
    "name": "ipython",
    "version": 3
   },
   "file_extension": ".py",
   "mimetype": "text/x-python",
   "name": "python",
   "nbconvert_exporter": "python",
   "pygments_lexer": "ipython3",
   "version": "3.7.3"
  }
 },
 "nbformat": 4,
 "nbformat_minor": 4
}
