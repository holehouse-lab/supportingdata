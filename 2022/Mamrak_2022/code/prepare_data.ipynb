{
 "cells": [
  {
   "cell_type": "markdown",
   "metadata": {},
   "source": [
    "### Code to extract disordered IDRs from the set of transcription factors\n",
    "This notebook combines raw sequence data with experimental data to generate an anotated proteome which in turn can be used for later analysis\n",
    "\n",
    "Run using SHEPHARD or higher, v.0.1.4 and metapredict v2 or higher (we use v2 in this notebook instead of metapredict-hybrid)"
   ]
  },
  {
   "cell_type": "code",
   "execution_count": 2,
   "metadata": {},
   "outputs": [],
   "source": [
    "import numpy as np\n",
    "import matplotlib\n",
    "\n",
    "import matplotlib.pyplot as plt\n",
    "from matplotlib.pyplot import figure\n",
    "\n",
    "# Set such that PDF fonts export in a manner that they\n",
    "# are editable in illustrator/affinity\n",
    "matplotlib.rcParams['pdf.fonttype'] = 42\n",
    "matplotlib.rcParams['ps.fonttype'] = 42\n",
    "\n",
    "# set to define axes linewidths\n",
    "matplotlib.rcParams['axes.linewidth'] = 0.5\n",
    "\n",
    "# this defines some prefactors so inline figures look nice\n",
    "# on a retina macbook. These can be commented out without any\n",
    "# issue and are solely asthetic.\n",
    "%matplotlib inline\n",
    "%config InlineBackend.figure_format='retina'\n",
    "\n",
    "# set fonts\n",
    "font = {'family' : 'arial', 'weight' : 'normal'}\n",
    "\n",
    "matplotlib.rc('font', **font)\n",
    "\n",
    "# import from shephard and metapredict\n",
    "from shephard.apis import uniprot\n",
    "from shephard import interfaces\n",
    "import metapredict as meta\n",
    "from shephard import Proteome\n",
    "from shephard import tools\n",
    "\n",
    "import protfasta"
   ]
  },
  {
   "cell_type": "markdown",
   "metadata": {},
   "source": [
    "## Read in data\n",
    "The next two cells read in the sequence information and then the experimental data"
   ]
  },
  {
   "cell_type": "code",
   "execution_count": 3,
   "metadata": {},
   "outputs": [],
   "source": [
    "F = uniprot.uniprot_fasta_to_proteome('data/uniprot_sequences.fasta')\n",
    "for protein in F:\n",
    "    gn = protein.name.split('GN=')[1].split()[0]\n",
    "    protein.add_attribute('gene_name', gn)\n"
   ]
  },
  {
   "cell_type": "code",
   "execution_count": 4,
   "metadata": {},
   "outputs": [],
   "source": [
    "# read in TF data and parse into a dictionary\n",
    "with open('data/real_data.tsv','r') as fh:\n",
    "    content = fh.readlines()\n",
    "exp_data = {}\n",
    "for l in content:\n",
    "    sline = l.strip().split('\\t')\n",
    "    exp_data[sline[0]] = [float(sline[1]),float(sline[2])]\n"
   ]
  },
  {
   "cell_type": "markdown",
   "metadata": {},
   "source": [
    "### Sanity check 1\n",
    "Checks for proteins found in experimental set where we don't haves sequences. Should ONLY be the control"
   ]
  },
  {
   "cell_type": "code",
   "execution_count": 5,
   "metadata": {},
   "outputs": [
    {
     "name": "stdout",
     "output_type": "stream",
     "text": [
      "Did not find [Control] in the protein sequence dataset\n"
     ]
    }
   ],
   "source": [
    "# for each line in experimental data...\n",
    "exp_data_validates = {}\n",
    "for n in exp_data:\n",
    "    \n",
    "    \n",
    "    # ask if we find any of the gene names \n",
    "    hit_count = 0\n",
    "    for protein in F:\n",
    "        if n.find(protein.attribute('gene_name')) > -1:\n",
    "            hit_count = hit_count + 1\n",
    "    if hit_count == 0:\n",
    "        print(f'Did not find [{n}] in the protein sequence dataset')\n",
    "    elif hit_count > 1:\n",
    "        print(f'Found multiple gene names compatible with experimental line [{n}]')\n",
    "    else:\n",
    "        exp_data_validates[n] = exp_data[n]\n",
    "        \n",
    "        "
   ]
  },
  {
   "cell_type": "markdown",
   "metadata": {},
   "source": [
    "### Sanity check 2\n",
    "Checks for proteins found in sequence dataset where we don't have experimental data. This should yeild nothing."
   ]
  },
  {
   "cell_type": "code",
   "execution_count": 6,
   "metadata": {},
   "outputs": [],
   "source": [
    "# for each line in experimental data...\n",
    "for protein in F:\n",
    "    \n",
    "    \n",
    "    gn = protein.attribute('gene_name')\n",
    "    \n",
    "    # ask if we find any of the gene names \n",
    "    hit_count = 0\n",
    "    exp_name = None\n",
    "    for n in exp_data:\n",
    "        if n.find(gn) > -1:\n",
    "            hit_count = hit_count + 1\n",
    "            exp_name  = n\n",
    "\n",
    "    if hit_count == 0:\n",
    "        print(f'Did not find [{gn}] in the experimental data dataset')\n",
    "        \n",
    "    elif hit_count > 1:\n",
    "        print(f'Found multiple experimental entries compatible with gene name [{gn}]')\n",
    "        \n",
    "    # this is scenario where we found exatly 1 experimental data hit that matched ]\n",
    "    # the protein gene name\n",
    "    else:\n",
    "        protein.add_attribute('activity', exp_data[exp_name][0])\n",
    "        protein.add_attribute('intensity', exp_data[exp_name][1])\n",
    "        protein.add_attribute('exp_name', exp_name)\n",
    "        \n",
    "        \n",
    "        "
   ]
  },
  {
   "cell_type": "markdown",
   "metadata": {},
   "source": [
    "## Annotated proteins with disorder"
   ]
  },
  {
   "cell_type": "code",
   "execution_count": 8,
   "metadata": {},
   "outputs": [],
   "source": [
    "for protein in F:\n",
    "    \n",
    "    # compute IDR boundaires and local disorder tracks\n",
    "    d = meta.predict_disorder_domains(protein.sequence)\n",
    "    \n",
    "    idrs = d.disordered_domain_boundaries\n",
    "    fds = d.folded_domain_boundaries\n",
    "    for x in idrs:\n",
    "        protein.add_domain(x[0]+1, x[1], 'IDR')\n",
    "    for x in fds:\n",
    "        protein.add_domain(x[0]+1, x[1], 'folded')        \n",
    "    protein.add_track('disorder', values=d.disorder)"
   ]
  },
  {
   "cell_type": "markdown",
   "metadata": {},
   "source": [
    "## Plotting functions\n",
    "Define functions that plot annotated IDRs, including separating IDRs and and folded domanis"
   ]
  },
  {
   "cell_type": "code",
   "execution_count": 10,
   "metadata": {},
   "outputs": [],
   "source": [
    "def plot_disorder_domain(p):\n",
    "    figure(num=None, figsize=(4, 1.5), dpi=300, facecolor='w', edgecolor='k')\n",
    "    ax = plt.gca()\n",
    "    plt.plot(p.track('disorder').values, 'k',linewidth=0.5)\n",
    "    \n",
    "    \n",
    "    c = 0\n",
    "    for domain in p.domains:\n",
    "        if domain.domain_type == 'IDR':\n",
    "            ax.axvspan(domain.start-1, domain.end, color='r', alpha=0.3, linewidth=0.0)        \n",
    "            c= c+len(domain)\n",
    "        elif domain.domain_type == 'folded':\n",
    "            ax.axvspan(domain.start-1, domain.end, color='skyblue', alpha=0.3, linewidth=0.0)        \n",
    "    \n",
    "    plt.ylim([0,1])\n",
    "    plt.xlim([1,len(p)+1])\n",
    "    plt.xticks(fontsize=8)\n",
    "    plt.yticks(fontsize=8)\n",
    "    plt.title('%s: %1.1f %% disordered'%(p.attribute('exp_name'), (c/len(p))*100),fontsize=8)\n",
    "    plt.xlabel('Residue number', fontsize=7)\n",
    "    plt.ylabel('Disorder/structure',fontsize=7)\n",
    "    \n",
    "    plt.tight_layout()\n",
    "\n",
    "    newname = p.attribute('exp_name').replace('/','-')\n",
    "    plt.savefig(f'figures_metapredict_v2/{newname}.png')\n",
    "    plt.close()\n",
    "    "
   ]
  },
  {
   "cell_type": "markdown",
   "metadata": {},
   "source": [
    "## Plot data\n",
    "Next we plot the data using the two methods"
   ]
  },
  {
   "cell_type": "code",
   "execution_count": 11,
   "metadata": {},
   "outputs": [],
   "source": [
    "for p in F:\n",
    "    plot_disorder_domain(p)"
   ]
  },
  {
   "cell_type": "markdown",
   "metadata": {},
   "source": [
    "## Write out\n",
    "Finally we write the data out to SHEPHARD domains files"
   ]
  },
  {
   "cell_type": "code",
   "execution_count": 12,
   "metadata": {},
   "outputs": [],
   "source": [
    "P_reduced = Proteome([])\n",
    "long_idr_proteins = []\n",
    "\n",
    "for p in F:\n",
    "    \n",
    "    idrs = [d for d in p.domains if d.domain_type =='IDR']\n",
    "    \n",
    "    if len(tools.sequence_tools.build_mega_string(idrs)) > 60:\n",
    "        long_idr_proteins.append(p)\n",
    "\n",
    "P_reduced.add_proteins(long_idr_proteins)    "
   ]
  },
  {
   "cell_type": "markdown",
   "metadata": {},
   "source": [
    "## Save data\n",
    "Write out annotations into the `filtered_v2/` directories. Note in the paper we use the metapredict-hybrid data which is basically identical, but these notebooks perform analysis in the way it should be done going forward."
   ]
  },
  {
   "cell_type": "code",
   "execution_count": 13,
   "metadata": {},
   "outputs": [],
   "source": [
    "uniprot.uniprot_proteome_to_fasta(P_reduced, 'data/filtered_v2/sequences_final.fasta')\n",
    "interfaces.si_proteins.write_proteins(P_reduced, 'data/filtered_v2/proteins.tsv')\n",
    "interfaces.si_domains.write_domains(P_reduced, 'data/filtered_v2/shprd_IDRs.tsv', domain_types=['IDR'])\n",
    "interfaces.si_tracks.write_all_values_tracks_single_file(P_reduced, 'data/filtered_v2/shprd_tracks.tsv')\n",
    "interfaces.si_protein_attributes.write_protein_attributes(P_reduced, 'data/filtered_v2/shprd_protein_attributes.tsv')"
   ]
  },
  {
   "cell_type": "code",
   "execution_count": 14,
   "metadata": {},
   "outputs": [],
   "source": [
    "out = {}\n",
    "for p in P_reduced:\n",
    "    for d in p.domains:\n",
    "        if d.domain_type == 'IDR':\n",
    "            header=f\"{p.attribute('gene_name')} {p.unique_ID} start={d.start} end={d.end}\"\n",
    "            out[header] = d.sequence\n",
    "            \n",
    "protfasta.write_fasta(out,'shared_data/filtered_v2/all_idrs_analyzed.fasta')"
   ]
  },
  {
   "cell_type": "code",
   "execution_count": null,
   "metadata": {},
   "outputs": [],
   "source": []
  }
 ],
 "metadata": {
  "kernelspec": {
   "display_name": "Python 3 (ipykernel)",
   "language": "python",
   "name": "python3"
  },
  "language_info": {
   "codemirror_mode": {
    "name": "ipython",
    "version": 3
   },
   "file_extension": ".py",
   "mimetype": "text/x-python",
   "name": "python",
   "nbconvert_exporter": "python",
   "pygments_lexer": "ipython3",
   "version": "3.8.12"
  }
 },
 "nbformat": 4,
 "nbformat_minor": 4
}
