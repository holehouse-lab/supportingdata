{
  "nbformat": 4,
  "nbformat_minor": 0,
  "metadata": {
    "colab": {
      "provenance": [],
      "authorship_tag": "ABX9TyOgFv+piXn8vD98gtwBmBWS",
      "include_colab_link": true
    },
    "kernelspec": {
      "name": "python3",
      "display_name": "Python 3"
    },
    "language_info": {
      "name": "python"
    }
  },
  "cells": [
    {
      "cell_type": "markdown",
      "metadata": {
        "id": "view-in-github",
        "colab_type": "text"
      },
      "source": [
        "<a href=\"https://colab.research.google.com/github/holehouse-lab/supportingdata/blob/master/other/cider_colab/localcider_kappa_calculator.ipynb\" target=\"_parent\"><img src=\"https://colab.research.google.com/assets/colab-badge.svg\" alt=\"Open In Colab\"/></a>"
      ]
    },
    {
      "cell_type": "markdown",
      "source": [
        "# CIDER colab notebook\n",
        "This notebook lets you reproduce the basic sequence parameter analysis offered by [CIDER](http://pappulab.wustl.edu/CIDER/analysis/), and allows FASTA file upload as well as individual sequence analysis.\n",
        "\n",
        "See the END of the notebook for more detailed instructions on how to use!"
      ],
      "metadata": {
        "id": "GFGkd94aSqq7"
      }
    },
    {
      "cell_type": "code",
      "execution_count": 19,
      "metadata": {
        "cellView": "form",
        "id": "ghZxIn3RJ44k",
        "colab": {
          "base_uri": "https://localhost:8080/"
        },
        "outputId": "0d3a7115-abdd-4711-ec9e-6c7368e3b109"
      },
      "outputs": [
        {
          "output_type": "stream",
          "name": "stdout",
          "text": [
            "Setting up the environment....\n"
          ]
        }
      ],
      "source": [
        "#@title Step 1: Setup\n",
        "#@markdown Run this cell to setup the notebook (press the right-facing triangle on the left!)\n",
        "\n",
        "from IPython.utils import io\n",
        "\n",
        "\n",
        "print('Setting up the environment....')\n",
        "with io.capture_output() as captured:\n",
        "  !pip install localcider\n",
        "  !pip install protfasta\n",
        "\n",
        "\n",
        "  from google.colab import files\n",
        "  import io\n",
        "  from tqdm import tqdm\n",
        "\n",
        "  import numpy as np\n",
        "  import os\n",
        "  from localcider import plots\n",
        "  import protfasta\n",
        "\n",
        "  from localcider import plots\n",
        "  from localcider.sequenceParameters import SequenceParameters"
      ]
    },
    {
      "cell_type": "code",
      "source": [
        "#@title Step 2: Upload and analysis\n",
        "#@markdown <h1>Enter the amino acid sequence or upload a FASTA file!:</h1>\n",
        "\n",
        "#@markdown *NB*: A sequence cannot be provided at the same time as a fasta file.\n",
        "\n",
        "# define the function that will be called when the form is submitted\n",
        "def process_form():\n",
        "    uploaded = files.upload()\n",
        "\n",
        "    # get filename\n",
        "    try:\n",
        "      # this ENSURES we overwrite an existing\n",
        "      # file if it was there before...\n",
        "      fn = list(uploaded.keys())[0]\n",
        "      with open(fn,'wb') as fh:\n",
        "        fh.write(uploaded[fn])\n",
        "    except Exception:\n",
        "      raise Exception('No file uploaded')\n",
        "\n",
        "    # Load protein objects\n",
        "    try:\n",
        "      protein_objs = protfasta.read_fasta(fn, return_list=True, expect_unique_header=False, invalid_sequence_action='convert')\n",
        "    except TypeError as e:\n",
        "      print(f\"Received TypeError: Perhaps you didn't upload a file?\")\n",
        "      raise e\n",
        "\n",
        "    return protein_objs\n",
        "\n",
        "\n",
        "\n",
        "sequence = \"\" #@param {type:\"string\"}\n",
        "fasta_file = False #@param {type:\"boolean\"}\n",
        "\n",
        "\n",
        "if fasta_file and len(sequence) > 0:\n",
        "  raise Exception(f\"Cannot specify both a sequence and a list of sequences from a fasta file simultaneously\")\n",
        "\n",
        "if fasta_file is False and len(sequence) == 0:\n",
        "  raise Exception(f\"Must specify either a sequence or a list of sequences from a fasta file\")\n",
        "\n",
        "if fasta_file:\n",
        "    protein_objs = process_form()\n",
        "\n",
        "else:\n",
        "    protein_objs = [['input_sequence', sequence]]\n",
        "\n",
        "\n",
        "# ANALYSIS from here on down\n",
        "\n",
        "c = 0\n",
        "outstring = 'localcider_properties.csv'\n",
        "print('Calculating properties values...')\n",
        "with open(outstring,'w') as fh:\n",
        "  fh.write('FASTA ID, FCR, NCPR, hydrophobicity, kappa, disorder_promoting, sequence\\n')\n",
        "  for k in tqdm(protein_objs):\n",
        "    og = k[0]\n",
        "    seq = k[1]\n",
        "\n",
        "    uid = og.replace(',',';') # remove commas so we can make a legit csv\n",
        "\n",
        "    try:\n",
        "      S = SequenceParameters(seq)\n",
        "      fh.write(f\"{uid}, {S.get_FCR()}, {S.get_NCPR()}, {S.get_uversky_hydropathy()}, {S.get_kappa()}, {S.get_fraction_disorder_promoting()}, {seq}\\n\")\n",
        "      c = c + 1\n",
        "    except Exception:\n",
        "      print('ERROR on sequence {og}: {seq}')\n",
        "      print('Skipping....')\n",
        "\n",
        "\n",
        "files.download(outstring)\n",
        "print(f'\\nPredicted properties for {c} out of {len(protein_objs)} sequences!')\n"
      ],
      "metadata": {
        "cellView": "form",
        "id": "6a0lazRLDU7c"
      },
      "execution_count": null,
      "outputs": []
    },
    {
      "cell_type": "markdown",
      "source": [
        "# How to use this notebook!\n",
        "Colab notebooks execute code in your browser using Google's computing infrastructure. The notebook is made up of cells. Each cell executes a different bit of code. To use this notebook, you need to\n",
        "\n",
        "1. Execute the setup cell (Step 1). This should take ~30 seconds to run but ONLY needs to be run once. Running a cell involves pressing the right-facing arrow on its left (i.e. a \"play\" button).\n",
        "\n",
        "2. Then run the second cell, which takes in a FASTA file or a single sequence. This sequence (or sequences) will then be analyzed and a CSV file is downloaded with the various sequence properties.  You're done!\n",
        "\n",
        "#### What is FASTA file?!\n",
        "FASTA files are just text files with the following format:\n",
        "\n",
        "```\n",
        ">identifier 1\n",
        "KNVPPGS......VTKEGWVATKKAR\n",
        "\n",
        "\n",
        ">identifier 2\n",
        "GQLKATV......ERRSRRSLPTSA\n",
        "\n",
        ">identifier 3\n",
        "MAWFSKK......PRIAVDTEPQAE\n",
        "\n",
        "...\n",
        "\n",
        ">identifier n\n",
        "VPAASAS......GKKRKGAAALLA\n",
        "\n",
        "```\n",
        "\n",
        "Where the `...` just indicates sequence we're skipping over in this example.\n",
        "\n",
        "\n",
        "Note that a text file should have the extension `.txt`. In MacOS, you can create a text file using the program TextEdit. To do this, create a new document, and then select Format -> Make plain text. You can now create a file the follows the formatting described above, and in this way upload multiple sequence at once.\n",
        "\n",
        "\n",
        "## Changelog\n",
        "\n",
        "### V1 (2024-02-28)\n",
        "* Initial release\n",
        "\n",
        "### V1.1 (2024-08-02)\n",
        "* Added additional CIDER parameters\n",
        "* Added ability to paste sequence or use a FASTA file"
      ],
      "metadata": {
        "id": "fs3jA_IHLWNc"
      }
    }
  ]
}