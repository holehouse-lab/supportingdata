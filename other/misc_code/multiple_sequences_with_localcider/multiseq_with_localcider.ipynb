{
 "cells": [
  {
   "cell_type": "markdown",
   "id": "160aa829",
   "metadata": {},
   "source": [
    "## Working with multiple sequences in `localcider`\n",
    "###### Last updated 2022-09-18\n",
    "\n",
    "By default, localCIDER was not built as a FASTA parser. However, [protfasta](https://protfasta.readthedocs.io/en/latest/installation.html) was, and can be used alongside localCIDER to work with multiple sequences.\n",
    "\n",
    "### Installation\n",
    "Both localCIDER and protfasta can be installed using pip into your conda environment; e.g.\n",
    "\n",
    "    pip install localcider protfasta\n",
    "    \n",
    "Should just work out the box. \n",
    "\n",
    "Once installed, the code below shows an example of calculating the FCR for every sequence in a FASTA file\n",
    "\n",
    "### NB: upgrade required\n",
    "\n",
    "If you previously had protfasta installed you may need to upgrade to version 0.1.10 (released Sept. 2022)\n",
    "\n",
    "    pip install --upgrade protfasta\n",
    "    \n",
    "This provides support for the `convert-remove` keyword described below.    "
   ]
  },
  {
   "cell_type": "markdown",
   "id": "fd4efe9a",
   "metadata": {},
   "source": [
    "## Scenario 1: Standard situation\n",
    "The code below walks through how things will normally work if your FASTA file has only standard amino acids in the underlying proteins sequences"
   ]
  },
  {
   "cell_type": "code",
   "execution_count": 1,
   "id": "c3fa1424",
   "metadata": {},
   "outputs": [],
   "source": [
    "import protfasta\n",
    "from localcider.sequenceParameters import SequenceParameters"
   ]
  },
  {
   "cell_type": "code",
   "execution_count": 2,
   "id": "c1d5f4b4",
   "metadata": {},
   "outputs": [
    {
     "name": "stdout",
     "output_type": "stream",
     "text": [
      "This list now has the FCR for each sequence in the FASTA file:\n",
      "\n",
      "[0.32678132678132676, 0.4004282655246253, 0.29310344827586204, 0.297029702970297, 0.2599118942731278, 0.2396694214876033, 0.14437367303609341, 0.18316831683168316, 0.16101694915254236, 0.07207207207207207, 0.05426356589147287, 0.05063291139240506, 0.3815028901734104, 0.3978494623655914, 0.43333333333333335]\n"
     ]
    }
   ],
   "source": [
    "seqs = protfasta.read_fasta('demo.fasta')\n",
    "\n",
    "all_FCRs = []\n",
    "for idx in seqs:\n",
    "    s = seqs[idx]\n",
    "    local_FCR = SequenceParameters(s).get_FCR()\n",
    "    \n",
    "    all_FCRs.append(local_FCR)\n",
    "\n",
    "print('This list now has the FCR for each sequence in the FASTA file:\\n')    \n",
    "print(all_FCRs)    "
   ]
  },
  {
   "cell_type": "markdown",
   "id": "f0663eec",
   "metadata": {},
   "source": [
    "### Scenario 1: If non-standard amino acids are found in the sequence\n",
    "Sometimes your FASTA file may have one or more non-standard amino acids that will cause localCIDER to crash. protfasta enables you to handle these types of residues in a few ways using the `invalid_sequence` argument.\n",
    "\n",
    "Options available are:\n",
    "\n",
    "* `ignore` - invalid sequences are completely ignored (this may allow sequences that will cause localCIDER to throw and Exception)\n",
    "* `fail` - invalid sequence cause parsing to fail and throw an exception (this is the default)\n",
    "* `remove` - invalid sequences are removed\n",
    "* `convert` - invalid sequences are converted using the standard non-standard to standard amino acid convention:\n",
    "    * B -> N\n",
    "    * U -> C\n",
    "    * X -> G\n",
    "    * Z -> Q\n",
    "    * \" \" -> empty string \n",
    "    * \\* -> empty string\n",
    "    * \\- -> empty string\n",
    "    \n",
    "    Note that if non-standard amino acids are still found even after converting, this throws an exception.\n",
    "    \n",
    "* `convert-ignore` - invalid sequences are converted to valid sequences and any remaining invalid residues are ignored\n",
    "* `convert-remove` - invalid sequences are converted to valid sequences where possible, and any remaining sequences with invalid residues are removed\n",
    "\n",
    "Note that only `remove` and `convert-remove` guarentee that you'll only have valid amino acids in the sequences, but may of course leads to sequences being removed from the input dataset."
   ]
  },
  {
   "cell_type": "code",
   "execution_count": 3,
   "id": "ff2706df",
   "metadata": {},
   "outputs": [
    {
     "name": "stdout",
     "output_type": "stream",
     "text": [
      "This list now has the FCR for each sequence in the FASTA file:\n",
      "\n",
      "[0.32678132678132676, 0.4004282655246253, 0.29310344827586204, 0.297029702970297, 0.2599118942731278, 0.2396694214876033, 0.14437367303609341, 0.18316831683168316, 0.16101694915254236, 0.07207207207207207, 0.05426356589147287, 0.05063291139240506, 0.3815028901734104, 0.3978494623655914, 0.43333333333333335]\n"
     ]
    }
   ],
   "source": [
    "seqs = protfasta.read_fasta('demo.fasta', invalid_sequence_action='convert-remove')\n",
    "\n",
    "all_FCRs = []\n",
    "for idx in seqs:\n",
    "    s = seqs[idx]\n",
    "    local_FCR = SequenceParameters(s).get_FCR()\n",
    "    \n",
    "    all_FCRs.append(local_FCR)\n",
    "\n",
    "print('This list now has the FCR for each sequence in the FASTA file:\\n')    \n",
    "print(all_FCRs)    "
   ]
  },
  {
   "cell_type": "markdown",
   "id": "5ba5060f",
   "metadata": {},
   "source": [
    "### Scenario 2: Non-unique FASTA headers\n",
    "In general FASTA headers within a file are unique, although this is not actually a requirement of the FASTA specification. This means you COULD have a FASTA file with mulitiple sequences with the same header. If this is the case, you need to use the `expect_unique_header=False` and  `return_list=True` settings which means the output from `read_fasta()` is now a list, not a dictionary, where the list elements are the FASTA header and the sequence."
   ]
  },
  {
   "cell_type": "code",
   "execution_count": 8,
   "id": "9b616a58",
   "metadata": {},
   "outputs": [
    {
     "name": "stdout",
     "output_type": "stream",
     "text": [
      "This list now has the FCR for each sequence in the FASTA file:\n",
      "\n",
      "[0.32678132678132676, 0.4004282655246253, 0.29310344827586204, 0.297029702970297, 0.2599118942731278, 0.2396694214876033, 0.14437367303609341, 0.18316831683168316, 0.16101694915254236, 0.07207207207207207, 0.05426356589147287, 0.05063291139240506, 0.3815028901734104, 0.3978494623655914, 0.43333333333333335]\n"
     ]
    }
   ],
   "source": [
    "seqs = protfasta.read_fasta('demo.fasta', expect_unique_header=False, return_list=True)\n",
    "\n",
    "all_FCRs = []\n",
    "\n",
    "#  note now we're iterating through a LIST not a dictionary \n",
    "for entry in seqs:\n",
    "    \n",
    "    # each entry has \n",
    "    # entry[0] = FASTA header\n",
    "    # entry[1] = sequence\n",
    "    s = entry[1]\n",
    "    local_FCR = SequenceParameters(s).get_FCR()\n",
    "    \n",
    "    all_FCRs.append(local_FCR)\n",
    "\n",
    "print('This list now has the FCR for each sequence in the FASTA file:\\n')    \n",
    "print(all_FCRs)    "
   ]
  },
  {
   "cell_type": "code",
   "execution_count": null,
   "id": "cf7af5ac",
   "metadata": {},
   "outputs": [],
   "source": []
  }
 ],
 "metadata": {
  "kernelspec": {
   "display_name": "Python 3 (ipykernel)",
   "language": "python",
   "name": "python3"
  },
  "language_info": {
   "codemirror_mode": {
    "name": "ipython",
    "version": 3
   },
   "file_extension": ".py",
   "mimetype": "text/x-python",
   "name": "python",
   "nbconvert_exporter": "python",
   "pygments_lexer": "ipython3",
   "version": "3.8.12"
  }
 },
 "nbformat": 4,
 "nbformat_minor": 5
}
