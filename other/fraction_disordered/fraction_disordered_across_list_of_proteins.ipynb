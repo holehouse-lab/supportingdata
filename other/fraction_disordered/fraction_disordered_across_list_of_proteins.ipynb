{
  "nbformat": 4,
  "nbformat_minor": 0,
  "metadata": {
    "colab": {
      "provenance": [],
      "authorship_tag": "ABX9TyODz5hhl6fLBcAaNjLOUxj4",
      "include_colab_link": true
    },
    "kernelspec": {
      "name": "python3",
      "display_name": "Python 3"
    },
    "language_info": {
      "name": "python"
    }
  },
  "cells": [
    {
      "cell_type": "markdown",
      "metadata": {
        "id": "view-in-github",
        "colab_type": "text"
      },
      "source": [
        "<a href=\"https://colab.research.google.com/github/holehouse-lab/supportingdata/blob/master/other/fraction_disordered/fraction_disordered_across_list_of_proteins.ipynb\" target=\"_parent\"><img src=\"https://colab.research.google.com/assets/colab-badge.svg\" alt=\"Open In Colab\"/></a>"
      ]
    },
    {
      "cell_type": "markdown",
      "source": [
        "## About\n",
        "This notebook will let you compute what fraction of proteins have disordered regions using a FASTA file of full-length protein sequences as input.\n",
        "\n",
        "NOTE: The setup cell (Step 1) takes ~1-2 minutes to run (sorry!) but then the actual disorder prediction will take very very few seconds.\n",
        "\n",
        "## OUTPUT\n",
        "This notebook JUST prints out the fraction of proteins with disordered regions (and the associated count), as well as average, min, and max fraction disorder and number of disordered residues. More sophisticated analysis probably necessitates some more involved informatics!\n",
        "\n",
        "\n",
        "## Changelog\n",
        "\n",
        "* Version 1.0 (July 29th 2024) - initial version"
      ],
      "metadata": {
        "id": "cXV7qsJ9VLgW"
      }
    },
    {
      "cell_type": "code",
      "execution_count": null,
      "metadata": {
        "cellView": "form",
        "id": "LrwzAOXRTW7F"
      },
      "outputs": [],
      "source": [
        "#@title Step 1: Download metapredict\n",
        "#@markdown Press play to download metapredict.\n",
        "import time\n",
        "start = time.time()\n",
        "# install then import metapredict\n",
        "!pip install metapredict --quiet\n",
        "\n",
        "# included for good measure but metapredict should have this\n",
        "# as a dependencies!\n",
        "!pip install protfasta --quiet\n",
        "import metapredict as meta\n",
        "# get stuff for getting files and what not\n",
        "from google.colab import files\n",
        "\n",
        "# import other goodies\n",
        "import re\n",
        "import os\n",
        "from random import randint\n",
        "import protfasta\n",
        "from datetime import datetime\n",
        "import time\n",
        "import numpy as np\n",
        "end = time.time()\n",
        "print(f'Packages installed and ready to go (setup took {np.round(end-start,2)} seconds)!')\n",
        "\n"
      ]
    },
    {
      "cell_type": "code",
      "source": [
        "#@title Step 2: Choose a `.fasta` file to make predictions.\n",
        "#@markdown Press the play button then choose the .fasta file containing sequences you'd like to predict disorder for. The outcome of the analysis will be printed below.\n",
        "\n",
        "start = time.time()\n",
        "\n",
        "# upload and save\n",
        "uploaded = files.upload()\n",
        "print('Uploading sequences...')\n",
        "\n",
        "# get filename\n",
        "try:\n",
        "  # this ENSURES we overwrite an existing\n",
        "  # file if it was there before...\n",
        "  fn = list(uploaded.keys())[0]\n",
        "  with open(fn,'wb') as fh:\n",
        "    fh.write(uploaded[fn])\n",
        "except Exception:\n",
        "  raise Exception('No file uploaded')\n",
        "\n",
        "\n",
        "# read sequences\n",
        "\n",
        "try:\n",
        "  input_seqs = protfasta.read_fasta(fn, expect_unique_header=False, return_list=True, invalid_sequence_action='convert' )\n",
        "except Exception as e:\n",
        "  print('ERROR: An exception occured when parsing your FASTA file.\\n\\nSorry about that! Please make sure you FASTA file is an appropriately formatted\\nFASTA file, the error message below may help but if not please report this\\nerror on the metapredict issue tracker:\\n\\nhttps://github.com/idptools/metapredict/issues ')\n",
        "  raise Exception(e)\n",
        "\n",
        "print(f'Read in FASTA file and found {len(input_seqs)} sequences')\n",
        "end = time.time()\n",
        "\n",
        "# if we get here assume we've read things in OK...\n",
        "start = time.time()\n",
        "# get datetime string for output file - this helps avoid overwriting\n",
        "# and tells people when they generated the file!\n",
        "now = datetime.now()\n",
        "now_string = now.strftime(\"%d_%m_%Y_%H_%M_%S\")\n",
        "\n",
        "disorder_out = {}\n",
        "\n",
        "# note - we use idx here because we don't require FASTA headers to be\n",
        "# unique.\n",
        "clean_seqs = {}\n",
        "idx2name = {}\n",
        "\n",
        "# build idx-2-seq dictionary\n",
        "for idx, s in enumerate(input_seqs):\n",
        "  name = s[0]\n",
        "  seq = s[1]\n",
        "\n",
        "  # remove commas so we can generate a bona fide CSV after\n",
        "  name = name.replace(',',';')\n",
        "\n",
        "  idx2name[idx] = name\n",
        "  clean_seqs[idx] = seq\n",
        "\n",
        "# clean seqs is a unique dictionary of index-to-sequence mapping, even if\n",
        "# sequences are not unique OR the names associated with the sequences\n",
        "# are not unique\n",
        "batch_out = meta.predict_disorder_batch(clean_seqs,return_domains=True)\n",
        "\n",
        "c = 0\n",
        "disorder_per_protein = []\n",
        "disorder_res_per_protein = []\n",
        "for d in batch_out:\n",
        "    p = batch_out[d]\n",
        "    length_disordered = np.sum([len(x) for x in p.disordered_domains])\n",
        "    fraction_disordered = length_disordered/len(p.sequence)\n",
        "\n",
        "    if fraction_disordered > 0:\n",
        "        c = c +1\n",
        "    disorder_per_protein.append(fraction_disordered)\n",
        "    disorder_res_per_protein.append(length_disordered)\n",
        "print('')\n",
        "print('OUTPUT:')\n",
        "print(f\"Fraction of proteins with disordered regions {c/len(batch_out):.3f} ({c}/{len(batch_out)})\")\n",
        "\n",
        "print('')\n",
        "print(f\"Mean fraction disordered across all proteins {np.mean(disorder_per_protein):.3f}\")\n",
        "print(f\"Median fraction disordered across all proteins {np.median(disorder_per_protein):.3f}\")\n",
        "print(f\"Max fraction disordered across all proteins {np.max(disorder_per_protein):.3f}\")\n",
        "print(f\"Min fraction disordered across all proteins {np.min(disorder_per_protein):.3f}\")\n",
        "\n",
        "print('')\n",
        "print(f\"Mean number of disordered residues across all proteins {int(np.mean(disorder_res_per_protein))}\")\n",
        "print(f\"Median number of disordered residues across all proteins {int(np.median(disorder_res_per_protein))}\")\n",
        "print(f\"Max number of disordered residues across all proteins {int(np.max(disorder_res_per_protein))}\")\n",
        "print(f\"Min number of disordered residues across all proteins {int(np.min(disorder_res_per_protein))}\")\n",
        "\n",
        "\n"
      ],
      "metadata": {
        "cellView": "form",
        "id": "9GcA8w7ZTa1R"
      },
      "execution_count": null,
      "outputs": []
    }
  ]
}