{
 "cells": [
  {
   "cell_type": "markdown",
   "id": "68be50eb-ba81-45db-b1f7-d602c4f92807",
   "metadata": {},
   "source": [
    "## Code for separating & analyzing contact frequency of U30 on SERF\n",
    "This script takes the following input files:\n",
    "- 'full_traj/full.pdb'\n",
    "- 'full_traj/full.xtc'\n",
    "- 'ana_batch/bound_frame_list.txt'\n",
    "- 'ana_batch/unbound_frame_list.txt'\n",
    "\n",
    "NB: trajectory and topology files should be pre-concatentated to contain all replicates; must also be processed for pbc correction."
   ]
  },
  {
   "cell_type": "code",
   "execution_count": 1,
   "id": "17dc538c-301a-45d1-aad3-1be6aedc4d84",
   "metadata": {},
   "outputs": [],
   "source": [
    "## import packages ##\n",
    "\n",
    "import numpy as np\n",
    "import matplotlib.pyplot as plt\n",
    "import seaborn as sns\n",
    "import mdtraj as md\n",
    "import pandas as pd\n",
    "import itertools"
   ]
  },
  {
   "cell_type": "code",
   "execution_count": 2,
   "id": "cac422b3-be0f-49f6-9a43-0608b404658b",
   "metadata": {},
   "outputs": [
    {
     "name": "stdout",
     "output_type": "stream",
     "text": [
      "Loading trajectory...\n",
      "Trajectory loaded!\n",
      "How many atoms?   97\n",
      "How many residues?    97\n",
      "How many chains?     2\n"
     ]
    }
   ],
   "source": [
    "## load trajectory w/ mdtraj ##\n",
    "print('Loading trajectory...')\n",
    "\n",
    "traj = md.load('trajectory_processing_example/full_traj/full.xtc', top = 'trajectory_processing_example/full_traj/full.pdb')\n",
    "\n",
    "print('Trajectory loaded!')\n",
    "\n",
    "## print this info for quality control\n",
    "print('How many atoms?   %s' % traj.n_atoms)\n",
    "print('How many residues?    %s' % traj.n_residues)\n",
    "print('How many chains?     %s' % traj.n_chains)"
   ]
  },
  {
   "cell_type": "code",
   "execution_count": 4,
   "id": "1e53fe81-bdf4-476e-b568-b02ad6ea5656",
   "metadata": {},
   "outputs": [],
   "source": [
    "## load in lists of bound and unbound frames\n",
    "bound_list = np.loadtxt('trajectory_processing_example/ana_batch/bound_frame_list.txt')\n",
    "unbound_list = np.loadtxt('trajectory_processing_example/ana_batch/unbound_frame_list.txt')\n",
    "\n",
    "bound_list_int = [int(x) for x in bound_list]\n",
    "unbound_list_int = [int(y) for y in unbound_list]"
   ]
  },
  {
   "cell_type": "code",
   "execution_count": 5,
   "id": "692bb85f-4f79-40a3-a612-5507d4bb6658",
   "metadata": {},
   "outputs": [],
   "source": [
    "## slice trajectory into bound and unbound frames\n",
    "\n",
    "bound_traj = traj.slice(bound_list_int)\n",
    "unbound_traj = traj.slice(unbound_list_int)"
   ]
  },
  {
   "cell_type": "code",
   "execution_count": 6,
   "id": "93b40d45-2bde-402f-81e6-1dc75a53d970",
   "metadata": {},
   "outputs": [],
   "source": [
    "## define protein and rna molecules in order to analyze them separately\n",
    "\n",
    "protein = traj.topology.select(\"chainid == 0\")\n",
    "rna = traj.topology.select(\"chainid == 1\")\n",
    "\n",
    "protein_slice = traj.atom_slice(protein)\n",
    "\n",
    "bound_protein_traj = bound_traj.atom_slice(protein)\n",
    "unbound_protein_traj = unbound_traj.atom_slice(protein)"
   ]
  },
  {
   "cell_type": "code",
   "execution_count": 20,
   "id": "333b2337-b0f2-4d04-8767-57105440c9fd",
   "metadata": {},
   "outputs": [],
   "source": [
    "## compute Rgs for bound and unbound frames\n",
    "# factor of 10 correction to convert nm > Angstroms\n",
    "\n",
    "boundRgs = md.compute_rg(bound_protein_traj) * 10\n",
    "unboundRgs = md.compute_rg(unbound_protein_traj) * 10\n",
    "\n",
    "## UNCOMMENT to write out lists of bound Rgs for downstream analysis\n",
    "#np.savetxt('SERF+U30_bound_Rgs.txt')"
   ]
  },
  {
   "cell_type": "markdown",
   "id": "05903594-2778-4aa7-b46f-4fe1ac1c2ef3",
   "metadata": {},
   "source": [
    "## intermolecular contacts analysis"
   ]
  },
  {
   "cell_type": "code",
   "execution_count": 14,
   "id": "383b3f35-7144-4206-9b6a-1b7073126371",
   "metadata": {},
   "outputs": [],
   "source": [
    "## setup for contact map for BOUND TRAJ ONLY!!! improves signal-noise ## \n",
    "\n",
    "# get protein and rna residue numbers\n",
    "rna_res = np.arange(len(protein)+1, traj.n_residues)\n",
    "protein_res = range(0, len(protein))\n",
    "\n",
    "# generate list of pairs of residues for distance computation\n",
    "pairs = list(itertools.product(rna_res, protein_res))\n",
    "\n",
    "# perform distance calculation\n",
    "dist, pair = md.compute_contacts(bound_traj, pairs, scheme = 'ca')\n",
    "\n",
    "distdf = pd.DataFrame(dist)\n",
    "pairdf = pd.DataFrame(pair)"
   ]
  },
  {
   "cell_type": "code",
   "execution_count": 15,
   "id": "c4ed244d-d583-43c1-894e-87f30150bb71",
   "metadata": {},
   "outputs": [],
   "source": [
    "## using 15 Angstrom cutoff, define per frame and per residue whether there exists a contact (1 or 0)\n",
    "# this will take a hot minute to run\n",
    "\n",
    "contact_bin = np.empty([len(dist), len(pair)]).astype(int)\n",
    "\n",
    "for i in range(0, len(dist)):\n",
    "    for j in range(0, len(pair)):\n",
    "        if dist[i][j] <= 1.5:\n",
    "            contact_bin[i][j] = 1\n",
    "        else:\n",
    "            contact_bin[i][j] = 0\n",
    "\n",
    "cbin_df = pd.DataFrame(contact_bin)\n"
   ]
  },
  {
   "cell_type": "code",
   "execution_count": 16,
   "id": "d155c14a-8518-463a-aa61-ede21bcfe950",
   "metadata": {},
   "outputs": [],
   "source": [
    "## now sum the total for each pair over the 1000 frames ##\n",
    "# \"1\" means a contact (within 1.5 nm); \"0\" means no contact \n",
    "# therefore the sum of the values over all frames is the contact frequency \n",
    "\n",
    "contact_sum = np.empty(len(pairs)).astype(int)\n",
    "\n",
    "for k in range(0, len(pair)):\n",
    "    contact_sum[k] = sum(contact_bin[:,k])\n",
    "    \n",
    "# normalize contact frequency from 0.0 to 1.0 for each residue pair\n",
    "\n",
    "contact_freq = np.empty(len(pair)).astype(float)\n",
    "                        \n",
    "for m in range(0, len(pair)):\n",
    "    contact_freq[m] = contact_sum[m] / len(dist)"
   ]
  },
  {
   "cell_type": "code",
   "execution_count": 17,
   "id": "0817e6e2-df4a-47cc-b4fe-7498cc008c4a",
   "metadata": {},
   "outputs": [],
   "source": [
    "## do some formatting and write out contact frequency file ##\n",
    "\n",
    "contact_toplot_df = pd.DataFrame(np.vstack((pair.T, contact_freq)).astype(float).T)\n",
    "contact_df_clean = contact_toplot_df.reset_index().pivot(index = [0], columns = [1], values = [2])\n",
    "\n",
    "df_flat = contact_df_clean.mean(axis=0)\n",
    "\n",
    "data_out = np.array([protein_res, df_flat]).T\n",
    "\n",
    "## UNCOMMENT below to save contact frequency data as text file\n",
    "#np.savetxt('serf-u30_contact_frequency.txt', data_out)"
   ]
  },
  {
   "cell_type": "code",
   "execution_count": null,
   "id": "16a23abd-7e26-46d0-a3f2-a2ae090fe8f3",
   "metadata": {},
   "outputs": [],
   "source": []
  }
 ],
 "metadata": {
  "kernelspec": {
   "display_name": "Python 3 (ipykernel)",
   "language": "python",
   "name": "python3"
  },
  "language_info": {
   "codemirror_mode": {
    "name": "ipython",
    "version": 3
   },
   "file_extension": ".py",
   "mimetype": "text/x-python",
   "name": "python",
   "nbconvert_exporter": "python",
   "pygments_lexer": "ipython3",
   "version": "3.7.13"
  }
 },
 "nbformat": 4,
 "nbformat_minor": 5
}
