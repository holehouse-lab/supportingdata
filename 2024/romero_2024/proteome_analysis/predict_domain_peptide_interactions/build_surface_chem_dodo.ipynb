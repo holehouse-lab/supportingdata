{
 "cells": [
  {
   "cell_type": "markdown",
   "id": "70725aca-7459-4f04-9208-103afad8874a",
   "metadata": {},
   "source": [
    "# ABOUT\n",
    "This file builds a SHEPHARD file with attractive/repulsive interaction attributes for each DODO V2 globular domain"
   ]
  },
  {
   "cell_type": "code",
   "execution_count": 3,
   "id": "5befad46-082c-4646-8219-d8abb0261127",
   "metadata": {},
   "outputs": [],
   "source": [
    "import numpy as np\n",
    "import matplotlib\n",
    "import sys\n",
    "import os\n",
    "\n",
    "\n",
    "import matplotlib.pyplot as plt\n",
    "from matplotlib.pyplot import figure\n",
    "\t\n",
    "# Set such that PDF fonts export in a manner that they\n",
    "# are editable in illustrator/affinity\n",
    "matplotlib.rcParams['pdf.fonttype'] = 42\n",
    "matplotlib.rcParams['ps.fonttype'] = 42\n",
    "\n",
    "# set to define axes linewidths\n",
    "matplotlib.rcParams['axes.linewidth'] = 0.5\n",
    "\n",
    "# this defines some prefactors so inline figures look nice\n",
    "# on a retina macbook. These can be commented out without any\n",
    "# issue and are solely asthetic.\n",
    "%matplotlib inline\n",
    "%config InlineBackend.figure_format='retina'\n",
    "\n",
    "# UPDATE 2020-12-31 (my preferred font is Avenir...)\n",
    "font = {'family' : 'arial',\n",
    "    \t'weight' : 'normal'}\n",
    "\n",
    "matplotlib.rc('font', **font)\n",
    "\n",
    "from tqdm import tqdm\n",
    "import pickle\n",
    "from sparrow import Protein\n",
    "import protfasta\n",
    "\n",
    "from scipy.cluster.hierarchy import dendrogram, linkage, leaves_list,fcluster\n",
    "import matplotlib.patches as mpatches\n",
    "\n",
    "import itertools\n"
   ]
  },
  {
   "cell_type": "code",
   "execution_count": 4,
   "id": "9889021f-d2e8-4f41-9813-53bd2634692e",
   "metadata": {},
   "outputs": [],
   "source": [
    "# lets you import from the code directory here\n",
    "local_code_path = os.path.abspath(os.path.join(os.getcwd(), '..', 'code'))\n",
    "\n",
    "if local_code_path not in sys.path:\n",
    "    sys.path.append(local_code_path)"
   ]
  },
  {
   "cell_type": "code",
   "execution_count": 5,
   "id": "6cf7450f-726e-46df-9ba6-ee8055450621",
   "metadata": {},
   "outputs": [
    {
     "name": "stderr",
     "output_type": "stream",
     "text": [
      "/Users/alex/Dropbox/WASHU/Holehouse/tools/finches/finches/finches/forcefields/calvados.py:235: FutureWarning: Setting an item of incompatible dtype is deprecated and will raise an error in a future version of pandas. Value '0.038286503882254706' has dtype incompatible with int64, please explicitly cast to a compatible dtype first.\n",
      "  r.loc['H','q'] = 1. / ( 1 + 10**(self.pH-6) )\n"
     ]
    }
   ],
   "source": [
    "import pandas as pd\n",
    "import os\n",
    "from finches.utils import folded_domain_utils\n",
    "from finches import CALVADOS_frontend\n",
    "from domain_def import Domain\n",
    "\n",
    "\n",
    "cf = CALVADOS_frontend()\n",
    "from sparrow.data.amino_acids import VALID_AMINO_ACIDS\n",
    "import protfasta\n",
    "\n",
    "from shephard import Proteome\n",
    "from shephard.interfaces import si_proteins, si_domains"
   ]
  },
  {
   "cell_type": "code",
   "execution_count": 6,
   "id": "1712b6ce-fe9c-40c8-a303-f73eef45aaf5",
   "metadata": {},
   "outputs": [],
   "source": [
    "soluble_proteins = Proteome()\n",
    "si_proteins.add_proteins_from_file(soluble_proteins,'../data/experimental_data/shprd_proteome_soluble_only_v2.tsv')\n",
    "valid_uids = set(soluble_proteins.proteins)"
   ]
  },
  {
   "cell_type": "code",
   "execution_count": 8,
   "id": "011a2c53-bf55-4bd6-8764-037c3ed52964",
   "metadata": {},
   "outputs": [],
   "source": [
    "fingerprints = protfasta.read_fasta('../data/fingerprint_calvados.fasta')\n",
    "tmp = {}\n",
    "for k in fingerprints:\n",
    "    seq = fingerprints[k]\n",
    "    n = seq[0:2]\n",
    "    tmp[n]  =seq\n",
    "fingerprints = tmp"
   ]
  },
  {
   "cell_type": "code",
   "execution_count": 9,
   "id": "47a1d65d-e333-4ce3-9e4d-48af156d5a20",
   "metadata": {},
   "outputs": [
    {
     "name": "stderr",
     "output_type": "stream",
     "text": [
      "0it [00:00, ?it/s]"
     ]
    },
    {
     "name": "stdout",
     "output_type": "stream",
     "text": [
      "AF-P36125-F1-model_v4_44_270.pdb\n"
     ]
    },
    {
     "name": "stderr",
     "output_type": "stream",
     "text": [
      "1it [00:01,  1.26s/it]"
     ]
    },
    {
     "name": "stdout",
     "output_type": "stream",
     "text": [
      "AF-P21192-F1-model_v4_594_679.pdb\n"
     ]
    },
    {
     "name": "stderr",
     "output_type": "stream",
     "text": [
      "2it [00:01,  1.16it/s]"
     ]
    },
    {
     "name": "stdout",
     "output_type": "stream",
     "text": [
      "AF-P38883-F1-model_v4_11_477.pdb\n"
     ]
    },
    {
     "name": "stderr",
     "output_type": "stream",
     "text": [
      "2it [00:05,  2.65s/it]"
     ]
    },
    {
     "name": "stdout",
     "output_type": "stream",
     "text": [
      "AF-P38883-F1-model_v4_506_603.pdb\n"
     ]
    },
    {
     "name": "stderr",
     "output_type": "stream",
     "text": [
      "\n",
      "\n",
      "KeyboardInterrupt\n",
      "\n"
     ]
    }
   ],
   "source": [
    "uid2domains = {}\n",
    "uid2scores = {}\n",
    "\n",
    "surface_threshold = 0.4\n",
    "input_root = '../data/domains_dodo'\n",
    "\n",
    "\n",
    "\n",
    "for root, dirs, files in os.walk(input_root):\n",
    "\n",
    "    # NO IDEA why this is needed by walk seems to be broken..?\n",
    "    if len(dirs) ==0:\n",
    "        continue\n",
    "\n",
    "    # cycle through each directory\n",
    "    for i, tl_dir in tqdm(enumerate(dirs)):\n",
    "\n",
    "        # get files in teach tol level directroy\n",
    "        for root, dirs, files in os.walk(f'{input_root}/{tl_dir}/'):\n",
    "\n",
    "            # cycle through each file in each directory\n",
    "            for file in files:\n",
    "                print(file)\n",
    "                full_name = f\"{input_root}/{tl_dir}/{file}\"\n",
    "                uid = file.split('-')[1]\n",
    "\n",
    "                # NB NB NB\n",
    "                # NB - CHANGE THE in HERE if we wanna do everything\n",
    "                if 1==1: # uid in missing_proteins:\n",
    "                    try:\n",
    "                        start = file.split('_')[2]\n",
    "                        end = file.split('_')[3].split('.')[0]\n",
    "                    except IndexError:\n",
    "                        print(f'Error on {file}')\n",
    "                        continue\n",
    "                    if uid not in uid2domains:\n",
    "                        uid2domains[uid] = []\n",
    "                        uid2scores[uid] = {}\n",
    "                    uid2domains[uid].append([start,end])\n",
    "    \n",
    "                    # build a finches folded domain\n",
    "                    x = folded_domain_utils.FoldeDomain(full_name, surface_thresh=surface_threshold)\n",
    "    \n",
    "                    domain_name = f\"{uid}_{start}_{end}\"\n",
    "                    uid2scores[uid][domain_name] = []\n",
    "    \n",
    "                    for f_k in fingerprints:\n",
    "                        f_seq = fingerprints[f_k]\n",
    "                        attractive = np.sum(x.calculate_attractive_surface_epsilon(f_seq, cf.IMC_object))\n",
    "                        repulsive = np.sum(x.calculate_repulsive_surface_epsilon(f_seq, cf.IMC_object))\n",
    "                        uid2scores[uid][domain_name].append([round(attractive,3), round(repulsive,3)])\n",
    "                    \n",
    "                    \n",
    "\n",
    "        \n",
    "with open('../data/shprd_files/shprd_dodo_v2_domains_0.4.tsv','w') as fh:\n",
    "    for uid in uid2domains:\n",
    "        for d in uid2domains[uid]:\n",
    "            domain_id = f\"{uid}_{d[0]}_{d[1]}\"\n",
    "\n",
    "            interaction_string = \"\"\n",
    "            for idx, f_k in enumerate(fingerprints):\n",
    "                tmp = uid2scores[uid][domain_id][idx]\n",
    "                interaction_string = interaction_string + f\"{f_k}_attractive:{tmp[0]}\\t{f_k}_repulsive:{tmp[1]}\\t\"\n",
    "            interaction_string = interaction_string.strip()\n",
    "            \n",
    "            fh.write(f\"{uid}\\t{d[0]}\\t{d[1]}\\tglobular_shprd\\t{interaction_string}\\n\")\n"
   ]
  },
  {
   "cell_type": "code",
   "execution_count": null,
   "id": "ed748a13-adee-4f8e-9dde-c0bf6bcdfb17",
   "metadata": {},
   "outputs": [],
   "source": []
  }
 ],
 "metadata": {
  "kernelspec": {
   "display_name": "Python 3 (ipykernel)",
   "language": "python",
   "name": "python3"
  },
  "language_info": {
   "codemirror_mode": {
    "name": "ipython",
    "version": 3
   },
   "file_extension": ".py",
   "mimetype": "text/x-python",
   "name": "python",
   "nbconvert_exporter": "python",
   "pygments_lexer": "ipython3",
   "version": "3.9.19"
  }
 },
 "nbformat": 4,
 "nbformat_minor": 5
}
