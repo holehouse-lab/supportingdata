{
 "cells": [
  {
   "cell_type": "markdown",
   "id": "70725aca-7459-4f04-9208-103afad8874a",
   "metadata": {},
   "source": [
    "# ABOUT\n",
    "This file builds a SHEPHARD file with attractive/repulsive interaction attributes for each CHAINSAW globular domain.\n",
    "\n",
    "NOTE - this analysis has been run and does not need to be re-run again. Takes a long time."
   ]
  },
  {
   "cell_type": "code",
   "execution_count": null,
   "id": "5befad46-082c-4646-8219-d8abb0261127",
   "metadata": {},
   "outputs": [],
   "source": [
    "import numpy as np\n",
    "import matplotlib\n",
    "import sys\n",
    "import os\n",
    "\n",
    "\n",
    "import matplotlib.pyplot as plt\n",
    "from matplotlib.pyplot import figure\n",
    "\t\n",
    "# Set such that PDF fonts export in a manner that they\n",
    "# are editable in illustrator/affinity\n",
    "matplotlib.rcParams['pdf.fonttype'] = 42\n",
    "matplotlib.rcParams['ps.fonttype'] = 42\n",
    "\n",
    "# set to define axes linewidths\n",
    "matplotlib.rcParams['axes.linewidth'] = 0.5\n",
    "\n",
    "# this defines some prefactors so inline figures look nice\n",
    "# on a retina macbook. These can be commented out without any\n",
    "# issue and are solely asthetic.\n",
    "%matplotlib inline\n",
    "%config InlineBackend.figure_format='retina'\n",
    "\n",
    "# UPDATE 2020-12-31 (my preferred font is Avenir...)\n",
    "font = {'family' : 'avenir',\n",
    "    \t'weight' : 'normal'}\n",
    "\n",
    "matplotlib.rc('font', **font)\n",
    "\n",
    "from tqdm import tqdm\n",
    "import pickle\n",
    "from sparrow import Protein\n",
    "import protfasta\n",
    "\n",
    "from scipy.cluster.hierarchy import dendrogram, linkage, leaves_list,fcluster\n",
    "import matplotlib.patches as mpatches\n",
    "\n",
    "import itertools\n"
   ]
  },
  {
   "cell_type": "code",
   "execution_count": null,
   "id": "2d02d7e5-dbaf-4743-980f-01d6472131ea",
   "metadata": {},
   "outputs": [],
   "source": [
    "# lets you import from the code directory here\n",
    "local_code_path = os.path.abspath(os.path.join(os.getcwd(), '..', 'code'))\n",
    "\n",
    "if local_code_path not in sys.path:\n",
    "    sys.path.append(local_code_path)"
   ]
  },
  {
   "cell_type": "code",
   "execution_count": null,
   "id": "6cf7450f-726e-46df-9ba6-ee8055450621",
   "metadata": {},
   "outputs": [],
   "source": [
    "import pandas as pd\n",
    "import os\n",
    "from finches.utils import folded_domain_utils\n",
    "from finches import CALVADOS_frontend\n",
    "from domain_def import Domain\n",
    "\n",
    "\n",
    "cf = CALVADOS_frontend()\n",
    "from sparrow.data.amino_acids import VALID_AMINO_ACIDS\n",
    "import protfasta"
   ]
  },
  {
   "cell_type": "code",
   "execution_count": null,
   "id": "011a2c53-bf55-4bd6-8764-037c3ed52964",
   "metadata": {},
   "outputs": [],
   "source": [
    "fingerprints = protfasta.read_fasta('../data/fingerprint_calvados.fasta')\n",
    "tmp = {}\n",
    "for k in fingerprints:\n",
    "    seq = fingerprints[k]\n",
    "    n = seq[0:2]\n",
    "    tmp[n]  =seq\n",
    "fingerprints = tmp"
   ]
  },
  {
   "cell_type": "code",
   "execution_count": null,
   "id": "f3d83519-db9b-41cd-aaf6-f45cd75ddb3e",
   "metadata": {},
   "outputs": [],
   "source": [
    "for root, dirs, files in os.walk('../data/domains_chainsaw/'):\n",
    "    if len(dirs) == 0:\n",
    "        continue"
   ]
  },
  {
   "cell_type": "code",
   "execution_count": null,
   "id": "47a1d65d-e333-4ce3-9e4d-48af156d5a20",
   "metadata": {},
   "outputs": [],
   "source": [
    "uid2domains = {}\n",
    "uid2scores = {}\n",
    "surface_threshold = 0.4\n",
    "input_root = '../data/domains_chainsaw/'\n",
    "for root, dirs, files in os.walk(input_root):\n",
    "    print(root)\n",
    "\n",
    "    # NO IDEA why this is needed by walk, seems to be broken..?\n",
    "    if len(dirs) ==0:\n",
    "        continue\n",
    "\n",
    "    # cycle through each directory\n",
    "    for i, tl_dir in tqdm(enumerate(dirs)):\n",
    "\n",
    "        # get files in teach tol level directroy\n",
    "        for root, dirs, files in os.walk(f'{input_root}/{tl_dir}/'):\n",
    "\n",
    "            # cycle through each file in each directory\n",
    "            for file in files:\n",
    "                print(file)\n",
    "                full_name = f\"{input_root}/{tl_dir}/{file}\"\n",
    "                uid = file.split('_')[0]\n",
    "                start = file.split('_')[1]\n",
    "                end = file.split('_')[2].split('.')[0]\n",
    "                if uid not in uid2domains:\n",
    "                    uid2domains[uid] = []\n",
    "                    uid2scores[uid] = {}\n",
    "                uid2domains[uid].append([start,end])\n",
    "\n",
    "                # build a finches folded domain\n",
    "                x = folded_domain_utils.FoldeDomain(full_name, surface_thresh=surface_threshold)\n",
    "\n",
    "                domain_name = f\"{uid}_{start}_{end}\"\n",
    "                uid2scores[uid][domain_name] = []\n",
    "\n",
    "                for f_k in fingerprints:\n",
    "                    f_seq = fingerprints[f_k]\n",
    "                    attractive = np.sum(x.calculate_attractive_surface_epsilon(f_seq, cf.IMC_object))\n",
    "                    repulsive = np.sum(x.calculate_repulsive_surface_epsilon(f_seq, cf.IMC_object))\n",
    "                    uid2scores[uid][domain_name].append([round(attractive,3), round(repulsive,3)])\n",
    "                    \n",
    "                    \n",
    "\n",
    "        \n",
    "with open(f'../data/shprd_files/shprd_chainsaw_domains_{str(surface_threshold)}.tsv','w') as fh:\n",
    "    for uid in uid2domains:\n",
    "        for d in uid2domains[uid]:\n",
    "            domain_id = f\"{uid}_{d[0]}_{d[1]}\"\n",
    "\n",
    "            interaction_string = \"\"\n",
    "            for idx, f_k in enumerate(fingerprints):\n",
    "                tmp = uid2scores[uid][domain_id][idx]\n",
    "                interaction_string = interaction_string + f\"{f_k}_attractive:{tmp[0]}\\t{f_k}_repulsive:{tmp[1]}\\t\"\n",
    "            interaction_string = interaction_string.strip()\n",
    "            \n",
    "            fh.write(f\"{uid}\\t{d[0]}\\t{d[1]}\\tglobular_chainsaw\\t{interaction_string}\\n\")\n"
   ]
  }
 ],
 "metadata": {
  "kernelspec": {
   "display_name": "Python 3 (ipykernel)",
   "language": "python",
   "name": "python3"
  },
  "language_info": {
   "codemirror_mode": {
    "name": "ipython",
    "version": 3
   },
   "file_extension": ".py",
   "mimetype": "text/x-python",
   "name": "python",
   "nbconvert_exporter": "python",
   "pygments_lexer": "ipython3",
   "version": "3.9.19"
  }
 },
 "nbformat": 4,
 "nbformat_minor": 5
}
