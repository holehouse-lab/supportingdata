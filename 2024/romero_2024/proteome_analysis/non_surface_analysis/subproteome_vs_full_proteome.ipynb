{
 "cells": [
  {
   "cell_type": "markdown",
   "id": "cdec611c-d232-4399-9f13-4ba54576f064",
   "metadata": {},
   "source": [
    "## Comparing subproteome vs. full proteome\n",
    "This notebook compares proteome-wide statistics for the subproteome where we have Ts/Tp data vs. all yeast proteins.\n"
   ]
  },
  {
   "cell_type": "code",
   "execution_count": 1,
   "id": "9be5ec11-26ec-44bb-9f14-1baf22bab909",
   "metadata": {},
   "outputs": [],
   "source": [
    "import numpy as np\n",
    "import matplotlib\n",
    "import os\n",
    "import sys\n",
    "\n",
    "import matplotlib.pyplot as plt\n",
    "from matplotlib.pyplot import figure\n",
    "\t\n",
    "# Set such that PDF fonts export in a manner that they\n",
    "# are editable in illustrator/affinity\n",
    "matplotlib.rcParams['pdf.fonttype'] = 42\n",
    "matplotlib.rcParams['ps.fonttype'] = 42\n",
    "\n",
    "# set to define axes linewidths\n",
    "matplotlib.rcParams['axes.linewidth'] = 0.5\n",
    "\n",
    "# this defines some prefactors so inline figures look nice\n",
    "# on a retina macbook. These can be commented out without any\n",
    "# issue and are solely asthetic.\n",
    "%matplotlib inline\n",
    "%config InlineBackend.figure_format='retina'\n",
    "\n",
    "# UPDATE 2020-12-31 (my preferred font is Avenir...)\n",
    "font = {'family' : 'arial',\n",
    "    \t'weight' : 'normal'}\n",
    "\n",
    "matplotlib.rc('font', **font)\n",
    "\n",
    "from shephard.apis.fasta import fasta_to_proteome\n",
    "from shephard import interfaces\n",
    "from shephard.tools import attribute_tools\n",
    "\n",
    "from sparrow import Protein\n",
    "\n",
    "from shephard import Proteome\n",
    "    "
   ]
  },
  {
   "cell_type": "code",
   "execution_count": 2,
   "id": "c00d98b4-13c0-4606-8414-804c9248c96e",
   "metadata": {},
   "outputs": [],
   "source": [
    "# build the subproteome - this is the proteome for the sequences where we have mass spec data; we then annotate with the SJF dataset\n",
    "subproteome = Proteome()\n",
    "interfaces.si_proteins.add_proteins_from_file(subproteome,'../data/experimental_data/shprd_proteome_soluble_only_v2.tsv')\n",
    "interfaces.si_protein_attributes.add_protein_attributes_from_file(subproteome, '../data/shprd_files/sjf_data/shprd_fried_yeast.tsv', safe=False)\n",
    "\n",
    "\n",
    "# build the full yeast proteome and again annotate with the SJF annotations\n",
    "full_yp = fasta_to_proteome('../data/UP000002311_559292_YEAST_v4_uniprot_id.fasta', use_header_as_unique_ID=True)\n",
    "interfaces.si_protein_attributes.add_protein_attributes_from_file(full_yp, '../data/shprd_files/sjf_data/shprd_fried_yeast.tsv', safe=False)\n"
   ]
  },
  {
   "cell_type": "code",
   "execution_count": 5,
   "id": "0abb520b-6e10-46e5-a3b5-985e2cc0cd01",
   "metadata": {},
   "outputs": [
    {
     "name": "stdout",
     "output_type": "stream",
     "text": [
      "Subproteome size: 3226\n",
      "Yeast proteome size: 6039\n"
     ]
    }
   ],
   "source": [
    "print(f\"Subproteome size: {len(subproteome)}\")\n",
    "print(f\"Yeast proteome size: {len(full_yp)}\")"
   ]
  },
  {
   "cell_type": "code",
   "execution_count": 3,
   "id": "1b0c4145-2888-41b3-a9df-ef115b1dd3ec",
   "metadata": {},
   "outputs": [],
   "source": [
    "def get_vals(local_proteome, attribute):\n",
    "    \"\"\"\n",
    "    Function which takes a Proteome object and the name of an attribute\n",
    "    that may be associated with that object and returns a list of those\n",
    "    attributes. \n",
    "\n",
    "    Practically, the code here cycles through each Protein in the Proteome\n",
    "    and asks (1) does \n",
    "    \n",
    "    \"\"\"\n",
    "    vals = []\n",
    "    for p in local_proteome:\n",
    "        if attribute in p.attributes:\n",
    "            try:\n",
    "                v = float(p.attribute(attribute))\n",
    "                if v > -1:\n",
    "                    vals.append(v)\n",
    "            except Exception:\n",
    "                pass\n",
    "    return vals\n",
    "\n",
    "def compute_values(local_proteome, fx):\n",
    "    vals = []\n",
    "    for p in local_proteome:\n",
    "        vals.append(fx(p.sequence))\n",
    "    return vals\n",
    "\n"
   ]
  },
  {
   "cell_type": "code",
   "execution_count": 149,
   "id": "60fb915a-6985-4796-9cac-796c54877b67",
   "metadata": {},
   "outputs": [],
   "source": [
    "def plot_violin(data_subproteome, data_yp, ylabel, ymin, ymax, logy=False):\n",
    "    # Create the violin plot\n",
    "    fig, ax = plt.subplots(figsize=(2, 2.5), dpi=200)\n",
    "    \n",
    "    vp = ax.violinplot([data_subproteome, data_yp], showmeans=False, showmedians=True)\n",
    "    \n",
    "    \n",
    "    colors = ['skyblue', 'lightcoral']  # one color for each dataset\n",
    "    \n",
    "    \n",
    "    # Set color for all violins\n",
    "    for body, color in zip(vp['bodies'], colors):\n",
    "        body.set_facecolor(color)\n",
    "        body.set_edgecolor('black')\n",
    "        body.set_alpha(1)\n",
    "        body.set_linewidth(1)\n",
    "    \n",
    "    \n",
    "    # Set color for means and medians\n",
    "    vp['cmedians'].set_color('black')\n",
    "    \n",
    "    # Optional: also style min/max lines\n",
    "    for part in ['cbars', 'cmins', 'cmaxes']:\n",
    "        if part in vp:\n",
    "            vp[part].set_color('black')\n",
    "            vp[part].set_linewidth(0.8)\n",
    "    \n",
    "    # Set the x-tick labels\n",
    "    plt.xticks([1, 2], ['Exp.', 'All'])\n",
    "    \n",
    "    # Add axis labels\n",
    "    plt.ylabel(ylabel)\n",
    "    plt.ylim([ymin, ymax])\n",
    "\n",
    "    if logy:\n",
    "        ax.set_yscale('log')\n",
    "    \n",
    "    plt.tight_layout()\n",
    "\n",
    "    outname = ylabel.replace(' ','_')\n",
    "    plt.savefig(f'outfigures/proteome_comparison/{outname}.pdf')\n",
    "    plt.close()\n",
    "    \n",
    "\n",
    "\n",
    "\n",
    "\n",
    "\n",
    "data_subproteome = get_vals(subproteome, 'Molecular_Weight')\n",
    "data_yp = get_vals(full_yp, 'Molecular_Weight')\n",
    "ylabel = 'Molecular weight'\n",
    "ymin=0\n",
    "ymax=310000\n",
    "\n",
    "plot_violin(data_subproteome, data_yp, ylabel, ymin, ymax)\n",
    "\n"
   ]
  },
  {
   "cell_type": "code",
   "execution_count": 150,
   "id": "e30be965-0906-4b3f-8b6d-fc269b1e025e",
   "metadata": {},
   "outputs": [],
   "source": [
    "data_subproteome = get_vals(subproteome, 'Isoelectric_Point')\n",
    "data_yp = get_vals(full_yp, 'Isoelectric_Point')\n",
    "ylabel = 'Isoelectric Point'\n",
    "ymin=2\n",
    "ymax=14\n",
    "\n",
    "plot_violin(data_subproteome, data_yp, ylabel, ymin, ymax)"
   ]
  },
  {
   "cell_type": "code",
   "execution_count": 151,
   "id": "8ae0eb82-c085-4b47-91f5-bbbe6d557f25",
   "metadata": {},
   "outputs": [
    {
     "data": {
      "text/plain": [
       "['Locus_Tag',\n",
       " 'Gene',\n",
       " 'SGD_ID',\n",
       " 'UniProt_ID',\n",
       " 'Length',\n",
       " 'Molecular_Weight',\n",
       " 'Isoelectric_Point',\n",
       " 'Median_Abundance',\n",
       " 'Cellular_Components',\n",
       " 'Complexes_SGD',\n",
       " 'Complexes_CYC2008',\n",
       " 'pSup_42C',\n",
       " 'delta_pSup_30C_42C',\n",
       " 'delta_pSup_42C_46C',\n",
       " 'E_Values',\n",
       " 'Fold_Regions',\n",
       " 'Architectures',\n",
       " 'X_Groups',\n",
       " 'T_Groups',\n",
       " 'F_Groups',\n",
       " 'Number_of_Domains',\n",
       " 'Percentage_ECOD_Annotated',\n",
       " 'Sequence',\n",
       " 'Percent_Disordered',\n",
       " 'Disordered_Ranges',\n",
       " 'Folded_Ranges',\n",
       " 'CCT_sites',\n",
       " 'Ssb_sites',\n",
       " 'SG_MayorLab',\n",
       " 'SG_ParkerLab',\n",
       " 'SG_BukauLab',\n",
       " 'SG_DrummondLab']"
      ]
     },
     "execution_count": 151,
     "metadata": {},
     "output_type": "execute_result"
    }
   ],
   "source": [
    "p.attributes"
   ]
  },
  {
   "cell_type": "code",
   "execution_count": 152,
   "id": "9ba03549-1c7d-40cc-a5d9-b76891fd34ce",
   "metadata": {},
   "outputs": [],
   "source": [
    "data_subproteome = get_vals(subproteome, 'Median_Abundance')\n",
    "data_yp = get_vals(full_yp, 'Median_Abundance')\n",
    "ylabel = 'Median Abundance'\n",
    "ymin=1\n",
    "ymax=1000000\n",
    "\n",
    "plot_violin(data_subproteome, data_yp, ylabel, ymin, ymax,logy=True)"
   ]
  },
  {
   "cell_type": "code",
   "execution_count": 153,
   "id": "6e98a052-4f54-4856-afef-ade749e93936",
   "metadata": {},
   "outputs": [],
   "source": [
    "data_subproteome = get_vals(subproteome, 'Percent_Disordered')\n",
    "data_yp = get_vals(full_yp, 'Percent_Disordered')\n",
    "ylabel = 'Percentage disorder'\n",
    "ymin=0\n",
    "ymax=100\n",
    "\n",
    "plot_violin(data_subproteome, data_yp, ylabel, ymin, ymax)"
   ]
  },
  {
   "cell_type": "code",
   "execution_count": 154,
   "id": "45ebf097-6ad7-420d-9546-2dc5f5666dac",
   "metadata": {},
   "outputs": [],
   "source": [
    "data_subproteome = get_vals(subproteome, 'Number_of_Domains')\n",
    "data_yp = get_vals(full_yp, 'Number_of_Domains')\n",
    "ylabel = 'Number of domains'\n",
    "ymin=0\n",
    "ymax=9\n",
    "\n",
    "plot_violin(data_subproteome, data_yp, ylabel, ymin, ymax)"
   ]
  },
  {
   "cell_type": "code",
   "execution_count": 155,
   "id": "221103df-4831-4afe-9046-e17102855fb8",
   "metadata": {},
   "outputs": [],
   "source": [
    "def fx(s):\n",
    "    return Protein(s).FCR\n",
    "data_subproteome = compute_values(subproteome, fx)\n",
    "data_yp = compute_values(full_yp, fx)\n",
    "ylabel = 'Fraction of charged residues (FCR)'\n",
    "ymin=0\n",
    "ymax=0.75\n",
    "\n",
    "plot_violin(data_subproteome, data_yp, ylabel, ymin, ymax)"
   ]
  },
  {
   "cell_type": "code",
   "execution_count": 156,
   "id": "eccb051f-a19a-4999-b5d8-12d25d990da5",
   "metadata": {},
   "outputs": [],
   "source": [
    "def fx(s):\n",
    "    return Protein(s).NCPR\n",
    "data_subproteome = compute_values(subproteome, fx)\n",
    "data_yp = compute_values(full_yp, fx)\n",
    "ylabel = 'Net charge per residues'\n",
    "ymin=-0.45\n",
    "ymax=0.75\n",
    "\n",
    "plot_violin(data_subproteome, data_yp, ylabel, ymin, ymax)"
   ]
  },
  {
   "cell_type": "code",
   "execution_count": 157,
   "id": "d1ab0f2a-fc6e-4251-b29f-9378b2ae1324",
   "metadata": {},
   "outputs": [],
   "source": [
    "def fx(s):\n",
    "    return Protein(s).hydrophobicity\n",
    "data_subproteome = compute_values(subproteome, fx)\n",
    "data_yp = compute_values(full_yp, fx)\n",
    "ylabel = 'Hydrophobicity'\n",
    "ymin=1.5\n",
    "ymax=7\n",
    "\n",
    "plot_violin(data_subproteome, data_yp, ylabel, ymin, ymax)"
   ]
  },
  {
   "cell_type": "code",
   "execution_count": 158,
   "id": "e6d1a23c-236d-4231-8bc3-84dc450aab39",
   "metadata": {},
   "outputs": [],
   "source": [
    "def fx(s):\n",
    "    return len(s)\n",
    "data_subproteome = compute_values(subproteome, fx)\n",
    "data_yp = compute_values(full_yp, fx)\n",
    "ylabel = 'Length'\n",
    "ymin=0\n",
    "ymax=3000\n",
    "\n",
    "plot_violin(data_subproteome, data_yp, ylabel, ymin, ymax)"
   ]
  },
  {
   "cell_type": "code",
   "execution_count": 159,
   "id": "dc7d55ab-60c6-4bf3-9046-2af06de845fc",
   "metadata": {},
   "outputs": [],
   "source": [
    "def fx(s):\n",
    "    return Protein(s).fraction_aromatic\n",
    "data_subproteome = compute_values(subproteome, fx)\n",
    "data_yp = compute_values(full_yp, fx)\n",
    "ylabel = 'Fraction aromatic residues'\n",
    "ymin=0\n",
    "ymax=0.4\n",
    "\n",
    "plot_violin(data_subproteome, data_yp, ylabel, ymin, ymax)"
   ]
  },
  {
   "cell_type": "code",
   "execution_count": 160,
   "id": "e502e401-8f7b-4836-a728-d874ec538388",
   "metadata": {},
   "outputs": [],
   "source": [
    "def fx(s):\n",
    "    return Protein(s).fraction_aliphatic\n",
    "data_subproteome = compute_values(subproteome, fx)\n",
    "data_yp = compute_values(full_yp, fx)\n",
    "ylabel = 'Fraction aliphatic residues'\n",
    "ymin=0\n",
    "ymax=0.7\n",
    "\n",
    "plot_violin(data_subproteome, data_yp, ylabel, ymin, ymax)"
   ]
  },
  {
   "cell_type": "code",
   "execution_count": 161,
   "id": "f0879a69-583c-47e0-b410-2e4086c42486",
   "metadata": {},
   "outputs": [],
   "source": [
    "def fx(s):\n",
    "    return Protein(s).fraction_polar\n",
    "data_subproteome = compute_values(subproteome, fx)\n",
    "data_yp = compute_values(full_yp, fx)\n",
    "ylabel = 'Fraction polar residues'\n",
    "ymin=0\n",
    "ymax=0.7\n",
    "\n",
    "plot_violin(data_subproteome, data_yp, ylabel, ymin, ymax)"
   ]
  },
  {
   "cell_type": "code",
   "execution_count": 162,
   "id": "29d06f1a-2241-4200-babf-1ef12815e331",
   "metadata": {},
   "outputs": [],
   "source": [
    "def fx(s):\n",
    "    return Protein(s).fraction_proline\n",
    "data_subproteome = compute_values(subproteome, fx)\n",
    "data_yp = compute_values(full_yp, fx)\n",
    "ylabel = 'Fraction polar residues'\n",
    "ymin=0\n",
    "ymax=0.3\n",
    "\n",
    "plot_violin(data_subproteome, data_yp, ylabel, ymin, ymax)"
   ]
  }
 ],
 "metadata": {
  "kernelspec": {
   "display_name": "Python 3 (ipykernel)",
   "language": "python",
   "name": "python3"
  },
  "language_info": {
   "codemirror_mode": {
    "name": "ipython",
    "version": 3
   },
   "file_extension": ".py",
   "mimetype": "text/x-python",
   "name": "python",
   "nbconvert_exporter": "python",
   "pygments_lexer": "ipython3",
   "version": "3.11.10"
  }
 },
 "nbformat": 4,
 "nbformat_minor": 5
}
