{
 "cells": [
  {
   "cell_type": "markdown",
   "id": "792e35b2-a1ed-4558-ac81-00f5252e5404",
   "metadata": {},
   "source": [
    "## About\n",
    "This notebook reads in a CSV version of the protein annotations based on SGD built by the [Fried lab](https://www.friedlab.com/) and writes it out as a SHEPHARD Protein Attributes file. Note that it would be good to do more sanity checking here and x-ref against the protein sequence information provided in the `sequence` column, but for the purposes of this analysis we are simply extracting out a few key parameters to ensure our definitions of (1) Abundance, (2) Number of domains, and (3) disorder are consistent."
   ]
  },
  {
   "cell_type": "code",
   "execution_count": null,
   "id": "4e2d5cf4-c7bf-45d1-a8df-5656c4652771",
   "metadata": {},
   "outputs": [],
   "source": [
    "class Entry:\n",
    "    # customizable class that has class variables set based on an input list\n",
    "    def __init__(self, fields):\n",
    "        for field in fields:            \n",
    "            setattr(self, field, None)\n"
   ]
  },
  {
   "cell_type": "code",
   "execution_count": 43,
   "id": "d79bc59d-fe87-40e0-b0a8-c6e5436266b2",
   "metadata": {},
   "outputs": [],
   "source": [
    "with open('sjf_yeast.csv','r',encoding='utf-8-sig') as fh:\n",
    "    content = fh.readlines()"
   ]
  },
  {
   "cell_type": "code",
   "execution_count": 25,
   "id": "2666acac-a234-47a2-8af5-3e2cc91f9939",
   "metadata": {},
   "outputs": [],
   "source": [
    "# get raw field names; takes advantage of the fact that the 1st line in the file\n",
    "# has the column names. NB: We could OFC do all this with Pandas, but why make\n",
    "# this easy. \n",
    "_fields = content[0].strip().split(',')\n",
    "\n",
    "# do a bunch of sanity washing for field names \n",
    "fields = []\n",
    "for n in _fields:\n",
    "    n = n.replace(' ','_')\n",
    "    n = n.replace('-','_')\n",
    "    n = n.replace('%','Percentage')\n",
    "    n = n.replace('(','')\n",
    "    n = n.replace(')','')\n",
    "    n = n.replace('Standard_Name_/_Gene','Gene')\n",
    "    fields.append(n)\n",
    "\n",
    "# build mapping \n",
    "idx2field = {i[0]:i[1] for i in enumerate(fields)}"
   ]
  },
  {
   "cell_type": "code",
   "execution_count": 40,
   "id": "5a6593f8-d587-49dd-8bf3-07c7dbc9670f",
   "metadata": {},
   "outputs": [],
   "source": [
    "with open('shprd_fried_yeast.tsv','w') as fh:\n",
    "    for line in content[1:]:\n",
    "        \n",
    "        sline = line.strip().split(',')\n",
    "\n",
    "        # initialize an entry for this line\n",
    "        entry = Entry(fields)    \n",
    "        for idx in range(len(sline)):\n",
    "            f = idx2field[idx]\n",
    "            setattr(entry, f, sline[idx])\n",
    "    \n",
    "        # \n",
    "        uid = entry.UniProt_ID\n",
    "        if len(uid) !=6:\n",
    "            continue\n",
    "\n",
    "        fh.write(f'{uid}\\t')\n",
    "        for f in fields:\n",
    "\n",
    "            ## NB; could add more per-protein sanity check lines here\n",
    "            # ............................................................\n",
    "            \n",
    "            # sanity check abundance\n",
    "            if f == 'Median_Abundance':\n",
    "                try:\n",
    "                    v = int(getattr(entry,f))\n",
    "                except ValueError:                    \n",
    "                    v = -1    \n",
    "\n",
    "                # write after sanity checking done\n",
    "                fh.write(f'{f}:{v}\\t')\n",
    "\n",
    "            ## base case write\n",
    "            else:\n",
    "                fh.write(f'{f}:{getattr(entry,f)}\\t')\n",
    "\n",
    "            \n",
    "\n",
    "        fh.write('\\n')                 \n"
   ]
  }
 ],
 "metadata": {
  "kernelspec": {
   "display_name": "Python 3 (ipykernel)",
   "language": "python",
   "name": "python3"
  },
  "language_info": {
   "codemirror_mode": {
    "name": "ipython",
    "version": 3
   },
   "file_extension": ".py",
   "mimetype": "text/x-python",
   "name": "python",
   "nbconvert_exporter": "python",
   "pygments_lexer": "ipython3",
   "version": "3.11.10"
  }
 },
 "nbformat": 4,
 "nbformat_minor": 5
}
