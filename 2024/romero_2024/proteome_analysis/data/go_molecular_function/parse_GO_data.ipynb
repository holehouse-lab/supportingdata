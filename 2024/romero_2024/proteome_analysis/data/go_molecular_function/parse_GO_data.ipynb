{
 "cells": [
  {
   "cell_type": "markdown",
   "id": "9ba1ce1e-23ed-4372-97f7-6865fe93fa14",
   "metadata": {},
   "source": [
    "## About\n",
    "This code takes a 2-column TSV from UniProt with GO (Biolgical Function) annotations for all proteins in the yeast proteome and then decomposes into true/false for nucleic acid binding based on these GO annotations.\n"
   ]
  },
  {
   "cell_type": "code",
   "execution_count": 1,
   "id": "a3f83c13-0db7-405f-b5c5-15e5ea92f883",
   "metadata": {},
   "outputs": [],
   "source": [
    "with open('go_biological_process_uid_mapping.tsv','r') as fh:\n",
    "    content = fh.readlines()"
   ]
  },
  {
   "cell_type": "code",
   "execution_count": 16,
   "id": "c78ecbe6-1aa9-4e57-9ed9-fd4831d659e6",
   "metadata": {},
   "outputs": [],
   "source": [
    "uid2go = {}\n",
    "for line in content[1:]:\n",
    "    sline = line.strip().split('\\t')\n",
    "    uid = sline[1]\n",
    "    if len(sline) > 2:\n",
    "        uid2go[uid] = sline[2]\n",
    "    else:\n",
    "        uid2go[uid] = ''\n",
    "        "
   ]
  },
  {
   "cell_type": "markdown",
   "id": "80c19fb4-d0e2-4619-8abf-8336aed80a88",
   "metadata": {},
   "source": [
    "## We define nucleic acid binding based on the following GO codes...\n",
    "\n",
    "    # DNA binding\n",
    "    GO:0003677 - DNA binding\n",
    "    GO:0043565 - Sequence-specific DNA binding\n",
    "    GO:0003700 - DNA-binding transcription factor activity\n",
    "    GO:0140110 - Transcription regulator activity, DNA-binding\n",
    "    GO:0000981 - RNA polymerase II transcription factor activity, sequence-specific DNA binding\n",
    "    GO:0000977 - RNA polymerase II regulatory region sequence-specific DNA binding\n",
    "    GO:0000978 - RNA polymerase II proximal promoter sequence-specific DNA binding\n",
    "    GO:0003682 - Chromatin binding\n",
    "    GO:0044212 - Transcription regulatory region DNA binding\n",
    "\n",
    "    # RNA binding\n",
    "    GO:0003723 - RNA binding\n",
    "    GO:0008135 - Translation factor activity, RNA binding\n",
    "    GO:0003727 - mRNA binding\n",
    "    GO:0035198 - miRNA binding\n",
    "    GO:0003729 - mRNA 3'-UTR binding\n",
    "    GO:1990907 - RISC complex RNA binding\n",
    "    GO:0019843 - rRNA binding\n",
    "    GO:0031077 - rRNA 5S binding\n",
    "    GO:0031076 - rRNA 5.8S binding\n",
    "    GO:0031075 - rRNA 28S binding\n",
    "    GO:0031074 - rRNA 18S binding\n",
    "    GO:0031369 - tRNA binding\n",
    "    GO:0017080 - snRNA binding\n",
    "    GO:0008497 - tRNA methyltransferase activity (binds tRNA to modify it)\n",
    "    \n"
   ]
  },
  {
   "cell_type": "code",
   "execution_count": 17,
   "id": "c582bed2-2da5-42ab-99ee-abee8e0f8156",
   "metadata": {},
   "outputs": [],
   "source": [
    "# all possible codes\n",
    "nucleic_acid_binding_codes = ['0003677', '0043565', '0003700', '0140110', '0000981', '0000977','0000978', '0003682','0003682','0003723','0008135','0003727','0035198','0003729','1990907','0019843','0031077','0031076','0031075','0031074','0031369','0017080','0008497']\n",
    "with open('shprd_nucleic_acid_binding.tsv','w') as fh:\n",
    "    for uid in uid2go:\n",
    "        \n",
    "        hit = False\n",
    "        for k in nucleic_acid_binding_codes:\n",
    "            if uid2go[uid].find(k) > -1:\n",
    "                hit = True\n",
    "                break\n",
    "        if hit:\n",
    "            fh.write(f'{uid}\\tnucelic_acid_binding:True\\n')\n",
    "        else:\n",
    "            fh.write(f'{uid}\\tnucelic_acid_binding:False\\n')\n",
    "                \n",
    "    "
   ]
  },
  {
   "cell_type": "code",
   "execution_count": null,
   "id": "ae213b27-459e-4845-9b0e-005fa760f7d9",
   "metadata": {},
   "outputs": [],
   "source": []
  }
 ],
 "metadata": {
  "kernelspec": {
   "display_name": "Python 3 (ipykernel)",
   "language": "python",
   "name": "python3"
  },
  "language_info": {
   "codemirror_mode": {
    "name": "ipython",
    "version": 3
   },
   "file_extension": ".py",
   "mimetype": "text/x-python",
   "name": "python",
   "nbconvert_exporter": "python",
   "pygments_lexer": "ipython3",
   "version": "3.11.10"
  }
 },
 "nbformat": 4,
 "nbformat_minor": 5
}
