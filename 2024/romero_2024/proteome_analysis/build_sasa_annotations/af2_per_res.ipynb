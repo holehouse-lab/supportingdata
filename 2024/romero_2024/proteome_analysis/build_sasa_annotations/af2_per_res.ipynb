{
 "cells": [
  {
   "cell_type": "markdown",
   "id": "70725aca-7459-4f04-9208-103afad8874a",
   "metadata": {},
   "source": [
    "# ABOUT\n",
    "This file calculates fractional and absolute counts of surface-accessible residues"
   ]
  },
  {
   "cell_type": "code",
   "execution_count": 1,
   "id": "5befad46-082c-4646-8219-d8abb0261127",
   "metadata": {},
   "outputs": [],
   "source": [
    "import numpy as np\n",
    "import os\n",
    "import sys\n",
    "\n",
    "from tqdm import tqdm\n",
    "\n",
    "\n",
    "from finches.utils import folded_domain_utils\n",
    "\n",
    "# lets you import from the code directory here\n",
    "local_code_path = os.path.abspath(os.path.join(os.getcwd(), '..', 'code'))\n",
    "\n",
    "if local_code_path not in sys.path:\n",
    "    sys.path.append(local_code_path)\n",
    "\n",
    "\n",
    "from domain_def import Domain\n"
   ]
  },
  {
   "cell_type": "code",
   "execution_count": 2,
   "id": "7943439f",
   "metadata": {},
   "outputs": [],
   "source": [
    "mode_name='af2'\n",
    "\n",
    "# define where the alphafold proteome used for input is\n",
    "# the rootdir must be a directory where the ONLY files in that directory are PDB files from AlphaFold2. Importantly the filename structure\n",
    "# should be `AF-<UniProtID>-F1-model_v4.pdb` because this then gets parsed by the code below to map unioprot ID to filename\n",
    "rootdir = '../data/UP000002311_559292_YEAST_v4'\n",
    "\n",
    "# build mapping of uniprot IDs to filenames\n",
    "uid2fn = {}\n",
    "for entry in os.listdir(rootdir):        \n",
    "    uid = entry.split('-')[1]\n",
    "    uid2fn[uid] = entry\n"
   ]
  },
  {
   "cell_type": "code",
   "execution_count": 4,
   "id": "6266d417",
   "metadata": {},
   "outputs": [
    {
     "name": "stderr",
     "output_type": "stream",
     "text": [
      "0it [00:00, ?it/s]/Users/alex/miniconda3/envs/neuron39/lib/python3.9/site-packages/mdtraj/formats/pdb/pdbfile.py:200: UserWarning: Unlikely unit cell vectors detected in PDB file likely resulting from a dummy CRYST1 record. Discarding unit cell vectors.\n",
      "  warnings.warn('Unlikely unit cell vectors detected in PDB file likely '\n",
      "6039it [18:04,  5.57it/s]\n"
     ]
    }
   ],
   "source": [
    "# the code here cycles through each PDB file in the proteome and decomposes it into \n",
    "uid2folded_domain = {}\n",
    "for idx, uid in tqdm(enumerate(list(uid2fn.keys()))):\n",
    "\n",
    "    \n",
    "    infile = f'{rootdir}/{uid2fn[uid]}'\n",
    "\n",
    "    # build a finches folded domain\n",
    "    x = folded_domain_utils.FoldedDomain(infile, SASA_ONLY=True)          \n",
    "\n",
    "    # amino acid sequence of PDB file\n",
    "    seq = x.sequence\n",
    "\n",
    "    # per-residue SASA value\n",
    "    sasa = x.sasa \n",
    "    \n",
    "    # assign each domain to each UID\n",
    "    \n",
    "    uid2folded_domain[uid] = [seq,sasa]\n",
    "\n"
   ]
  },
  {
   "cell_type": "code",
   "execution_count": 26,
   "id": "85554850",
   "metadata": {},
   "outputs": [],
   "source": [
    "fh = open(f'../data/shprd_files/shprd_sites_{mode_name}_per_res_SASA.tsv','w')\n",
    "\n",
    "for uid in uid2folded_domain:\n",
    "\n",
    "    entry = uid2folded_domain[uid]\n",
    "\n",
    "    x = [str(int(round(i))) for i in entry[1]]    \n",
    "    seq = entry[0]\n",
    "\n",
    "    outstring=''\n",
    "    for i,sasa in enumerate(x):\n",
    "        fh.write(f\"{uid}\\t{i+1}\\tsasa_site\\t{seq[i]}\\t{sasa}\\n\")\n",
    "            \n",
    "fh.close()\n"
   ]
  },
  {
   "cell_type": "code",
   "execution_count": 27,
   "id": "c1b9ffe8",
   "metadata": {},
   "outputs": [],
   "source": [
    "fh = open(f'../data/shprd_files/shprd_track_{mode_name}_per_res_SASA.tsv','w')\n",
    "\n",
    "for uid in uid2folded_domain:\n",
    "\n",
    "    entry = uid2folded_domain[uid]\n",
    "\n",
    "    x = [str(int(round(i))) for i in entry[1]]    \n",
    "    data_string = ''\n",
    "    for i in x:\n",
    "        data_string = data_string + i + '\\t'\n",
    "    \n",
    "\n",
    "    \n",
    "    \n",
    "    fh.write(f\"{uid}\\tsasa_site\\t{data_string}\\n\")\n",
    "            \n",
    "fh.close()\n"
   ]
  }
 ],
 "metadata": {
  "kernelspec": {
   "display_name": "neuron39",
   "language": "python",
   "name": "python3"
  },
  "language_info": {
   "codemirror_mode": {
    "name": "ipython",
    "version": 3
   },
   "file_extension": ".py",
   "mimetype": "text/x-python",
   "name": "python",
   "nbconvert_exporter": "python",
   "pygments_lexer": "ipython3",
   "version": "3.9.19"
  }
 },
 "nbformat": 4,
 "nbformat_minor": 5
}
