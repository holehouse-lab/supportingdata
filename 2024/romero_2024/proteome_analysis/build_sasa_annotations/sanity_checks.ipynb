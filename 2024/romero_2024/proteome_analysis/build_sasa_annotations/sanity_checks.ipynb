{
 "cells": [
  {
   "cell_type": "markdown",
   "metadata": {},
   "source": [
    "## About\n",
    "This notebook was generated to just sanity check the per-residue SASA analysis on the other files"
   ]
  },
  {
   "cell_type": "code",
   "execution_count": 49,
   "metadata": {},
   "outputs": [],
   "source": [
    "from shephard.apis import fasta\n",
    "from shephard.interfaces import si_tracks, si_sites\n",
    "import numpy as np\n",
    "from matplotlib import pyplot as plt\n",
    "from matplotlib import figure"
   ]
  },
  {
   "cell_type": "code",
   "execution_count": 40,
   "metadata": {},
   "outputs": [],
   "source": [
    "sites_file = '../data/shprd_files/shprd_sites_af2_per_res_SASA.tsv'\n",
    "sites_file = '../data/shprd_files/shprd_dodo_per_res_SASA.tsv'\n",
    "sites_file = '../data/shprd_files/shprd_chainsaw_per_res_SASA.tsv'\n",
    "\n",
    "YP = fasta.fasta_to_proteome('../data/UP000002311_559292_YEAST_v4_uniprot_id.fasta',use_header_as_unique_ID=True)\n",
    "si_tracks.add_tracks_from_file(YP, '../data/shprd_files/shprd_track_af2_per_res_SASA.tsv', mode='values')\n",
    "si_sites.add_sites_from_file(YP, sites_file)"
   ]
  },
  {
   "cell_type": "code",
   "execution_count": 47,
   "metadata": {},
   "outputs": [
    {
     "name": "stdout",
     "output_type": "stream",
     "text": [
      "Found 0 mismatches for ../data/shprd_files/shprd_chainsaw_per_res_SASA.tsv\n"
     ]
    }
   ],
   "source": [
    "errors = 0\n",
    "for p in YP:\n",
    "    for s in p.sites:\n",
    "        if s.symbol != p.residue(s.position):\n",
    "            errors += 1\n",
    "            print(s)\n",
    "            \n",
    "print(f'Found {errors} mismatches for {sites_file}')            \n",
    "    \n",
    "        \n"
   ]
  },
  {
   "cell_type": "code",
   "execution_count": 48,
   "metadata": {},
   "outputs": [],
   "source": [
    "# sanity check that sites and track values are consistent\n",
    "af2 = []\n",
    "other = []\n",
    "for p in YP:\n",
    "    for s in p.sites:\n",
    "        af2.append(p.track('sasa_site').value(s.position))\n",
    "        other.append(s.value)"
   ]
  },
  {
   "cell_type": "code",
   "execution_count": 50,
   "metadata": {},
   "outputs": [
    {
     "data": {
      "text/plain": [
       "array([[1.        , 0.89570193],\n",
       "       [0.89570193, 1.        ]])"
      ]
     },
     "execution_count": 50,
     "metadata": {},
     "output_type": "execute_result"
    }
   ],
   "source": [
    "np.corrcoef(af2, other)"
   ]
  },
  {
   "cell_type": "code",
   "execution_count": null,
   "metadata": {},
   "outputs": [],
   "source": [
    "figure(None, (3,3),dpi=350))\n",
    "plt.scatter(af2, other, s=1)"
   ]
  }
 ],
 "metadata": {
  "kernelspec": {
   "display_name": "neuron39",
   "language": "python",
   "name": "python3"
  },
  "language_info": {
   "codemirror_mode": {
    "name": "ipython",
    "version": 3
   },
   "file_extension": ".py",
   "mimetype": "text/x-python",
   "name": "python",
   "nbconvert_exporter": "python",
   "pygments_lexer": "ipython3",
   "version": "3.9.19"
  }
 },
 "nbformat": 4,
 "nbformat_minor": 2
}
