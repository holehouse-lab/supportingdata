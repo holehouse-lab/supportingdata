{
 "cells": [
  {
   "cell_type": "markdown",
   "id": "70725aca-7459-4f04-9208-103afad8874a",
   "metadata": {},
   "source": [
    "# ABOUT\n",
    "This file calculates fractional and absolute counts of surface-accessible residues. Note we use the SASA_ONLY flag which is a hacky flag that can be passed into a FoldedDomain object that avoids some expensive operations during initiatilization, but note this makes any other functionality unusable (but shifts this analysis from ~6 hours to ~15 minutes).\n",
    "\n",
    "## Output\n",
    "This script generates the files\n",
    "\n",
    "`../data/shprd_files/shprd_{mode_name}_per_res_SASA.tsv'`\n",
    "\n",
    "where {mode_name} will be either `chainsaw` or `dodo`."
   ]
  },
  {
   "cell_type": "code",
   "execution_count": 1,
   "id": "5befad46-082c-4646-8219-d8abb0261127",
   "metadata": {},
   "outputs": [],
   "source": [
    "import numpy as np\n",
    "import os\n",
    "import sys\n",
    "\n",
    "from tqdm import tqdm\n",
    "from finches.utils import folded_domain_utils\n",
    "\n",
    "# lets you import from the code directory here\n",
    "local_code_path = os.path.abspath(os.path.join(os.getcwd(), '..', 'code'))\n",
    "\n",
    "if local_code_path not in sys.path:\n",
    "    sys.path.append(local_code_path)\n",
    "\n",
    "\n",
    "from domain_def import Domain\n"
   ]
  },
  {
   "cell_type": "code",
   "execution_count": null,
   "id": "e09534b5-465f-4f2b-92dd-c34f43394bda",
   "metadata": {},
   "outputs": [],
   "source": [
    "# settings\n",
    "mode_name='chainsaw'\n",
    "\n",
    "if mode_name not in ['chainsaw', 'dodo']:\n",
    "    raise Exception('Mode must be either chainsaw or dodo!')\n",
    "\n",
    "\n",
    "hard_root = f'../data/domains_{mode_name}'\n",
    " "
   ]
  },
  {
   "cell_type": "markdown",
   "id": "f26a30b7",
   "metadata": {},
   "source": [
    "The cell below takes about 12 minutes to run on my macbook pro (M3), which is a lil while but down from the ~6 hours it took previously (!) when we didn't have the `ONLY_SASA` keyword for the FoldedDomain object."
   ]
  },
  {
   "cell_type": "code",
   "execution_count": null,
   "id": "47a1d65d-e333-4ce3-9e4d-48af156d5a20",
   "metadata": {},
   "outputs": [
    {
     "name": "stderr",
     "output_type": "stream",
     "text": [
      "0it [00:00, ?it/s]"
     ]
    },
    {
     "name": "stderr",
     "output_type": "stream",
     "text": [
      "6039it [12:40,  7.94it/s]\n"
     ]
    }
   ],
   "source": [
    "# get the list of all the files in the directory\n",
    "# and subdirectories\n",
    "uid2domains = {}\n",
    "\n",
    "# for debugging\n",
    "breakflag = False \n",
    "\n",
    "# get the list of all the files in the directory\n",
    "for root, dirs, files in os.walk(hard_root):\n",
    "\n",
    "\n",
    "    if breakflag:\n",
    "        break\n",
    "\n",
    "    # skip the first directory\n",
    "    if len(dirs) == 0:\n",
    "        continue\n",
    "    \n",
    "    # for each directory (dirs) we're going to cycle through\n",
    "    # the contents...  \n",
    "    for i, tl_dir in  tqdm(enumerate(dirs)):\n",
    "        if breakflag:\n",
    "            break\n",
    "\n",
    "        # get files in teach tol level directroy\n",
    "        for root, dirs, files in os.walk(f'{hard_root}/{tl_dir}/'):\n",
    "            if breakflag:\n",
    "                break\n",
    "\n",
    "            # cycle through each file in each directory\n",
    "            for file in files:      \n",
    "                \n",
    "                full_name = f\"{hard_root}/{tl_dir}/{file}\"\n",
    "\n",
    "                # do some mode specific parsing\n",
    "                if mode_name == 'chainsaw':\n",
    "                    uid = file.split('_')[0]\n",
    "                    try:\n",
    "                        start = file.split('_')[1]\n",
    "                        end = file.split('_')[2].split('.')[0]\n",
    "                    except IndexError:\n",
    "                        print(f'Skipping {file}')\n",
    "                        continue\n",
    "                elif mode_name == 'dodo':\n",
    "                    uid = file.split('-')[1]\n",
    "                    try:\n",
    "                        start = file.split('_')[-2]\n",
    "                        end = file.split('_')[-1].split('.')[0]\n",
    "                        \n",
    "                        if int(end) < int(start):\n",
    "                            print(full_name)\n",
    "                            raise IndexError('This is an error...')\n",
    "                        \n",
    "                    except (IndexError, ValueError):\n",
    "                        print(f'Skipping {file}')\n",
    "                        continue\n",
    "                \n",
    "                # if the uid is not in the dictionary, add it\n",
    "                if uid not in uid2domains:\n",
    "                    uid2domains[uid] = []                    \n",
    "                \n",
    "                # build a finches folded domain\n",
    "                x = folded_domain_utils.FoldeDomain(full_name, SASA_ONLY=True)          \n",
    "                try:\n",
    "                    pass\n",
    "                    \n",
    "                except Exception as e:\n",
    "                    print(f\"Godamn, something went wrong with {full_name} so we're skipping it\")\n",
    "                    continue\n",
    "\n",
    "                # amino acid sequence of PDB file\n",
    "                seq = x.sequence\n",
    "\n",
    "                # per-residue SASA value\n",
    "                sasa = x.sasa \n",
    "                \n",
    "                # assign each domain to each UID                \n",
    "                if uid not in uid2domains:\n",
    "                    uid2domains[uid] = []\n",
    "                uid2domains[uid].append([start,end,seq,sasa])                    \n",
    "                \n",
    "                "
   ]
  },
  {
   "cell_type": "markdown",
   "id": "68d4d398",
   "metadata": {},
   "source": [
    "Having generated the mapping, we then write out a SHEPHARD track file."
   ]
  },
  {
   "cell_type": "code",
   "execution_count": 4,
   "id": "85554850",
   "metadata": {},
   "outputs": [],
   "source": [
    "fh = open(f'../data/shprd_files/shprd_{mode_name}_per_res_SASA.tsv','w')\n",
    "\n",
    "for uid in uid2domains:\n",
    "    for entry in uid2domains[uid]:\n",
    "        x = [str(int(round(i))) for i in entry[3]]    \n",
    "        seq = entry[2]\n",
    "        start = entry[0]\n",
    "        end = entry[1]\n",
    "\n",
    "        outstring=''\n",
    "        for i,sasa in enumerate(x):\n",
    "            fh.write(f\"{uid}\\t{i+int(start)+1}\\tsasa_site\\t{seq[i]}\\t{sasa}\\n\")\n",
    "            \n",
    "fh.close()\n"
   ]
  }
 ],
 "metadata": {
  "kernelspec": {
   "display_name": "neuron3_11",
   "language": "python",
   "name": "python3"
  },
  "language_info": {
   "codemirror_mode": {
    "name": "ipython",
    "version": 3
   },
   "file_extension": ".py",
   "mimetype": "text/x-python",
   "name": "python",
   "nbconvert_exporter": "python",
   "pygments_lexer": "ipython3",
   "version": "3.11.10"
  }
 },
 "nbformat": 4,
 "nbformat_minor": 5
}
