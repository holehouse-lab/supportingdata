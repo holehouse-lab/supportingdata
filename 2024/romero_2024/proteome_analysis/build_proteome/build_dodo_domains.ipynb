{
 "cells": [
  {
   "cell_type": "markdown",
   "id": "afa55c27-d9c7-418f-8dfd-ed6b0464cfc6",
   "metadata": {},
   "source": [
    "# About\n",
    "This notebook generates all DODO-generated domains for the paper from an input AlphaFold2 derived proteome"
   ]
  },
  {
   "cell_type": "code",
   "execution_count": null,
   "id": "d58c6d09-0f5e-4fec-8734-66428720e59c",
   "metadata": {},
   "outputs": [],
   "source": [
    "import pandas as pd\n",
    "import os\n",
    "import protfasta\n",
    "from dodo import build\n",
    "from tqdm import tqdm"
   ]
  },
  {
   "cell_type": "code",
   "execution_count": null,
   "id": "3cfaa104-bb3e-4152-bf29-ff77540982d5",
   "metadata": {},
   "outputs": [],
   "source": [
    "# define where the alphafold proteome used for input is\n",
    "# the rootdir must be a directory where the ONLY files in that directory are PDB files from AlphaFold2. Importantly the filename structure\n",
    "# should be `AF-<UniProtID>-F1-model_v4.pdb` because this then gets parsed by the code below to map unioprot ID to filename\n",
    "rootdir = '../data/UP000002311_559292_YEAST_v4'\n",
    "outroot = '../data/domains_dodo'\n",
    "\n",
    "# build mapping of uniprot IDs to filenames\n",
    "uid2fn = {}\n",
    "for entry in os.listdir(rootdir):        \n",
    "    uid = entry.split('-')[1]\n",
    "    uid2fn[uid] = entry\n"
   ]
  },
  {
   "cell_type": "code",
   "execution_count": null,
   "id": "24bfc205-39df-4fc1-b6bc-c2987bc47597",
   "metadata": {},
   "outputs": [],
   "source": [
    "# the code here cycles through each PDB file in the proteome and decomposes it into \n",
    "newly_generated = 0\n",
    "found_existing = 0\n",
    "for idx, uid in tqdm(enumerate(list(uid2fn.keys()))):\n",
    "\n",
    "    \n",
    "    outdir = f'{outroot}/{uid}'\n",
    "\n",
    "    infile = f'{rootdir}/{uid2fn[uid]}'\n",
    "    \n",
    "    if not os.path.exists(outdir):\n",
    "        os.mkdir(outdir)\n",
    "        \n",
    "        try:\n",
    "            build.pdb_from_pdb(infile, out_path=f'{outdir}/{uid2fn[uid]}', just_fds=True, verbose=False)\n",
    "            newly_generated = newly_generated + 1\n",
    "        except Exception as e:\n",
    "            print(f\"Failed on {e}... carrying on though!\")\n",
    "    else:\n",
    "        found_existing = found_existing + 1\n",
    "\n",
    "print('')\n",
    "print(f\"Generated domains for {newly_generated} new proteins\")\n",
    "print(f\"Found domains for {found_existing} existing proteins\")\n",
    "      \n"
   ]
  }
 ],
 "metadata": {
  "kernelspec": {
   "display_name": "Python 3 (ipykernel)",
   "language": "python",
   "name": "python3"
  },
  "language_info": {
   "codemirror_mode": {
    "name": "ipython",
    "version": 3
   },
   "file_extension": ".py",
   "mimetype": "text/x-python",
   "name": "python",
   "nbconvert_exporter": "python",
   "pygments_lexer": "ipython3",
   "version": "3.9.19"
  }
 },
 "nbformat": 4,
 "nbformat_minor": 5
}
