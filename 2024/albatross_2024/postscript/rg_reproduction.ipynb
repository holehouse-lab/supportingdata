{
 "cells": [
  {
   "cell_type": "code",
   "execution_count": 1,
   "id": "8d68972e-ec92-4c96-be96-475de84cbf11",
   "metadata": {},
   "outputs": [
    {
     "name": "stdout",
     "output_type": "stream",
     "text": [
      "Error importing GPy.\n",
      " If trying to run parrot-optimize, make sure to use `pip install idptools-parrot[optimize]`\n"
     ]
    }
   ],
   "source": [
    "from matplotlib import pyplot as plt\n",
    "from sparrow import Protein\n",
    "from sparrow.predictors import batch_predict"
   ]
  },
  {
   "cell_type": "code",
   "execution_count": 18,
   "id": "d3d7f1f6-4c83-46ad-bb2f-5ba2dfaf4a43",
   "metadata": {},
   "outputs": [
    {
     "name": "stderr",
     "output_type": "stream",
     "text": [
      "100%|███████████████████████████████████████████████████████████████████████████████████████████████████████████████████████████████████████████████████| 22/22 [00:00<00:00, 281.12it/s]\n",
      "100%|██████████████████████████████████████████████████████████████████████████████████████████████████████████████████████████████████████████████████| 464/464 [00:05<00:00, 90.92it/s]\n"
     ]
    }
   ],
   "source": [
    "# flag which decides if we use scaled network or not\n",
    "use_scaled = False\n",
    "\n",
    "\n",
    "# select filename to use\n",
    "if use_scaled:\n",
    "    filename = 'test_data/scaled_rg_nat_meth_test.tsv'\n",
    "    predictor = 'scaled_rg'\n",
    "else:\n",
    "    filename = 'test_data/rg_nat_meth_test.tsv'\n",
    "    predictor = 'rg'\n",
    "    \n",
    "with open(filename,'r') as fh:\n",
    "    content = fh.readlines()\n",
    "\n",
    "# build up datastructures\n",
    "all_seqs = []\n",
    "sim_data = {}\n",
    "\n",
    "# cycle over sequences\n",
    "for line in content:\n",
    "    sline = line.strip().split()\n",
    "\n",
    "    if sline[0].find('synth') > -1:\n",
    "        continue\n",
    "\n",
    "    # get amino acid sequence\n",
    "    seq = sline[1]\n",
    "\n",
    "    # get rg from data\n",
    "    if use_scaled:\n",
    "        rg = float(sline[2]) * np.sqrt(len(seq))\n",
    "    else:\n",
    "        rg = float(sline[2])\n",
    "\n",
    "    \n",
    "    sim_data[sline[1]] = rg\n",
    "    all_seqs.append(seq)\n",
    "\n",
    "# run predictions\n",
    "prediction_data = batch_predict.batch_predict(all_seqs, \n",
    "                                              network=predictor,\n",
    "                                              return_seq2prediction=True)\n",
    "\n",
    "    \n",
    "# construct lists of data\n",
    "sims = []\n",
    "pred = []\n",
    "n = []\n",
    "delta = []\n",
    "for k in prediction_data:\n",
    "    sims.append(sim_data[k])\n",
    "    pred.append(prediction_data[k])\n",
    "    n.append(len(k))\n",
    "    delta.append(sim_data[k] - prediction_data[k])"
   ]
  },
  {
   "cell_type": "code",
   "execution_count": 19,
   "id": "147a7389-7335-474b-9205-e0c8d9d4c580",
   "metadata": {},
   "outputs": [
    {
     "data": {
      "text/plain": [
       "array([[1.        , 0.99913278],\n",
       "       [0.99913278, 1.        ]])"
      ]
     },
     "execution_count": 19,
     "metadata": {},
     "output_type": "execute_result"
    }
   ],
   "source": [
    "np.corrcoef(sims,pred)"
   ]
  },
  {
   "cell_type": "code",
   "execution_count": 20,
   "id": "d6f614c9-fb20-474c-b6de-ba110567efe9",
   "metadata": {},
   "outputs": [
    {
     "data": {
      "text/plain": [
       "[<matplotlib.lines.Line2D at 0x3810dced0>]"
      ]
     },
     "execution_count": 20,
     "metadata": {},
     "output_type": "execute_result"
    },
    {
     "data": {
      "image/png": "[encoded data removed]",
      "text/plain": [
       "<Figure size 640x480 with 1 Axes>"
      ]
     },
     "metadata": {},
     "output_type": "display_data"
    }
   ],
   "source": [
    "plt.plot(sims,pred,'.')"
   ]
  },
  {
   "cell_type": "code",
   "execution_count": null,
   "id": "f9dcb92a-99a0-44f6-a445-8fd595976f44",
   "metadata": {},
   "outputs": [],
   "source": []
  }
 ],
 "metadata": {
  "kernelspec": {
   "display_name": "Python 3 (ipykernel)",
   "language": "python",
   "name": "python3"
  },
  "language_info": {
   "codemirror_mode": {
    "name": "ipython",
    "version": 3
   },
   "file_extension": ".py",
   "mimetype": "text/x-python",
   "name": "python",
   "nbconvert_exporter": "python",
   "pygments_lexer": "ipython3",
   "version": "3.11.10"
  }
 },
 "nbformat": 4,
 "nbformat_minor": 5
}
