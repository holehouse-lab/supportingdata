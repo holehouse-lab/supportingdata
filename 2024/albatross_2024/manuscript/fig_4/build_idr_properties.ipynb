{
 "cells": [
  {
   "cell_type": "markdown",
   "id": "b7f89d8e",
   "metadata": {},
   "source": [
    "## About\n",
    "This notebook computes predicted ensemble average properties for the human IDR-ome, and generates a SHEPHARD-compliant file. That file is then used to generate the panels in **Fig. 4** of Lotthammer et al."
   ]
  },
  {
   "cell_type": "code",
   "execution_count": 13,
   "id": "tutorial-drilling",
   "metadata": {},
   "outputs": [],
   "source": [
    "from afrc import AnalyticalFRC\n",
    "from sparrow import Protein\n",
    "from shephard import interfaces, apis\n",
    "from sparrow.predictors import batch_predict\n",
    "\n",
    "import datetime"
   ]
  },
  {
   "cell_type": "code",
   "execution_count": 7,
   "id": "fresh-resistance",
   "metadata": {},
   "outputs": [],
   "source": [
    "# define the location of the proteome file and IDR file (available from https://github.com/holehouse-lab/shephard-data)\n",
    "rootdir = ''"
   ]
  },
  {
   "cell_type": "code",
   "execution_count": 48,
   "id": "verified-complexity",
   "metadata": {},
   "outputs": [],
   "source": [
    "# build a human proteome object\n",
    "human_proteome = apis.uniprot.uniprot_fasta_to_proteome(f'{rootdir}/human_proteome_clean.fasta')\n",
    "\n",
    "# annotate with pre-computed IDR-ome \n",
    "interfaces.si_domains.add_domains_from_file(human_proteome, f'{rootdir}/shprd_domains_idrs.tsv')"
   ]
  },
  {
   "cell_type": "markdown",
   "id": "1a5c4c3a",
   "metadata": {},
   "source": [
    "### Extract out IDRs\n",
    "The code below extract out the human IDR-ome so we can batch predict"
   ]
  },
  {
   "cell_type": "code",
   "execution_count": 54,
   "id": "4cce7b5c",
   "metadata": {},
   "outputs": [],
   "source": [
    "idrs = {}\n",
    "for d in human_proteome.domains[0:10]:\n",
    "    name = f\"{d.protein.unique_ID}_{d.start}_{d.end}\"\n",
    "    idrs[name] = d.sequence"
   ]
  },
  {
   "cell_type": "markdown",
   "id": "86919d9a",
   "metadata": {},
   "source": [
    "## Run the predictions\n",
    "For clarity, we explicitly define the network version being used here, although in general we recommend using the lates network version."
   ]
  },
  {
   "cell_type": "code",
   "execution_count": 29,
   "id": "e2e6d8a2",
   "metadata": {},
   "outputs": [
    {
     "name": "stderr",
     "output_type": "stream",
     "text": [
      "100%|███████████████████████████████████████████| 27/27 [00:01<00:00, 17.94it/s]\n",
      "100%|███████████████████████████████████████| 1052/1052 [00:50<00:00, 20.97it/s]\n"
     ]
    },
    {
     "name": "stdout",
     "output_type": "stream",
     "text": [
      "Rg took 0:00:51.741073s\n"
     ]
    },
    {
     "name": "stderr",
     "output_type": "stream",
     "text": [
      "100%|███████████████████████████████████████████| 27/27 [00:01<00:00, 18.22it/s]\n",
      "100%|███████████████████████████████████████| 1052/1052 [00:48<00:00, 21.48it/s]\n"
     ]
    },
    {
     "name": "stdout",
     "output_type": "stream",
     "text": [
      "Re took 0:00:50.606831s\n"
     ]
    },
    {
     "name": "stderr",
     "output_type": "stream",
     "text": [
      "100%|███████████████████████████████████████| 1079/1079 [00:53<00:00, 20.35it/s]\n"
     ]
    },
    {
     "name": "stdout",
     "output_type": "stream",
     "text": [
      "Scaled rg took 0:00:53.110851s\n"
     ]
    },
    {
     "name": "stderr",
     "output_type": "stream",
     "text": [
      "100%|███████████████████████████████████████| 1079/1079 [00:53<00:00, 20.29it/s]\n"
     ]
    },
    {
     "name": "stdout",
     "output_type": "stream",
     "text": [
      "Scaled re took 0:00:53.370196s\n"
     ]
    },
    {
     "name": "stderr",
     "output_type": "stream",
     "text": [
      "100%|███████████████████████████████████████| 1079/1079 [01:36<00:00, 11.14it/s]\n"
     ]
    },
    {
     "name": "stdout",
     "output_type": "stream",
     "text": [
      "Scaling exponent took 0:01:36.925283s\n"
     ]
    },
    {
     "name": "stderr",
     "output_type": "stream",
     "text": [
      "100%|███████████████████████████████████████| 1079/1079 [00:59<00:00, 18.19it/s]\n"
     ]
    },
    {
     "name": "stdout",
     "output_type": "stream",
     "text": [
      "Scaling prefactor took 0:00:59.331811s\n"
     ]
    },
    {
     "name": "stderr",
     "output_type": "stream",
     "text": [
      "100%|███████████████████████████████████████| 1079/1079 [01:48<00:00,  9.96it/s]"
     ]
    },
    {
     "name": "stdout",
     "output_type": "stream",
     "text": [
      "Asphericity  took 0:01:48.422547s\n"
     ]
    },
    {
     "name": "stderr",
     "output_type": "stream",
     "text": [
      "\n"
     ]
    }
   ],
   "source": [
    "network_version = 2\n",
    "\n",
    "start = datetime.datetime.now()\n",
    "predicted_rg = batch_predict.batch_predict(idrs, network='rg', version=network_version)\n",
    "end = datetime.datetime.now()\n",
    "print(f'Rg took {end-start}s')\n",
    "\n",
    "start = datetime.datetime.now()\n",
    "predicted_re = batch_predict.batch_predict(idrs, network='re', version=network_version)\n",
    "end = datetime.datetime.now()\n",
    "print(f'Re took {end-start}s')\n",
    "\n",
    "start = datetime.datetime.now()\n",
    "predicted_scaled_rg = batch_predict.batch_predict(idrs, network='scaled_rg', version=network_version)\n",
    "end = datetime.datetime.now()\n",
    "print(f'Scaled rg took {end-start}s')\n",
    "\n",
    "start = datetime.datetime.now()\n",
    "predicted_scaled_re = batch_predict.batch_predict(idrs, network='scaled_re', version=network_version)\n",
    "end = datetime.datetime.now()\n",
    "print(f'Scaled re took {end-start}s')\n",
    "\n",
    "start = datetime.datetime.now()\n",
    "predicted_scaling = batch_predict.batch_predict(idrs, network='scaling_exponent', version=network_version)\n",
    "end = datetime.datetime.now()\n",
    "print(f'Scaling exponent took {end-start}s')\n",
    "\n",
    "start = datetime.datetime.now()\n",
    "predicted_prefactors = batch_predict.batch_predict(idrs, network='prefactor', version=network_version)\n",
    "end = datetime.datetime.now()\n",
    "print(f'Scaling prefactor took {end-start}s')\n",
    "\n",
    "start = datetime.datetime.now()\n",
    "predicted_asph = batch_predict.batch_predict(idrs, network='asphericity', version=network_version)\n",
    "end = datetime.datetime.now()\n",
    "print(f'Asphericity  took {end-start}s')\n",
    "\n",
    "\n"
   ]
  },
  {
   "cell_type": "code",
   "execution_count": 49,
   "id": "bizarre-lithuania",
   "metadata": {},
   "outputs": [
    {
     "name": "stdout",
     "output_type": "stream",
     "text": [
      "On 0\n",
      "On 500\n",
      "On 1000\n",
      "On 1500\n",
      "On 2000\n",
      "On 2500\n",
      "On 3000\n",
      "On 3500\n",
      "On 4000\n",
      "On 4500\n",
      "On 5000\n",
      "On 5500\n",
      "On 6000\n",
      "On 6500\n",
      "On 7000\n",
      "On 7500\n",
      "On 8000\n",
      "On 8500\n",
      "On 9000\n",
      "On 9500\n",
      "On 10000\n",
      "On 10500\n",
      "On 11000\n",
      "On 11500\n",
      "On 12000\n",
      "On 12500\n",
      "On 13000\n",
      "On 13500\n",
      "On 14000\n",
      "On 14500\n",
      "On 15000\n",
      "On 15500\n",
      "On 16000\n",
      "On 16500\n",
      "On 17000\n",
      "On 17500\n",
      "On 18000\n",
      "On 18500\n",
      "On 19000\n",
      "On 19500\n",
      "On 20000\n",
      "On 20500\n",
      "On 21000\n",
      "On 21500\n",
      "On 22000\n",
      "On 22500\n",
      "On 23000\n",
      "On 23500\n",
      "On 24000\n",
      "On 24500\n",
      "On 25000\n",
      "On 25500\n",
      "On 26000\n",
      "On 26500\n",
      "On 27000\n",
      "On 27500\n",
      "On 28000\n",
      "On 28500\n",
      "On 29000\n",
      "On 29500\n",
      "On 30000\n",
      "On 30500\n",
      "On 31000\n",
      "On 31500\n",
      "On 32000\n",
      "On 32500\n",
      "On 33000\n",
      "On 33500\n"
     ]
    }
   ],
   "source": [
    "idx = 0\n",
    "for d in human_proteome.domains:\n",
    "    \n",
    "    name = f\"{d.protein.unique_ID}_{d.start}_{d.end}\"\n",
    "    \n",
    "    rg = np.round(predicted_rg[name][1],2)\n",
    "    re = np.round(predicted_re[name][1],2)\n",
    "    \n",
    "    d.add_attribute('radius_of_gyration', rg)\n",
    "    d.add_attribute('radius_of_gyration_sn', np.round(predicted_scaled_rg[name][1],2))\n",
    "\n",
    "    d.add_attribute('end_to_end_distance', re)\n",
    "    d.add_attribute('end_to_end_distance_sn', np.round(predicted_scaled_re[name][1],2))\n",
    "    \n",
    "\n",
    "    d.add_attribute('scaling_exponent', np.round(predicted_scaling[name][1],4))\n",
    "    d.add_attribute('scaling_prefactor', np.round(predicted_prefactors[name][1],4))\n",
    "    d.add_attribute('asphericity', np.round(predicted_asph[name][1],3))\n",
    "\n",
    "    afrcp = AnalyticalFRC(d.sequence)\n",
    "\n",
    "    d.add_attribute('rg_afrc_norm', rg/afrcp.get_mean_radius_of_gyration())\n",
    "    d.add_attribute('re_afrc_norm', re/afrcp.get_mean_end_to_end_distance())\n",
    "\n",
    "    if idx % 500 == 0:\n",
    "        print(f\"On {idx}\")\n",
    "        \n",
    "    idx = idx + 1\n"
   ]
  },
  {
   "cell_type": "code",
   "execution_count": 53,
   "id": "circular-affect",
   "metadata": {},
   "outputs": [],
   "source": [
    "# save file\n",
    "interfaces.si_domains.write_domains(human_proteome, 'IDRs_with_properties_v{network_version}.tsv')"
   ]
  }
 ],
 "metadata": {
  "kernelspec": {
   "display_name": "Python 3 (ipykernel)",
   "language": "python",
   "name": "python3"
  },
  "language_info": {
   "codemirror_mode": {
    "name": "ipython",
    "version": 3
   },
   "file_extension": ".py",
   "mimetype": "text/x-python",
   "name": "python",
   "nbconvert_exporter": "python",
   "pygments_lexer": "ipython3",
   "version": "3.8.17"
  }
 },
 "nbformat": 4,
 "nbformat_minor": 5
}
