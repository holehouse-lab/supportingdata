{
 "cells": [
  {
   "cell_type": "markdown",
   "id": "b846b7f7-c004-4a15-beb6-a1161ef66773",
   "metadata": {},
   "source": [
    "## Build linear sequence profiles\n",
    "This notebook constructs data need for Figure 5. There is no need to re-run this because this repository comes with the computed output of this notebook `shprd_re_vector_track.tsv.tgz` - however, we provide this notebook so the full workflow can be reproduced!"
   ]
  },
  {
   "cell_type": "code",
   "execution_count": null,
   "id": "53db5073",
   "metadata": {},
   "outputs": [],
   "source": [
    "import numpy as np\n",
    "import matplotlib\n",
    "\n",
    "import matplotlib.pyplot as plt\n",
    "from matplotlib.pyplot import figure\n",
    "\t\n",
    "# Set such that PDF fonts export in a manner that they\n",
    "# are editable in illustrator/affinity\n",
    "matplotlib.rcParams['pdf.fonttype'] = 42\n",
    "matplotlib.rcParams['ps.fonttype'] = 42\n",
    "\n",
    "# set to define axes linewidths\n",
    "matplotlib.rcParams['axes.linewidth'] = 0.5\n",
    "\n",
    "# this defines some prefactors so inline figures look nice\n",
    "# on a retina macbook. These can be commented out without any\n",
    "# issue and are solely asthetic.\n",
    "%matplotlib inline\n",
    "%config InlineBackend.figure_format='retina'\n",
    "\n",
    "# UPDATE 2020-12-31 (my preferred font is Avenir...)\n",
    "font = {'family' : 'arial',\n",
    "    \t'weight' : 'normal'}\n",
    "\n",
    "matplotlib.rc('font', **font)\n",
    "\n",
    "from afrc import AnalyticalFRC\n",
    "from sparrow import Protein\n",
    "from shephard import interfaces, apis\n",
    "\n",
    "from scipy.signal import savgol_filter\n",
    "\n",
    "from sparrow.predictors import batch_predict"
   ]
  },
  {
   "cell_type": "code",
   "execution_count": 1,
   "id": "36a3969e",
   "metadata": {},
   "outputs": [],
   "source": [
    "# define the directory where the proteome-wide data are held. These data can be obtained from\n",
    "# https://github.com/holehouse-lab/shephard-data/tree/main/data/proteomes/human\n",
    "\n",
    "rootdir = ''"
   ]
  },
  {
   "cell_type": "code",
   "execution_count": null,
   "id": "c09b5118",
   "metadata": {},
   "outputs": [],
   "source": [
    "# read in human proteome\n",
    "human_proteome = apis.uniprot.uniprot_fasta_to_proteome(f'{rootdir}/human_proteome_clean.fasta')\n"
   ]
  },
  {
   "cell_type": "code",
   "execution_count": null,
   "id": "a88e4fcd",
   "metadata": {},
   "outputs": [],
   "source": [
    "#\n",
    "# The function below takes in an amino acid sequence and constructs a linear vector based on the predictor network\n",
    "# defined by the keyword network\n",
    "#\n",
    "\n",
    "def build_track(seq, fragsize=51, network='scaled_re', show_progress_bar=False):\n",
    "    \"\"\"\n",
    "    Internal function that constructs tracks for linear sequence properties.\n",
    "\n",
    "    Takes in an amino acid sequence, breaks it into $fragsize sized fragements, \n",
    "    and for each window in the sequence that's fragsize in dimenions and once all \n",
    "    windows are scanned the N- and C-termini of the sequence are assigned values \n",
    "    that extend from the first and last residue such that the entire track is the\n",
    "    same length as the sequence.\n",
    "\n",
    "    Parameters\n",
    "    --------------------\n",
    "    seq : str\n",
    "        Amino acid string\n",
    "\n",
    "    fragsize : int\n",
    "        Window size being used\n",
    "\n",
    "    network : str\n",
    "        Selector that defines which network to use. Default\n",
    "        is scaled_re (i.e. the default end-to-end distance)\n",
    "\n",
    "    show_progress : bool\n",
    "        Flag which defines if a progress bar is shown \n",
    "        or not during predictions\n",
    "\n",
    "    Returns\n",
    "    --------------------\n",
    "    np.array\n",
    "        Returns an array which is the associated track\n",
    "    \n",
    "    \"\"\"\n",
    "    \n",
    "    if len(seq) < fragsize:\n",
    "        return np.array([])\n",
    "    \n",
    "    vector_s = []\n",
    "    all_frags = {}\n",
    "    for idx in range(0, (len(seq)-fragsize)+1):\n",
    "        f = seq[idx:idx+fragsize]\n",
    "        all_frags[idx] = f\n",
    "    bps = batch_predict.batch_predict(all_frags, network, show_progress_bar=show_progress_bar)\n",
    "    \n",
    "    for i in range(len(bps)):\n",
    "        vector_s.append(bps[i][1])\n",
    "        \n",
    "    ext_len = int((fragsize-1)/2)\n",
    "    n_ext = [vector_s[0]]*ext_len\n",
    "    c_ext = [vector_s[-1]]*ext_len\n",
    "    \n",
    "    n_ext.extend(vector_s)\n",
    "    n_ext.extend(c_ext)\n",
    "    \n",
    "    if len(n_ext) != len(seq):\n",
    "        print(ext_len)\n",
    "        print(len(n_ext))\n",
    "        print(len(seq))\n",
    "\n",
    "        raise Exception('error')\n",
    "    return np.array(n_ext)\n",
    "\n",
    "    \n",
    "    "
   ]
  },
  {
   "cell_type": "markdown",
   "id": "0afac2a5-5177-4e9b-bff3-9f230f189169",
   "metadata": {},
   "source": [
    "### Slow step\n",
    "The cell below takes a few hours on CPUs to run because we're performing predictions for ~2 million 51-residue IDRs. Performance is much faster on GPUs and the code COULD be optimized to run even faster on GPUs, but given we really only need to run this once, ever, this is probably fine..."
   ]
  },
  {
   "cell_type": "code",
   "execution_count": null,
   "id": "c55e889c",
   "metadata": {},
   "outputs": [],
   "source": [
    "for idx, prot in enumerate(human_proteome):\n",
    "    if idx % 50 == 0:\n",
    "        print(idx)\n",
    "    \n",
    "    if 're_vector' not in prot.track_names:\n",
    "        re_vector = build_track(prot.sequence, 51, 'scaled_re', show_progress_bar=False)\n",
    "        if len(re_vector) == 0:\n",
    "            continue \n",
    "        prot.add_track('re_vector', values=re_vector, safe=False)\n",
    "    \n",
    "    \n"
   ]
  },
  {
   "cell_type": "code",
   "execution_count": null,
   "id": "359a3826",
   "metadata": {},
   "outputs": [],
   "source": [
    "\n",
    "# Note - this file is already written and saved as a compressed shprd_re_vector_track.tgz file\n",
    "interfaces.si_tracks.write_all_values_tracks_single_file(human_proteome, 'shprd_re_vector_track.tsv')"
   ]
  }
 ],
 "metadata": {
  "kernelspec": {
   "display_name": "Python 3 (ipykernel)",
   "language": "python",
   "name": "python3"
  },
  "language_info": {
   "codemirror_mode": {
    "name": "ipython",
    "version": 3
   },
   "file_extension": ".py",
   "mimetype": "text/x-python",
   "name": "python",
   "nbconvert_exporter": "python",
   "pygments_lexer": "ipython3",
   "version": "3.8.17"
  }
 },
 "nbformat": 4,
 "nbformat_minor": 5
}
