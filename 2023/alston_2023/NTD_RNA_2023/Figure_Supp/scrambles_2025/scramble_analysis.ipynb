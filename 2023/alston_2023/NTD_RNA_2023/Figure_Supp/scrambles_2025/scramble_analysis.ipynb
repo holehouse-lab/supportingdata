{
 "cells": [
  {
   "cell_type": "code",
   "execution_count": 54,
   "id": "8940cafc-e965-4c90-b28c-bbc16d97fe33",
   "metadata": {},
   "outputs": [],
   "source": [
    "# HHL figure defaults \n",
    "# updated December 2024\n",
    "import numpy as np\n",
    "import matplotlib\n",
    "\n",
    "import seaborn as sns\n",
    "import matplotlib.pyplot as plt\n",
    "import pandas as pd\n",
    "\n",
    "import protfasta\n",
    "from sparrow import Protein\n",
    "from scipy.stats import mannwhitneyu\n",
    "from itertools import combinations\n",
    "\n",
    "\n",
    "\n",
    "import matplotlib.pyplot as plt\n",
    "from matplotlib.pyplot import figure\n",
    "\t\n",
    "# Set such that PDF fonts export in a manner that they\n",
    "# are editable in illustrator/affinity\n",
    "matplotlib.rcParams['pdf.fonttype'] = 42\n",
    "matplotlib.rcParams['ps.fonttype'] = 42\n",
    "\n",
    "# set to define axes linewidths\n",
    "matplotlib.rcParams['axes.linewidth'] = 0.25\n",
    "\n",
    "# set default plot line width\n",
    "matplotlib.rcParams['lines.linewidth'] = 0.5\n",
    "\n",
    "# xtick and y axis sizes\n",
    "matplotlib.rcParams['xtick.major.size'] = 2  # Major tick length for x-axis\n",
    "matplotlib.rcParams['xtick.minor.size'] = 0.5   # Minor tick length for x-axis\n",
    "matplotlib.rcParams['ytick.major.size'] = 2  # Major tick length for y-axis\n",
    "matplotlib.rcParams['ytick.minor.size'] = 0.5   # Minor tick length for y-axis\n",
    "\n",
    "# xtick and y axis sizes\n",
    "matplotlib.rcParams['xtick.major.width'] = 0.375  # Major tick width for x-axis\n",
    "matplotlib.rcParams['ytick.major.width'] = 0.375  # Major tick width for y-axis\n",
    "matplotlib.rcParams['xtick.minor.width'] = 0.375  # Major tick width for x-axis\n",
    "matplotlib.rcParams['ytick.minor.width'] = 0.375  # Major tick width for y-axis\n",
    "\n",
    "# reduce padding\n",
    "matplotlib.rcParams['xtick.major.pad'] = 1\n",
    "matplotlib.rcParams['ytick.major.pad'] = 1\n",
    "\n",
    "\n",
    "# **Set font sizes for ticks, labels, and legend**\n",
    "matplotlib.rcParams['xtick.labelsize'] = 8  # Font size for x-tick labels\n",
    "matplotlib.rcParams['ytick.labelsize'] = 8  # Font size for y-tick labels\n",
    "matplotlib.rcParams['axes.labelsize'] = 10  # Font size for x-axis and y-\taxis labels\n",
    "matplotlib.rcParams['legend.fontsize'] = 8  # Font size for legend text\n",
    "\n",
    "# this defines some prefactors so inline figures look nice\n",
    "# on a retina macbook. These can be commented out without any\n",
    "# issue and are solely asthetic.\n",
    "%matplotlib inline\n",
    "%config InlineBackend.figure_format='retina'\n",
    "\n",
    "# UPDATE 2020-12-31 (my preferred font is Avenir...)\n",
    "font = {'family' : 'arial',\n",
    "    \t'weight' : 'normal'}\n",
    "\n",
    "matplotlib.rc('font', **font)\n",
    "\n",
    "# make single figures with\n",
    "# figure(None, (3,2), dpi=350)\n"
   ]
  },
  {
   "cell_type": "code",
   "execution_count": 56,
   "id": "4c926744-3f09-428a-9674-0736079c59a3",
   "metadata": {},
   "outputs": [
    {
     "data": {
      "text/html": [
       "<p style=\"font-family:Courier;font-size: 14px\"><span style=\"color:#cf30b7\">P</span><span style=\"color:#2900f5\">R</span><span style=\"color:#04700d\">Q</span><span style=\"color:#171616\">M</span><span style=\"color:#04700d\">T</span><span style=\"color:#cf30b7\">P</span><span style=\"color:#04700d\">N</span><span style=\"color:#04700d\">Q</span><span style=\"color:#04700d\">S</span><span style=\"color:#04700d\">G</span><span style=\"color:#04700d\">Q</span><span style=\"color:#04700d\">T</span><span style=\"color:#171616\">A</span><span style=\"color:#ff0d0d\">D</span><span style=\"color:#04700d\">G</span><span style=\"color:#04700d\">G</span><span style=\"color:#04700d\">N</span><span style=\"color:#04700d\">G</span><span style=\"color:#cf30b7\">P</span><span style=\"color:#04700d\">S</span><span style=\"color:#ff0d0d\">E</span><span style=\"color:#04700d\">N</span><span style=\"color:#04700d\">N</span><span style=\"color:#cf30b7\">P</span><span style=\"color:#04700d\">N</span><span style=\"color:#ff9d00\">F</span><span style=\"color:#04700d\">T</span><span style=\"color:#04700d\">G</span><span style=\"color:#ff0d0d\">D</span><span style=\"color:#04700d\">N</span><span style=\"color:#2900f5\">R</span><span style=\"color:#2900f5\"><b>R</b></span><span style=\"color:#04700d\"><b>S</b></span><span style=\"color:#04700d\"><b>G</b></span><span style=\"color:#171616\"><b>A</b></span><span style=\"color:#2900f5\"><b>R</b></span><span style=\"color:#04700d\"><b>S</b></span><span style=\"color:#2900f5\"><b>K</b></span><span style=\"color:#04700d\"><b>Q</b></span><span style=\"color:#2900f5\"><b>R</b></span><span style=\"color:#2900f5\"><b>R</b></span><span style=\"color:#04700d\">S</span><span style=\"color:#04700d\">N</span><span style=\"color:#cf30b7\">P</span><span style=\"color:#171616\">I</span><span style=\"color:#171616\">L</span><span style=\"color:#04700d\">S</span><span style=\"color:#04700d\">G</span><span style=\"color:#04700d\">Q</span></p>"
      ],
      "text/plain": [
       "<IPython.core.display.HTML object>"
      ]
     },
     "metadata": {},
     "output_type": "display_data"
    },
    {
     "data": {
      "text/html": [
       "<p style=\"font-family:Courier;font-size: 14px\"><span style=\"color:#04700d\">N</span><span style=\"color:#04700d\">N</span><span style=\"color:#04700d\">N</span><span style=\"color:#2900f5\">R</span><span style=\"color:#ff9d00\">F</span><span style=\"color:#04700d\">T</span><span style=\"color:#04700d\">G</span><span style=\"color:#04700d\">Q</span><span style=\"color:#04700d\">S</span><span style=\"color:#04700d\">Q</span><span style=\"color:#04700d\">G</span><span style=\"color:#04700d\">S</span><span style=\"color:#04700d\">Q</span><span style=\"color:#ff0d0d\">D</span><span style=\"color:#171616\">M</span><span style=\"color:#171616\">L</span><span style=\"color:#04700d\">N</span><span style=\"color:#04700d\">T</span><span style=\"color:#2900f5\">R</span><span style=\"color:#cf30b7\">P</span><span style=\"color:#04700d\">N</span><span style=\"color:#04700d\">T</span><span style=\"color:#171616\">A</span><span style=\"color:#04700d\">G</span><span style=\"color:#04700d\">N</span><span style=\"color:#04700d\">G</span><span style=\"color:#ff0d0d\">D</span><span style=\"color:#171616\">I</span><span style=\"color:#04700d\">S</span><span style=\"color:#ff0d0d\">E</span><span style=\"color:#04700d\">Q</span><span style=\"color:#2900f5\"><b>R</b></span><span style=\"color:#04700d\"><b>S</b></span><span style=\"color:#04700d\"><b>G</b></span><span style=\"color:#171616\"><b>A</b></span><span style=\"color:#2900f5\"><b>R</b></span><span style=\"color:#04700d\"><b>S</b></span><span style=\"color:#2900f5\"><b>K</b></span><span style=\"color:#04700d\"><b>Q</b></span><span style=\"color:#2900f5\"><b>R</b></span><span style=\"color:#2900f5\"><b>R</b></span><span style=\"color:#04700d\">N</span><span style=\"color:#cf30b7\">P</span><span style=\"color:#cf30b7\">P</span><span style=\"color:#cf30b7\">P</span><span style=\"color:#04700d\">G</span><span style=\"color:#04700d\">G</span><span style=\"color:#04700d\">S</span><span style=\"color:#cf30b7\">P</span></p>"
      ],
      "text/plain": [
       "<IPython.core.display.HTML object>"
      ]
     },
     "metadata": {},
     "output_type": "display_data"
    },
    {
     "data": {
      "text/html": [
       "<p style=\"font-family:Courier;font-size: 14px\"><span style=\"color:#04700d\">S</span><span style=\"color:#04700d\">T</span><span style=\"color:#04700d\">G</span><span style=\"color:#cf30b7\">P</span><span style=\"color:#cf30b7\">P</span><span style=\"color:#04700d\">Q</span><span style=\"color:#04700d\">N</span><span style=\"color:#cf30b7\">P</span><span style=\"color:#cf30b7\">P</span><span style=\"color:#04700d\">G</span><span style=\"color:#04700d\">S</span><span style=\"color:#04700d\">Q</span><span style=\"color:#04700d\">N</span><span style=\"color:#ff9d00\">F</span><span style=\"color:#04700d\">N</span><span style=\"color:#04700d\">S</span><span style=\"color:#cf30b7\">P</span><span style=\"color:#04700d\">N</span><span style=\"color:#171616\">I</span><span style=\"color:#171616\">L</span><span style=\"color:#171616\">A</span><span style=\"color:#04700d\">Q</span><span style=\"color:#04700d\">Q</span><span style=\"color:#ff0d0d\">E</span><span style=\"color:#04700d\">T</span><span style=\"color:#04700d\">G</span><span style=\"color:#2900f5\">R</span><span style=\"color:#04700d\">G</span><span style=\"color:#04700d\">G</span><span style=\"color:#04700d\">N</span><span style=\"color:#04700d\">N</span><span style=\"color:#2900f5\"><b>R</b></span><span style=\"color:#04700d\"><b>S</b></span><span style=\"color:#04700d\"><b>G</b></span><span style=\"color:#171616\"><b>A</b></span><span style=\"color:#2900f5\"><b>R</b></span><span style=\"color:#04700d\"><b>S</b></span><span style=\"color:#2900f5\"><b>K</b></span><span style=\"color:#04700d\"><b>Q</b></span><span style=\"color:#2900f5\"><b>R</b></span><span style=\"color:#2900f5\"><b>R</b></span><span style=\"color:#2900f5\">R</span><span style=\"color:#ff0d0d\">D</span><span style=\"color:#04700d\">N</span><span style=\"color:#171616\">M</span><span style=\"color:#ff0d0d\">D</span><span style=\"color:#04700d\">G</span><span style=\"color:#04700d\">S</span><span style=\"color:#04700d\">T</span></p>"
      ],
      "text/plain": [
       "<IPython.core.display.HTML object>"
      ]
     },
     "metadata": {},
     "output_type": "display_data"
    },
    {
     "data": {
      "text/html": [
       "<p style=\"font-family:Courier;font-size: 14px\"><span style=\"color:#04700d\">T</span><span style=\"color:#04700d\">S</span><span style=\"color:#171616\">I</span><span style=\"color:#171616\">L</span><span style=\"color:#04700d\">T</span><span style=\"color:#ff0d0d\">E</span><span style=\"color:#04700d\">Q</span><span style=\"color:#04700d\">N</span><span style=\"color:#ff0d0d\">D</span><span style=\"color:#04700d\">Q</span><span style=\"color:#04700d\">G</span><span style=\"color:#2900f5\">R</span><span style=\"color:#ff9d00\">F</span><span style=\"color:#04700d\">N</span><span style=\"color:#04700d\">N</span><span style=\"color:#04700d\">S</span><span style=\"color:#04700d\">Q</span><span style=\"color:#cf30b7\">P</span><span style=\"color:#2900f5\">R</span><span style=\"color:#04700d\">G</span><span style=\"color:#171616\">A</span><span style=\"color:#04700d\">S</span><span style=\"color:#04700d\">N</span><span style=\"color:#04700d\">N</span><span style=\"color:#04700d\">Q</span><span style=\"color:#04700d\">G</span><span style=\"color:#04700d\">N</span><span style=\"color:#cf30b7\">P</span><span style=\"color:#04700d\">S</span><span style=\"color:#04700d\">G</span><span style=\"color:#04700d\">G</span><span style=\"color:#2900f5\"><b>R</b></span><span style=\"color:#04700d\"><b>S</b></span><span style=\"color:#04700d\"><b>G</b></span><span style=\"color:#171616\"><b>A</b></span><span style=\"color:#2900f5\"><b>R</b></span><span style=\"color:#04700d\"><b>S</b></span><span style=\"color:#2900f5\"><b>K</b></span><span style=\"color:#04700d\"><b>Q</b></span><span style=\"color:#2900f5\"><b>R</b></span><span style=\"color:#2900f5\"><b>R</b></span><span style=\"color:#ff0d0d\">D</span><span style=\"color:#04700d\">G</span><span style=\"color:#04700d\">T</span><span style=\"color:#cf30b7\">P</span><span style=\"color:#171616\">M</span><span style=\"color:#04700d\">N</span><span style=\"color:#cf30b7\">P</span><span style=\"color:#cf30b7\">P</span></p>"
      ],
      "text/plain": [
       "<IPython.core.display.HTML object>"
      ]
     },
     "metadata": {},
     "output_type": "display_data"
    },
    {
     "data": {
      "text/html": [
       "<p style=\"font-family:Courier;font-size: 14px\"><span style=\"color:#2900f5\">R</span><span style=\"color:#04700d\">G</span><span style=\"color:#ff0d0d\">E</span><span style=\"color:#cf30b7\">P</span><span style=\"color:#04700d\">S</span><span style=\"color:#04700d\">N</span><span style=\"color:#171616\">M</span><span style=\"color:#cf30b7\">P</span><span style=\"color:#04700d\">Q</span><span style=\"color:#04700d\">Q</span><span style=\"color:#04700d\">T</span><span style=\"color:#cf30b7\">P</span><span style=\"color:#04700d\">S</span><span style=\"color:#04700d\">N</span><span style=\"color:#cf30b7\">P</span><span style=\"color:#171616\">A</span><span style=\"color:#171616\">I</span><span style=\"color:#ff9d00\">F</span><span style=\"color:#04700d\">G</span><span style=\"color:#04700d\">N</span><span style=\"color:#04700d\">S</span><span style=\"color:#ff0d0d\">D</span><span style=\"color:#04700d\">T</span><span style=\"color:#04700d\">Q</span><span style=\"color:#04700d\">N</span><span style=\"color:#04700d\">G</span><span style=\"color:#cf30b7\">P</span><span style=\"color:#2900f5\">R</span><span style=\"color:#04700d\">S</span><span style=\"color:#04700d\">Q</span><span style=\"color:#04700d\">G</span><span style=\"color:#2900f5\"><b>R</b></span><span style=\"color:#04700d\"><b>S</b></span><span style=\"color:#04700d\"><b>G</b></span><span style=\"color:#171616\"><b>A</b></span><span style=\"color:#2900f5\"><b>R</b></span><span style=\"color:#04700d\"><b>S</b></span><span style=\"color:#2900f5\"><b>K</b></span><span style=\"color:#04700d\"><b>Q</b></span><span style=\"color:#2900f5\"><b>R</b></span><span style=\"color:#2900f5\"><b>R</b></span><span style=\"color:#04700d\">N</span><span style=\"color:#04700d\">G</span><span style=\"color:#04700d\">N</span><span style=\"color:#171616\">L</span><span style=\"color:#04700d\">N</span><span style=\"color:#04700d\">G</span><span style=\"color:#ff0d0d\">D</span><span style=\"color:#04700d\">T</span></p>"
      ],
      "text/plain": [
       "<IPython.core.display.HTML object>"
      ]
     },
     "metadata": {},
     "output_type": "display_data"
    },
    {
     "data": {
      "text/html": [
       "<p style=\"font-family:Courier;font-size: 14px\"><span style=\"color:#04700d\">T</span><span style=\"color:#04700d\">Q</span><span style=\"color:#ff0d0d\">D</span><span style=\"color:#cf30b7\">P</span><span style=\"color:#04700d\">N</span><span style=\"color:#2900f5\">R</span><span style=\"color:#ff9d00\">F</span><span style=\"color:#04700d\">G</span><span style=\"color:#ff0d0d\">D</span><span style=\"color:#04700d\">Q</span><span style=\"color:#04700d\">S</span><span style=\"color:#04700d\">N</span><span style=\"color:#04700d\">S</span><span style=\"color:#04700d\">N</span><span style=\"color:#171616\">I</span><span style=\"color:#04700d\">Q</span><span style=\"color:#cf30b7\">P</span><span style=\"color:#171616\">A</span><span style=\"color:#cf30b7\">P</span><span style=\"color:#04700d\">S</span><span style=\"color:#04700d\">G</span><span style=\"color:#2900f5\">R</span><span style=\"color:#cf30b7\">P</span><span style=\"color:#04700d\">N</span><span style=\"color:#04700d\">G</span><span style=\"color:#04700d\">T</span><span style=\"color:#04700d\">N</span><span style=\"color:#04700d\">T</span><span style=\"color:#04700d\">G</span><span style=\"color:#04700d\">N</span><span style=\"color:#ff0d0d\">E</span><span style=\"color:#2900f5\"><b>R</b></span><span style=\"color:#04700d\"><b>S</b></span><span style=\"color:#04700d\"><b>G</b></span><span style=\"color:#171616\"><b>A</b></span><span style=\"color:#2900f5\"><b>R</b></span><span style=\"color:#04700d\"><b>S</b></span><span style=\"color:#2900f5\"><b>K</b></span><span style=\"color:#04700d\"><b>Q</b></span><span style=\"color:#2900f5\"><b>R</b></span><span style=\"color:#2900f5\"><b>R</b></span><span style=\"color:#171616\">M</span><span style=\"color:#171616\">L</span><span style=\"color:#04700d\">G</span><span style=\"color:#04700d\">S</span><span style=\"color:#04700d\">N</span><span style=\"color:#04700d\">Q</span><span style=\"color:#cf30b7\">P</span><span style=\"color:#04700d\">G</span></p>"
      ],
      "text/plain": [
       "<IPython.core.display.HTML object>"
      ]
     },
     "metadata": {},
     "output_type": "display_data"
    },
    {
     "data": {
      "text/html": [
       "<p style=\"font-family:Courier;font-size: 14px\"><span style=\"color:#04700d\">G</span><span style=\"color:#04700d\">G</span><span style=\"color:#cf30b7\">P</span><span style=\"color:#04700d\">S</span><span style=\"color:#04700d\">G</span><span style=\"color:#04700d\">G</span><span style=\"color:#2900f5\">R</span><span style=\"color:#ff0d0d\">D</span><span style=\"color:#04700d\">Q</span><span style=\"color:#04700d\">Q</span><span style=\"color:#171616\">M</span><span style=\"color:#04700d\">N</span><span style=\"color:#04700d\">S</span><span style=\"color:#171616\">L</span><span style=\"color:#171616\">A</span><span style=\"color:#04700d\">S</span><span style=\"color:#04700d\">S</span><span style=\"color:#04700d\">N</span><span style=\"color:#04700d\">Q</span><span style=\"color:#04700d\">T</span><span style=\"color:#04700d\">T</span><span style=\"color:#cf30b7\">P</span><span style=\"color:#04700d\">Q</span><span style=\"color:#ff9d00\">F</span><span style=\"color:#04700d\">N</span><span style=\"color:#ff0d0d\">D</span><span style=\"color:#cf30b7\">P</span><span style=\"color:#cf30b7\">P</span><span style=\"color:#04700d\">G</span><span style=\"color:#cf30b7\">P</span><span style=\"color:#04700d\">N</span><span style=\"color:#2900f5\"><b>R</b></span><span style=\"color:#04700d\"><b>S</b></span><span style=\"color:#04700d\"><b>G</b></span><span style=\"color:#171616\"><b>A</b></span><span style=\"color:#2900f5\"><b>R</b></span><span style=\"color:#04700d\"><b>S</b></span><span style=\"color:#2900f5\"><b>K</b></span><span style=\"color:#04700d\"><b>Q</b></span><span style=\"color:#2900f5\"><b>R</b></span><span style=\"color:#2900f5\"><b>R</b></span><span style=\"color:#171616\">I</span><span style=\"color:#04700d\">N</span><span style=\"color:#04700d\">N</span><span style=\"color:#ff0d0d\">E</span><span style=\"color:#04700d\">T</span><span style=\"color:#04700d\">N</span><span style=\"color:#04700d\">G</span><span style=\"color:#2900f5\">R</span></p>"
      ],
      "text/plain": [
       "<IPython.core.display.HTML object>"
      ]
     },
     "metadata": {},
     "output_type": "display_data"
    },
    {
     "data": {
      "text/html": [
       "<p style=\"font-family:Courier;font-size: 14px\"><span style=\"color:#cf30b7\">P</span><span style=\"color:#2900f5\">R</span><span style=\"color:#04700d\">N</span><span style=\"color:#04700d\">N</span><span style=\"color:#cf30b7\">P</span><span style=\"color:#04700d\">G</span><span style=\"color:#04700d\">T</span><span style=\"color:#04700d\">Q</span><span style=\"color:#04700d\">T</span><span style=\"color:#ff0d0d\">D</span><span style=\"color:#171616\">I</span><span style=\"color:#171616\">L</span><span style=\"color:#04700d\">N</span><span style=\"color:#04700d\">Q</span><span style=\"color:#04700d\">N</span><span style=\"color:#ff0d0d\">E</span><span style=\"color:#171616\">M</span><span style=\"color:#04700d\">G</span><span style=\"color:#171616\">A</span><span style=\"color:#04700d\">G</span><span style=\"color:#04700d\">S</span><span style=\"color:#04700d\">N</span><span style=\"color:#04700d\">S</span><span style=\"color:#04700d\">S</span><span style=\"color:#cf30b7\">P</span><span style=\"color:#2900f5\">R</span><span style=\"color:#ff9d00\">F</span><span style=\"color:#cf30b7\">P</span><span style=\"color:#ff0d0d\">D</span><span style=\"color:#04700d\">Q</span><span style=\"color:#cf30b7\">P</span><span style=\"color:#2900f5\"><b>R</b></span><span style=\"color:#04700d\"><b>S</b></span><span style=\"color:#04700d\"><b>G</b></span><span style=\"color:#171616\"><b>A</b></span><span style=\"color:#2900f5\"><b>R</b></span><span style=\"color:#04700d\"><b>S</b></span><span style=\"color:#2900f5\"><b>K</b></span><span style=\"color:#04700d\"><b>Q</b></span><span style=\"color:#2900f5\"><b>R</b></span><span style=\"color:#2900f5\"><b>R</b></span><span style=\"color:#04700d\">G</span><span style=\"color:#04700d\">N</span><span style=\"color:#04700d\">G</span><span style=\"color:#04700d\">T</span><span style=\"color:#04700d\">Q</span><span style=\"color:#04700d\">N</span><span style=\"color:#04700d\">S</span><span style=\"color:#04700d\">G</span></p>"
      ],
      "text/plain": [
       "<IPython.core.display.HTML object>"
      ]
     },
     "metadata": {},
     "output_type": "display_data"
    },
    {
     "data": {
      "text/html": [
       "<p style=\"font-family:Courier;font-size: 14px\"><span style=\"color:#04700d\">S</span><span style=\"color:#04700d\">Q</span><span style=\"color:#ff0d0d\">D</span><span style=\"color:#04700d\">G</span><span style=\"color:#04700d\">G</span><span style=\"color:#04700d\">T</span><span style=\"color:#04700d\">S</span><span style=\"color:#04700d\">G</span><span style=\"color:#cf30b7\">P</span><span style=\"color:#cf30b7\">P</span><span style=\"color:#04700d\">S</span><span style=\"color:#04700d\">S</span><span style=\"color:#171616\">I</span><span style=\"color:#04700d\">N</span><span style=\"color:#2900f5\">R</span><span style=\"color:#04700d\">G</span><span style=\"color:#04700d\">N</span><span style=\"color:#cf30b7\">P</span><span style=\"color:#2900f5\">R</span><span style=\"color:#ff0d0d\">D</span><span style=\"color:#04700d\">T</span><span style=\"color:#04700d\">Q</span><span style=\"color:#04700d\">Q</span><span style=\"color:#171616\">M</span><span style=\"color:#04700d\">N</span><span style=\"color:#04700d\">Q</span><span style=\"color:#04700d\">N</span><span style=\"color:#ff9d00\">F</span><span style=\"color:#cf30b7\">P</span><span style=\"color:#04700d\">G</span><span style=\"color:#04700d\">T</span><span style=\"color:#2900f5\"><b>R</b></span><span style=\"color:#04700d\"><b>S</b></span><span style=\"color:#04700d\"><b>G</b></span><span style=\"color:#171616\"><b>A</b></span><span style=\"color:#2900f5\"><b>R</b></span><span style=\"color:#04700d\"><b>S</b></span><span style=\"color:#2900f5\"><b>K</b></span><span style=\"color:#04700d\"><b>Q</b></span><span style=\"color:#2900f5\"><b>R</b></span><span style=\"color:#2900f5\"><b>R</b></span><span style=\"color:#04700d\">N</span><span style=\"color:#cf30b7\">P</span><span style=\"color:#04700d\">N</span><span style=\"color:#ff0d0d\">E</span><span style=\"color:#171616\">L</span><span style=\"color:#04700d\">N</span><span style=\"color:#171616\">A</span><span style=\"color:#04700d\">G</span></p>"
      ],
      "text/plain": [
       "<IPython.core.display.HTML object>"
      ]
     },
     "metadata": {},
     "output_type": "display_data"
    },
    {
     "data": {
      "text/html": [
       "<p style=\"font-family:Courier;font-size: 14px\"><span style=\"color:#04700d\">N</span><span style=\"color:#cf30b7\">P</span><span style=\"color:#04700d\">N</span><span style=\"color:#04700d\">S</span><span style=\"color:#04700d\">G</span><span style=\"color:#171616\">M</span><span style=\"color:#04700d\">T</span><span style=\"color:#04700d\">N</span><span style=\"color:#04700d\">G</span><span style=\"color:#04700d\">G</span><span style=\"color:#2900f5\">R</span><span style=\"color:#04700d\">G</span><span style=\"color:#171616\">L</span><span style=\"color:#04700d\">G</span><span style=\"color:#ff0d0d\">D</span><span style=\"color:#04700d\">T</span><span style=\"color:#cf30b7\">P</span><span style=\"color:#04700d\">S</span><span style=\"color:#04700d\">Q</span><span style=\"color:#04700d\">Q</span><span style=\"color:#171616\">I</span><span style=\"color:#ff9d00\">F</span><span style=\"color:#04700d\">S</span><span style=\"color:#04700d\">Q</span><span style=\"color:#2900f5\">R</span><span style=\"color:#cf30b7\">P</span><span style=\"color:#04700d\">T</span><span style=\"color:#04700d\">N</span><span style=\"color:#04700d\">G</span><span style=\"color:#ff0d0d\">D</span><span style=\"color:#cf30b7\">P</span><span style=\"color:#2900f5\"><b>R</b></span><span style=\"color:#04700d\"><b>S</b></span><span style=\"color:#04700d\"><b>G</b></span><span style=\"color:#171616\"><b>A</b></span><span style=\"color:#2900f5\"><b>R</b></span><span style=\"color:#04700d\"><b>S</b></span><span style=\"color:#2900f5\"><b>K</b></span><span style=\"color:#04700d\"><b>Q</b></span><span style=\"color:#2900f5\"><b>R</b></span><span style=\"color:#2900f5\"><b>R</b></span><span style=\"color:#ff0d0d\">E</span><span style=\"color:#04700d\">Q</span><span style=\"color:#04700d\">N</span><span style=\"color:#171616\">A</span><span style=\"color:#04700d\">S</span><span style=\"color:#cf30b7\">P</span><span style=\"color:#04700d\">N</span><span style=\"color:#04700d\">N</span></p>"
      ],
      "text/plain": [
       "<IPython.core.display.HTML object>"
      ]
     },
     "metadata": {},
     "output_type": "display_data"
    },
    {
     "data": {
      "text/html": [
       "<p style=\"font-family:Courier;font-size: 14px\"><span style=\"color:#cf30b7\">P</span><span style=\"color:#04700d\">G</span><span style=\"color:#04700d\">Q</span><span style=\"color:#04700d\">N</span><span style=\"color:#cf30b7\">P</span><span style=\"color:#04700d\">G</span><span style=\"color:#04700d\">G</span><span style=\"color:#04700d\">N</span><span style=\"color:#171616\">A</span><span style=\"color:#04700d\">G</span><span style=\"color:#04700d\">N</span><span style=\"color:#04700d\">Q</span><span style=\"color:#04700d\">N</span><span style=\"color:#04700d\">N</span><span style=\"color:#04700d\">T</span><span style=\"color:#ff0d0d\">E</span><span style=\"color:#04700d\">N</span><span style=\"color:#ff9d00\">F</span><span style=\"color:#04700d\">T</span><span style=\"color:#2900f5\">R</span><span style=\"color:#cf30b7\">P</span><span style=\"color:#2900f5\">R</span><span style=\"color:#04700d\">G</span><span style=\"color:#171616\">M</span><span style=\"color:#04700d\">S</span><span style=\"color:#ff0d0d\">D</span><span style=\"color:#04700d\">G</span><span style=\"color:#04700d\">S</span><span style=\"color:#171616\">I</span><span style=\"color:#04700d\">T</span><span style=\"color:#04700d\">N</span><span style=\"color:#2900f5\"><b>R</b></span><span style=\"color:#04700d\"><b>S</b></span><span style=\"color:#04700d\"><b>G</b></span><span style=\"color:#171616\"><b>A</b></span><span style=\"color:#2900f5\"><b>R</b></span><span style=\"color:#04700d\"><b>S</b></span><span style=\"color:#2900f5\"><b>K</b></span><span style=\"color:#04700d\"><b>Q</b></span><span style=\"color:#2900f5\"><b>R</b></span><span style=\"color:#2900f5\"><b>R</b></span><span style=\"color:#04700d\">S</span><span style=\"color:#04700d\">Q</span><span style=\"color:#171616\">L</span><span style=\"color:#cf30b7\">P</span><span style=\"color:#cf30b7\">P</span><span style=\"color:#ff0d0d\">D</span><span style=\"color:#04700d\">Q</span><span style=\"color:#04700d\">S</span></p>"
      ],
      "text/plain": [
       "<IPython.core.display.HTML object>"
      ]
     },
     "metadata": {},
     "output_type": "display_data"
    },
    {
     "data": {
      "text/html": [
       "<p style=\"font-family:Courier;font-size: 14px\"><span style=\"color:#04700d\">G</span><span style=\"color:#04700d\">G</span><span style=\"color:#04700d\">N</span><span style=\"color:#04700d\">S</span><span style=\"color:#2900f5\">R</span><span style=\"color:#04700d\">G</span><span style=\"color:#04700d\">G</span><span style=\"color:#04700d\">S</span><span style=\"color:#171616\">M</span><span style=\"color:#cf30b7\">P</span><span style=\"color:#cf30b7\">P</span><span style=\"color:#2900f5\">R</span><span style=\"color:#ff0d0d\">D</span><span style=\"color:#04700d\">T</span><span style=\"color:#ff9d00\">F</span><span style=\"color:#171616\">A</span><span style=\"color:#04700d\">S</span><span style=\"color:#04700d\">N</span><span style=\"color:#04700d\">G</span><span style=\"color:#04700d\">Q</span><span style=\"color:#04700d\">N</span><span style=\"color:#04700d\">S</span><span style=\"color:#ff0d0d\">D</span><span style=\"color:#04700d\">N</span><span style=\"color:#cf30b7\">P</span><span style=\"color:#04700d\">T</span><span style=\"color:#171616\">L</span><span style=\"color:#04700d\">T</span><span style=\"color:#cf30b7\">P</span><span style=\"color:#04700d\">N</span><span style=\"color:#04700d\">G</span><span style=\"color:#2900f5\"><b>R</b></span><span style=\"color:#04700d\"><b>S</b></span><span style=\"color:#04700d\"><b>G</b></span><span style=\"color:#171616\"><b>A</b></span><span style=\"color:#2900f5\"><b>R</b></span><span style=\"color:#04700d\"><b>S</b></span><span style=\"color:#2900f5\"><b>K</b></span><span style=\"color:#04700d\"><b>Q</b></span><span style=\"color:#2900f5\"><b>R</b></span><span style=\"color:#2900f5\"><b>R</b></span><span style=\"color:#04700d\">Q</span><span style=\"color:#04700d\">Q</span><span style=\"color:#04700d\">N</span><span style=\"color:#04700d\">Q</span><span style=\"color:#cf30b7\">P</span><span style=\"color:#ff0d0d\">E</span><span style=\"color:#04700d\">N</span><span style=\"color:#171616\">I</span></p>"
      ],
      "text/plain": [
       "<IPython.core.display.HTML object>"
      ]
     },
     "metadata": {},
     "output_type": "display_data"
    },
    {
     "data": {
      "text/html": [
       "<p style=\"font-family:Courier;font-size: 14px\"><span style=\"color:#04700d\">G</span><span style=\"color:#cf30b7\">P</span><span style=\"color:#ff0d0d\">E</span><span style=\"color:#04700d\">G</span><span style=\"color:#04700d\">G</span><span style=\"color:#2900f5\">R</span><span style=\"color:#cf30b7\">P</span><span style=\"color:#04700d\">S</span><span style=\"color:#04700d\">S</span><span style=\"color:#04700d\">G</span><span style=\"color:#04700d\">N</span><span style=\"color:#cf30b7\">P</span><span style=\"color:#04700d\">N</span><span style=\"color:#171616\">L</span><span style=\"color:#cf30b7\">P</span><span style=\"color:#04700d\">N</span><span style=\"color:#04700d\">Q</span><span style=\"color:#04700d\">G</span><span style=\"color:#04700d\">Q</span><span style=\"color:#171616\">A</span><span style=\"color:#cf30b7\">P</span><span style=\"color:#04700d\">G</span><span style=\"color:#04700d\">N</span><span style=\"color:#ff0d0d\">D</span><span style=\"color:#04700d\">Q</span><span style=\"color:#2900f5\">R</span><span style=\"color:#ff0d0d\">D</span><span style=\"color:#04700d\">N</span><span style=\"color:#171616\">M</span><span style=\"color:#04700d\">S</span><span style=\"color:#171616\">I</span><span style=\"color:#2900f5\"><b>R</b></span><span style=\"color:#04700d\"><b>S</b></span><span style=\"color:#04700d\"><b>G</b></span><span style=\"color:#171616\"><b>A</b></span><span style=\"color:#2900f5\"><b>R</b></span><span style=\"color:#04700d\"><b>S</b></span><span style=\"color:#2900f5\"><b>K</b></span><span style=\"color:#04700d\"><b>Q</b></span><span style=\"color:#2900f5\"><b>R</b></span><span style=\"color:#2900f5\"><b>R</b></span><span style=\"color:#04700d\">N</span><span style=\"color:#04700d\">T</span><span style=\"color:#ff9d00\">F</span><span style=\"color:#04700d\">T</span><span style=\"color:#04700d\">Q</span><span style=\"color:#04700d\">S</span><span style=\"color:#04700d\">T</span><span style=\"color:#04700d\">N</span></p>"
      ],
      "text/plain": [
       "<IPython.core.display.HTML object>"
      ]
     },
     "metadata": {},
     "output_type": "display_data"
    },
    {
     "data": {
      "text/html": [
       "<p style=\"font-family:Courier;font-size: 14px\"><span style=\"color:#04700d\">N</span><span style=\"color:#cf30b7\">P</span><span style=\"color:#2900f5\">R</span><span style=\"color:#171616\">I</span><span style=\"color:#cf30b7\">P</span><span style=\"color:#cf30b7\">P</span><span style=\"color:#04700d\">G</span><span style=\"color:#04700d\">G</span><span style=\"color:#04700d\">S</span><span style=\"color:#04700d\">Q</span><span style=\"color:#04700d\">N</span><span style=\"color:#04700d\">S</span><span style=\"color:#171616\">L</span><span style=\"color:#04700d\">N</span><span style=\"color:#04700d\">G</span><span style=\"color:#ff0d0d\">D</span><span style=\"color:#2900f5\">R</span><span style=\"color:#04700d\">G</span><span style=\"color:#04700d\">N</span><span style=\"color:#cf30b7\">P</span><span style=\"color:#ff0d0d\">E</span><span style=\"color:#04700d\">N</span><span style=\"color:#04700d\">Q</span><span style=\"color:#04700d\">G</span><span style=\"color:#171616\">M</span><span style=\"color:#171616\">A</span><span style=\"color:#ff9d00\">F</span><span style=\"color:#cf30b7\">P</span><span style=\"color:#04700d\">T</span><span style=\"color:#04700d\">N</span><span style=\"color:#04700d\">T</span><span style=\"color:#2900f5\"><b>R</b></span><span style=\"color:#04700d\"><b>S</b></span><span style=\"color:#04700d\"><b>G</b></span><span style=\"color:#171616\"><b>A</b></span><span style=\"color:#2900f5\"><b>R</b></span><span style=\"color:#04700d\"><b>S</b></span><span style=\"color:#2900f5\"><b>K</b></span><span style=\"color:#04700d\"><b>Q</b></span><span style=\"color:#2900f5\"><b>R</b></span><span style=\"color:#2900f5\"><b>R</b></span><span style=\"color:#04700d\">S</span><span style=\"color:#04700d\">Q</span><span style=\"color:#ff0d0d\">D</span><span style=\"color:#04700d\">N</span><span style=\"color:#04700d\">G</span><span style=\"color:#04700d\">Q</span><span style=\"color:#04700d\">S</span><span style=\"color:#04700d\">T</span></p>"
      ],
      "text/plain": [
       "<IPython.core.display.HTML object>"
      ]
     },
     "metadata": {},
     "output_type": "display_data"
    },
    {
     "data": {
      "text/html": [
       "<p style=\"font-family:Courier;font-size: 14px\"><span style=\"color:#04700d\">S</span><span style=\"color:#04700d\">G</span><span style=\"color:#04700d\">G</span><span style=\"color:#ff9d00\">F</span><span style=\"color:#04700d\">N</span><span style=\"color:#04700d\">N</span><span style=\"color:#2900f5\">R</span><span style=\"color:#cf30b7\">P</span><span style=\"color:#171616\">L</span><span style=\"color:#04700d\">N</span><span style=\"color:#04700d\">Q</span><span style=\"color:#04700d\">S</span><span style=\"color:#04700d\">G</span><span style=\"color:#cf30b7\">P</span><span style=\"color:#171616\">M</span><span style=\"color:#04700d\">N</span><span style=\"color:#04700d\">S</span><span style=\"color:#ff0d0d\">D</span><span style=\"color:#04700d\">N</span><span style=\"color:#04700d\">G</span><span style=\"color:#04700d\">T</span><span style=\"color:#ff0d0d\">D</span><span style=\"color:#04700d\">T</span><span style=\"color:#cf30b7\">P</span><span style=\"color:#04700d\">Q</span><span style=\"color:#171616\">I</span><span style=\"color:#04700d\">T</span><span style=\"color:#ff0d0d\">E</span><span style=\"color:#04700d\">N</span><span style=\"color:#04700d\">Q</span><span style=\"color:#04700d\">S</span><span style=\"color:#2900f5\"><b>R</b></span><span style=\"color:#04700d\"><b>S</b></span><span style=\"color:#04700d\"><b>G</b></span><span style=\"color:#171616\"><b>A</b></span><span style=\"color:#2900f5\"><b>R</b></span><span style=\"color:#04700d\"><b>S</b></span><span style=\"color:#2900f5\"><b>K</b></span><span style=\"color:#04700d\"><b>Q</b></span><span style=\"color:#2900f5\"><b>R</b></span><span style=\"color:#2900f5\"><b>R</b></span><span style=\"color:#04700d\">Q</span><span style=\"color:#cf30b7\">P</span><span style=\"color:#04700d\">N</span><span style=\"color:#2900f5\">R</span><span style=\"color:#04700d\">G</span><span style=\"color:#04700d\">G</span><span style=\"color:#171616\">A</span><span style=\"color:#cf30b7\">P</span></p>"
      ],
      "text/plain": [
       "<IPython.core.display.HTML object>"
      ]
     },
     "metadata": {},
     "output_type": "display_data"
    },
    {
     "data": {
      "text/html": [
       "<p style=\"font-family:Courier;font-size: 14px\"><span style=\"color:#171616\">I</span><span style=\"color:#04700d\">N</span><span style=\"color:#04700d\">G</span><span style=\"color:#04700d\">Q</span><span style=\"color:#04700d\">S</span><span style=\"color:#04700d\">T</span><span style=\"color:#ff0d0d\">E</span><span style=\"color:#04700d\">G</span><span style=\"color:#2900f5\">R</span><span style=\"color:#04700d\">N</span><span style=\"color:#04700d\">G</span><span style=\"color:#cf30b7\">P</span><span style=\"color:#04700d\">Q</span><span style=\"color:#04700d\">N</span><span style=\"color:#171616\">L</span><span style=\"color:#04700d\">S</span><span style=\"color:#04700d\">T</span><span style=\"color:#cf30b7\">P</span><span style=\"color:#04700d\">N</span><span style=\"color:#cf30b7\">P</span><span style=\"color:#171616\">M</span><span style=\"color:#04700d\">G</span><span style=\"color:#cf30b7\">P</span><span style=\"color:#04700d\">Q</span><span style=\"color:#ff9d00\">F</span><span style=\"color:#04700d\">N</span><span style=\"color:#171616\">A</span><span style=\"color:#ff0d0d\">D</span><span style=\"color:#04700d\">Q</span><span style=\"color:#04700d\">S</span><span style=\"color:#04700d\">G</span><span style=\"color:#2900f5\"><b>R</b></span><span style=\"color:#04700d\"><b>S</b></span><span style=\"color:#04700d\"><b>G</b></span><span style=\"color:#171616\"><b>A</b></span><span style=\"color:#2900f5\"><b>R</b></span><span style=\"color:#04700d\"><b>S</b></span><span style=\"color:#2900f5\"><b>K</b></span><span style=\"color:#04700d\"><b>Q</b></span><span style=\"color:#2900f5\"><b>R</b></span><span style=\"color:#2900f5\"><b>R</b></span><span style=\"color:#cf30b7\">P</span><span style=\"color:#04700d\">N</span><span style=\"color:#04700d\">S</span><span style=\"color:#04700d\">T</span><span style=\"color:#2900f5\">R</span><span style=\"color:#04700d\">G</span><span style=\"color:#04700d\">N</span><span style=\"color:#ff0d0d\">D</span></p>"
      ],
      "text/plain": [
       "<IPython.core.display.HTML object>"
      ]
     },
     "metadata": {},
     "output_type": "display_data"
    },
    {
     "data": {
      "text/html": [
       "<p style=\"font-family:Courier;font-size: 14px\"><span style=\"color:#ff0d0d\">D</span><span style=\"color:#ff0d0d\">E</span><span style=\"color:#04700d\">G</span><span style=\"color:#04700d\">G</span><span style=\"color:#04700d\">Q</span><span style=\"color:#2900f5\">R</span><span style=\"color:#ff9d00\">F</span><span style=\"color:#04700d\">T</span><span style=\"color:#ff0d0d\">D</span><span style=\"color:#04700d\">N</span><span style=\"color:#04700d\">G</span><span style=\"color:#04700d\">S</span><span style=\"color:#04700d\">N</span><span style=\"color:#171616\">A</span><span style=\"color:#171616\">M</span><span style=\"color:#cf30b7\">P</span><span style=\"color:#04700d\">T</span><span style=\"color:#04700d\">Q</span><span style=\"color:#cf30b7\">P</span><span style=\"color:#2900f5\">R</span><span style=\"color:#04700d\">N</span><span style=\"color:#04700d\">N</span><span style=\"color:#04700d\">S</span><span style=\"color:#04700d\">Q</span><span style=\"color:#04700d\">G</span><span style=\"color:#04700d\">G</span><span style=\"color:#cf30b7\">P</span><span style=\"color:#04700d\">N</span><span style=\"color:#04700d\">N</span><span style=\"color:#cf30b7\">P</span><span style=\"color:#171616\">L</span><span style=\"color:#2900f5\"><b>R</b></span><span style=\"color:#04700d\"><b>S</b></span><span style=\"color:#04700d\"><b>G</b></span><span style=\"color:#171616\"><b>A</b></span><span style=\"color:#2900f5\"><b>R</b></span><span style=\"color:#04700d\"><b>S</b></span><span style=\"color:#2900f5\"><b>K</b></span><span style=\"color:#04700d\"><b>Q</b></span><span style=\"color:#2900f5\"><b>R</b></span><span style=\"color:#2900f5\"><b>R</b></span><span style=\"color:#cf30b7\">P</span><span style=\"color:#171616\">I</span><span style=\"color:#04700d\">N</span><span style=\"color:#04700d\">S</span><span style=\"color:#04700d\">G</span><span style=\"color:#04700d\">T</span><span style=\"color:#04700d\">S</span><span style=\"color:#04700d\">Q</span></p>"
      ],
      "text/plain": [
       "<IPython.core.display.HTML object>"
      ]
     },
     "metadata": {},
     "output_type": "display_data"
    },
    {
     "data": {
      "text/html": [
       "<p style=\"font-family:Courier;font-size: 14px\"><span style=\"color:#04700d\">Q</span><span style=\"color:#04700d\">Q</span><span style=\"color:#04700d\">S</span><span style=\"color:#ff0d0d\">D</span><span style=\"color:#04700d\">Q</span><span style=\"color:#04700d\">N</span><span style=\"color:#04700d\">G</span><span style=\"color:#04700d\">N</span><span style=\"color:#04700d\">Q</span><span style=\"color:#04700d\">N</span><span style=\"color:#04700d\">T</span><span style=\"color:#04700d\">N</span><span style=\"color:#171616\">I</span><span style=\"color:#04700d\">S</span><span style=\"color:#04700d\">G</span><span style=\"color:#04700d\">T</span><span style=\"color:#ff0d0d\">E</span><span style=\"color:#171616\">L</span><span style=\"color:#171616\">A</span><span style=\"color:#04700d\">G</span><span style=\"color:#cf30b7\">P</span><span style=\"color:#04700d\">S</span><span style=\"color:#cf30b7\">P</span><span style=\"color:#04700d\">N</span><span style=\"color:#cf30b7\">P</span><span style=\"color:#ff0d0d\">D</span><span style=\"color:#ff9d00\">F</span><span style=\"color:#2900f5\">R</span><span style=\"color:#cf30b7\">P</span><span style=\"color:#04700d\">N</span><span style=\"color:#171616\">M</span><span style=\"color:#2900f5\"><b>R</b></span><span style=\"color:#04700d\"><b>S</b></span><span style=\"color:#04700d\"><b>G</b></span><span style=\"color:#171616\"><b>A</b></span><span style=\"color:#2900f5\"><b>R</b></span><span style=\"color:#04700d\"><b>S</b></span><span style=\"color:#2900f5\"><b>K</b></span><span style=\"color:#04700d\"><b>Q</b></span><span style=\"color:#2900f5\"><b>R</b></span><span style=\"color:#2900f5\"><b>R</b></span><span style=\"color:#04700d\">S</span><span style=\"color:#04700d\">G</span><span style=\"color:#04700d\">G</span><span style=\"color:#04700d\">T</span><span style=\"color:#2900f5\">R</span><span style=\"color:#04700d\">N</span><span style=\"color:#cf30b7\">P</span><span style=\"color:#04700d\">G</span></p>"
      ],
      "text/plain": [
       "<IPython.core.display.HTML object>"
      ]
     },
     "metadata": {},
     "output_type": "display_data"
    },
    {
     "data": {
      "text/html": [
       "<p style=\"font-family:Courier;font-size: 14px\"><span style=\"color:#04700d\">G</span><span style=\"color:#04700d\">Q</span><span style=\"color:#ff0d0d\">D</span><span style=\"color:#ff0d0d\">E</span><span style=\"color:#04700d\">S</span><span style=\"color:#04700d\">S</span><span style=\"color:#04700d\">S</span><span style=\"color:#ff0d0d\">D</span><span style=\"color:#2900f5\">R</span><span style=\"color:#04700d\">T</span><span style=\"color:#cf30b7\">P</span><span style=\"color:#04700d\">N</span><span style=\"color:#04700d\">N</span><span style=\"color:#171616\">I</span><span style=\"color:#04700d\">N</span><span style=\"color:#04700d\">Q</span><span style=\"color:#04700d\">N</span><span style=\"color:#04700d\">N</span><span style=\"color:#cf30b7\">P</span><span style=\"color:#04700d\">G</span><span style=\"color:#171616\">A</span><span style=\"color:#04700d\">N</span><span style=\"color:#04700d\">Q</span><span style=\"color:#cf30b7\">P</span><span style=\"color:#04700d\">T</span><span style=\"color:#04700d\">G</span><span style=\"color:#ff9d00\">F</span><span style=\"color:#04700d\">G</span><span style=\"color:#171616\">M</span><span style=\"color:#04700d\">G</span><span style=\"color:#cf30b7\">P</span><span style=\"color:#2900f5\"><b>R</b></span><span style=\"color:#04700d\"><b>S</b></span><span style=\"color:#04700d\"><b>G</b></span><span style=\"color:#171616\"><b>A</b></span><span style=\"color:#2900f5\"><b>R</b></span><span style=\"color:#04700d\"><b>S</b></span><span style=\"color:#2900f5\"><b>K</b></span><span style=\"color:#04700d\"><b>Q</b></span><span style=\"color:#2900f5\"><b>R</b></span><span style=\"color:#2900f5\"><b>R</b></span><span style=\"color:#cf30b7\">P</span><span style=\"color:#171616\">L</span><span style=\"color:#04700d\">N</span><span style=\"color:#04700d\">Q</span><span style=\"color:#04700d\">S</span><span style=\"color:#04700d\">T</span><span style=\"color:#04700d\">G</span><span style=\"color:#2900f5\">R</span></p>"
      ],
      "text/plain": [
       "<IPython.core.display.HTML object>"
      ]
     },
     "metadata": {},
     "output_type": "display_data"
    },
    {
     "data": {
      "text/html": [
       "<p style=\"font-family:Courier;font-size: 14px\"><span style=\"color:#04700d\">N</span><span style=\"color:#171616\">A</span><span style=\"color:#ff0d0d\">E</span><span style=\"color:#04700d\">N</span><span style=\"color:#04700d\">G</span><span style=\"color:#cf30b7\">P</span><span style=\"color:#04700d\">S</span><span style=\"color:#171616\">L</span><span style=\"color:#ff0d0d\">D</span><span style=\"color:#04700d\">T</span><span style=\"color:#04700d\">S</span><span style=\"color:#04700d\">Q</span><span style=\"color:#04700d\">Q</span><span style=\"color:#04700d\">G</span><span style=\"color:#04700d\">Q</span><span style=\"color:#04700d\">N</span><span style=\"color:#cf30b7\">P</span><span style=\"color:#04700d\">S</span><span style=\"color:#171616\">I</span><span style=\"color:#04700d\">N</span><span style=\"color:#cf30b7\">P</span><span style=\"color:#04700d\">T</span><span style=\"color:#cf30b7\">P</span><span style=\"color:#04700d\">N</span><span style=\"color:#04700d\">Q</span><span style=\"color:#2900f5\">R</span><span style=\"color:#04700d\">S</span><span style=\"color:#04700d\">G</span><span style=\"color:#04700d\">G</span><span style=\"color:#ff9d00\">F</span><span style=\"color:#cf30b7\">P</span><span style=\"color:#2900f5\"><b>R</b></span><span style=\"color:#04700d\"><b>S</b></span><span style=\"color:#04700d\"><b>G</b></span><span style=\"color:#171616\"><b>A</b></span><span style=\"color:#2900f5\"><b>R</b></span><span style=\"color:#04700d\"><b>S</b></span><span style=\"color:#2900f5\"><b>K</b></span><span style=\"color:#04700d\"><b>Q</b></span><span style=\"color:#2900f5\"><b>R</b></span><span style=\"color:#2900f5\"><b>R</b></span><span style=\"color:#04700d\">G</span><span style=\"color:#04700d\">N</span><span style=\"color:#04700d\">G</span><span style=\"color:#ff0d0d\">D</span><span style=\"color:#171616\">M</span><span style=\"color:#2900f5\">R</span><span style=\"color:#04700d\">T</span><span style=\"color:#04700d\">N</span></p>"
      ],
      "text/plain": [
       "<IPython.core.display.HTML object>"
      ]
     },
     "metadata": {},
     "output_type": "display_data"
    },
    {
     "name": "stdout",
     "output_type": "stream",
     "text": [
      "\n",
      "T11\n"
     ]
    },
    {
     "data": {
      "text/html": [
       "<p style=\"font-family:Courier;font-size: 14px\"><span style=\"color:#04700d\">G</span><span style=\"color:#04700d\">Q</span><span style=\"color:#2900f5\">R</span><span style=\"color:#04700d\">S</span><span style=\"color:#cf30b7\">P</span><span style=\"color:#04700d\">N</span><span style=\"color:#04700d\"><b>Q</b></span><span style=\"color:#04700d\">N</span><span style=\"color:#04700d\"><b>Q</b></span><span style=\"color:#2900f5\"><b>R</b></span><span style=\"color:#04700d\"><b>N</b></span><span style=\"color:#171616\"><b>A</b></span><span style=\"color:#cf30b7\"><b>P</b></span><span style=\"color:#2900f5\"><b>R</b></span><span style=\"color:#171616\"><b>I</b></span><span style=\"color:#04700d\"><b>T</b></span><span style=\"color:#2900f5\">R</span><span style=\"color:#04700d\">S</span><span style=\"color:#2900f5\">R</span><span style=\"color:#2900f5\">K</span><span style=\"color:#04700d\">G</span><span style=\"color:#04700d\">G</span><span style=\"color:#ff0d0d\">E</span><span style=\"color:#04700d\">N</span><span style=\"color:#cf30b7\">P</span><span style=\"color:#04700d\">N</span><span style=\"color:#171616\">L</span><span style=\"color:#04700d\">S</span><span style=\"color:#04700d\">Q</span><span style=\"color:#04700d\">T</span><span style=\"color:#04700d\">N</span><span style=\"color:#04700d\">G</span><span style=\"color:#04700d\">S</span><span style=\"color:#04700d\">T</span><span style=\"color:#171616\">M</span><span style=\"color:#04700d\">S</span><span style=\"color:#171616\">A</span><span style=\"color:#04700d\">Q</span><span style=\"color:#ff0d0d\">D</span><span style=\"color:#ff0d0d\">D</span><span style=\"color:#04700d\">N</span><span style=\"color:#04700d\">G</span><span style=\"color:#04700d\">S</span><span style=\"color:#04700d\">G</span><span style=\"color:#2900f5\">R</span><span style=\"color:#cf30b7\">P</span><span style=\"color:#ff9d00\">F</span><span style=\"color:#04700d\">G</span><span style=\"color:#cf30b7\">P</span></p>"
      ],
      "text/plain": [
       "<IPython.core.display.HTML object>"
      ]
     },
     "metadata": {},
     "output_type": "display_data"
    },
    {
     "data": {
      "text/html": [
       "<p style=\"font-family:Courier;font-size: 14px\"><span style=\"color:#04700d\">G</span><span style=\"color:#04700d\">S</span><span style=\"color:#04700d\">N</span><span style=\"color:#2900f5\">R</span><span style=\"color:#2900f5\">K</span><span style=\"color:#04700d\">T</span><span style=\"color:#04700d\"><b>Q</b></span><span style=\"color:#04700d\">N</span><span style=\"color:#04700d\"><b>Q</b></span><span style=\"color:#2900f5\"><b>R</b></span><span style=\"color:#04700d\"><b>N</b></span><span style=\"color:#171616\"><b>A</b></span><span style=\"color:#cf30b7\"><b>P</b></span><span style=\"color:#2900f5\"><b>R</b></span><span style=\"color:#171616\"><b>I</b></span><span style=\"color:#04700d\"><b>T</b></span><span style=\"color:#ff0d0d\">D</span><span style=\"color:#04700d\">G</span><span style=\"color:#2900f5\">R</span><span style=\"color:#2900f5\">R</span><span style=\"color:#04700d\">S</span><span style=\"color:#ff0d0d\">D</span><span style=\"color:#cf30b7\">P</span><span style=\"color:#04700d\">S</span><span style=\"color:#cf30b7\">P</span><span style=\"color:#04700d\">Q</span><span style=\"color:#04700d\">N</span><span style=\"color:#04700d\">G</span><span style=\"color:#04700d\">N</span><span style=\"color:#04700d\">N</span><span style=\"color:#ff9d00\">F</span><span style=\"color:#cf30b7\">P</span><span style=\"color:#04700d\">G</span><span style=\"color:#2900f5\">R</span><span style=\"color:#04700d\">G</span><span style=\"color:#171616\">L</span><span style=\"color:#04700d\">S</span><span style=\"color:#04700d\">S</span><span style=\"color:#cf30b7\">P</span><span style=\"color:#04700d\">N</span><span style=\"color:#171616\">A</span><span style=\"color:#ff0d0d\">E</span><span style=\"color:#04700d\">Q</span><span style=\"color:#04700d\">T</span><span style=\"color:#04700d\">S</span><span style=\"color:#04700d\">G</span><span style=\"color:#04700d\">G</span><span style=\"color:#04700d\">Q</span><span style=\"color:#171616\">M</span></p>"
      ],
      "text/plain": [
       "<IPython.core.display.HTML object>"
      ]
     },
     "metadata": {},
     "output_type": "display_data"
    },
    {
     "data": {
      "text/html": [
       "<p style=\"font-family:Courier;font-size: 14px\"><span style=\"color:#04700d\">Q</span><span style=\"color:#ff0d0d\">E</span><span style=\"color:#04700d\">S</span><span style=\"color:#04700d\">N</span><span style=\"color:#171616\">L</span><span style=\"color:#04700d\">G</span><span style=\"color:#04700d\"><b>Q</b></span><span style=\"color:#04700d\">N</span><span style=\"color:#04700d\"><b>Q</b></span><span style=\"color:#2900f5\"><b>R</b></span><span style=\"color:#04700d\"><b>N</b></span><span style=\"color:#171616\"><b>A</b></span><span style=\"color:#cf30b7\"><b>P</b></span><span style=\"color:#2900f5\"><b>R</b></span><span style=\"color:#171616\"><b>I</b></span><span style=\"color:#04700d\"><b>T</b></span><span style=\"color:#04700d\">G</span><span style=\"color:#ff0d0d\">D</span><span style=\"color:#04700d\">S</span><span style=\"color:#04700d\">G</span><span style=\"color:#04700d\">N</span><span style=\"color:#04700d\">G</span><span style=\"color:#171616\">A</span><span style=\"color:#2900f5\">K</span><span style=\"color:#cf30b7\">P</span><span style=\"color:#cf30b7\">P</span><span style=\"color:#cf30b7\">P</span><span style=\"color:#2900f5\">R</span><span style=\"color:#04700d\">N</span><span style=\"color:#04700d\">N</span><span style=\"color:#04700d\">S</span><span style=\"color:#04700d\">G</span><span style=\"color:#04700d\">Q</span><span style=\"color:#04700d\">S</span><span style=\"color:#04700d\">G</span><span style=\"color:#04700d\">Q</span><span style=\"color:#ff9d00\">F</span><span style=\"color:#2900f5\">R</span><span style=\"color:#04700d\">T</span><span style=\"color:#cf30b7\">P</span><span style=\"color:#2900f5\">R</span><span style=\"color:#04700d\">S</span><span style=\"color:#04700d\">G</span><span style=\"color:#ff0d0d\">D</span><span style=\"color:#04700d\">T</span><span style=\"color:#04700d\">S</span><span style=\"color:#04700d\">N</span><span style=\"color:#2900f5\">R</span><span style=\"color:#171616\">M</span></p>"
      ],
      "text/plain": [
       "<IPython.core.display.HTML object>"
      ]
     },
     "metadata": {},
     "output_type": "display_data"
    },
    {
     "data": {
      "text/html": [
       "<p style=\"font-family:Courier;font-size: 14px\"><span style=\"color:#04700d\">N</span><span style=\"color:#04700d\">G</span><span style=\"color:#04700d\">S</span><span style=\"color:#04700d\">G</span><span style=\"color:#04700d\">N</span><span style=\"color:#04700d\">N</span><span style=\"color:#04700d\"><b>Q</b></span><span style=\"color:#04700d\">N</span><span style=\"color:#04700d\"><b>Q</b></span><span style=\"color:#2900f5\"><b>R</b></span><span style=\"color:#04700d\"><b>N</b></span><span style=\"color:#171616\"><b>A</b></span><span style=\"color:#cf30b7\"><b>P</b></span><span style=\"color:#2900f5\"><b>R</b></span><span style=\"color:#171616\"><b>I</b></span><span style=\"color:#04700d\"><b>T</b></span><span style=\"color:#04700d\">T</span><span style=\"color:#171616\">A</span><span style=\"color:#04700d\">T</span><span style=\"color:#04700d\">G</span><span style=\"color:#04700d\">N</span><span style=\"color:#2900f5\">R</span><span style=\"color:#04700d\">G</span><span style=\"color:#04700d\">Q</span><span style=\"color:#04700d\">Q</span><span style=\"color:#04700d\">N</span><span style=\"color:#ff0d0d\">D</span><span style=\"color:#04700d\">S</span><span style=\"color:#04700d\">G</span><span style=\"color:#171616\">M</span><span style=\"color:#171616\">L</span><span style=\"color:#ff0d0d\">E</span><span style=\"color:#2900f5\">R</span><span style=\"color:#04700d\">S</span><span style=\"color:#cf30b7\">P</span><span style=\"color:#04700d\">S</span><span style=\"color:#cf30b7\">P</span><span style=\"color:#ff9d00\">F</span><span style=\"color:#04700d\">Q</span><span style=\"color:#04700d\">S</span><span style=\"color:#cf30b7\">P</span><span style=\"color:#cf30b7\">P</span><span style=\"color:#04700d\">G</span><span style=\"color:#ff0d0d\">D</span><span style=\"color:#2900f5\">K</span><span style=\"color:#2900f5\">R</span><span style=\"color:#04700d\">S</span><span style=\"color:#2900f5\">R</span><span style=\"color:#04700d\">G</span></p>"
      ],
      "text/plain": [
       "<IPython.core.display.HTML object>"
      ]
     },
     "metadata": {},
     "output_type": "display_data"
    },
    {
     "data": {
      "text/html": [
       "<p style=\"font-family:Courier;font-size: 14px\"><span style=\"color:#2900f5\">K</span><span style=\"color:#04700d\">G</span><span style=\"color:#04700d\">N</span><span style=\"color:#04700d\">T</span><span style=\"color:#04700d\">G</span><span style=\"color:#171616\">L</span><span style=\"color:#04700d\"><b>Q</b></span><span style=\"color:#04700d\">N</span><span style=\"color:#04700d\"><b>Q</b></span><span style=\"color:#2900f5\"><b>R</b></span><span style=\"color:#04700d\"><b>N</b></span><span style=\"color:#171616\"><b>A</b></span><span style=\"color:#cf30b7\"><b>P</b></span><span style=\"color:#2900f5\"><b>R</b></span><span style=\"color:#171616\"><b>I</b></span><span style=\"color:#04700d\"><b>T</b></span><span style=\"color:#04700d\">S</span><span style=\"color:#ff0d0d\">D</span><span style=\"color:#04700d\">G</span><span style=\"color:#cf30b7\">P</span><span style=\"color:#04700d\">S</span><span style=\"color:#cf30b7\">P</span><span style=\"color:#cf30b7\">P</span><span style=\"color:#04700d\">Q</span><span style=\"color:#04700d\">T</span><span style=\"color:#04700d\">N</span><span style=\"color:#2900f5\">R</span><span style=\"color:#ff0d0d\">D</span><span style=\"color:#04700d\">S</span><span style=\"color:#04700d\">G</span><span style=\"color:#04700d\">N</span><span style=\"color:#171616\">A</span><span style=\"color:#04700d\">G</span><span style=\"color:#ff0d0d\">E</span><span style=\"color:#04700d\">G</span><span style=\"color:#04700d\">S</span><span style=\"color:#2900f5\">R</span><span style=\"color:#cf30b7\">P</span><span style=\"color:#04700d\">S</span><span style=\"color:#04700d\">N</span><span style=\"color:#2900f5\">R</span><span style=\"color:#04700d\">S</span><span style=\"color:#171616\">M</span><span style=\"color:#04700d\">Q</span><span style=\"color:#04700d\">G</span><span style=\"color:#04700d\">Q</span><span style=\"color:#04700d\">N</span><span style=\"color:#ff9d00\">F</span><span style=\"color:#2900f5\">R</span></p>"
      ],
      "text/plain": [
       "<IPython.core.display.HTML object>"
      ]
     },
     "metadata": {},
     "output_type": "display_data"
    },
    {
     "data": {
      "text/html": [
       "<p style=\"font-family:Courier;font-size: 14px\"><span style=\"color:#04700d\">N</span><span style=\"color:#04700d\">G</span><span style=\"color:#04700d\">G</span><span style=\"color:#2900f5\">R</span><span style=\"color:#04700d\">S</span><span style=\"color:#2900f5\">R</span><span style=\"color:#04700d\"><b>Q</b></span><span style=\"color:#04700d\">N</span><span style=\"color:#04700d\"><b>Q</b></span><span style=\"color:#2900f5\"><b>R</b></span><span style=\"color:#04700d\"><b>N</b></span><span style=\"color:#171616\"><b>A</b></span><span style=\"color:#cf30b7\"><b>P</b></span><span style=\"color:#2900f5\"><b>R</b></span><span style=\"color:#171616\"><b>I</b></span><span style=\"color:#04700d\"><b>T</b></span><span style=\"color:#04700d\">N</span><span style=\"color:#04700d\">T</span><span style=\"color:#2900f5\">K</span><span style=\"color:#04700d\">N</span><span style=\"color:#04700d\">S</span><span style=\"color:#04700d\">S</span><span style=\"color:#04700d\">S</span><span style=\"color:#04700d\">Q</span><span style=\"color:#ff0d0d\">D</span><span style=\"color:#171616\">M</span><span style=\"color:#2900f5\">R</span><span style=\"color:#cf30b7\">P</span><span style=\"color:#171616\">A</span><span style=\"color:#04700d\">N</span><span style=\"color:#04700d\">S</span><span style=\"color:#171616\">L</span><span style=\"color:#ff0d0d\">D</span><span style=\"color:#2900f5\">R</span><span style=\"color:#ff9d00\">F</span><span style=\"color:#04700d\">G</span><span style=\"color:#04700d\">G</span><span style=\"color:#04700d\">Q</span><span style=\"color:#04700d\">S</span><span style=\"color:#cf30b7\">P</span><span style=\"color:#04700d\">G</span><span style=\"color:#ff0d0d\">E</span><span style=\"color:#04700d\">T</span><span style=\"color:#04700d\">G</span><span style=\"color:#cf30b7\">P</span><span style=\"color:#04700d\">N</span><span style=\"color:#cf30b7\">P</span><span style=\"color:#04700d\">Q</span><span style=\"color:#04700d\">G</span></p>"
      ],
      "text/plain": [
       "<IPython.core.display.HTML object>"
      ]
     },
     "metadata": {},
     "output_type": "display_data"
    },
    {
     "data": {
      "text/html": [
       "<p style=\"font-family:Courier;font-size: 14px\"><span style=\"color:#04700d\">G</span><span style=\"color:#171616\">A</span><span style=\"color:#cf30b7\">P</span><span style=\"color:#2900f5\">K</span><span style=\"color:#ff0d0d\">D</span><span style=\"color:#04700d\">S</span><span style=\"color:#04700d\"><b>Q</b></span><span style=\"color:#04700d\">N</span><span style=\"color:#04700d\"><b>Q</b></span><span style=\"color:#2900f5\"><b>R</b></span><span style=\"color:#04700d\"><b>N</b></span><span style=\"color:#171616\"><b>A</b></span><span style=\"color:#cf30b7\"><b>P</b></span><span style=\"color:#2900f5\"><b>R</b></span><span style=\"color:#171616\"><b>I</b></span><span style=\"color:#04700d\"><b>T</b></span><span style=\"color:#04700d\">N</span><span style=\"color:#04700d\">Q</span><span style=\"color:#04700d\">G</span><span style=\"color:#04700d\">G</span><span style=\"color:#ff9d00\">F</span><span style=\"color:#2900f5\">R</span><span style=\"color:#2900f5\">R</span><span style=\"color:#cf30b7\">P</span><span style=\"color:#04700d\">G</span><span style=\"color:#04700d\">N</span><span style=\"color:#2900f5\">R</span><span style=\"color:#04700d\">Q</span><span style=\"color:#04700d\">S</span><span style=\"color:#ff0d0d\">E</span><span style=\"color:#04700d\">N</span><span style=\"color:#171616\">M</span><span style=\"color:#04700d\">G</span><span style=\"color:#04700d\">N</span><span style=\"color:#04700d\">S</span><span style=\"color:#04700d\">T</span><span style=\"color:#04700d\">S</span><span style=\"color:#cf30b7\">P</span><span style=\"color:#2900f5\">R</span><span style=\"color:#04700d\">G</span><span style=\"color:#ff0d0d\">D</span><span style=\"color:#04700d\">G</span><span style=\"color:#cf30b7\">P</span><span style=\"color:#171616\">L</span><span style=\"color:#04700d\">N</span><span style=\"color:#04700d\">T</span><span style=\"color:#04700d\">S</span><span style=\"color:#04700d\">S</span><span style=\"color:#04700d\">Q</span></p>"
      ],
      "text/plain": [
       "<IPython.core.display.HTML object>"
      ]
     },
     "metadata": {},
     "output_type": "display_data"
    },
    {
     "data": {
      "text/html": [
       "<p style=\"font-family:Courier;font-size: 14px\"><span style=\"color:#04700d\">Q</span><span style=\"color:#04700d\">Q</span><span style=\"color:#171616\">L</span><span style=\"color:#ff9d00\">F</span><span style=\"color:#cf30b7\">P</span><span style=\"color:#171616\">A</span><span style=\"color:#04700d\"><b>Q</b></span><span style=\"color:#04700d\">N</span><span style=\"color:#04700d\"><b>Q</b></span><span style=\"color:#2900f5\"><b>R</b></span><span style=\"color:#04700d\"><b>N</b></span><span style=\"color:#171616\"><b>A</b></span><span style=\"color:#cf30b7\"><b>P</b></span><span style=\"color:#2900f5\"><b>R</b></span><span style=\"color:#171616\"><b>I</b></span><span style=\"color:#04700d\"><b>T</b></span><span style=\"color:#2900f5\">R</span><span style=\"color:#04700d\">S</span><span style=\"color:#04700d\">T</span><span style=\"color:#cf30b7\">P</span><span style=\"color:#171616\">M</span><span style=\"color:#04700d\">S</span><span style=\"color:#04700d\">N</span><span style=\"color:#04700d\">S</span><span style=\"color:#04700d\">G</span><span style=\"color:#04700d\">G</span><span style=\"color:#cf30b7\">P</span><span style=\"color:#04700d\">N</span><span style=\"color:#ff0d0d\">D</span><span style=\"color:#04700d\">S</span><span style=\"color:#04700d\">G</span><span style=\"color:#04700d\">N</span><span style=\"color:#cf30b7\">P</span><span style=\"color:#04700d\">G</span><span style=\"color:#ff0d0d\">D</span><span style=\"color:#04700d\">S</span><span style=\"color:#ff0d0d\">E</span><span style=\"color:#04700d\">N</span><span style=\"color:#04700d\">G</span><span style=\"color:#04700d\">N</span><span style=\"color:#04700d\">T</span><span style=\"color:#04700d\">Q</span><span style=\"color:#2900f5\">R</span><span style=\"color:#04700d\">G</span><span style=\"color:#04700d\">S</span><span style=\"color:#2900f5\">R</span><span style=\"color:#2900f5\">R</span><span style=\"color:#2900f5\">K</span><span style=\"color:#04700d\">G</span></p>"
      ],
      "text/plain": [
       "<IPython.core.display.HTML object>"
      ]
     },
     "metadata": {},
     "output_type": "display_data"
    },
    {
     "data": {
      "text/html": [
       "<p style=\"font-family:Courier;font-size: 14px\"><span style=\"color:#04700d\">T</span><span style=\"color:#04700d\">Q</span><span style=\"color:#cf30b7\">P</span><span style=\"color:#04700d\">T</span><span style=\"color:#171616\">A</span><span style=\"color:#04700d\">S</span><span style=\"color:#04700d\"><b>Q</b></span><span style=\"color:#04700d\">N</span><span style=\"color:#04700d\"><b>Q</b></span><span style=\"color:#2900f5\"><b>R</b></span><span style=\"color:#04700d\"><b>N</b></span><span style=\"color:#171616\"><b>A</b></span><span style=\"color:#cf30b7\"><b>P</b></span><span style=\"color:#2900f5\"><b>R</b></span><span style=\"color:#171616\"><b>I</b></span><span style=\"color:#04700d\"><b>T</b></span><span style=\"color:#cf30b7\">P</span><span style=\"color:#04700d\">G</span><span style=\"color:#ff9d00\">F</span><span style=\"color:#04700d\">S</span><span style=\"color:#04700d\">G</span><span style=\"color:#04700d\">S</span><span style=\"color:#2900f5\">K</span><span style=\"color:#04700d\">S</span><span style=\"color:#ff0d0d\">D</span><span style=\"color:#cf30b7\">P</span><span style=\"color:#04700d\">N</span><span style=\"color:#04700d\">G</span><span style=\"color:#171616\">L</span><span style=\"color:#04700d\">G</span><span style=\"color:#ff0d0d\">E</span><span style=\"color:#04700d\">N</span><span style=\"color:#171616\">M</span><span style=\"color:#2900f5\">R</span><span style=\"color:#04700d\">N</span><span style=\"color:#2900f5\">R</span><span style=\"color:#04700d\">Q</span><span style=\"color:#04700d\">G</span><span style=\"color:#cf30b7\">P</span><span style=\"color:#2900f5\">R</span><span style=\"color:#04700d\">Q</span><span style=\"color:#04700d\">N</span><span style=\"color:#ff0d0d\">D</span><span style=\"color:#04700d\">G</span><span style=\"color:#04700d\">N</span><span style=\"color:#2900f5\">R</span><span style=\"color:#04700d\">G</span><span style=\"color:#04700d\">S</span><span style=\"color:#04700d\">S</span></p>"
      ],
      "text/plain": [
       "<IPython.core.display.HTML object>"
      ]
     },
     "metadata": {},
     "output_type": "display_data"
    },
    {
     "data": {
      "text/html": [
       "<p style=\"font-family:Courier;font-size: 14px\"><span style=\"color:#04700d\">S</span><span style=\"color:#ff9d00\">F</span><span style=\"color:#04700d\">Q</span><span style=\"color:#ff0d0d\">D</span><span style=\"color:#04700d\">N</span><span style=\"color:#04700d\">S</span><span style=\"color:#04700d\"><b>Q</b></span><span style=\"color:#04700d\">N</span><span style=\"color:#04700d\"><b>Q</b></span><span style=\"color:#2900f5\"><b>R</b></span><span style=\"color:#04700d\"><b>N</b></span><span style=\"color:#171616\"><b>A</b></span><span style=\"color:#cf30b7\"><b>P</b></span><span style=\"color:#2900f5\"><b>R</b></span><span style=\"color:#171616\"><b>I</b></span><span style=\"color:#04700d\"><b>T</b></span><span style=\"color:#ff0d0d\">D</span><span style=\"color:#ff0d0d\">E</span><span style=\"color:#04700d\">G</span><span style=\"color:#04700d\">T</span><span style=\"color:#cf30b7\">P</span><span style=\"color:#2900f5\">K</span><span style=\"color:#04700d\">G</span><span style=\"color:#2900f5\">R</span><span style=\"color:#2900f5\">R</span><span style=\"color:#04700d\">G</span><span style=\"color:#04700d\">S</span><span style=\"color:#04700d\">S</span><span style=\"color:#cf30b7\">P</span><span style=\"color:#04700d\">G</span><span style=\"color:#cf30b7\">P</span><span style=\"color:#04700d\">N</span><span style=\"color:#2900f5\">R</span><span style=\"color:#cf30b7\">P</span><span style=\"color:#171616\">M</span><span style=\"color:#04700d\">N</span><span style=\"color:#04700d\">S</span><span style=\"color:#04700d\">G</span><span style=\"color:#04700d\">G</span><span style=\"color:#04700d\">N</span><span style=\"color:#04700d\">S</span><span style=\"color:#04700d\">Q</span><span style=\"color:#04700d\">Q</span><span style=\"color:#04700d\">T</span><span style=\"color:#04700d\">G</span><span style=\"color:#04700d\">N</span><span style=\"color:#171616\">A</span><span style=\"color:#2900f5\">R</span><span style=\"color:#171616\">L</span></p>"
      ],
      "text/plain": [
       "<IPython.core.display.HTML object>"
      ]
     },
     "metadata": {},
     "output_type": "display_data"
    },
    {
     "data": {
      "text/html": [
       "<p style=\"font-family:Courier;font-size: 14px\"><span style=\"color:#171616\">L</span><span style=\"color:#04700d\">G</span><span style=\"color:#04700d\">N</span><span style=\"color:#ff9d00\">F</span><span style=\"color:#04700d\">G</span><span style=\"color:#04700d\">S</span><span style=\"color:#04700d\"><b>Q</b></span><span style=\"color:#04700d\">N</span><span style=\"color:#04700d\"><b>Q</b></span><span style=\"color:#2900f5\"><b>R</b></span><span style=\"color:#04700d\"><b>N</b></span><span style=\"color:#171616\"><b>A</b></span><span style=\"color:#cf30b7\"><b>P</b></span><span style=\"color:#2900f5\"><b>R</b></span><span style=\"color:#171616\"><b>I</b></span><span style=\"color:#04700d\"><b>T</b></span><span style=\"color:#cf30b7\">P</span><span style=\"color:#04700d\">T</span><span style=\"color:#04700d\">S</span><span style=\"color:#04700d\">Q</span><span style=\"color:#2900f5\">R</span><span style=\"color:#04700d\">S</span><span style=\"color:#04700d\">S</span><span style=\"color:#04700d\">S</span><span style=\"color:#ff0d0d\">D</span><span style=\"color:#04700d\">N</span><span style=\"color:#04700d\">T</span><span style=\"color:#04700d\">N</span><span style=\"color:#04700d\">G</span><span style=\"color:#04700d\">S</span><span style=\"color:#cf30b7\">P</span><span style=\"color:#171616\">M</span><span style=\"color:#04700d\">G</span><span style=\"color:#ff0d0d\">E</span><span style=\"color:#04700d\">Q</span><span style=\"color:#cf30b7\">P</span><span style=\"color:#2900f5\">R</span><span style=\"color:#04700d\">G</span><span style=\"color:#cf30b7\">P</span><span style=\"color:#04700d\">N</span><span style=\"color:#171616\">A</span><span style=\"color:#ff0d0d\">D</span><span style=\"color:#2900f5\">K</span><span style=\"color:#04700d\">Q</span><span style=\"color:#04700d\">N</span><span style=\"color:#04700d\">G</span><span style=\"color:#2900f5\">R</span><span style=\"color:#2900f5\">R</span><span style=\"color:#04700d\">G</span></p>"
      ],
      "text/plain": [
       "<IPython.core.display.HTML object>"
      ]
     },
     "metadata": {},
     "output_type": "display_data"
    },
    {
     "data": {
      "text/html": [
       "<p style=\"font-family:Courier;font-size: 14px\"><span style=\"color:#04700d\">Q</span><span style=\"color:#04700d\">S</span><span style=\"color:#04700d\">S</span><span style=\"color:#2900f5\">R</span><span style=\"color:#04700d\">N</span><span style=\"color:#ff9d00\">F</span><span style=\"color:#04700d\"><b>Q</b></span><span style=\"color:#04700d\">N</span><span style=\"color:#04700d\"><b>Q</b></span><span style=\"color:#2900f5\"><b>R</b></span><span style=\"color:#04700d\"><b>N</b></span><span style=\"color:#171616\"><b>A</b></span><span style=\"color:#cf30b7\"><b>P</b></span><span style=\"color:#2900f5\"><b>R</b></span><span style=\"color:#171616\"><b>I</b></span><span style=\"color:#04700d\"><b>T</b></span><span style=\"color:#04700d\">S</span><span style=\"color:#ff0d0d\">E</span><span style=\"color:#04700d\">G</span><span style=\"color:#171616\">A</span><span style=\"color:#04700d\">N</span><span style=\"color:#04700d\">N</span><span style=\"color:#04700d\">S</span><span style=\"color:#2900f5\">R</span><span style=\"color:#2900f5\">R</span><span style=\"color:#ff0d0d\">D</span><span style=\"color:#2900f5\">R</span><span style=\"color:#ff0d0d\">D</span><span style=\"color:#04700d\">N</span><span style=\"color:#cf30b7\">P</span><span style=\"color:#04700d\">G</span><span style=\"color:#04700d\">T</span><span style=\"color:#04700d\">S</span><span style=\"color:#04700d\">Q</span><span style=\"color:#04700d\">G</span><span style=\"color:#04700d\">S</span><span style=\"color:#171616\">M</span><span style=\"color:#04700d\">G</span><span style=\"color:#cf30b7\">P</span><span style=\"color:#cf30b7\">P</span><span style=\"color:#04700d\">G</span><span style=\"color:#04700d\">T</span><span style=\"color:#171616\">L</span><span style=\"color:#04700d\">G</span><span style=\"color:#04700d\">G</span><span style=\"color:#04700d\">Q</span><span style=\"color:#2900f5\">K</span><span style=\"color:#04700d\">N</span><span style=\"color:#cf30b7\">P</span></p>"
      ],
      "text/plain": [
       "<IPython.core.display.HTML object>"
      ]
     },
     "metadata": {},
     "output_type": "display_data"
    },
    {
     "data": {
      "text/html": [
       "<p style=\"font-family:Courier;font-size: 14px\"><span style=\"color:#cf30b7\">P</span><span style=\"color:#04700d\">N</span><span style=\"color:#cf30b7\">P</span><span style=\"color:#2900f5\">R</span><span style=\"color:#04700d\">S</span><span style=\"color:#171616\">M</span><span style=\"color:#04700d\"><b>Q</b></span><span style=\"color:#04700d\">N</span><span style=\"color:#04700d\"><b>Q</b></span><span style=\"color:#2900f5\"><b>R</b></span><span style=\"color:#04700d\"><b>N</b></span><span style=\"color:#171616\"><b>A</b></span><span style=\"color:#cf30b7\"><b>P</b></span><span style=\"color:#2900f5\"><b>R</b></span><span style=\"color:#171616\"><b>I</b></span><span style=\"color:#04700d\"><b>T</b></span><span style=\"color:#04700d\">G</span><span style=\"color:#04700d\">G</span><span style=\"color:#04700d\">Q</span><span style=\"color:#04700d\">N</span><span style=\"color:#04700d\">S</span><span style=\"color:#04700d\">Q</span><span style=\"color:#04700d\">G</span><span style=\"color:#04700d\">Q</span><span style=\"color:#04700d\">S</span><span style=\"color:#2900f5\">K</span><span style=\"color:#2900f5\">R</span><span style=\"color:#cf30b7\">P</span><span style=\"color:#04700d\">S</span><span style=\"color:#04700d\">G</span><span style=\"color:#2900f5\">R</span><span style=\"color:#04700d\">T</span><span style=\"color:#04700d\">G</span><span style=\"color:#04700d\">S</span><span style=\"color:#ff9d00\">F</span><span style=\"color:#04700d\">S</span><span style=\"color:#171616\">L</span><span style=\"color:#ff0d0d\">D</span><span style=\"color:#cf30b7\">P</span><span style=\"color:#2900f5\">R</span><span style=\"color:#ff0d0d\">D</span><span style=\"color:#04700d\">T</span><span style=\"color:#ff0d0d\">E</span><span style=\"color:#04700d\">N</span><span style=\"color:#04700d\">G</span><span style=\"color:#04700d\">N</span><span style=\"color:#171616\">A</span><span style=\"color:#04700d\">N</span><span style=\"color:#04700d\">G</span></p>"
      ],
      "text/plain": [
       "<IPython.core.display.HTML object>"
      ]
     },
     "metadata": {},
     "output_type": "display_data"
    },
    {
     "data": {
      "text/html": [
       "<p style=\"font-family:Courier;font-size: 14px\"><span style=\"color:#ff9d00\">F</span><span style=\"color:#04700d\">G</span><span style=\"color:#04700d\">Q</span><span style=\"color:#04700d\">N</span><span style=\"color:#171616\">L</span><span style=\"color:#cf30b7\">P</span><span style=\"color:#04700d\"><b>Q</b></span><span style=\"color:#04700d\">N</span><span style=\"color:#04700d\"><b>Q</b></span><span style=\"color:#2900f5\"><b>R</b></span><span style=\"color:#04700d\"><b>N</b></span><span style=\"color:#171616\"><b>A</b></span><span style=\"color:#cf30b7\"><b>P</b></span><span style=\"color:#2900f5\"><b>R</b></span><span style=\"color:#171616\"><b>I</b></span><span style=\"color:#04700d\"><b>T</b></span><span style=\"color:#04700d\">G</span><span style=\"color:#04700d\">G</span><span style=\"color:#cf30b7\">P</span><span style=\"color:#04700d\">T</span><span style=\"color:#2900f5\">K</span><span style=\"color:#04700d\">T</span><span style=\"color:#cf30b7\">P</span><span style=\"color:#ff0d0d\">D</span><span style=\"color:#04700d\">Q</span><span style=\"color:#171616\">A</span><span style=\"color:#04700d\">S</span><span style=\"color:#04700d\">N</span><span style=\"color:#04700d\">Q</span><span style=\"color:#04700d\">S</span><span style=\"color:#04700d\">S</span><span style=\"color:#04700d\">N</span><span style=\"color:#2900f5\">R</span><span style=\"color:#ff0d0d\">D</span><span style=\"color:#04700d\">G</span><span style=\"color:#cf30b7\">P</span><span style=\"color:#2900f5\">R</span><span style=\"color:#04700d\">N</span><span style=\"color:#04700d\">G</span><span style=\"color:#2900f5\">R</span><span style=\"color:#ff0d0d\">E</span><span style=\"color:#04700d\">S</span><span style=\"color:#04700d\">S</span><span style=\"color:#2900f5\">R</span><span style=\"color:#171616\">M</span><span style=\"color:#04700d\">N</span><span style=\"color:#04700d\">S</span><span style=\"color:#04700d\">G</span><span style=\"color:#04700d\">G</span></p>"
      ],
      "text/plain": [
       "<IPython.core.display.HTML object>"
      ]
     },
     "metadata": {},
     "output_type": "display_data"
    },
    {
     "data": {
      "text/html": [
       "<p style=\"font-family:Courier;font-size: 14px\"><span style=\"color:#04700d\">N</span><span style=\"color:#cf30b7\">P</span><span style=\"color:#04700d\">S</span><span style=\"color:#171616\">M</span><span style=\"color:#04700d\">G</span><span style=\"color:#04700d\">N</span><span style=\"color:#04700d\"><b>Q</b></span><span style=\"color:#04700d\">N</span><span style=\"color:#04700d\"><b>Q</b></span><span style=\"color:#2900f5\"><b>R</b></span><span style=\"color:#04700d\"><b>N</b></span><span style=\"color:#171616\"><b>A</b></span><span style=\"color:#cf30b7\"><b>P</b></span><span style=\"color:#2900f5\"><b>R</b></span><span style=\"color:#171616\"><b>I</b></span><span style=\"color:#04700d\"><b>T</b></span><span style=\"color:#2900f5\">R</span><span style=\"color:#04700d\">G</span><span style=\"color:#171616\">L</span><span style=\"color:#cf30b7\">P</span><span style=\"color:#04700d\">G</span><span style=\"color:#ff0d0d\">E</span><span style=\"color:#cf30b7\">P</span><span style=\"color:#2900f5\">R</span><span style=\"color:#04700d\">Q</span><span style=\"color:#04700d\">G</span><span style=\"color:#04700d\">S</span><span style=\"color:#04700d\">S</span><span style=\"color:#04700d\">N</span><span style=\"color:#2900f5\">R</span><span style=\"color:#04700d\">G</span><span style=\"color:#cf30b7\">P</span><span style=\"color:#04700d\">G</span><span style=\"color:#2900f5\">R</span><span style=\"color:#2900f5\">K</span><span style=\"color:#04700d\">G</span><span style=\"color:#04700d\">Q</span><span style=\"color:#04700d\">S</span><span style=\"color:#04700d\">Q</span><span style=\"color:#04700d\">N</span><span style=\"color:#ff9d00\">F</span><span style=\"color:#04700d\">S</span><span style=\"color:#04700d\">T</span><span style=\"color:#171616\">A</span><span style=\"color:#ff0d0d\">D</span><span style=\"color:#04700d\">S</span><span style=\"color:#04700d\">T</span><span style=\"color:#04700d\">N</span><span style=\"color:#ff0d0d\">D</span></p>"
      ],
      "text/plain": [
       "<IPython.core.display.HTML object>"
      ]
     },
     "metadata": {},
     "output_type": "display_data"
    },
    {
     "data": {
      "text/html": [
       "<p style=\"font-family:Courier;font-size: 14px\"><span style=\"color:#ff0d0d\">E</span><span style=\"color:#04700d\">T</span><span style=\"color:#04700d\">S</span><span style=\"color:#04700d\">G</span><span style=\"color:#04700d\">G</span><span style=\"color:#04700d\">Q</span><span style=\"color:#04700d\"><b>Q</b></span><span style=\"color:#04700d\">N</span><span style=\"color:#04700d\"><b>Q</b></span><span style=\"color:#2900f5\"><b>R</b></span><span style=\"color:#04700d\"><b>N</b></span><span style=\"color:#171616\"><b>A</b></span><span style=\"color:#cf30b7\"><b>P</b></span><span style=\"color:#2900f5\"><b>R</b></span><span style=\"color:#171616\"><b>I</b></span><span style=\"color:#04700d\"><b>T</b></span><span style=\"color:#04700d\">S</span><span style=\"color:#04700d\">G</span><span style=\"color:#ff0d0d\">D</span><span style=\"color:#2900f5\">R</span><span style=\"color:#04700d\">N</span><span style=\"color:#04700d\">G</span><span style=\"color:#04700d\">N</span><span style=\"color:#171616\">M</span><span style=\"color:#cf30b7\">P</span><span style=\"color:#cf30b7\">P</span><span style=\"color:#04700d\">Q</span><span style=\"color:#2900f5\">R</span><span style=\"color:#04700d\">N</span><span style=\"color:#04700d\">S</span><span style=\"color:#2900f5\">R</span><span style=\"color:#cf30b7\">P</span><span style=\"color:#04700d\">N</span><span style=\"color:#04700d\">S</span><span style=\"color:#04700d\">N</span><span style=\"color:#04700d\">Q</span><span style=\"color:#ff0d0d\">D</span><span style=\"color:#171616\">A</span><span style=\"color:#04700d\">G</span><span style=\"color:#2900f5\">K</span><span style=\"color:#04700d\">G</span><span style=\"color:#04700d\">S</span><span style=\"color:#cf30b7\">P</span><span style=\"color:#04700d\">G</span><span style=\"color:#171616\">L</span><span style=\"color:#04700d\">T</span><span style=\"color:#2900f5\">R</span><span style=\"color:#04700d\">S</span><span style=\"color:#ff9d00\">F</span></p>"
      ],
      "text/plain": [
       "<IPython.core.display.HTML object>"
      ]
     },
     "metadata": {},
     "output_type": "display_data"
    },
    {
     "data": {
      "text/html": [
       "<p style=\"font-family:Courier;font-size: 14px\"><span style=\"color:#04700d\">T</span><span style=\"color:#04700d\">G</span><span style=\"color:#04700d\">G</span><span style=\"color:#04700d\">Q</span><span style=\"color:#04700d\">S</span><span style=\"color:#2900f5\">R</span><span style=\"color:#04700d\"><b>Q</b></span><span style=\"color:#04700d\">N</span><span style=\"color:#04700d\"><b>Q</b></span><span style=\"color:#2900f5\"><b>R</b></span><span style=\"color:#04700d\"><b>N</b></span><span style=\"color:#171616\"><b>A</b></span><span style=\"color:#cf30b7\"><b>P</b></span><span style=\"color:#2900f5\"><b>R</b></span><span style=\"color:#171616\"><b>I</b></span><span style=\"color:#04700d\"><b>T</b></span><span style=\"color:#04700d\">S</span><span style=\"color:#cf30b7\">P</span><span style=\"color:#04700d\">N</span><span style=\"color:#04700d\">S</span><span style=\"color:#cf30b7\">P</span><span style=\"color:#cf30b7\">P</span><span style=\"color:#04700d\">S</span><span style=\"color:#04700d\">G</span><span style=\"color:#2900f5\">K</span><span style=\"color:#04700d\">N</span><span style=\"color:#04700d\">S</span><span style=\"color:#ff0d0d\">D</span><span style=\"color:#cf30b7\">P</span><span style=\"color:#04700d\">N</span><span style=\"color:#04700d\">G</span><span style=\"color:#04700d\">G</span><span style=\"color:#2900f5\">R</span><span style=\"color:#171616\">L</span><span style=\"color:#2900f5\">R</span><span style=\"color:#04700d\">G</span><span style=\"color:#04700d\">S</span><span style=\"color:#04700d\">N</span><span style=\"color:#04700d\">Q</span><span style=\"color:#04700d\">Q</span><span style=\"color:#ff0d0d\">D</span><span style=\"color:#ff0d0d\">E</span><span style=\"color:#04700d\">G</span><span style=\"color:#171616\">M</span><span style=\"color:#2900f5\">R</span><span style=\"color:#04700d\">N</span><span style=\"color:#ff9d00\">F</span><span style=\"color:#171616\">A</span><span style=\"color:#04700d\">T</span></p>"
      ],
      "text/plain": [
       "<IPython.core.display.HTML object>"
      ]
     },
     "metadata": {},
     "output_type": "display_data"
    },
    {
     "data": {
      "text/html": [
       "<p style=\"font-family:Courier;font-size: 14px\"><span style=\"color:#ff0d0d\">D</span><span style=\"color:#04700d\">G</span><span style=\"color:#04700d\">G</span><span style=\"color:#04700d\">T</span><span style=\"color:#2900f5\">R</span><span style=\"color:#2900f5\">K</span><span style=\"color:#04700d\"><b>Q</b></span><span style=\"color:#04700d\">N</span><span style=\"color:#04700d\"><b>Q</b></span><span style=\"color:#2900f5\"><b>R</b></span><span style=\"color:#04700d\"><b>N</b></span><span style=\"color:#171616\"><b>A</b></span><span style=\"color:#cf30b7\"><b>P</b></span><span style=\"color:#2900f5\"><b>R</b></span><span style=\"color:#171616\"><b>I</b></span><span style=\"color:#04700d\"><b>T</b></span><span style=\"color:#cf30b7\">P</span><span style=\"color:#2900f5\">R</span><span style=\"color:#cf30b7\">P</span><span style=\"color:#171616\">M</span><span style=\"color:#04700d\">T</span><span style=\"color:#2900f5\">R</span><span style=\"color:#cf30b7\">P</span><span style=\"color:#04700d\">N</span><span style=\"color:#04700d\">S</span><span style=\"color:#04700d\">G</span><span style=\"color:#04700d\">N</span><span style=\"color:#04700d\">N</span><span style=\"color:#04700d\">S</span><span style=\"color:#171616\">A</span><span style=\"color:#04700d\">N</span><span style=\"color:#04700d\">Q</span><span style=\"color:#cf30b7\">P</span><span style=\"color:#04700d\">N</span><span style=\"color:#171616\">L</span><span style=\"color:#04700d\">G</span><span style=\"color:#04700d\">Q</span><span style=\"color:#2900f5\">R</span><span style=\"color:#04700d\">G</span><span style=\"color:#04700d\">S</span><span style=\"color:#04700d\">G</span><span style=\"color:#ff9d00\">F</span><span style=\"color:#04700d\">S</span><span style=\"color:#04700d\">Q</span><span style=\"color:#04700d\">G</span><span style=\"color:#ff0d0d\">D</span><span style=\"color:#04700d\">S</span><span style=\"color:#04700d\">S</span><span style=\"color:#ff0d0d\">E</span></p>"
      ],
      "text/plain": [
       "<IPython.core.display.HTML object>"
      ]
     },
     "metadata": {},
     "output_type": "display_data"
    },
    {
     "data": {
      "text/html": [
       "<p style=\"font-family:Courier;font-size: 14px\"><span style=\"color:#ff0d0d\">D</span><span style=\"color:#cf30b7\">P</span><span style=\"color:#04700d\">Q</span><span style=\"color:#171616\">M</span><span style=\"color:#04700d\">T</span><span style=\"color:#ff0d0d\">E</span><span style=\"color:#04700d\"><b>Q</b></span><span style=\"color:#04700d\">N</span><span style=\"color:#04700d\"><b>Q</b></span><span style=\"color:#2900f5\"><b>R</b></span><span style=\"color:#04700d\"><b>N</b></span><span style=\"color:#171616\"><b>A</b></span><span style=\"color:#cf30b7\"><b>P</b></span><span style=\"color:#2900f5\"><b>R</b></span><span style=\"color:#171616\"><b>I</b></span><span style=\"color:#04700d\"><b>T</b></span><span style=\"color:#ff9d00\">F</span><span style=\"color:#2900f5\">R</span><span style=\"color:#ff0d0d\">D</span><span style=\"color:#04700d\">S</span><span style=\"color:#04700d\">G</span><span style=\"color:#04700d\">N</span><span style=\"color:#04700d\">T</span><span style=\"color:#cf30b7\">P</span><span style=\"color:#171616\">L</span><span style=\"color:#04700d\">S</span><span style=\"color:#04700d\">N</span><span style=\"color:#04700d\">S</span><span style=\"color:#cf30b7\">P</span><span style=\"color:#04700d\">G</span><span style=\"color:#04700d\">G</span><span style=\"color:#04700d\">G</span><span style=\"color:#171616\">A</span><span style=\"color:#04700d\">N</span><span style=\"color:#cf30b7\">P</span><span style=\"color:#04700d\">S</span><span style=\"color:#2900f5\">K</span><span style=\"color:#04700d\">G</span><span style=\"color:#04700d\">G</span><span style=\"color:#04700d\">G</span><span style=\"color:#04700d\">S</span><span style=\"color:#04700d\">N</span><span style=\"color:#04700d\">S</span><span style=\"color:#2900f5\">R</span><span style=\"color:#04700d\">Q</span><span style=\"color:#04700d\">N</span><span style=\"color:#2900f5\">R</span><span style=\"color:#2900f5\">R</span><span style=\"color:#04700d\">Q</span></p>"
      ],
      "text/plain": [
       "<IPython.core.display.HTML object>"
      ]
     },
     "metadata": {},
     "output_type": "display_data"
    },
    {
     "data": {
      "text/html": [
       "<p style=\"font-family:Courier;font-size: 14px\"><span style=\"color:#04700d\">G</span><span style=\"color:#04700d\">Q</span><span style=\"color:#cf30b7\">P</span><span style=\"color:#cf30b7\">P</span><span style=\"color:#2900f5\">R</span><span style=\"color:#2900f5\">R</span><span style=\"color:#04700d\"><b>Q</b></span><span style=\"color:#04700d\">N</span><span style=\"color:#04700d\"><b>Q</b></span><span style=\"color:#2900f5\"><b>R</b></span><span style=\"color:#04700d\"><b>N</b></span><span style=\"color:#171616\"><b>A</b></span><span style=\"color:#cf30b7\"><b>P</b></span><span style=\"color:#2900f5\"><b>R</b></span><span style=\"color:#171616\"><b>I</b></span><span style=\"color:#04700d\"><b>T</b></span><span style=\"color:#2900f5\">K</span><span style=\"color:#ff0d0d\">D</span><span style=\"color:#cf30b7\">P</span><span style=\"color:#04700d\">N</span><span style=\"color:#04700d\">S</span><span style=\"color:#04700d\">G</span><span style=\"color:#04700d\">S</span><span style=\"color:#ff0d0d\">E</span><span style=\"color:#04700d\">T</span><span style=\"color:#171616\">A</span><span style=\"color:#04700d\">N</span><span style=\"color:#04700d\">N</span><span style=\"color:#04700d\">S</span><span style=\"color:#04700d\">T</span><span style=\"color:#04700d\">S</span><span style=\"color:#04700d\">Q</span><span style=\"color:#2900f5\">R</span><span style=\"color:#2900f5\">R</span><span style=\"color:#ff9d00\">F</span><span style=\"color:#04700d\">G</span><span style=\"color:#04700d\">Q</span><span style=\"color:#04700d\">G</span><span style=\"color:#ff0d0d\">D</span><span style=\"color:#cf30b7\">P</span><span style=\"color:#04700d\">N</span><span style=\"color:#04700d\">S</span><span style=\"color:#04700d\">G</span><span style=\"color:#04700d\">N</span><span style=\"color:#171616\">M</span><span style=\"color:#04700d\">G</span><span style=\"color:#04700d\">S</span><span style=\"color:#04700d\">G</span><span style=\"color:#171616\">L</span></p>"
      ],
      "text/plain": [
       "<IPython.core.display.HTML object>"
      ]
     },
     "metadata": {},
     "output_type": "display_data"
    },
    {
     "name": "stdout",
     "output_type": "stream",
     "text": [
      "\n",
      "WT to T11\n"
     ]
    },
    {
     "data": {
      "text/html": [
       "<p style=\"font-family:Courier;font-size: 14px\"><span style=\"color:#cf30b7\">P</span><span style=\"color:#04700d\">N</span><span style=\"color:#cf30b7\">P</span><span style=\"color:#04700d\">G</span><span style=\"color:#04700d\">N</span><span style=\"color:#cf30b7\">P</span><span style=\"color:#2900f5\"><b>R</b></span><span style=\"color:#04700d\">S</span><span style=\"color:#04700d\"><b>G</b></span><span style=\"color:#171616\"><b>A</b></span><span style=\"color:#2900f5\"><b>R</b></span><span style=\"color:#04700d\"><b>S</b></span><span style=\"color:#2900f5\"><b>K</b></span><span style=\"color:#04700d\"><b>Q</b></span><span style=\"color:#2900f5\"><b>R</b></span><span style=\"color:#2900f5\"><b>R</b></span><span style=\"color:#ff0d0d\">D</span><span style=\"color:#ff0d0d\">E</span><span style=\"color:#04700d\">N</span><span style=\"color:#04700d\">S</span><span style=\"color:#171616\">M</span><span style=\"color:#04700d\">Q</span><span style=\"color:#cf30b7\">P</span><span style=\"color:#2900f5\">R</span><span style=\"color:#04700d\">Q</span><span style=\"color:#04700d\">G</span><span style=\"color:#04700d\">T</span><span style=\"color:#04700d\">T</span><span style=\"color:#04700d\">N</span><span style=\"color:#ff9d00\">F</span><span style=\"color:#04700d\">S</span><span style=\"color:#04700d\">Q</span><span style=\"color:#171616\">L</span><span style=\"color:#04700d\">S</span><span style=\"color:#cf30b7\">P</span><span style=\"color:#04700d\">N</span><span style=\"color:#171616\">A</span><span style=\"color:#2900f5\">R</span><span style=\"color:#04700d\">G</span><span style=\"color:#04700d\">N</span><span style=\"color:#04700d\">T</span><span style=\"color:#04700d\">S</span><span style=\"color:#171616\">I</span><span style=\"color:#04700d\">G</span><span style=\"color:#04700d\">G</span><span style=\"color:#ff0d0d\">D</span><span style=\"color:#04700d\">Q</span><span style=\"color:#04700d\">G</span><span style=\"color:#04700d\">N</span></p>"
      ],
      "text/plain": [
       "<IPython.core.display.HTML object>"
      ]
     },
     "metadata": {},
     "output_type": "display_data"
    },
    {
     "data": {
      "text/html": [
       "<p style=\"font-family:Courier;font-size: 14px\"><span style=\"color:#04700d\">G</span><span style=\"color:#ff0d0d\">D</span><span style=\"color:#04700d\">N</span><span style=\"color:#2900f5\">R</span><span style=\"color:#171616\">I</span><span style=\"color:#04700d\">S</span><span style=\"color:#2900f5\"><b>R</b></span><span style=\"color:#04700d\">S</span><span style=\"color:#04700d\"><b>G</b></span><span style=\"color:#171616\"><b>A</b></span><span style=\"color:#2900f5\"><b>R</b></span><span style=\"color:#04700d\"><b>S</b></span><span style=\"color:#2900f5\"><b>K</b></span><span style=\"color:#04700d\"><b>Q</b></span><span style=\"color:#2900f5\"><b>R</b></span><span style=\"color:#2900f5\"><b>R</b></span><span style=\"color:#04700d\">T</span><span style=\"color:#cf30b7\">P</span><span style=\"color:#cf30b7\">P</span><span style=\"color:#04700d\">G</span><span style=\"color:#cf30b7\">P</span><span style=\"color:#171616\">A</span><span style=\"color:#04700d\">N</span><span style=\"color:#04700d\">G</span><span style=\"color:#ff0d0d\">E</span><span style=\"color:#171616\">L</span><span style=\"color:#04700d\">G</span><span style=\"color:#ff9d00\">F</span><span style=\"color:#cf30b7\">P</span><span style=\"color:#04700d\">Q</span><span style=\"color:#cf30b7\">P</span><span style=\"color:#04700d\">Q</span><span style=\"color:#04700d\">N</span><span style=\"color:#04700d\">Q</span><span style=\"color:#04700d\">S</span><span style=\"color:#04700d\">G</span><span style=\"color:#2900f5\">R</span><span style=\"color:#171616\">M</span><span style=\"color:#04700d\">N</span><span style=\"color:#04700d\">Q</span><span style=\"color:#04700d\">N</span><span style=\"color:#04700d\">N</span><span style=\"color:#04700d\">T</span><span style=\"color:#04700d\">N</span><span style=\"color:#04700d\">S</span><span style=\"color:#04700d\">G</span><span style=\"color:#ff0d0d\">D</span><span style=\"color:#04700d\">T</span><span style=\"color:#04700d\">S</span></p>"
      ],
      "text/plain": [
       "<IPython.core.display.HTML object>"
      ]
     },
     "metadata": {},
     "output_type": "display_data"
    },
    {
     "data": {
      "text/html": [
       "<p style=\"font-family:Courier;font-size: 14px\"><span style=\"color:#04700d\">Q</span><span style=\"color:#cf30b7\">P</span><span style=\"color:#04700d\">N</span><span style=\"color:#ff9d00\">F</span><span style=\"color:#04700d\">N</span><span style=\"color:#ff0d0d\">D</span><span style=\"color:#2900f5\"><b>R</b></span><span style=\"color:#04700d\">S</span><span style=\"color:#04700d\"><b>G</b></span><span style=\"color:#171616\"><b>A</b></span><span style=\"color:#2900f5\"><b>R</b></span><span style=\"color:#04700d\"><b>S</b></span><span style=\"color:#2900f5\"><b>K</b></span><span style=\"color:#04700d\"><b>Q</b></span><span style=\"color:#2900f5\"><b>R</b></span><span style=\"color:#2900f5\"><b>R</b></span><span style=\"color:#cf30b7\">P</span><span style=\"color:#04700d\">N</span><span style=\"color:#171616\">M</span><span style=\"color:#04700d\">N</span><span style=\"color:#04700d\">S</span><span style=\"color:#2900f5\">R</span><span style=\"color:#04700d\">N</span><span style=\"color:#04700d\">S</span><span style=\"color:#04700d\">G</span><span style=\"color:#04700d\">S</span><span style=\"color:#cf30b7\">P</span><span style=\"color:#04700d\">G</span><span style=\"color:#04700d\">Q</span><span style=\"color:#04700d\">G</span><span style=\"color:#04700d\">S</span><span style=\"color:#04700d\">N</span><span style=\"color:#04700d\">T</span><span style=\"color:#04700d\">Q</span><span style=\"color:#04700d\">T</span><span style=\"color:#2900f5\">R</span><span style=\"color:#04700d\">G</span><span style=\"color:#04700d\">G</span><span style=\"color:#04700d\">T</span><span style=\"color:#04700d\">G</span><span style=\"color:#cf30b7\">P</span><span style=\"color:#ff0d0d\">D</span><span style=\"color:#04700d\">N</span><span style=\"color:#171616\">L</span><span style=\"color:#ff0d0d\">E</span><span style=\"color:#171616\">I</span><span style=\"color:#04700d\">Q</span><span style=\"color:#171616\">A</span><span style=\"color:#cf30b7\">P</span></p>"
      ],
      "text/plain": [
       "<IPython.core.display.HTML object>"
      ]
     },
     "metadata": {},
     "output_type": "display_data"
    },
    {
     "data": {
      "text/html": [
       "<p style=\"font-family:Courier;font-size: 14px\"><span style=\"color:#ff0d0d\">D</span><span style=\"color:#171616\">M</span><span style=\"color:#04700d\">G</span><span style=\"color:#04700d\">N</span><span style=\"color:#cf30b7\">P</span><span style=\"color:#04700d\">S</span><span style=\"color:#2900f5\"><b>R</b></span><span style=\"color:#04700d\">S</span><span style=\"color:#04700d\"><b>G</b></span><span style=\"color:#171616\"><b>A</b></span><span style=\"color:#2900f5\"><b>R</b></span><span style=\"color:#04700d\"><b>S</b></span><span style=\"color:#2900f5\"><b>K</b></span><span style=\"color:#04700d\"><b>Q</b></span><span style=\"color:#2900f5\"><b>R</b></span><span style=\"color:#2900f5\"><b>R</b></span><span style=\"color:#04700d\">Q</span><span style=\"color:#2900f5\">R</span><span style=\"color:#2900f5\">R</span><span style=\"color:#04700d\">G</span><span style=\"color:#cf30b7\">P</span><span style=\"color:#04700d\">N</span><span style=\"color:#171616\">I</span><span style=\"color:#04700d\">T</span><span style=\"color:#04700d\">G</span><span style=\"color:#04700d\">G</span><span style=\"color:#ff0d0d\">D</span><span style=\"color:#04700d\">G</span><span style=\"color:#ff9d00\">F</span><span style=\"color:#04700d\">N</span><span style=\"color:#171616\">A</span><span style=\"color:#04700d\">N</span><span style=\"color:#04700d\">N</span><span style=\"color:#04700d\">S</span><span style=\"color:#ff0d0d\">E</span><span style=\"color:#cf30b7\">P</span><span style=\"color:#cf30b7\">P</span><span style=\"color:#04700d\">N</span><span style=\"color:#04700d\">N</span><span style=\"color:#04700d\">G</span><span style=\"color:#04700d\">S</span><span style=\"color:#04700d\">S</span><span style=\"color:#171616\">L</span><span style=\"color:#04700d\">T</span><span style=\"color:#04700d\">Q</span><span style=\"color:#04700d\">T</span><span style=\"color:#04700d\">Q</span><span style=\"color:#04700d\">Q</span><span style=\"color:#cf30b7\">P</span></p>"
      ],
      "text/plain": [
       "<IPython.core.display.HTML object>"
      ]
     },
     "metadata": {},
     "output_type": "display_data"
    },
    {
     "data": {
      "text/html": [
       "<p style=\"font-family:Courier;font-size: 14px\"><span style=\"color:#04700d\">Q</span><span style=\"color:#04700d\">N</span><span style=\"color:#04700d\">N</span><span style=\"color:#171616\">M</span><span style=\"color:#171616\">I</span><span style=\"color:#171616\">A</span><span style=\"color:#2900f5\"><b>R</b></span><span style=\"color:#04700d\">S</span><span style=\"color:#04700d\"><b>G</b></span><span style=\"color:#171616\"><b>A</b></span><span style=\"color:#2900f5\"><b>R</b></span><span style=\"color:#04700d\"><b>S</b></span><span style=\"color:#2900f5\"><b>K</b></span><span style=\"color:#04700d\"><b>Q</b></span><span style=\"color:#2900f5\"><b>R</b></span><span style=\"color:#2900f5\"><b>R</b></span><span style=\"color:#04700d\">N</span><span style=\"color:#04700d\">G</span><span style=\"color:#04700d\">N</span><span style=\"color:#04700d\">N</span><span style=\"color:#cf30b7\">P</span><span style=\"color:#ff0d0d\">D</span><span style=\"color:#ff0d0d\">E</span><span style=\"color:#04700d\">G</span><span style=\"color:#ff0d0d\">D</span><span style=\"color:#cf30b7\">P</span><span style=\"color:#ff9d00\">F</span><span style=\"color:#04700d\">T</span><span style=\"color:#04700d\">S</span><span style=\"color:#04700d\">S</span><span style=\"color:#04700d\">N</span><span style=\"color:#04700d\">T</span><span style=\"color:#04700d\">S</span><span style=\"color:#04700d\">N</span><span style=\"color:#04700d\">G</span><span style=\"color:#cf30b7\">P</span><span style=\"color:#04700d\">Q</span><span style=\"color:#04700d\">S</span><span style=\"color:#04700d\">T</span><span style=\"color:#04700d\">G</span><span style=\"color:#2900f5\">R</span><span style=\"color:#04700d\">G</span><span style=\"color:#04700d\">G</span><span style=\"color:#cf30b7\">P</span><span style=\"color:#cf30b7\">P</span><span style=\"color:#2900f5\">R</span><span style=\"color:#04700d\">Q</span><span style=\"color:#171616\">L</span><span style=\"color:#04700d\">Q</span></p>"
      ],
      "text/plain": [
       "<IPython.core.display.HTML object>"
      ]
     },
     "metadata": {},
     "output_type": "display_data"
    },
    {
     "data": {
      "text/html": [
       "<p style=\"font-family:Courier;font-size: 14px\"><span style=\"color:#ff0d0d\">D</span><span style=\"color:#ff9d00\">F</span><span style=\"color:#04700d\">G</span><span style=\"color:#04700d\">N</span><span style=\"color:#04700d\">N</span><span style=\"color:#171616\">I</span><span style=\"color:#2900f5\"><b>R</b></span><span style=\"color:#04700d\">S</span><span style=\"color:#04700d\"><b>G</b></span><span style=\"color:#171616\"><b>A</b></span><span style=\"color:#2900f5\"><b>R</b></span><span style=\"color:#04700d\"><b>S</b></span><span style=\"color:#2900f5\"><b>K</b></span><span style=\"color:#04700d\"><b>Q</b></span><span style=\"color:#2900f5\"><b>R</b></span><span style=\"color:#2900f5\"><b>R</b></span><span style=\"color:#ff0d0d\">D</span><span style=\"color:#04700d\">G</span><span style=\"color:#04700d\">S</span><span style=\"color:#04700d\">Q</span><span style=\"color:#04700d\">T</span><span style=\"color:#cf30b7\">P</span><span style=\"color:#04700d\">N</span><span style=\"color:#04700d\">N</span><span style=\"color:#04700d\">N</span><span style=\"color:#04700d\">S</span><span style=\"color:#ff0d0d\">E</span><span style=\"color:#04700d\">Q</span><span style=\"color:#171616\">A</span><span style=\"color:#cf30b7\">P</span><span style=\"color:#2900f5\">R</span><span style=\"color:#2900f5\">R</span><span style=\"color:#cf30b7\">P</span><span style=\"color:#04700d\">S</span><span style=\"color:#04700d\">N</span><span style=\"color:#171616\">L</span><span style=\"color:#171616\">M</span><span style=\"color:#04700d\">S</span><span style=\"color:#04700d\">Q</span><span style=\"color:#cf30b7\">P</span><span style=\"color:#04700d\">N</span><span style=\"color:#04700d\">G</span><span style=\"color:#04700d\">G</span><span style=\"color:#04700d\">Q</span><span style=\"color:#04700d\">G</span><span style=\"color:#04700d\">G</span><span style=\"color:#04700d\">T</span><span style=\"color:#04700d\">T</span><span style=\"color:#cf30b7\">P</span></p>"
      ],
      "text/plain": [
       "<IPython.core.display.HTML object>"
      ]
     },
     "metadata": {},
     "output_type": "display_data"
    },
    {
     "data": {
      "text/html": [
       "<p style=\"font-family:Courier;font-size: 14px\"><span style=\"color:#cf30b7\">P</span><span style=\"color:#04700d\">Q</span><span style=\"color:#ff0d0d\">D</span><span style=\"color:#04700d\">N</span><span style=\"color:#04700d\">Q</span><span style=\"color:#04700d\">S</span><span style=\"color:#2900f5\"><b>R</b></span><span style=\"color:#04700d\">S</span><span style=\"color:#04700d\"><b>G</b></span><span style=\"color:#171616\"><b>A</b></span><span style=\"color:#2900f5\"><b>R</b></span><span style=\"color:#04700d\"><b>S</b></span><span style=\"color:#2900f5\"><b>K</b></span><span style=\"color:#04700d\"><b>Q</b></span><span style=\"color:#2900f5\"><b>R</b></span><span style=\"color:#2900f5\"><b>R</b></span><span style=\"color:#04700d\">N</span><span style=\"color:#04700d\">N</span><span style=\"color:#04700d\">G</span><span style=\"color:#04700d\">G</span><span style=\"color:#ff9d00\">F</span><span style=\"color:#04700d\">G</span><span style=\"color:#04700d\">G</span><span style=\"color:#04700d\">S</span><span style=\"color:#171616\">I</span><span style=\"color:#04700d\">Q</span><span style=\"color:#2900f5\">R</span><span style=\"color:#171616\">M</span><span style=\"color:#ff0d0d\">D</span><span style=\"color:#cf30b7\">P</span><span style=\"color:#04700d\">S</span><span style=\"color:#04700d\">T</span><span style=\"color:#2900f5\">R</span><span style=\"color:#04700d\">S</span><span style=\"color:#04700d\">N</span><span style=\"color:#04700d\">N</span><span style=\"color:#cf30b7\">P</span><span style=\"color:#04700d\">G</span><span style=\"color:#04700d\">T</span><span style=\"color:#171616\">A</span><span style=\"color:#04700d\">G</span><span style=\"color:#cf30b7\">P</span><span style=\"color:#cf30b7\">P</span><span style=\"color:#ff0d0d\">E</span><span style=\"color:#171616\">L</span><span style=\"color:#04700d\">N</span><span style=\"color:#04700d\">N</span><span style=\"color:#04700d\">T</span><span style=\"color:#04700d\">Q</span></p>"
      ],
      "text/plain": [
       "<IPython.core.display.HTML object>"
      ]
     },
     "metadata": {},
     "output_type": "display_data"
    },
    {
     "data": {
      "text/html": [
       "<p style=\"font-family:Courier;font-size: 14px\"><span style=\"color:#cf30b7\">P</span><span style=\"color:#04700d\">G</span><span style=\"color:#171616\">M</span><span style=\"color:#04700d\">S</span><span style=\"color:#04700d\">N</span><span style=\"color:#04700d\">G</span><span style=\"color:#2900f5\"><b>R</b></span><span style=\"color:#04700d\">S</span><span style=\"color:#04700d\"><b>G</b></span><span style=\"color:#171616\"><b>A</b></span><span style=\"color:#2900f5\"><b>R</b></span><span style=\"color:#04700d\"><b>S</b></span><span style=\"color:#2900f5\"><b>K</b></span><span style=\"color:#04700d\"><b>Q</b></span><span style=\"color:#2900f5\"><b>R</b></span><span style=\"color:#2900f5\"><b>R</b></span><span style=\"color:#04700d\">S</span><span style=\"color:#04700d\">G</span><span style=\"color:#04700d\">G</span><span style=\"color:#171616\">L</span><span style=\"color:#ff9d00\">F</span><span style=\"color:#04700d\">G</span><span style=\"color:#ff0d0d\">D</span><span style=\"color:#2900f5\">R</span><span style=\"color:#04700d\">Q</span><span style=\"color:#04700d\">N</span><span style=\"color:#ff0d0d\">E</span><span style=\"color:#04700d\">G</span><span style=\"color:#171616\">I</span><span style=\"color:#04700d\">T</span><span style=\"color:#04700d\">S</span><span style=\"color:#cf30b7\">P</span><span style=\"color:#cf30b7\">P</span><span style=\"color:#04700d\">Q</span><span style=\"color:#2900f5\">R</span><span style=\"color:#cf30b7\">P</span><span style=\"color:#04700d\">S</span><span style=\"color:#cf30b7\">P</span><span style=\"color:#04700d\">N</span><span style=\"color:#04700d\">Q</span><span style=\"color:#04700d\">N</span><span style=\"color:#171616\">A</span><span style=\"color:#ff0d0d\">D</span><span style=\"color:#04700d\">Q</span><span style=\"color:#04700d\">T</span><span style=\"color:#04700d\">T</span><span style=\"color:#04700d\">N</span><span style=\"color:#04700d\">N</span><span style=\"color:#04700d\">N</span></p>"
      ],
      "text/plain": [
       "<IPython.core.display.HTML object>"
      ]
     },
     "metadata": {},
     "output_type": "display_data"
    },
    {
     "data": {
      "text/html": [
       "<p style=\"font-family:Courier;font-size: 14px\"><span style=\"color:#2900f5\">R</span><span style=\"color:#cf30b7\">P</span><span style=\"color:#04700d\">Q</span><span style=\"color:#171616\">M</span><span style=\"color:#171616\">A</span><span style=\"color:#cf30b7\">P</span><span style=\"color:#2900f5\"><b>R</b></span><span style=\"color:#04700d\">S</span><span style=\"color:#04700d\"><b>G</b></span><span style=\"color:#171616\"><b>A</b></span><span style=\"color:#2900f5\"><b>R</b></span><span style=\"color:#04700d\"><b>S</b></span><span style=\"color:#2900f5\"><b>K</b></span><span style=\"color:#04700d\"><b>Q</b></span><span style=\"color:#2900f5\"><b>R</b></span><span style=\"color:#2900f5\"><b>R</b></span><span style=\"color:#cf30b7\">P</span><span style=\"color:#171616\">L</span><span style=\"color:#cf30b7\">P</span><span style=\"color:#04700d\">G</span><span style=\"color:#04700d\">G</span><span style=\"color:#04700d\">Q</span><span style=\"color:#ff0d0d\">D</span><span style=\"color:#04700d\">S</span><span style=\"color:#04700d\">N</span><span style=\"color:#04700d\">T</span><span style=\"color:#04700d\">S</span><span style=\"color:#04700d\">T</span><span style=\"color:#04700d\">Q</span><span style=\"color:#04700d\">N</span><span style=\"color:#04700d\">G</span><span style=\"color:#04700d\">G</span><span style=\"color:#04700d\">N</span><span style=\"color:#04700d\">N</span><span style=\"color:#04700d\">N</span><span style=\"color:#2900f5\">R</span><span style=\"color:#ff9d00\">F</span><span style=\"color:#04700d\">N</span><span style=\"color:#04700d\">G</span><span style=\"color:#cf30b7\">P</span><span style=\"color:#04700d\">S</span><span style=\"color:#04700d\">Q</span><span style=\"color:#04700d\">G</span><span style=\"color:#04700d\">N</span><span style=\"color:#171616\">I</span><span style=\"color:#ff0d0d\">D</span><span style=\"color:#ff0d0d\">E</span><span style=\"color:#04700d\">T</span><span style=\"color:#04700d\">S</span></p>"
      ],
      "text/plain": [
       "<IPython.core.display.HTML object>"
      ]
     },
     "metadata": {},
     "output_type": "display_data"
    },
    {
     "data": {
      "text/html": [
       "<p style=\"font-family:Courier;font-size: 14px\"><span style=\"color:#171616\">L</span><span style=\"color:#2900f5\">R</span><span style=\"color:#04700d\">N</span><span style=\"color:#04700d\">S</span><span style=\"color:#04700d\">N</span><span style=\"color:#ff0d0d\">D</span><span style=\"color:#2900f5\"><b>R</b></span><span style=\"color:#04700d\">S</span><span style=\"color:#04700d\"><b>G</b></span><span style=\"color:#171616\"><b>A</b></span><span style=\"color:#2900f5\"><b>R</b></span><span style=\"color:#04700d\"><b>S</b></span><span style=\"color:#2900f5\"><b>K</b></span><span style=\"color:#04700d\"><b>Q</b></span><span style=\"color:#2900f5\"><b>R</b></span><span style=\"color:#2900f5\"><b>R</b></span><span style=\"color:#04700d\">S</span><span style=\"color:#04700d\">G</span><span style=\"color:#ff0d0d\">E</span><span style=\"color:#04700d\">N</span><span style=\"color:#ff9d00\">F</span><span style=\"color:#04700d\">N</span><span style=\"color:#04700d\">T</span><span style=\"color:#cf30b7\">P</span><span style=\"color:#171616\">M</span><span style=\"color:#2900f5\">R</span><span style=\"color:#cf30b7\">P</span><span style=\"color:#171616\">A</span><span style=\"color:#171616\">I</span><span style=\"color:#04700d\">N</span><span style=\"color:#04700d\">N</span><span style=\"color:#04700d\">S</span><span style=\"color:#04700d\">Q</span><span style=\"color:#04700d\">G</span><span style=\"color:#cf30b7\">P</span><span style=\"color:#04700d\">S</span><span style=\"color:#ff0d0d\">D</span><span style=\"color:#04700d\">G</span><span style=\"color:#04700d\">T</span><span style=\"color:#04700d\">G</span><span style=\"color:#04700d\">G</span><span style=\"color:#04700d\">Q</span><span style=\"color:#cf30b7\">P</span><span style=\"color:#04700d\">T</span><span style=\"color:#04700d\">G</span><span style=\"color:#cf30b7\">P</span><span style=\"color:#04700d\">Q</span><span style=\"color:#04700d\">Q</span><span style=\"color:#04700d\">N</span></p>"
      ],
      "text/plain": [
       "<IPython.core.display.HTML object>"
      ]
     },
     "metadata": {},
     "output_type": "display_data"
    },
    {
     "data": {
      "text/html": [
       "<p style=\"font-family:Courier;font-size: 14px\"><span style=\"color:#04700d\">N</span><span style=\"color:#04700d\">N</span><span style=\"color:#cf30b7\">P</span><span style=\"color:#04700d\">T</span><span style=\"color:#ff9d00\">F</span><span style=\"color:#171616\">I</span><span style=\"color:#2900f5\"><b>R</b></span><span style=\"color:#04700d\">S</span><span style=\"color:#04700d\"><b>G</b></span><span style=\"color:#171616\"><b>A</b></span><span style=\"color:#2900f5\"><b>R</b></span><span style=\"color:#04700d\"><b>S</b></span><span style=\"color:#2900f5\"><b>K</b></span><span style=\"color:#04700d\"><b>Q</b></span><span style=\"color:#2900f5\"><b>R</b></span><span style=\"color:#2900f5\"><b>R</b></span><span style=\"color:#04700d\">S</span><span style=\"color:#04700d\">N</span><span style=\"color:#04700d\">G</span><span style=\"color:#ff0d0d\">D</span><span style=\"color:#04700d\">Q</span><span style=\"color:#04700d\">S</span><span style=\"color:#04700d\">G</span><span style=\"color:#2900f5\">R</span><span style=\"color:#cf30b7\">P</span><span style=\"color:#04700d\">N</span><span style=\"color:#ff0d0d\">D</span><span style=\"color:#04700d\">G</span><span style=\"color:#04700d\">Q</span><span style=\"color:#ff0d0d\">E</span><span style=\"color:#04700d\">N</span><span style=\"color:#04700d\">G</span><span style=\"color:#04700d\">S</span><span style=\"color:#171616\">M</span><span style=\"color:#04700d\">Q</span><span style=\"color:#04700d\">N</span><span style=\"color:#04700d\">S</span><span style=\"color:#04700d\">G</span><span style=\"color:#171616\">A</span><span style=\"color:#cf30b7\">P</span><span style=\"color:#04700d\">T</span><span style=\"color:#2900f5\">R</span><span style=\"color:#cf30b7\">P</span><span style=\"color:#171616\">L</span><span style=\"color:#04700d\">N</span><span style=\"color:#04700d\">Q</span><span style=\"color:#04700d\">G</span><span style=\"color:#04700d\">T</span><span style=\"color:#cf30b7\">P</span></p>"
      ],
      "text/plain": [
       "<IPython.core.display.HTML object>"
      ]
     },
     "metadata": {},
     "output_type": "display_data"
    },
    {
     "data": {
      "text/html": [
       "<p style=\"font-family:Courier;font-size: 14px\"><span style=\"color:#04700d\">T</span><span style=\"color:#04700d\">Q</span><span style=\"color:#171616\">L</span><span style=\"color:#2900f5\">R</span><span style=\"color:#04700d\">S</span><span style=\"color:#04700d\">N</span><span style=\"color:#2900f5\"><b>R</b></span><span style=\"color:#04700d\">S</span><span style=\"color:#04700d\"><b>G</b></span><span style=\"color:#171616\"><b>A</b></span><span style=\"color:#2900f5\"><b>R</b></span><span style=\"color:#04700d\"><b>S</b></span><span style=\"color:#2900f5\"><b>K</b></span><span style=\"color:#04700d\"><b>Q</b></span><span style=\"color:#2900f5\"><b>R</b></span><span style=\"color:#2900f5\"><b>R</b></span><span style=\"color:#cf30b7\">P</span><span style=\"color:#ff9d00\">F</span><span style=\"color:#04700d\">N</span><span style=\"color:#ff0d0d\">D</span><span style=\"color:#04700d\">N</span><span style=\"color:#04700d\">Q</span><span style=\"color:#04700d\">N</span><span style=\"color:#04700d\">G</span><span style=\"color:#04700d\">S</span><span style=\"color:#04700d\">N</span><span style=\"color:#04700d\">G</span><span style=\"color:#2900f5\">R</span><span style=\"color:#04700d\">T</span><span style=\"color:#04700d\">G</span><span style=\"color:#ff0d0d\">D</span><span style=\"color:#04700d\">Q</span><span style=\"color:#04700d\">Q</span><span style=\"color:#04700d\">G</span><span style=\"color:#04700d\">N</span><span style=\"color:#171616\">M</span><span style=\"color:#04700d\">G</span><span style=\"color:#ff0d0d\">E</span><span style=\"color:#cf30b7\">P</span><span style=\"color:#04700d\">S</span><span style=\"color:#cf30b7\">P</span><span style=\"color:#171616\">I</span><span style=\"color:#04700d\">S</span><span style=\"color:#cf30b7\">P</span><span style=\"color:#04700d\">N</span><span style=\"color:#04700d\">G</span><span style=\"color:#cf30b7\">P</span><span style=\"color:#171616\">A</span><span style=\"color:#04700d\">T</span></p>"
      ],
      "text/plain": [
       "<IPython.core.display.HTML object>"
      ]
     },
     "metadata": {},
     "output_type": "display_data"
    },
    {
     "data": {
      "text/html": [
       "<p style=\"font-family:Courier;font-size: 14px\"><span style=\"color:#04700d\">S</span><span style=\"color:#04700d\">N</span><span style=\"color:#ff0d0d\">D</span><span style=\"color:#04700d\">N</span><span style=\"color:#04700d\">G</span><span style=\"color:#04700d\">G</span><span style=\"color:#2900f5\"><b>R</b></span><span style=\"color:#04700d\">S</span><span style=\"color:#04700d\"><b>G</b></span><span style=\"color:#171616\"><b>A</b></span><span style=\"color:#2900f5\"><b>R</b></span><span style=\"color:#04700d\"><b>S</b></span><span style=\"color:#2900f5\"><b>K</b></span><span style=\"color:#04700d\"><b>Q</b></span><span style=\"color:#2900f5\"><b>R</b></span><span style=\"color:#2900f5\"><b>R</b></span><span style=\"color:#04700d\">N</span><span style=\"color:#04700d\">T</span><span style=\"color:#ff0d0d\">E</span><span style=\"color:#04700d\">G</span><span style=\"color:#04700d\">G</span><span style=\"color:#cf30b7\">P</span><span style=\"color:#04700d\">N</span><span style=\"color:#04700d\">Q</span><span style=\"color:#171616\">L</span><span style=\"color:#171616\">I</span><span style=\"color:#ff9d00\">F</span><span style=\"color:#04700d\">Q</span><span style=\"color:#171616\">A</span><span style=\"color:#cf30b7\">P</span><span style=\"color:#04700d\">S</span><span style=\"color:#04700d\">N</span><span style=\"color:#cf30b7\">P</span><span style=\"color:#04700d\">Q</span><span style=\"color:#04700d\">G</span><span style=\"color:#04700d\">Q</span><span style=\"color:#2900f5\">R</span><span style=\"color:#cf30b7\">P</span><span style=\"color:#04700d\">T</span><span style=\"color:#04700d\">N</span><span style=\"color:#cf30b7\">P</span><span style=\"color:#04700d\">S</span><span style=\"color:#ff0d0d\">D</span><span style=\"color:#04700d\">S</span><span style=\"color:#2900f5\">R</span><span style=\"color:#04700d\">G</span><span style=\"color:#04700d\">N</span><span style=\"color:#04700d\">T</span><span style=\"color:#171616\">M</span></p>"
      ],
      "text/plain": [
       "<IPython.core.display.HTML object>"
      ]
     },
     "metadata": {},
     "output_type": "display_data"
    },
    {
     "data": {
      "text/html": [
       "<p style=\"font-family:Courier;font-size: 14px\"><span style=\"color:#171616\">A</span><span style=\"color:#04700d\">N</span><span style=\"color:#04700d\">S</span><span style=\"color:#04700d\">N</span><span style=\"color:#04700d\">N</span><span style=\"color:#ff9d00\">F</span><span style=\"color:#2900f5\"><b>R</b></span><span style=\"color:#04700d\">S</span><span style=\"color:#04700d\"><b>G</b></span><span style=\"color:#171616\"><b>A</b></span><span style=\"color:#2900f5\"><b>R</b></span><span style=\"color:#04700d\"><b>S</b></span><span style=\"color:#2900f5\"><b>K</b></span><span style=\"color:#04700d\"><b>Q</b></span><span style=\"color:#2900f5\"><b>R</b></span><span style=\"color:#2900f5\"><b>R</b></span><span style=\"color:#cf30b7\">P</span><span style=\"color:#171616\">L</span><span style=\"color:#04700d\">G</span><span style=\"color:#04700d\">G</span><span style=\"color:#04700d\">G</span><span style=\"color:#04700d\">Q</span><span style=\"color:#04700d\">Q</span><span style=\"color:#cf30b7\">P</span><span style=\"color:#ff0d0d\">D</span><span style=\"color:#171616\">M</span><span style=\"color:#04700d\">N</span><span style=\"color:#cf30b7\">P</span><span style=\"color:#04700d\">S</span><span style=\"color:#04700d\">T</span><span style=\"color:#cf30b7\">P</span><span style=\"color:#04700d\">G</span><span style=\"color:#04700d\">S</span><span style=\"color:#ff0d0d\">D</span><span style=\"color:#04700d\">T</span><span style=\"color:#04700d\">Q</span><span style=\"color:#ff0d0d\">E</span><span style=\"color:#04700d\">G</span><span style=\"color:#2900f5\">R</span><span style=\"color:#04700d\">N</span><span style=\"color:#04700d\">N</span><span style=\"color:#cf30b7\">P</span><span style=\"color:#04700d\">S</span><span style=\"color:#171616\">I</span><span style=\"color:#04700d\">Q</span><span style=\"color:#04700d\">N</span><span style=\"color:#04700d\">G</span><span style=\"color:#04700d\">T</span><span style=\"color:#2900f5\">R</span></p>"
      ],
      "text/plain": [
       "<IPython.core.display.HTML object>"
      ]
     },
     "metadata": {},
     "output_type": "display_data"
    },
    {
     "data": {
      "text/html": [
       "<p style=\"font-family:Courier;font-size: 14px\"><span style=\"color:#171616\">M</span><span style=\"color:#04700d\">G</span><span style=\"color:#04700d\">S</span><span style=\"color:#ff0d0d\">D</span><span style=\"color:#171616\">L</span><span style=\"color:#04700d\">T</span><span style=\"color:#2900f5\"><b>R</b></span><span style=\"color:#04700d\">S</span><span style=\"color:#04700d\"><b>G</b></span><span style=\"color:#171616\"><b>A</b></span><span style=\"color:#2900f5\"><b>R</b></span><span style=\"color:#04700d\"><b>S</b></span><span style=\"color:#2900f5\"><b>K</b></span><span style=\"color:#04700d\"><b>Q</b></span><span style=\"color:#2900f5\"><b>R</b></span><span style=\"color:#2900f5\"><b>R</b></span><span style=\"color:#04700d\">S</span><span style=\"color:#04700d\">G</span><span style=\"color:#04700d\">Q</span><span style=\"color:#04700d\">G</span><span style=\"color:#04700d\">G</span><span style=\"color:#04700d\">Q</span><span style=\"color:#cf30b7\">P</span><span style=\"color:#04700d\">N</span><span style=\"color:#ff9d00\">F</span><span style=\"color:#04700d\">N</span><span style=\"color:#04700d\">T</span><span style=\"color:#04700d\">Q</span><span style=\"color:#ff0d0d\">D</span><span style=\"color:#04700d\">Q</span><span style=\"color:#04700d\">N</span><span style=\"color:#04700d\">N</span><span style=\"color:#cf30b7\">P</span><span style=\"color:#cf30b7\">P</span><span style=\"color:#171616\">A</span><span style=\"color:#ff0d0d\">E</span><span style=\"color:#04700d\">S</span><span style=\"color:#171616\">I</span><span style=\"color:#04700d\">N</span><span style=\"color:#04700d\">T</span><span style=\"color:#2900f5\">R</span><span style=\"color:#04700d\">N</span><span style=\"color:#04700d\">G</span><span style=\"color:#04700d\">N</span><span style=\"color:#cf30b7\">P</span><span style=\"color:#04700d\">S</span><span style=\"color:#04700d\">G</span><span style=\"color:#cf30b7\">P</span><span style=\"color:#2900f5\">R</span></p>"
      ],
      "text/plain": [
       "<IPython.core.display.HTML object>"
      ]
     },
     "metadata": {},
     "output_type": "display_data"
    },
    {
     "data": {
      "text/html": [
       "<p style=\"font-family:Courier;font-size: 14px\"><span style=\"color:#04700d\">N</span><span style=\"color:#04700d\">T</span><span style=\"color:#04700d\">N</span><span style=\"color:#ff0d0d\">E</span><span style=\"color:#04700d\">G</span><span style=\"color:#171616\">M</span><span style=\"color:#2900f5\"><b>R</b></span><span style=\"color:#04700d\">S</span><span style=\"color:#04700d\"><b>G</b></span><span style=\"color:#171616\"><b>A</b></span><span style=\"color:#2900f5\"><b>R</b></span><span style=\"color:#04700d\"><b>S</b></span><span style=\"color:#2900f5\"><b>K</b></span><span style=\"color:#04700d\"><b>Q</b></span><span style=\"color:#2900f5\"><b>R</b></span><span style=\"color:#2900f5\"><b>R</b></span><span style=\"color:#04700d\">S</span><span style=\"color:#2900f5\">R</span><span style=\"color:#04700d\">G</span><span style=\"color:#171616\">I</span><span style=\"color:#04700d\">G</span><span style=\"color:#04700d\">N</span><span style=\"color:#cf30b7\">P</span><span style=\"color:#171616\">L</span><span style=\"color:#04700d\">Q</span><span style=\"color:#04700d\">Q</span><span style=\"color:#04700d\">N</span><span style=\"color:#04700d\">S</span><span style=\"color:#2900f5\">R</span><span style=\"color:#04700d\">N</span><span style=\"color:#04700d\">G</span><span style=\"color:#04700d\">T</span><span style=\"color:#04700d\">Q</span><span style=\"color:#04700d\">Q</span><span style=\"color:#171616\">A</span><span style=\"color:#cf30b7\">P</span><span style=\"color:#04700d\">N</span><span style=\"color:#04700d\">N</span><span style=\"color:#cf30b7\">P</span><span style=\"color:#04700d\">S</span><span style=\"color:#cf30b7\">P</span><span style=\"color:#cf30b7\">P</span><span style=\"color:#04700d\">G</span><span style=\"color:#ff9d00\">F</span><span style=\"color:#04700d\">S</span><span style=\"color:#ff0d0d\">D</span><span style=\"color:#ff0d0d\">D</span><span style=\"color:#04700d\">G</span><span style=\"color:#04700d\">T</span></p>"
      ],
      "text/plain": [
       "<IPython.core.display.HTML object>"
      ]
     },
     "metadata": {},
     "output_type": "display_data"
    },
    {
     "data": {
      "text/html": [
       "<p style=\"font-family:Courier;font-size: 14px\"><span style=\"color:#2900f5\">R</span><span style=\"color:#ff0d0d\">D</span><span style=\"color:#04700d\">N</span><span style=\"color:#04700d\">Q</span><span style=\"color:#04700d\">N</span><span style=\"color:#04700d\">Q</span><span style=\"color:#2900f5\"><b>R</b></span><span style=\"color:#04700d\">S</span><span style=\"color:#04700d\"><b>G</b></span><span style=\"color:#171616\"><b>A</b></span><span style=\"color:#2900f5\"><b>R</b></span><span style=\"color:#04700d\"><b>S</b></span><span style=\"color:#2900f5\"><b>K</b></span><span style=\"color:#04700d\"><b>Q</b></span><span style=\"color:#2900f5\"><b>R</b></span><span style=\"color:#2900f5\"><b>R</b></span><span style=\"color:#171616\">I</span><span style=\"color:#04700d\">S</span><span style=\"color:#171616\">L</span><span style=\"color:#cf30b7\">P</span><span style=\"color:#2900f5\">R</span><span style=\"color:#04700d\">G</span><span style=\"color:#04700d\">S</span><span style=\"color:#04700d\">N</span><span style=\"color:#ff0d0d\">D</span><span style=\"color:#171616\">A</span><span style=\"color:#04700d\">Q</span><span style=\"color:#04700d\">G</span><span style=\"color:#cf30b7\">P</span><span style=\"color:#04700d\">N</span><span style=\"color:#04700d\">S</span><span style=\"color:#cf30b7\">P</span><span style=\"color:#04700d\">N</span><span style=\"color:#04700d\">N</span><span style=\"color:#cf30b7\">P</span><span style=\"color:#04700d\">N</span><span style=\"color:#ff0d0d\">E</span><span style=\"color:#cf30b7\">P</span><span style=\"color:#04700d\">Q</span><span style=\"color:#04700d\">T</span><span style=\"color:#04700d\">G</span><span style=\"color:#ff9d00\">F</span><span style=\"color:#04700d\">G</span><span style=\"color:#04700d\">G</span><span style=\"color:#171616\">M</span><span style=\"color:#04700d\">G</span><span style=\"color:#04700d\">T</span><span style=\"color:#04700d\">T</span><span style=\"color:#04700d\">S</span></p>"
      ],
      "text/plain": [
       "<IPython.core.display.HTML object>"
      ]
     },
     "metadata": {},
     "output_type": "display_data"
    },
    {
     "data": {
      "text/html": [
       "<p style=\"font-family:Courier;font-size: 14px\"><span style=\"color:#04700d\">G</span><span style=\"color:#04700d\">S</span><span style=\"color:#04700d\">S</span><span style=\"color:#04700d\">N</span><span style=\"color:#171616\">A</span><span style=\"color:#cf30b7\">P</span><span style=\"color:#2900f5\"><b>R</b></span><span style=\"color:#04700d\">S</span><span style=\"color:#04700d\"><b>G</b></span><span style=\"color:#171616\"><b>A</b></span><span style=\"color:#2900f5\"><b>R</b></span><span style=\"color:#04700d\"><b>S</b></span><span style=\"color:#2900f5\"><b>K</b></span><span style=\"color:#04700d\"><b>Q</b></span><span style=\"color:#2900f5\"><b>R</b></span><span style=\"color:#2900f5\"><b>R</b></span><span style=\"color:#171616\">L</span><span style=\"color:#cf30b7\">P</span><span style=\"color:#04700d\">N</span><span style=\"color:#04700d\">Q</span><span style=\"color:#04700d\">Q</span><span style=\"color:#2900f5\">R</span><span style=\"color:#171616\">M</span><span style=\"color:#171616\">I</span><span style=\"color:#cf30b7\">P</span><span style=\"color:#04700d\">G</span><span style=\"color:#04700d\">T</span><span style=\"color:#cf30b7\">P</span><span style=\"color:#ff0d0d\">D</span><span style=\"color:#04700d\">G</span><span style=\"color:#ff9d00\">F</span><span style=\"color:#04700d\">S</span><span style=\"color:#2900f5\">R</span><span style=\"color:#ff0d0d\">E</span><span style=\"color:#04700d\">Q</span><span style=\"color:#04700d\">G</span><span style=\"color:#04700d\">N</span><span style=\"color:#04700d\">T</span><span style=\"color:#04700d\">Q</span><span style=\"color:#04700d\">N</span><span style=\"color:#04700d\">T</span><span style=\"color:#04700d\">S</span><span style=\"color:#04700d\">N</span><span style=\"color:#04700d\">N</span><span style=\"color:#04700d\">N</span><span style=\"color:#04700d\">G</span><span style=\"color:#ff0d0d\">D</span><span style=\"color:#cf30b7\">P</span><span style=\"color:#04700d\">G</span></p>"
      ],
      "text/plain": [
       "<IPython.core.display.HTML object>"
      ]
     },
     "metadata": {},
     "output_type": "display_data"
    },
    {
     "data": {
      "text/html": [
       "<p style=\"font-family:Courier;font-size: 14px\"><span style=\"color:#04700d\">Q</span><span style=\"color:#cf30b7\">P</span><span style=\"color:#04700d\">Q</span><span style=\"color:#04700d\">T</span><span style=\"color:#ff0d0d\">D</span><span style=\"color:#04700d\">N</span><span style=\"color:#2900f5\"><b>R</b></span><span style=\"color:#04700d\">S</span><span style=\"color:#04700d\"><b>G</b></span><span style=\"color:#171616\"><b>A</b></span><span style=\"color:#2900f5\"><b>R</b></span><span style=\"color:#04700d\"><b>S</b></span><span style=\"color:#2900f5\"><b>K</b></span><span style=\"color:#04700d\"><b>Q</b></span><span style=\"color:#2900f5\"><b>R</b></span><span style=\"color:#2900f5\"><b>R</b></span><span style=\"color:#04700d\">G</span><span style=\"color:#04700d\">N</span><span style=\"color:#04700d\">T</span><span style=\"color:#04700d\">N</span><span style=\"color:#2900f5\">R</span><span style=\"color:#04700d\">G</span><span style=\"color:#04700d\">N</span><span style=\"color:#04700d\">N</span><span style=\"color:#ff0d0d\">E</span><span style=\"color:#04700d\">N</span><span style=\"color:#171616\">I</span><span style=\"color:#171616\">M</span><span style=\"color:#04700d\">Q</span><span style=\"color:#04700d\">S</span><span style=\"color:#04700d\">S</span><span style=\"color:#04700d\">G</span><span style=\"color:#171616\">L</span><span style=\"color:#ff0d0d\">D</span><span style=\"color:#171616\">A</span><span style=\"color:#04700d\">G</span><span style=\"color:#04700d\">G</span><span style=\"color:#cf30b7\">P</span><span style=\"color:#cf30b7\">P</span><span style=\"color:#04700d\">S</span><span style=\"color:#cf30b7\">P</span><span style=\"color:#2900f5\">R</span><span style=\"color:#ff9d00\">F</span><span style=\"color:#04700d\">N</span><span style=\"color:#04700d\">T</span><span style=\"color:#cf30b7\">P</span><span style=\"color:#04700d\">S</span><span style=\"color:#04700d\">G</span><span style=\"color:#04700d\">Q</span></p>"
      ],
      "text/plain": [
       "<IPython.core.display.HTML object>"
      ]
     },
     "metadata": {},
     "output_type": "display_data"
    },
    {
     "data": {
      "text/html": [
       "<p style=\"font-family:Courier;font-size: 14px\"><span style=\"color:#cf30b7\">P</span><span style=\"color:#04700d\">N</span><span style=\"color:#04700d\">S</span><span style=\"color:#2900f5\">R</span><span style=\"color:#04700d\">Q</span><span style=\"color:#ff0d0d\">D</span><span style=\"color:#2900f5\"><b>R</b></span><span style=\"color:#04700d\">S</span><span style=\"color:#04700d\"><b>G</b></span><span style=\"color:#171616\"><b>A</b></span><span style=\"color:#2900f5\"><b>R</b></span><span style=\"color:#04700d\"><b>S</b></span><span style=\"color:#2900f5\"><b>K</b></span><span style=\"color:#04700d\"><b>Q</b></span><span style=\"color:#2900f5\"><b>R</b></span><span style=\"color:#2900f5\"><b>R</b></span><span style=\"color:#ff0d0d\">E</span><span style=\"color:#04700d\">S</span><span style=\"color:#171616\">A</span><span style=\"color:#04700d\">G</span><span style=\"color:#04700d\">S</span><span style=\"color:#ff0d0d\">D</span><span style=\"color:#04700d\">Q</span><span style=\"color:#ff9d00\">F</span><span style=\"color:#171616\">M</span><span style=\"color:#04700d\">Q</span><span style=\"color:#04700d\">N</span><span style=\"color:#04700d\">G</span><span style=\"color:#04700d\">N</span><span style=\"color:#04700d\">S</span><span style=\"color:#04700d\">G</span><span style=\"color:#04700d\">N</span><span style=\"color:#cf30b7\">P</span><span style=\"color:#cf30b7\">P</span><span style=\"color:#04700d\">T</span><span style=\"color:#04700d\">G</span><span style=\"color:#171616\">I</span><span style=\"color:#04700d\">T</span><span style=\"color:#2900f5\">R</span><span style=\"color:#04700d\">T</span><span style=\"color:#04700d\">N</span><span style=\"color:#171616\">L</span><span style=\"color:#04700d\">G</span><span style=\"color:#04700d\">G</span><span style=\"color:#04700d\">N</span><span style=\"color:#cf30b7\">P</span><span style=\"color:#cf30b7\">P</span><span style=\"color:#04700d\">N</span><span style=\"color:#04700d\">Q</span></p>"
      ],
      "text/plain": [
       "<IPython.core.display.HTML object>"
      ]
     },
     "metadata": {},
     "output_type": "display_data"
    }
   ],
   "source": [
    "# read in the sequences for the different groups just to check everything seems good...\n",
    "\n",
    "all_seqs = protfasta.read_fasta('seqs_data_run.fasta')\n",
    "for k in all_seqs:\n",
    "    Protein(all_seqs[k][0:49]).show_sequence(bold_positions=[32,33,34,35,36,37,38,39,40,41],blocksize=50)\n",
    "\n",
    "print('\\nT11')\n",
    "all_seqs = protfasta.read_fasta('seqs_data_run_T11.fasta')\n",
    "for k in all_seqs:\n",
    "    Protein(all_seqs[k][0:49]).show_sequence(bold_positions=[7,9,10,11,12,13,14,15,16],blocksize=50)\n",
    "\n",
    "print('\\nWT to T11')\n",
    "all_seqs = protfasta.read_fasta('seqs_data_run_WT_to_T11.fasta')\n",
    "for k in all_seqs:\n",
    "    Protein(all_seqs[k][0:49]).show_sequence(bold_positions=[7,9,10,11,12,13,14,15,16],blocksize=50)    "
   ]
  },
  {
   "cell_type": "code",
   "execution_count": 33,
   "id": "673dffdc-65c7-4fd9-8b46-2fb80b61b545",
   "metadata": {},
   "outputs": [],
   "source": [
    "# get the wt Ka values (needed to calculated the Ka*\n",
    "all_wt_Ka_vals = []\n",
    "for i in range(1,6):\n",
    "    with open(f'../../Figure_2/Analysis/Data/SCO2_{i}_Ka.csv','r') as fh:\n",
    "        content = fh.readlines()\n",
    "        all_wt_Ka_vals.extend([float(i.strip()) for i in content[1:]])\n",
    "\n",
    "wt_ka = np.mean(all_wt_Ka_vals)\n"
   ]
  },
  {
   "cell_type": "code",
   "execution_count": 57,
   "id": "dda25160-9c93-4521-a0f5-011f62cdd7e2",
   "metadata": {},
   "outputs": [],
   "source": [
    "# read in the actual Ka values\n",
    "all_data = {}\n",
    "names = ['run', 'run_T11', 'run_WT_to_T11']\n",
    "for n in names:\n",
    "    seq2scores = {}\n",
    "    for i in range(1, 21):\n",
    "        with open(f'Data_{n}/S{i}_2_Ka.csv') as fh:\n",
    "            content = fh.readlines()\n",
    "        vals = [float(i) for i in content[1:]]\n",
    "        seq2scores[i] = vals\n",
    "    all_data[n] = seq2scores\n",
    "    "
   ]
  },
  {
   "cell_type": "code",
   "execution_count": 68,
   "id": "d0415689-f1cf-4068-80a6-246ec89c7cab",
   "metadata": {},
   "outputs": [],
   "source": [
    "# get RBD only Ka* value\n",
    "with open('Data_run/WT_RBD_2_Ka.csv','r') as fh:\n",
    "    content = fh.readlines()\n",
    "\n",
    "# nb see we divide by wt_ka here\n",
    "RBD_only_KA = np.mean([float(i) for i in content[1:]])/wt_ka\n",
    "\n"
   ]
  },
  {
   "cell_type": "code",
   "execution_count": 35,
   "id": "48cdbe02-ad98-416f-9755-aae8cabb7c67",
   "metadata": {},
   "outputs": [],
   "source": [
    "# convert to a mea \n",
    "mean_wt_ka_star        = np.array([np.mean(all_data['run'][k]) for k in all_data['run']])/wt_ka\n",
    "mean_t11_ka_star       = np.array([np.mean(all_data['run_T11'][k]) for k in all_data['run']])/wt_ka\n",
    "mean_wt_to_t11_ka_star = np.array([np.mean(all_data['run_WT_to_T11'][k]) for k in all_data['run']])/wt_ka"
   ]
  },
  {
   "cell_type": "code",
   "execution_count": 80,
   "id": "301fa6f6-7fa4-417c-8b13-2eed753ed976",
   "metadata": {},
   "outputs": [
    {
     "data": {
      "image/png": "[encoded data removed]",
      "text/plain": [
       "<Figure size 300x500 with 1 Axes>"
      ]
     },
     "metadata": {
      "image/png": {
       "height": 489,
       "width": 287
      }
     },
     "output_type": "display_data"
    }
   ],
   "source": [
    "# Create a DataFrame in long format\n",
    "df = pd.DataFrame({\n",
    "    'value': list(mean_wt_ka_star) + list(mean_t11_ka_star) + list(mean_wt_to_t11_ka_star),\n",
    "    'group': ['32-41 frozen'] * 20 + ['7-16 frozen'] * 20 + ['WT 32-41 \\n moved to \\n 7-16 (frozen)'] * 20\n",
    "})\n",
    "\n",
    "# Create the swarm plot\n",
    "plt.figure(figsize=(3, 5))\n",
    "ax = plt.gca()\n",
    "\n",
    "\n",
    "sns.stripplot(data=df, x='group', y='value', size=4, jitter=True, alpha=0.7, color='k')\n",
    "\n",
    "ax.axhline(RBD_only_KA, color='r', ls='--')\n",
    "ax.axhline(1, color='b', ls='--')\n",
    "\n",
    "# Overlay means\n",
    "\n",
    "\n",
    "plt.ylabel(r\"$ \\rm K_{A*}$\")\n",
    "plt.xlabel(\"\")\n",
    "plt.yscale('log')\n",
    "plt.ylim([0.001,10])\n",
    "plt.tight_layout()\n"
   ]
  },
  {
   "cell_type": "code",
   "execution_count": 85,
   "id": "1697afa0-2a31-4178-9988-ee20042795ba",
   "metadata": {},
   "outputs": [
    {
     "data": {
      "image/png": "[encoded data removed]",
      "text/plain": [
       "<Figure size 300x500 with 1 Axes>"
      ]
     },
     "metadata": {
      "image/png": {
       "height": 490,
       "width": 287
      }
     },
     "output_type": "display_data"
    }
   ],
   "source": [
    "import matplotlib.pyplot as plt\n",
    "import seaborn as sns\n",
    "import pandas as pd\n",
    "\n",
    "# Create a DataFrame in long format\n",
    "df = pd.DataFrame({\n",
    "    'value': list(mean_wt_ka_star) + list(mean_t11_ka_star) + list(mean_wt_to_t11_ka_star),\n",
    "    'group': ['32-41 frozen'] * 20 + ['7-16 frozen'] * 20 + ['WT 32-41 \\n moved to \\n 7-16 (frozen)'] * 20\n",
    "})\n",
    "\n",
    "plt.figure(figsize=(3, 5))\n",
    "ax = plt.gca()\n",
    "\n",
    "# Box plot with log-scaled y-axis\n",
    "sns.boxplot(data=df, x='group', y='value', color='lightgray', fliersize=0, width=0.6, boxprops=dict(alpha=0.8))\n",
    "\n",
    "\n",
    "# Horizontal reference lines\n",
    "ax.axhline(RBD_only_KA, color='r', ls='--')\n",
    "ax.axhline(1, color='b', ls='--')\n",
    "\n",
    "plt.ylabel(r\"$ \\rm K_{A*}$\")\n",
    "plt.xlabel(\"\")\n",
    "plt.yscale('log')\n",
    "plt.ylim([0.01, 2])\n",
    "plt.tight_layout()"
   ]
  },
  {
   "cell_type": "code",
   "execution_count": 86,
   "id": "bf1befce-f68b-4c48-aac0-854fd500b645",
   "metadata": {},
   "outputs": [
    {
     "name": "stdout",
     "output_type": "stream",
     "text": [
      "32-41 frozen vs 7-16 frozen: U = 320.00, raw p = 1.227e-03, Bonferroni-corrected p = 3.682e-03\n",
      "32-41 frozen vs WT 32-41 moved and frozne: U = 325.00, raw p = 7.579e-04, Bonferroni-corrected p = 2.274e-03\n",
      "7-16 frozen vs WT 32-41 moved and frozne: U = 160.00, raw p = 2.853e-01, Bonferroni-corrected p = 8.559e-01\n"
     ]
    }
   ],
   "source": [
    "# define data for doing MW\n",
    "groups = {\n",
    "    '32-41 frozen': mean_wt,\n",
    "    '7-16 frozen': mean_t11,\n",
    "    'WT 32-41 moved and frozne': mean_wt_to_t11\n",
    "}\n",
    "\n",
    "# Perform pairwise Mann-Whitney U tests\n",
    "results = []\n",
    "group_names = list(groups.keys())\n",
    "for g1, g2 in combinations(group_names, 2):\n",
    "    stat, p = mannwhitneyu(groups[g1], groups[g2], alternative='two-sided')\n",
    "    results.append({\n",
    "        'comparison': f'{g1} vs {g2}',\n",
    "        'U': stat,\n",
    "        'raw_p': p\n",
    "    })\n",
    "\n",
    "# Bonferroni correction\n",
    "n_tests = len(results)\n",
    "for r in results:\n",
    "    r['bonferroni_p'] = min(r['raw_p'] * n_tests, 1.0)\n",
    "\n",
    "# Print results\n",
    "for r in results:\n",
    "    print(f\"{r['comparison']}: U = {r['U']:.2f}, raw p = {r['raw_p']:.3e}, Bonferroni-corrected p = {r['bonferroni_p']:.3e}\")"
   ]
  }
 ],
 "metadata": {
  "kernelspec": {
   "display_name": "Python 3 (ipykernel)",
   "language": "python",
   "name": "python3"
  },
  "language_info": {
   "codemirror_mode": {
    "name": "ipython",
    "version": 3
   },
   "file_extension": ".py",
   "mimetype": "text/x-python",
   "name": "python",
   "nbconvert_exporter": "python",
   "pygments_lexer": "ipython3",
   "version": "3.11.12"
  }
 },
 "nbformat": 4,
 "nbformat_minor": 5
}
