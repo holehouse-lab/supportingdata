{
 "cells": [
  {
   "cell_type": "code",
   "execution_count": 29,
   "id": "63ea5b97-61a5-4e1d-a625-50a2f0290e56",
   "metadata": {},
   "outputs": [],
   "source": [
    "import protfasta\n",
    "from sparrow import Protein\n",
    "def name2seq(fn):\n",
    "    \n",
    "    with open(fn, 'r') as fh:\n",
    "        content = fh.readlines()\n",
    "\n",
    "\n",
    "    for l in content:\n",
    "        if l.find('Scrambled') > -1:\n",
    "            [name, seq] = l.strip().split()\n",
    "            break\n",
    "\n",
    "    return [name,seq]\n",
    "\n",
    "\n",
    "basename = 'Data_run'\n",
    "all_seqs = {}\n",
    "for i in range(1,21):\n",
    "    [n,s] = name2seq(f'{basename}/seqs/S{i}_1_seq.in')\n",
    "    all_seqs[n] = s\n",
    "protfasta.write_fasta(all_seqs,'seqs_data_run.fasta')    \n",
    "\n",
    "\n",
    "basename = 'Data_run_T11'\n",
    "all_seqs = {}\n",
    "for i in range(1,21):\n",
    "    [n,s] = name2seq(f'{basename}/seqs/S{i}_1_seq.in')\n",
    "    all_seqs[n] = s\n",
    "protfasta.write_fasta(all_seqs,'seqs_data_run_T11.fasta')    \n",
    "\n",
    "basename = 'Data_run_WT_to_T11'\n",
    "all_seqs = {}\n",
    "for i in range(1,21):\n",
    "    [n,s] = name2seq(f'{basename}/seqs/S{i}_1_seq.in')\n",
    "    all_seqs[n] = s\n",
    "protfasta.write_fasta(all_seqs,'seqs_data_run_WT_to_T11.fasta')    \n",
    "\n",
    "\n",
    "\n",
    "    "
   ]
  }
 ],
 "metadata": {
  "kernelspec": {
   "display_name": "Python 3 (ipykernel)",
   "language": "python",
   "name": "python3"
  },
  "language_info": {
   "codemirror_mode": {
    "name": "ipython",
    "version": 3
   },
   "file_extension": ".py",
   "mimetype": "text/x-python",
   "name": "python",
   "nbconvert_exporter": "python",
   "pygments_lexer": "ipython3",
   "version": "3.11.12"
  }
 },
 "nbformat": 4,
 "nbformat_minor": 5
}
