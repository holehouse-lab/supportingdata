{
 "cells": [
  {
   "cell_type": "code",
   "execution_count": 1,
   "id": "7ad14736-aee7-4be9-9171-d8ce4227b331",
   "metadata": {},
   "outputs": [],
   "source": [
    "import protfasta \n",
    "from sparrow import Protein"
   ]
  },
  {
   "cell_type": "code",
   "execution_count": 2,
   "id": "2528f2ca-0a43-4b48-b471-efe35563db04",
   "metadata": {},
   "outputs": [],
   "source": [
    "seqs = protfasta.read_fasta('synthetic_idrs.fasta')"
   ]
  },
  {
   "cell_type": "code",
   "execution_count": 7,
   "id": "c389f3cb-2c48-4c24-bcb6-6637db36f02a",
   "metadata": {},
   "outputs": [
    {
     "data": {
      "text/html": [
       "<p style=\"font-family:Courier;font-size: 14px\"><span style=\"color:#04700d\">Q</span><span style=\"color:#04700d\">N</span><span style=\"color:#04700d\">N</span><span style=\"color:#04700d\">N</span><span style=\"color:#04700d\">Q</span><span style=\"color:#04700d\">Q</span><span style=\"color:#04700d\">Q</span><span style=\"color:#04700d\">N</span><span style=\"color:#04700d\">Q</span><span style=\"color:#04700d\">Q</span><span style=\"color:#04700d\">N</span><span style=\"color:#04700d\">Q</span><span style=\"color:#04700d\">N</span><span style=\"color:#04700d\">N</span><span style=\"color:#04700d\">Q</span><span style=\"color:#04700d\">N</span><span style=\"color:#04700d\">N</span><span style=\"color:#04700d\">N</span><span style=\"color:#04700d\">Q</span><span style=\"color:#04700d\">N</span><span style=\"color:#04700d\">N</span><span style=\"color:#04700d\">N</span><span style=\"color:#04700d\">N</span><span style=\"color:#04700d\">Q</span><span style=\"color:#04700d\">N</span><span style=\"color:#04700d\">Q</span><span style=\"color:#04700d\">N</span><span style=\"color:#04700d\">N</span><span style=\"color:#04700d\">Q</span><span style=\"color:#04700d\">Q</span><span style=\"color:#04700d\">Q</span><span style=\"color:#04700d\">Q</span><span style=\"color:#04700d\">N</span><span style=\"color:#04700d\">Q</span><span style=\"color:#04700d\">Q</span><span style=\"color:#04700d\">Q</span><span style=\"color:#04700d\">N</span><span style=\"color:#04700d\">N</span><span style=\"color:#04700d\">N</span><span style=\"color:#04700d\">Q</span><span style=\"color:#04700d\">Q</span><span style=\"color:#04700d\">Q</span><span style=\"color:#04700d\">N</span><span style=\"color:#04700d\">N</span><span style=\"color:#04700d\">Q</span><span style=\"color:#04700d\">Q</span><span style=\"color:#04700d\">N</span><span style=\"color:#04700d\">N</span><span style=\"color:#04700d\">N</span><span style=\"color:#04700d\">N</span><span style=\"color:#04700d\">Q</span><span style=\"color:#04700d\">Q</span><span style=\"color:#04700d\">Q</span><span style=\"color:#04700d\">N</span><span style=\"color:#04700d\">N</span><span style=\"color:#04700d\">N</span><span style=\"color:#04700d\">Q</span><span style=\"color:#04700d\">N</span><span style=\"color:#04700d\">N</span><span style=\"color:#04700d\">N</span></p>"
      ],
      "text/plain": [
       "<IPython.core.display.HTML object>"
      ]
     },
     "metadata": {},
     "output_type": "display_data"
    },
    {
     "data": {
      "text/html": [
       "<p style=\"font-family:Courier;font-size: 14px\"><span style=\"color:#04700d\">T</span><span style=\"color:#04700d\">H</span><span style=\"color:#04700d\">N</span><span style=\"color:#04700d\">H</span><span style=\"color:#04700d\">H</span><span style=\"color:#04700d\">S</span><span style=\"color:#04700d\">T</span><span style=\"color:#cf30b7\">P</span><span style=\"color:#04700d\">G</span><span style=\"color:#04700d\">T</span><span style=\"color:#cf30b7\">P</span><span style=\"color:#04700d\">G</span><span style=\"color:#04700d\">H</span><span style=\"color:#04700d\">H</span><span style=\"color:#04700d\">H</span><span style=\"color:#cf30b7\">P</span><span style=\"color:#04700d\">G</span><span style=\"color:#04700d\">S</span><span style=\"color:#cf30b7\">P</span><span style=\"color:#04700d\">H</span><span style=\"color:#04700d\">S</span><span style=\"color:#cf30b7\">P</span><span style=\"color:#04700d\">H</span><span style=\"color:#cf30b7\">P</span><span style=\"color:#04700d\">T</span><span style=\"color:#04700d\">H</span><span style=\"color:#04700d\">T</span><span style=\"color:#04700d\">T</span><span style=\"color:#cf30b7\">P</span><span style=\"color:#04700d\">S</span><span style=\"color:#04700d\">H</span><span style=\"color:#04700d\">H</span><span style=\"color:#04700d\">G</span><span style=\"color:#04700d\">T</span><span style=\"color:#04700d\">G</span><span style=\"color:#04700d\">G</span><span style=\"color:#04700d\">G</span><span style=\"color:#04700d\">H</span><span style=\"color:#04700d\">G</span><span style=\"color:#04700d\">G</span><span style=\"color:#04700d\">S</span><span style=\"color:#04700d\">T</span><span style=\"color:#04700d\">T</span><span style=\"color:#04700d\">Q</span><span style=\"color:#04700d\">S</span><span style=\"color:#04700d\">H</span><span style=\"color:#04700d\">S</span><span style=\"color:#04700d\">N</span><span style=\"color:#04700d\">G</span><span style=\"color:#04700d\">S</span><span style=\"color:#171616\">A</span><span style=\"color:#04700d\">T</span><span style=\"color:#04700d\">G</span><span style=\"color:#04700d\">Q</span><span style=\"color:#04700d\">H</span><span style=\"color:#04700d\">G</span><span style=\"color:#04700d\">S</span><span style=\"color:#04700d\">S</span><span style=\"color:#04700d\">G</span><span style=\"color:#cf30b7\">P</span></p>"
      ],
      "text/plain": [
       "<IPython.core.display.HTML object>"
      ]
     },
     "metadata": {},
     "output_type": "display_data"
    },
    {
     "data": {
      "text/html": [
       "<p style=\"font-family:Courier;font-size: 14px\"><span style=\"color:#04700d\">T</span><span style=\"color:#04700d\">H</span><span style=\"color:#04700d\">N</span><span style=\"color:#04700d\">H</span><span style=\"color:#04700d\">H</span><span style=\"color:#04700d\">S</span><span style=\"color:#04700d\">T</span><span style=\"color:#04700d\">G</span><span style=\"color:#04700d\">T</span><span style=\"color:#04700d\">G</span><span style=\"color:#04700d\">H</span><span style=\"color:#04700d\">H</span><span style=\"color:#04700d\">H</span><span style=\"color:#04700d\">G</span><span style=\"color:#04700d\">S</span><span style=\"color:#04700d\">H</span><span style=\"color:#04700d\">S</span><span style=\"color:#04700d\">H</span><span style=\"color:#04700d\">T</span><span style=\"color:#04700d\">H</span><span style=\"color:#04700d\">T</span><span style=\"color:#04700d\">T</span><span style=\"color:#04700d\">S</span><span style=\"color:#04700d\">H</span><span style=\"color:#04700d\">H</span><span style=\"color:#04700d\">G</span><span style=\"color:#04700d\">T</span><span style=\"color:#04700d\">G</span><span style=\"color:#04700d\">G</span><span style=\"color:#04700d\">G</span><span style=\"color:#04700d\">H</span><span style=\"color:#04700d\">G</span><span style=\"color:#04700d\">G</span><span style=\"color:#04700d\">S</span><span style=\"color:#04700d\">T</span><span style=\"color:#04700d\">T</span><span style=\"color:#04700d\">Q</span><span style=\"color:#04700d\">S</span><span style=\"color:#04700d\">H</span><span style=\"color:#04700d\">S</span><span style=\"color:#04700d\">N</span><span style=\"color:#04700d\">G</span><span style=\"color:#04700d\">S</span><span style=\"color:#04700d\">T</span><span style=\"color:#04700d\">G</span><span style=\"color:#04700d\">Q</span><span style=\"color:#04700d\">H</span><span style=\"color:#04700d\">G</span><span style=\"color:#04700d\">S</span><span style=\"color:#04700d\">S</span><span style=\"color:#04700d\">G</span><span style=\"color:#cf30b7\">P</span><span style=\"color:#cf30b7\">P</span><span style=\"color:#cf30b7\">P</span><span style=\"color:#cf30b7\">P</span><span style=\"color:#cf30b7\">P</span><span style=\"color:#cf30b7\">P</span><span style=\"color:#cf30b7\">P</span><span style=\"color:#171616\">A</span><span style=\"color:#cf30b7\">P</span></p>"
      ],
      "text/plain": [
       "<IPython.core.display.HTML object>"
      ]
     },
     "metadata": {},
     "output_type": "display_data"
    },
    {
     "data": {
      "text/html": [
       "<p style=\"font-family:Courier;font-size: 14px\"><span style=\"color:#04700d\">T</span><span style=\"color:#04700d\">H</span><span style=\"color:#04700d\">N</span><span style=\"color:#04700d\">H</span><span style=\"color:#04700d\">H</span><span style=\"color:#04700d\">G</span><span style=\"color:#cf30b7\">P</span><span style=\"color:#04700d\">S</span><span style=\"color:#04700d\">T</span><span style=\"color:#04700d\">G</span><span style=\"color:#04700d\">T</span><span style=\"color:#04700d\">G</span><span style=\"color:#cf30b7\">P</span><span style=\"color:#04700d\">H</span><span style=\"color:#04700d\">H</span><span style=\"color:#04700d\">H</span><span style=\"color:#04700d\">G</span><span style=\"color:#04700d\">S</span><span style=\"color:#cf30b7\">P</span><span style=\"color:#04700d\">H</span><span style=\"color:#04700d\">S</span><span style=\"color:#04700d\">H</span><span style=\"color:#04700d\">T</span><span style=\"color:#04700d\">H</span><span style=\"color:#cf30b7\">P</span><span style=\"color:#04700d\">T</span><span style=\"color:#04700d\">T</span><span style=\"color:#04700d\">S</span><span style=\"color:#04700d\">H</span><span style=\"color:#04700d\">H</span><span style=\"color:#cf30b7\">P</span><span style=\"color:#04700d\">G</span><span style=\"color:#04700d\">T</span><span style=\"color:#04700d\">G</span><span style=\"color:#04700d\">G</span><span style=\"color:#04700d\">G</span><span style=\"color:#cf30b7\">P</span><span style=\"color:#04700d\">H</span><span style=\"color:#04700d\">G</span><span style=\"color:#04700d\">G</span><span style=\"color:#04700d\">S</span><span style=\"color:#04700d\">T</span><span style=\"color:#cf30b7\">P</span><span style=\"color:#04700d\">T</span><span style=\"color:#04700d\">Q</span><span style=\"color:#04700d\">S</span><span style=\"color:#04700d\">H</span><span style=\"color:#04700d\">S</span><span style=\"color:#171616\">A</span><span style=\"color:#04700d\">N</span><span style=\"color:#04700d\">G</span><span style=\"color:#04700d\">S</span><span style=\"color:#04700d\">T</span><span style=\"color:#04700d\">G</span><span style=\"color:#cf30b7\">P</span><span style=\"color:#04700d\">Q</span><span style=\"color:#04700d\">H</span><span style=\"color:#04700d\">G</span><span style=\"color:#04700d\">S</span><span style=\"color:#04700d\">S</span></p>"
      ],
      "text/plain": [
       "<IPython.core.display.HTML object>"
      ]
     },
     "metadata": {},
     "output_type": "display_data"
    },
    {
     "data": {
      "text/html": [
       "<p style=\"font-family:Courier;font-size: 14px\"><span style=\"color:#04700d\">H</span><span style=\"color:#04700d\">N</span><span style=\"color:#04700d\">N</span><span style=\"color:#04700d\">Q</span><span style=\"color:#04700d\">Q</span><span style=\"color:#04700d\">Q</span><span style=\"color:#04700d\">Q</span><span style=\"color:#04700d\">Q</span><span style=\"color:#04700d\">N</span><span style=\"color:#04700d\">N</span><span style=\"color:#04700d\">Q</span><span style=\"color:#04700d\">N</span><span style=\"color:#04700d\">N</span><span style=\"color:#04700d\">Q</span><span style=\"color:#04700d\">N</span><span style=\"color:#04700d\">Q</span><span style=\"color:#04700d\">Q</span><span style=\"color:#04700d\">N</span><span style=\"color:#04700d\">N</span><span style=\"color:#04700d\">Q</span><span style=\"color:#04700d\">N</span><span style=\"color:#04700d\">N</span><span style=\"color:#04700d\">N</span><span style=\"color:#04700d\">N</span><span style=\"color:#04700d\">N</span><span style=\"color:#04700d\">Q</span><span style=\"color:#04700d\">Q</span><span style=\"color:#04700d\">Q</span><span style=\"color:#04700d\">Q</span><span style=\"color:#04700d\">N</span><span style=\"color:#04700d\">Q</span><span style=\"color:#04700d\">Q</span><span style=\"color:#ff0d0d\">E</span><span style=\"color:#ff0d0d\">D</span><span style=\"color:#ff0d0d\">E</span><span style=\"color:#04700d\">Q</span><span style=\"color:#04700d\">Q</span><span style=\"color:#ff0d0d\">D</span><span style=\"color:#ff0d0d\">D</span><span style=\"color:#ff0d0d\">E</span><span style=\"color:#04700d\">N</span><span style=\"color:#04700d\">Q</span><span style=\"color:#ff0d0d\">D</span><span style=\"color:#ff0d0d\">D</span><span style=\"color:#ff0d0d\">D</span><span style=\"color:#04700d\">Q</span><span style=\"color:#04700d\">Q</span><span style=\"color:#ff0d0d\">D</span><span style=\"color:#ff0d0d\">E</span><span style=\"color:#ff0d0d\">D</span><span style=\"color:#04700d\">Q</span><span style=\"color:#04700d\">N</span><span style=\"color:#ff0d0d\">E</span><span style=\"color:#ff0d0d\">D</span><span style=\"color:#ff0d0d\">E</span><span style=\"color:#04700d\">Q</span><span style=\"color:#04700d\">Q</span><span style=\"color:#ff0d0d\">D</span><span style=\"color:#ff0d0d\">D</span><span style=\"color:#ff0d0d\">E</span></p>"
      ],
      "text/plain": [
       "<IPython.core.display.HTML object>"
      ]
     },
     "metadata": {},
     "output_type": "display_data"
    },
    {
     "data": {
      "text/html": [
       "<p style=\"font-family:Courier;font-size: 14px\"><span style=\"color:#ff0d0d\">E</span><span style=\"color:#ff0d0d\">D</span><span style=\"color:#ff0d0d\">D</span><span style=\"color:#ff0d0d\">E</span><span style=\"color:#04700d\">H</span><span style=\"color:#04700d\">N</span><span style=\"color:#04700d\">N</span><span style=\"color:#04700d\">Q</span><span style=\"color:#ff0d0d\">D</span><span style=\"color:#04700d\">Q</span><span style=\"color:#04700d\">Q</span><span style=\"color:#04700d\">Q</span><span style=\"color:#04700d\">Q</span><span style=\"color:#ff0d0d\">E</span><span style=\"color:#04700d\">N</span><span style=\"color:#04700d\">N</span><span style=\"color:#04700d\">Q</span><span style=\"color:#04700d\">N</span><span style=\"color:#ff0d0d\">D</span><span style=\"color:#04700d\">N</span><span style=\"color:#04700d\">Q</span><span style=\"color:#04700d\">N</span><span style=\"color:#04700d\">Q</span><span style=\"color:#ff0d0d\">D</span><span style=\"color:#04700d\">Q</span><span style=\"color:#04700d\">N</span><span style=\"color:#04700d\">N</span><span style=\"color:#04700d\">Q</span><span style=\"color:#ff0d0d\">D</span><span style=\"color:#04700d\">N</span><span style=\"color:#04700d\">N</span><span style=\"color:#04700d\">N</span><span style=\"color:#04700d\">N</span><span style=\"color:#04700d\">N</span><span style=\"color:#04700d\">Q</span><span style=\"color:#04700d\">Q</span><span style=\"color:#04700d\">Q</span><span style=\"color:#ff0d0d\">E</span><span style=\"color:#04700d\">Q</span><span style=\"color:#04700d\">N</span><span style=\"color:#04700d\">Q</span><span style=\"color:#04700d\">Q</span><span style=\"color:#ff0d0d\">D</span><span style=\"color:#04700d\">Q</span><span style=\"color:#04700d\">Q</span><span style=\"color:#04700d\">N</span><span style=\"color:#04700d\">Q</span><span style=\"color:#ff0d0d\">D</span><span style=\"color:#04700d\">Q</span><span style=\"color:#04700d\">Q</span><span style=\"color:#04700d\">Q</span><span style=\"color:#04700d\">N</span><span style=\"color:#ff0d0d\">D</span><span style=\"color:#04700d\">Q</span><span style=\"color:#04700d\">Q</span><span style=\"color:#ff0d0d\">E</span><span style=\"color:#ff0d0d\">E</span><span style=\"color:#ff0d0d\">D</span><span style=\"color:#ff0d0d\">E</span><span style=\"color:#ff0d0d\">D</span></p>"
      ],
      "text/plain": [
       "<IPython.core.display.HTML object>"
      ]
     },
     "metadata": {},
     "output_type": "display_data"
    },
    {
     "data": {
      "text/html": [
       "<p style=\"font-family:Courier;font-size: 14px\"><span style=\"color:#2900f5\">K</span><span style=\"color:#2900f5\">K</span><span style=\"color:#2900f5\">K</span><span style=\"color:#2900f5\">R</span><span style=\"color:#04700d\">S</span><span style=\"color:#04700d\">G</span><span style=\"color:#04700d\">Q</span><span style=\"color:#04700d\">N</span><span style=\"color:#2900f5\">R</span><span style=\"color:#04700d\">N</span><span style=\"color:#04700d\">Q</span><span style=\"color:#04700d\">N</span><span style=\"color:#04700d\">N</span><span style=\"color:#2900f5\">R</span><span style=\"color:#04700d\">Q</span><span style=\"color:#04700d\">Q</span><span style=\"color:#04700d\">Q</span><span style=\"color:#04700d\">Q</span><span style=\"color:#2900f5\">K</span><span style=\"color:#04700d\">N</span><span style=\"color:#04700d\">Q</span><span style=\"color:#04700d\">N</span><span style=\"color:#04700d\">Q</span><span style=\"color:#2900f5\">R</span><span style=\"color:#04700d\">Q</span><span style=\"color:#04700d\">N</span><span style=\"color:#04700d\">Q</span><span style=\"color:#04700d\">N</span><span style=\"color:#2900f5\">K</span><span style=\"color:#04700d\">N</span><span style=\"color:#04700d\">N</span><span style=\"color:#04700d\">Q</span><span style=\"color:#04700d\">Q</span><span style=\"color:#04700d\">N</span><span style=\"color:#04700d\">Q</span><span style=\"color:#04700d\">N</span><span style=\"color:#04700d\">N</span><span style=\"color:#ff0d0d\">E</span><span style=\"color:#04700d\">N</span><span style=\"color:#04700d\">N</span><span style=\"color:#04700d\">N</span><span style=\"color:#04700d\">N</span><span style=\"color:#ff0d0d\">D</span><span style=\"color:#04700d\">N</span><span style=\"color:#04700d\">N</span><span style=\"color:#04700d\">Q</span><span style=\"color:#04700d\">Q</span><span style=\"color:#ff0d0d\">E</span><span style=\"color:#04700d\">N</span><span style=\"color:#04700d\">N</span><span style=\"color:#04700d\">Q</span><span style=\"color:#04700d\">Q</span><span style=\"color:#ff0d0d\">E</span><span style=\"color:#04700d\">N</span><span style=\"color:#04700d\">Q</span><span style=\"color:#ff0d0d\">D</span><span style=\"color:#ff0d0d\">D</span><span style=\"color:#ff0d0d\">D</span><span style=\"color:#ff0d0d\">D</span><span style=\"color:#ff0d0d\">D</span></p>"
      ],
      "text/plain": [
       "<IPython.core.display.HTML object>"
      ]
     },
     "metadata": {},
     "output_type": "display_data"
    },
    {
     "data": {
      "text/html": [
       "<p style=\"font-family:Courier;font-size: 14px\"><span style=\"color:#2900f5\">R</span><span style=\"color:#ff0d0d\">E</span><span style=\"color:#2900f5\">K</span><span style=\"color:#2900f5\">R</span><span style=\"color:#04700d\">S</span><span style=\"color:#04700d\">G</span><span style=\"color:#04700d\">Q</span><span style=\"color:#04700d\">N</span><span style=\"color:#2900f5\">K</span><span style=\"color:#04700d\">N</span><span style=\"color:#04700d\">Q</span><span style=\"color:#04700d\">N</span><span style=\"color:#04700d\">N</span><span style=\"color:#2900f5\">R</span><span style=\"color:#04700d\">Q</span><span style=\"color:#04700d\">Q</span><span style=\"color:#04700d\">Q</span><span style=\"color:#04700d\">Q</span><span style=\"color:#ff0d0d\">D</span><span style=\"color:#04700d\">N</span><span style=\"color:#04700d\">Q</span><span style=\"color:#04700d\">N</span><span style=\"color:#04700d\">Q</span><span style=\"color:#ff0d0d\">E</span><span style=\"color:#04700d\">Q</span><span style=\"color:#04700d\">N</span><span style=\"color:#04700d\">Q</span><span style=\"color:#04700d\">N</span><span style=\"color:#ff0d0d\">D</span><span style=\"color:#04700d\">N</span><span style=\"color:#04700d\">N</span><span style=\"color:#04700d\">Q</span><span style=\"color:#04700d\">Q</span><span style=\"color:#04700d\">N</span><span style=\"color:#04700d\">Q</span><span style=\"color:#04700d\">N</span><span style=\"color:#04700d\">N</span><span style=\"color:#ff0d0d\">D</span><span style=\"color:#04700d\">N</span><span style=\"color:#04700d\">N</span><span style=\"color:#04700d\">N</span><span style=\"color:#04700d\">N</span><span style=\"color:#2900f5\">K</span><span style=\"color:#04700d\">N</span><span style=\"color:#04700d\">N</span><span style=\"color:#04700d\">Q</span><span style=\"color:#04700d\">Q</span><span style=\"color:#ff0d0d\">D</span><span style=\"color:#04700d\">N</span><span style=\"color:#04700d\">N</span><span style=\"color:#04700d\">Q</span><span style=\"color:#04700d\">Q</span><span style=\"color:#2900f5\">R</span><span style=\"color:#04700d\">N</span><span style=\"color:#04700d\">Q</span><span style=\"color:#ff0d0d\">E</span><span style=\"color:#2900f5\">K</span><span style=\"color:#ff0d0d\">D</span><span style=\"color:#2900f5\">K</span><span style=\"color:#ff0d0d\">D</span></p>"
      ],
      "text/plain": [
       "<IPython.core.display.HTML object>"
      ]
     },
     "metadata": {},
     "output_type": "display_data"
    },
    {
     "data": {
      "text/html": [
       "<p style=\"font-family:Courier;font-size: 14px\"><span style=\"color:#2900f5\">K</span><span style=\"color:#2900f5\">K</span><span style=\"color:#2900f5\">R</span><span style=\"color:#04700d\">S</span><span style=\"color:#04700d\">G</span><span style=\"color:#2900f5\">K</span><span style=\"color:#2900f5\">R</span><span style=\"color:#2900f5\">R</span><span style=\"color:#04700d\">H</span><span style=\"color:#04700d\">H</span><span style=\"color:#2900f5\">K</span><span style=\"color:#2900f5\">K</span><span style=\"color:#2900f5\">R</span><span style=\"color:#04700d\">H</span><span style=\"color:#04700d\">Q</span><span style=\"color:#2900f5\">K</span><span style=\"color:#2900f5\">R</span><span style=\"color:#2900f5\">R</span><span style=\"color:#04700d\">Q</span><span style=\"color:#04700d\">H</span><span style=\"color:#2900f5\">R</span><span style=\"color:#2900f5\">K</span><span style=\"color:#2900f5\">K</span><span style=\"color:#04700d\">Q</span><span style=\"color:#04700d\">Q</span><span style=\"color:#2900f5\">R</span><span style=\"color:#2900f5\">K</span><span style=\"color:#2900f5\">K</span><span style=\"color:#04700d\">Q</span><span style=\"color:#04700d\">N</span><span style=\"color:#04700d\">Q</span><span style=\"color:#04700d\">N</span><span style=\"color:#04700d\">N</span><span style=\"color:#04700d\">N</span><span style=\"color:#04700d\">N</span><span style=\"color:#04700d\">N</span><span style=\"color:#04700d\">Q</span><span style=\"color:#04700d\">N</span><span style=\"color:#04700d\">Q</span><span style=\"color:#04700d\">Q</span><span style=\"color:#04700d\">Q</span><span style=\"color:#04700d\">Q</span><span style=\"color:#04700d\">H</span><span style=\"color:#04700d\">H</span><span style=\"color:#04700d\">N</span><span style=\"color:#04700d\">Q</span><span style=\"color:#04700d\">Q</span><span style=\"color:#04700d\">N</span><span style=\"color:#04700d\">N</span><span style=\"color:#04700d\">Q</span><span style=\"color:#04700d\">N</span><span style=\"color:#04700d\">N</span><span style=\"color:#cf30b7\">P</span><span style=\"color:#04700d\">N</span><span style=\"color:#04700d\">N</span><span style=\"color:#04700d\">N</span><span style=\"color:#04700d\">N</span><span style=\"color:#04700d\">H</span><span style=\"color:#04700d\">H</span><span style=\"color:#cf30b7\">P</span></p>"
      ],
      "text/plain": [
       "<IPython.core.display.HTML object>"
      ]
     },
     "metadata": {},
     "output_type": "display_data"
    },
    {
     "data": {
      "text/html": [
       "<p style=\"font-family:Courier;font-size: 14px\"><span style=\"color:#2900f5\">K</span><span style=\"color:#2900f5\">R</span><span style=\"color:#2900f5\">K</span><span style=\"color:#2900f5\">K</span><span style=\"color:#04700d\">S</span><span style=\"color:#04700d\">G</span><span style=\"color:#04700d\">H</span><span style=\"color:#04700d\">H</span><span style=\"color:#2900f5\">K</span><span style=\"color:#04700d\">H</span><span style=\"color:#04700d\">Q</span><span style=\"color:#04700d\">Q</span><span style=\"color:#04700d\">H</span><span style=\"color:#2900f5\">R</span><span style=\"color:#04700d\">Q</span><span style=\"color:#04700d\">Q</span><span style=\"color:#04700d\">Q</span><span style=\"color:#04700d\">N</span><span style=\"color:#2900f5\">K</span><span style=\"color:#04700d\">Q</span><span style=\"color:#04700d\">N</span><span style=\"color:#04700d\">N</span><span style=\"color:#04700d\">N</span><span style=\"color:#2900f5\">R</span><span style=\"color:#04700d\">N</span><span style=\"color:#04700d\">N</span><span style=\"color:#04700d\">Q</span><span style=\"color:#04700d\">N</span><span style=\"color:#2900f5\">K</span><span style=\"color:#04700d\">Q</span><span style=\"color:#04700d\">Q</span><span style=\"color:#04700d\">Q</span><span style=\"color:#04700d\">Q</span><span style=\"color:#04700d\">H</span><span style=\"color:#04700d\">H</span><span style=\"color:#04700d\">N</span><span style=\"color:#04700d\">Q</span><span style=\"color:#2900f5\">K</span><span style=\"color:#04700d\">Q</span><span style=\"color:#04700d\">N</span><span style=\"color:#04700d\">N</span><span style=\"color:#04700d\">Q</span><span style=\"color:#2900f5\">R</span><span style=\"color:#04700d\">N</span><span style=\"color:#04700d\">N</span><span style=\"color:#cf30b7\">P</span><span style=\"color:#04700d\">N</span><span style=\"color:#2900f5\">R</span><span style=\"color:#04700d\">N</span><span style=\"color:#04700d\">N</span><span style=\"color:#04700d\">N</span><span style=\"color:#04700d\">H</span><span style=\"color:#2900f5\">R</span><span style=\"color:#04700d\">H</span><span style=\"color:#cf30b7\">P</span><span style=\"color:#2900f5\">K</span><span style=\"color:#2900f5\">K</span><span style=\"color:#2900f5\">R</span><span style=\"color:#2900f5\">K</span><span style=\"color:#2900f5\">R</span></p>"
      ],
      "text/plain": [
       "<IPython.core.display.HTML object>"
      ]
     },
     "metadata": {},
     "output_type": "display_data"
    },
    {
     "data": {
      "text/html": [
       "<p style=\"font-family:Courier;font-size: 14px\"><span style=\"color:#04700d\">G</span><span style=\"color:#04700d\">Q</span><span style=\"color:#04700d\">S</span><span style=\"color:#04700d\">T</span><span style=\"color:#04700d\">S</span><span style=\"color:#04700d\">T</span><span style=\"color:#04700d\">S</span><span style=\"color:#ff9d00\">W</span><span style=\"color:#04700d\">G</span><span style=\"color:#04700d\">G</span><span style=\"color:#ff9d00\">W</span><span style=\"color:#04700d\">G</span><span style=\"color:#04700d\">T</span><span style=\"color:#04700d\">S</span><span style=\"color:#04700d\">G</span><span style=\"color:#04700d\">S</span><span style=\"color:#04700d\">G</span><span style=\"color:#04700d\">G</span><span style=\"color:#04700d\">G</span><span style=\"color:#04700d\">T</span><span style=\"color:#04700d\">S</span><span style=\"color:#04700d\">S</span><span style=\"color:#04700d\">G</span><span style=\"color:#04700d\">G</span><span style=\"color:#ff9d00\">W</span><span style=\"color:#04700d\">S</span><span style=\"color:#04700d\">S</span><span style=\"color:#04700d\">T</span><span style=\"color:#04700d\">T</span><span style=\"color:#04700d\">S</span><span style=\"color:#04700d\">G</span><span style=\"color:#04700d\">G</span><span style=\"color:#ff0d0d\">E</span><span style=\"color:#ff0d0d\">D</span><span style=\"color:#ff0d0d\">D</span><span style=\"color:#04700d\">G</span><span style=\"color:#04700d\">T</span><span style=\"color:#ff0d0d\">D</span><span style=\"color:#ff0d0d\">D</span><span style=\"color:#ff0d0d\">E</span><span style=\"color:#04700d\">G</span><span style=\"color:#04700d\">T</span><span style=\"color:#ff0d0d\">D</span><span style=\"color:#ff0d0d\">D</span><span style=\"color:#ff0d0d\">E</span><span style=\"color:#04700d\">T</span><span style=\"color:#171616\">A</span><span style=\"color:#ff0d0d\">D</span><span style=\"color:#ff0d0d\">D</span><span style=\"color:#ff0d0d\">D</span><span style=\"color:#04700d\">S</span><span style=\"color:#04700d\">T</span><span style=\"color:#ff0d0d\">D</span><span style=\"color:#ff0d0d\">E</span><span style=\"color:#ff0d0d\">E</span><span style=\"color:#04700d\">G</span><span style=\"color:#04700d\">S</span><span style=\"color:#ff0d0d\">D</span><span style=\"color:#ff0d0d\">E</span><span style=\"color:#ff0d0d\">D</span></p>"
      ],
      "text/plain": [
       "<IPython.core.display.HTML object>"
      ]
     },
     "metadata": {},
     "output_type": "display_data"
    },
    {
     "data": {
      "text/html": [
       "<p style=\"font-family:Courier;font-size: 14px\"><span style=\"color:#ff0d0d\">E</span><span style=\"color:#ff0d0d\">D</span><span style=\"color:#ff0d0d\">D</span><span style=\"color:#ff0d0d\">D</span><span style=\"color:#04700d\">G</span><span style=\"color:#04700d\">Q</span><span style=\"color:#04700d\">S</span><span style=\"color:#04700d\">T</span><span style=\"color:#ff0d0d\">E</span><span style=\"color:#04700d\">S</span><span style=\"color:#04700d\">T</span><span style=\"color:#04700d\">S</span><span style=\"color:#ff9d00\">W</span><span style=\"color:#ff0d0d\">D</span><span style=\"color:#04700d\">G</span><span style=\"color:#04700d\">G</span><span style=\"color:#ff9d00\">W</span><span style=\"color:#04700d\">G</span><span style=\"color:#ff0d0d\">D</span><span style=\"color:#04700d\">T</span><span style=\"color:#04700d\">S</span><span style=\"color:#04700d\">G</span><span style=\"color:#04700d\">S</span><span style=\"color:#ff0d0d\">D</span><span style=\"color:#04700d\">G</span><span style=\"color:#04700d\">G</span><span style=\"color:#04700d\">G</span><span style=\"color:#04700d\">T</span><span style=\"color:#ff0d0d\">D</span><span style=\"color:#04700d\">S</span><span style=\"color:#04700d\">S</span><span style=\"color:#04700d\">G</span><span style=\"color:#04700d\">G</span><span style=\"color:#ff9d00\">W</span><span style=\"color:#04700d\">S</span><span style=\"color:#04700d\">S</span><span style=\"color:#04700d\">T</span><span style=\"color:#ff0d0d\">D</span><span style=\"color:#04700d\">T</span><span style=\"color:#04700d\">S</span><span style=\"color:#04700d\">G</span><span style=\"color:#04700d\">G</span><span style=\"color:#ff0d0d\">E</span><span style=\"color:#04700d\">G</span><span style=\"color:#04700d\">T</span><span style=\"color:#04700d\">G</span><span style=\"color:#04700d\">T</span><span style=\"color:#ff0d0d\">D</span><span style=\"color:#04700d\">T</span><span style=\"color:#171616\">A</span><span style=\"color:#04700d\">S</span><span style=\"color:#04700d\">T</span><span style=\"color:#ff0d0d\">D</span><span style=\"color:#04700d\">G</span><span style=\"color:#04700d\">S</span><span style=\"color:#ff0d0d\">E</span><span style=\"color:#ff0d0d\">E</span><span style=\"color:#ff0d0d\">D</span><span style=\"color:#ff0d0d\">E</span><span style=\"color:#ff0d0d\">D</span></p>"
      ],
      "text/plain": [
       "<IPython.core.display.HTML object>"
      ]
     },
     "metadata": {},
     "output_type": "display_data"
    },
    {
     "data": {
      "text/html": [
       "<p style=\"font-family:Courier;font-size: 14px\"><span style=\"color:#2900f5\">K</span><span style=\"color:#2900f5\">K</span><span style=\"color:#2900f5\">K</span><span style=\"color:#2900f5\">K</span><span style=\"color:#04700d\">G</span><span style=\"color:#04700d\">H</span><span style=\"color:#04700d\">T</span><span style=\"color:#04700d\">G</span><span style=\"color:#2900f5\">R</span><span style=\"color:#04700d\">T</span><span style=\"color:#04700d\">G</span><span style=\"color:#04700d\">T</span><span style=\"color:#04700d\">G</span><span style=\"color:#2900f5\">R</span><span style=\"color:#04700d\">G</span><span style=\"color:#04700d\">T</span><span style=\"color:#04700d\">T</span><span style=\"color:#04700d\">G</span><span style=\"color:#2900f5\">R</span><span style=\"color:#04700d\">S</span><span style=\"color:#04700d\">S</span><span style=\"color:#04700d\">G</span><span style=\"color:#171616\">A</span><span style=\"color:#2900f5\">R</span><span style=\"color:#04700d\">G</span><span style=\"color:#04700d\">G</span><span style=\"color:#04700d\">S</span><span style=\"color:#171616\">A</span><span style=\"color:#2900f5\">R</span><span style=\"color:#04700d\">T</span><span style=\"color:#04700d\">T</span><span style=\"color:#04700d\">T</span><span style=\"color:#04700d\">T</span><span style=\"color:#04700d\">S</span><span style=\"color:#04700d\">S</span><span style=\"color:#04700d\">S</span><span style=\"color:#04700d\">S</span><span style=\"color:#ff0d0d\">E</span><span style=\"color:#04700d\">S</span><span style=\"color:#04700d\">G</span><span style=\"color:#04700d\">S</span><span style=\"color:#04700d\">S</span><span style=\"color:#ff0d0d\">D</span><span style=\"color:#04700d\">S</span><span style=\"color:#04700d\">S</span><span style=\"color:#04700d\">S</span><span style=\"color:#171616\">A</span><span style=\"color:#ff0d0d\">E</span><span style=\"color:#04700d\">T</span><span style=\"color:#171616\">A</span><span style=\"color:#04700d\">S</span><span style=\"color:#04700d\">S</span><span style=\"color:#ff0d0d\">D</span><span style=\"color:#04700d\">S</span><span style=\"color:#04700d\">S</span><span style=\"color:#ff0d0d\">D</span><span style=\"color:#ff0d0d\">E</span><span style=\"color:#ff0d0d\">E</span><span style=\"color:#ff0d0d\">E</span><span style=\"color:#ff0d0d\">E</span></p>"
      ],
      "text/plain": [
       "<IPython.core.display.HTML object>"
      ]
     },
     "metadata": {},
     "output_type": "display_data"
    },
    {
     "data": {
      "text/html": [
       "<p style=\"font-family:Courier;font-size: 14px\"><span style=\"color:#2900f5\">K</span><span style=\"color:#ff0d0d\">E</span><span style=\"color:#ff0d0d\">D</span><span style=\"color:#2900f5\">K</span><span style=\"color:#04700d\">G</span><span style=\"color:#04700d\">H</span><span style=\"color:#04700d\">T</span><span style=\"color:#04700d\">G</span><span style=\"color:#ff0d0d\">D</span><span style=\"color:#04700d\">T</span><span style=\"color:#04700d\">G</span><span style=\"color:#04700d\">T</span><span style=\"color:#04700d\">G</span><span style=\"color:#2900f5\">R</span><span style=\"color:#04700d\">G</span><span style=\"color:#04700d\">T</span><span style=\"color:#04700d\">T</span><span style=\"color:#04700d\">G</span><span style=\"color:#2900f5\">R</span><span style=\"color:#04700d\">S</span><span style=\"color:#04700d\">S</span><span style=\"color:#04700d\">G</span><span style=\"color:#171616\">A</span><span style=\"color:#2900f5\">K</span><span style=\"color:#04700d\">G</span><span style=\"color:#04700d\">G</span><span style=\"color:#04700d\">S</span><span style=\"color:#171616\">A</span><span style=\"color:#ff0d0d\">E</span><span style=\"color:#04700d\">T</span><span style=\"color:#04700d\">T</span><span style=\"color:#04700d\">T</span><span style=\"color:#04700d\">T</span><span style=\"color:#04700d\">S</span><span style=\"color:#04700d\">S</span><span style=\"color:#04700d\">S</span><span style=\"color:#04700d\">S</span><span style=\"color:#ff0d0d\">E</span><span style=\"color:#04700d\">S</span><span style=\"color:#04700d\">G</span><span style=\"color:#04700d\">S</span><span style=\"color:#04700d\">S</span><span style=\"color:#2900f5\">R</span><span style=\"color:#04700d\">S</span><span style=\"color:#04700d\">S</span><span style=\"color:#04700d\">S</span><span style=\"color:#171616\">A</span><span style=\"color:#2900f5\">K</span><span style=\"color:#04700d\">T</span><span style=\"color:#171616\">A</span><span style=\"color:#04700d\">S</span><span style=\"color:#04700d\">S</span><span style=\"color:#ff0d0d\">E</span><span style=\"color:#04700d\">S</span><span style=\"color:#04700d\">S</span><span style=\"color:#ff0d0d\">E</span><span style=\"color:#2900f5\">R</span><span style=\"color:#2900f5\">R</span><span style=\"color:#ff0d0d\">E</span><span style=\"color:#ff0d0d\">D</span></p>"
      ],
      "text/plain": [
       "<IPython.core.display.HTML object>"
      ]
     },
     "metadata": {},
     "output_type": "display_data"
    },
    {
     "data": {
      "text/html": [
       "<p style=\"font-family:Courier;font-size: 14px\"><span style=\"color:#04700d\">G</span><span style=\"color:#04700d\">H</span><span style=\"color:#04700d\">T</span><span style=\"color:#04700d\">G</span><span style=\"color:#04700d\">T</span><span style=\"color:#04700d\">G</span><span style=\"color:#04700d\">T</span><span style=\"color:#04700d\">G</span><span style=\"color:#04700d\">G</span><span style=\"color:#04700d\">T</span><span style=\"color:#04700d\">T</span><span style=\"color:#04700d\">G</span><span style=\"color:#04700d\">S</span><span style=\"color:#04700d\">S</span><span style=\"color:#04700d\">G</span><span style=\"color:#04700d\">G</span><span style=\"color:#04700d\">G</span><span style=\"color:#04700d\">S</span><span style=\"color:#04700d\">T</span><span style=\"color:#04700d\">T</span><span style=\"color:#04700d\">T</span><span style=\"color:#04700d\">T</span><span style=\"color:#04700d\">S</span><span style=\"color:#04700d\">S</span><span style=\"color:#04700d\">S</span><span style=\"color:#04700d\">S</span><span style=\"color:#04700d\">S</span><span style=\"color:#04700d\">G</span><span style=\"color:#04700d\">S</span><span style=\"color:#04700d\">S</span><span style=\"color:#04700d\">S</span><span style=\"color:#04700d\">S</span><span style=\"color:#04700d\">S</span><span style=\"color:#04700d\">T</span><span style=\"color:#04700d\">S</span><span style=\"color:#04700d\">S</span><span style=\"color:#04700d\">S</span><span style=\"color:#04700d\">S</span><span style=\"color:#ff0d0d\">D</span><span style=\"color:#2900f5\">K</span><span style=\"color:#ff0d0d\">E</span><span style=\"color:#2900f5\">K</span><span style=\"color:#ff0d0d\">D</span><span style=\"color:#2900f5\">R</span><span style=\"color:#ff0d0d\">E</span><span style=\"color:#171616\">A</span><span style=\"color:#2900f5\">K</span><span style=\"color:#ff0d0d\">E</span><span style=\"color:#2900f5\">R</span><span style=\"color:#ff0d0d\">D</span><span style=\"color:#171616\">A</span><span style=\"color:#2900f5\">R</span><span style=\"color:#ff0d0d\">E</span><span style=\"color:#2900f5\">R</span><span style=\"color:#ff0d0d\">E</span><span style=\"color:#2900f5\">K</span><span style=\"color:#ff0d0d\">E</span><span style=\"color:#171616\">A</span><span style=\"color:#171616\">A</span><span style=\"color:#2900f5\">R</span></p>"
      ],
      "text/plain": [
       "<IPython.core.display.HTML object>"
      ]
     },
     "metadata": {},
     "output_type": "display_data"
    },
    {
     "data": {
      "text/html": [
       "<p style=\"font-family:Courier;font-size: 14px\"><span style=\"color:#04700d\">G</span><span style=\"color:#04700d\">H</span><span style=\"color:#ff0d0d\">D</span><span style=\"color:#04700d\">T</span><span style=\"color:#04700d\">G</span><span style=\"color:#2900f5\">K</span><span style=\"color:#04700d\">T</span><span style=\"color:#04700d\">G</span><span style=\"color:#ff0d0d\">E</span><span style=\"color:#04700d\">T</span><span style=\"color:#04700d\">G</span><span style=\"color:#2900f5\">K</span><span style=\"color:#04700d\">G</span><span style=\"color:#04700d\">T</span><span style=\"color:#ff0d0d\">D</span><span style=\"color:#04700d\">T</span><span style=\"color:#04700d\">G</span><span style=\"color:#2900f5\">R</span><span style=\"color:#04700d\">S</span><span style=\"color:#04700d\">S</span><span style=\"color:#ff0d0d\">E</span><span style=\"color:#04700d\">G</span><span style=\"color:#04700d\">G</span><span style=\"color:#171616\">A</span><span style=\"color:#04700d\">G</span><span style=\"color:#04700d\">S</span><span style=\"color:#2900f5\">K</span><span style=\"color:#04700d\">T</span><span style=\"color:#04700d\">T</span><span style=\"color:#ff0d0d\">E</span><span style=\"color:#04700d\">T</span><span style=\"color:#04700d\">T</span><span style=\"color:#2900f5\">R</span><span style=\"color:#04700d\">S</span><span style=\"color:#04700d\">S</span><span style=\"color:#ff0d0d\">D</span><span style=\"color:#04700d\">S</span><span style=\"color:#04700d\">S</span><span style=\"color:#171616\">A</span><span style=\"color:#04700d\">S</span><span style=\"color:#04700d\">G</span><span style=\"color:#2900f5\">R</span><span style=\"color:#04700d\">S</span><span style=\"color:#04700d\">S</span><span style=\"color:#ff0d0d\">E</span><span style=\"color:#04700d\">S</span><span style=\"color:#04700d\">S</span><span style=\"color:#2900f5\">R</span><span style=\"color:#04700d\">S</span><span style=\"color:#04700d\">T</span><span style=\"color:#ff0d0d\">E</span><span style=\"color:#04700d\">S</span><span style=\"color:#04700d\">S</span><span style=\"color:#2900f5\">K</span><span style=\"color:#04700d\">S</span><span style=\"color:#04700d\">S</span><span style=\"color:#ff0d0d\">E</span><span style=\"color:#171616\">A</span><span style=\"color:#171616\">A</span><span style=\"color:#2900f5\">R</span></p>"
      ],
      "text/plain": [
       "<IPython.core.display.HTML object>"
      ]
     },
     "metadata": {},
     "output_type": "display_data"
    },
    {
     "data": {
      "text/html": [
       "<p style=\"font-family:Courier;font-size: 14px\"><span style=\"color:#2900f5\">K</span><span style=\"color:#2900f5\">R</span><span style=\"color:#2900f5\">R</span><span style=\"color:#04700d\">N</span><span style=\"color:#04700d\">Q</span><span style=\"color:#2900f5\">K</span><span style=\"color:#2900f5\">R</span><span style=\"color:#2900f5\">R</span><span style=\"color:#04700d\">G</span><span style=\"color:#04700d\">T</span><span style=\"color:#2900f5\">R</span><span style=\"color:#2900f5\">K</span><span style=\"color:#2900f5\">R</span><span style=\"color:#04700d\">S</span><span style=\"color:#04700d\">G</span><span style=\"color:#2900f5\">K</span><span style=\"color:#2900f5\">R</span><span style=\"color:#2900f5\">K</span><span style=\"color:#04700d\">G</span><span style=\"color:#04700d\">S</span><span style=\"color:#2900f5\">R</span><span style=\"color:#2900f5\">K</span><span style=\"color:#2900f5\">R</span><span style=\"color:#04700d\">G</span><span style=\"color:#171616\">A</span><span style=\"color:#2900f5\">R</span><span style=\"color:#2900f5\">R</span><span style=\"color:#2900f5\">K</span><span style=\"color:#04700d\">S</span><span style=\"color:#04700d\">T</span><span style=\"color:#171616\">A</span><span style=\"color:#04700d\">T</span><span style=\"color:#171616\">A</span><span style=\"color:#04700d\">T</span><span style=\"color:#04700d\">G</span><span style=\"color:#04700d\">S</span><span style=\"color:#04700d\">T</span><span style=\"color:#04700d\">T</span><span style=\"color:#04700d\">S</span><span style=\"color:#04700d\">S</span><span style=\"color:#171616\">A</span><span style=\"color:#04700d\">T</span><span style=\"color:#171616\">A</span><span style=\"color:#04700d\">S</span><span style=\"color:#171616\">A</span><span style=\"color:#04700d\">S</span><span style=\"color:#04700d\">S</span><span style=\"color:#04700d\">S</span><span style=\"color:#04700d\">S</span><span style=\"color:#04700d\">S</span><span style=\"color:#04700d\">S</span><span style=\"color:#04700d\">S</span><span style=\"color:#04700d\">G</span><span style=\"color:#171616\">A</span><span style=\"color:#04700d\">G</span><span style=\"color:#171616\">A</span><span style=\"color:#04700d\">T</span><span style=\"color:#04700d\">G</span><span style=\"color:#04700d\">G</span><span style=\"color:#04700d\">S</span></p>"
      ],
      "text/plain": [
       "<IPython.core.display.HTML object>"
      ]
     },
     "metadata": {},
     "output_type": "display_data"
    },
    {
     "data": {
      "text/html": [
       "<p style=\"font-family:Courier;font-size: 14px\"><span style=\"color:#2900f5\">K</span><span style=\"color:#2900f5\">R</span><span style=\"color:#2900f5\">R</span><span style=\"color:#2900f5\">K</span><span style=\"color:#04700d\">N</span><span style=\"color:#04700d\">Q</span><span style=\"color:#04700d\">G</span><span style=\"color:#04700d\">T</span><span style=\"color:#2900f5\">K</span><span style=\"color:#04700d\">S</span><span style=\"color:#04700d\">G</span><span style=\"color:#04700d\">G</span><span style=\"color:#04700d\">S</span><span style=\"color:#2900f5\">K</span><span style=\"color:#04700d\">G</span><span style=\"color:#171616\">A</span><span style=\"color:#04700d\">S</span><span style=\"color:#04700d\">T</span><span style=\"color:#2900f5\">R</span><span style=\"color:#171616\">A</span><span style=\"color:#04700d\">T</span><span style=\"color:#171616\">A</span><span style=\"color:#04700d\">T</span><span style=\"color:#2900f5\">R</span><span style=\"color:#04700d\">G</span><span style=\"color:#04700d\">S</span><span style=\"color:#04700d\">T</span><span style=\"color:#04700d\">T</span><span style=\"color:#2900f5\">K</span><span style=\"color:#04700d\">S</span><span style=\"color:#04700d\">S</span><span style=\"color:#171616\">A</span><span style=\"color:#04700d\">T</span><span style=\"color:#171616\">A</span><span style=\"color:#04700d\">S</span><span style=\"color:#171616\">A</span><span style=\"color:#04700d\">S</span><span style=\"color:#2900f5\">R</span><span style=\"color:#04700d\">S</span><span style=\"color:#04700d\">S</span><span style=\"color:#04700d\">S</span><span style=\"color:#04700d\">S</span><span style=\"color:#2900f5\">R</span><span style=\"color:#04700d\">S</span><span style=\"color:#04700d\">S</span><span style=\"color:#04700d\">G</span><span style=\"color:#171616\">A</span><span style=\"color:#2900f5\">R</span><span style=\"color:#04700d\">G</span><span style=\"color:#171616\">A</span><span style=\"color:#04700d\">T</span><span style=\"color:#04700d\">G</span><span style=\"color:#2900f5\">K</span><span style=\"color:#04700d\">G</span><span style=\"color:#04700d\">S</span><span style=\"color:#2900f5\">R</span><span style=\"color:#2900f5\">R</span><span style=\"color:#2900f5\">K</span><span style=\"color:#2900f5\">R</span><span style=\"color:#2900f5\">R</span></p>"
      ],
      "text/plain": [
       "<IPython.core.display.HTML object>"
      ]
     },
     "metadata": {},
     "output_type": "display_data"
    },
    {
     "data": {
      "text/html": [
       "<p style=\"font-family:Courier;font-size: 14px\"><span style=\"color:#2900f5\">K</span><span style=\"color:#2900f5\">K</span><span style=\"color:#2900f5\">R</span><span style=\"color:#2900f5\">K</span><span style=\"color:#171616\">A</span><span style=\"color:#04700d\">H</span><span style=\"color:#04700d\">H</span><span style=\"color:#04700d\">N</span><span style=\"color:#2900f5\">K</span><span style=\"color:#04700d\">N</span><span style=\"color:#04700d\">N</span><span style=\"color:#04700d\">Q</span><span style=\"color:#04700d\">N</span><span style=\"color:#2900f5\">R</span><span style=\"color:#04700d\">Q</span><span style=\"color:#04700d\">N</span><span style=\"color:#04700d\">N</span><span style=\"color:#04700d\">N</span><span style=\"color:#2900f5\">R</span><span style=\"color:#04700d\">N</span><span style=\"color:#04700d\">Q</span><span style=\"color:#04700d\">N</span><span style=\"color:#04700d\">Q</span><span style=\"color:#2900f5\">R</span><span style=\"color:#04700d\">N</span><span style=\"color:#04700d\">Q</span><span style=\"color:#04700d\">N</span><span style=\"color:#04700d\">Q</span><span style=\"color:#2900f5\">K</span><span style=\"color:#04700d\">N</span><span style=\"color:#04700d\">Q</span><span style=\"color:#04700d\">Q</span><span style=\"color:#04700d\">Q</span><span style=\"color:#ff0d0d\">D</span><span style=\"color:#ff0d0d\">D</span><span style=\"color:#ff0d0d\">E</span><span style=\"color:#ff0d0d\">E</span><span style=\"color:#ff0d0d\">E</span><span style=\"color:#ff0d0d\">D</span><span style=\"color:#ff0d0d\">D</span><span style=\"color:#ff0d0d\">D</span><span style=\"color:#ff0d0d\">D</span><span style=\"color:#ff0d0d\">D</span><span style=\"color:#ff0d0d\">D</span><span style=\"color:#ff0d0d\">D</span><span style=\"color:#ff0d0d\">E</span><span style=\"color:#ff0d0d\">E</span><span style=\"color:#ff0d0d\">D</span><span style=\"color:#ff0d0d\">D</span><span style=\"color:#ff0d0d\">D</span><span style=\"color:#ff0d0d\">D</span><span style=\"color:#ff0d0d\">D</span><span style=\"color:#ff0d0d\">D</span><span style=\"color:#ff0d0d\">D</span><span style=\"color:#ff0d0d\">D</span><span style=\"color:#ff0d0d\">D</span><span style=\"color:#ff0d0d\">D</span><span style=\"color:#ff0d0d\">D</span><span style=\"color:#ff0d0d\">E</span><span style=\"color:#ff0d0d\">E</span></p>"
      ],
      "text/plain": [
       "<IPython.core.display.HTML object>"
      ]
     },
     "metadata": {},
     "output_type": "display_data"
    },
    {
     "data": {
      "text/html": [
       "<p style=\"font-family:Courier;font-size: 14px\"><span style=\"color:#ff0d0d\">D</span><span style=\"color:#2900f5\">K</span><span style=\"color:#ff0d0d\">D</span><span style=\"color:#171616\">A</span><span style=\"color:#04700d\">H</span><span style=\"color:#ff0d0d\">D</span><span style=\"color:#2900f5\">K</span><span style=\"color:#2900f5\">R</span><span style=\"color:#04700d\">H</span><span style=\"color:#04700d\">N</span><span style=\"color:#2900f5\">K</span><span style=\"color:#ff0d0d\">E</span><span style=\"color:#ff0d0d\">D</span><span style=\"color:#04700d\">N</span><span style=\"color:#04700d\">N</span><span style=\"color:#2900f5\">K</span><span style=\"color:#ff0d0d\">D</span><span style=\"color:#ff0d0d\">D</span><span style=\"color:#04700d\">Q</span><span style=\"color:#04700d\">N</span><span style=\"color:#ff0d0d\">E</span><span style=\"color:#ff0d0d\">D</span><span style=\"color:#ff0d0d\">E</span><span style=\"color:#04700d\">Q</span><span style=\"color:#04700d\">N</span><span style=\"color:#ff0d0d\">D</span><span style=\"color:#ff0d0d\">D</span><span style=\"color:#ff0d0d\">D</span><span style=\"color:#04700d\">N</span><span style=\"color:#04700d\">N</span><span style=\"color:#04700d\">N</span><span style=\"color:#04700d\">Q</span><span style=\"color:#ff0d0d\">D</span><span style=\"color:#ff0d0d\">E</span><span style=\"color:#2900f5\">K</span><span style=\"color:#04700d\">N</span><span style=\"color:#04700d\">Q</span><span style=\"color:#2900f5\">R</span><span style=\"color:#ff0d0d\">D</span><span style=\"color:#ff0d0d\">D</span><span style=\"color:#04700d\">N</span><span style=\"color:#04700d\">Q</span><span style=\"color:#ff0d0d\">E</span><span style=\"color:#2900f5\">R</span><span style=\"color:#ff0d0d\">E</span><span style=\"color:#04700d\">N</span><span style=\"color:#04700d\">Q</span><span style=\"color:#ff0d0d\">D</span><span style=\"color:#ff0d0d\">E</span><span style=\"color:#ff0d0d\">D</span><span style=\"color:#04700d\">N</span><span style=\"color:#04700d\">Q</span><span style=\"color:#ff0d0d\">D</span><span style=\"color:#ff0d0d\">D</span><span style=\"color:#ff0d0d\">D</span><span style=\"color:#04700d\">Q</span><span style=\"color:#04700d\">Q</span><span style=\"color:#2900f5\">R</span><span style=\"color:#ff0d0d\">D</span><span style=\"color:#ff0d0d\">D</span></p>"
      ],
      "text/plain": [
       "<IPython.core.display.HTML object>"
      ]
     },
     "metadata": {},
     "output_type": "display_data"
    },
    {
     "data": {
      "text/html": [
       "<p style=\"font-family:Courier;font-size: 14px\"><span style=\"color:#2900f5\">K</span><span style=\"color:#2900f5\">R</span><span style=\"color:#2900f5\">K</span><span style=\"color:#04700d\">S</span><span style=\"color:#04700d\">N</span><span style=\"color:#2900f5\">R</span><span style=\"color:#2900f5\">R</span><span style=\"color:#2900f5\">R</span><span style=\"color:#cf30b7\">P</span><span style=\"color:#cf30b7\">P</span><span style=\"color:#2900f5\">R</span><span style=\"color:#2900f5\">R</span><span style=\"color:#2900f5\">K</span><span style=\"color:#04700d\">N</span><span style=\"color:#04700d\">N</span><span style=\"color:#2900f5\">K</span><span style=\"color:#2900f5\">K</span><span style=\"color:#2900f5\">R</span><span style=\"color:#cf30b7\">P</span><span style=\"color:#04700d\">N</span><span style=\"color:#2900f5\">R</span><span style=\"color:#2900f5\">R</span><span style=\"color:#2900f5\">R</span><span style=\"color:#04700d\">Q</span><span style=\"color:#04700d\">Q</span><span style=\"color:#2900f5\">R</span><span style=\"color:#2900f5\">K</span><span style=\"color:#2900f5\">R</span><span style=\"color:#04700d\">N</span><span style=\"color:#04700d\">N</span><span style=\"color:#cf30b7\">P</span><span style=\"color:#04700d\">Q</span><span style=\"color:#ff0d0d\">D</span><span style=\"color:#ff0d0d\">D</span><span style=\"color:#ff0d0d\">E</span><span style=\"color:#04700d\">N</span><span style=\"color:#cf30b7\">P</span><span style=\"color:#ff0d0d\">E</span><span style=\"color:#ff0d0d\">D</span><span style=\"color:#ff0d0d\">D</span><span style=\"color:#04700d\">N</span><span style=\"color:#04700d\">N</span><span style=\"color:#ff0d0d\">D</span><span style=\"color:#ff0d0d\">D</span><span style=\"color:#ff0d0d\">E</span><span style=\"color:#04700d\">Q</span><span style=\"color:#04700d\">Q</span><span style=\"color:#ff0d0d\">D</span><span style=\"color:#ff0d0d\">E</span><span style=\"color:#ff0d0d\">E</span><span style=\"color:#04700d\">Q</span><span style=\"color:#04700d\">H</span><span style=\"color:#ff0d0d\">E</span><span style=\"color:#ff0d0d\">D</span><span style=\"color:#ff0d0d\">E</span><span style=\"color:#cf30b7\">P</span><span style=\"color:#04700d\">Q</span><span style=\"color:#ff0d0d\">E</span><span style=\"color:#ff0d0d\">E</span><span style=\"color:#ff0d0d\">E</span></p>"
      ],
      "text/plain": [
       "<IPython.core.display.HTML object>"
      ]
     },
     "metadata": {},
     "output_type": "display_data"
    },
    {
     "data": {
      "text/html": [
       "<p style=\"font-family:Courier;font-size: 14px\"><span style=\"color:#ff0d0d\">D</span><span style=\"color:#ff0d0d\">D</span><span style=\"color:#2900f5\">R</span><span style=\"color:#04700d\">S</span><span style=\"color:#04700d\">N</span><span style=\"color:#ff0d0d\">E</span><span style=\"color:#2900f5\">R</span><span style=\"color:#2900f5\">R</span><span style=\"color:#cf30b7\">P</span><span style=\"color:#cf30b7\">P</span><span style=\"color:#ff0d0d\">E</span><span style=\"color:#2900f5\">R</span><span style=\"color:#ff0d0d\">E</span><span style=\"color:#04700d\">N</span><span style=\"color:#04700d\">N</span><span style=\"color:#ff0d0d\">E</span><span style=\"color:#2900f5\">K</span><span style=\"color:#2900f5\">K</span><span style=\"color:#cf30b7\">P</span><span style=\"color:#04700d\">N</span><span style=\"color:#ff0d0d\">E</span><span style=\"color:#2900f5\">R</span><span style=\"color:#ff0d0d\">E</span><span style=\"color:#04700d\">Q</span><span style=\"color:#04700d\">Q</span><span style=\"color:#ff0d0d\">D</span><span style=\"color:#2900f5\">K</span><span style=\"color:#2900f5\">K</span><span style=\"color:#04700d\">N</span><span style=\"color:#04700d\">N</span><span style=\"color:#cf30b7\">P</span><span style=\"color:#04700d\">Q</span><span style=\"color:#2900f5\">K</span><span style=\"color:#2900f5\">R</span><span style=\"color:#2900f5\">R</span><span style=\"color:#04700d\">N</span><span style=\"color:#cf30b7\">P</span><span style=\"color:#ff0d0d\">D</span><span style=\"color:#ff0d0d\">D</span><span style=\"color:#2900f5\">R</span><span style=\"color:#04700d\">N</span><span style=\"color:#04700d\">N</span><span style=\"color:#ff0d0d\">D</span><span style=\"color:#2900f5\">R</span><span style=\"color:#2900f5\">K</span><span style=\"color:#04700d\">Q</span><span style=\"color:#04700d\">Q</span><span style=\"color:#ff0d0d\">E</span><span style=\"color:#2900f5\">R</span><span style=\"color:#ff0d0d\">E</span><span style=\"color:#04700d\">Q</span><span style=\"color:#04700d\">H</span><span style=\"color:#2900f5\">R</span><span style=\"color:#ff0d0d\">D</span><span style=\"color:#ff0d0d\">E</span><span style=\"color:#cf30b7\">P</span><span style=\"color:#04700d\">Q</span><span style=\"color:#ff0d0d\">D</span><span style=\"color:#2900f5\">R</span><span style=\"color:#ff0d0d\">E</span></p>"
      ],
      "text/plain": [
       "<IPython.core.display.HTML object>"
      ]
     },
     "metadata": {},
     "output_type": "display_data"
    },
    {
     "data": {
      "text/html": [
       "<p style=\"font-family:Courier;font-size: 14px\"><span style=\"color:#2900f5\">R</span><span style=\"color:#2900f5\">R</span><span style=\"color:#2900f5\">R</span><span style=\"color:#2900f5\">K</span><span style=\"color:#2900f5\">K</span><span style=\"color:#2900f5\">K</span><span style=\"color:#2900f5\">K</span><span style=\"color:#04700d\">T</span><span style=\"color:#2900f5\">K</span><span style=\"color:#2900f5\">R</span><span style=\"color:#2900f5\">R</span><span style=\"color:#2900f5\">K</span><span style=\"color:#171616\">M</span><span style=\"color:#2900f5\">R</span><span style=\"color:#2900f5\">K</span><span style=\"color:#2900f5\">R</span><span style=\"color:#2900f5\">R</span><span style=\"color:#cf30b7\">P</span><span style=\"color:#2900f5\">R</span><span style=\"color:#2900f5\">K</span><span style=\"color:#2900f5\">K</span><span style=\"color:#2900f5\">R</span><span style=\"color:#04700d\">N</span><span style=\"color:#2900f5\">K</span><span style=\"color:#2900f5\">R</span><span style=\"color:#2900f5\">K</span><span style=\"color:#2900f5\">R</span><span style=\"color:#cf30b7\">P</span><span style=\"color:#2900f5\">R</span><span style=\"color:#2900f5\">R</span><span style=\"color:#2900f5\">R</span><span style=\"color:#2900f5\">K</span><span style=\"color:#cf30b7\">P</span><span style=\"color:#04700d\">Q</span><span style=\"color:#04700d\">Q</span><span style=\"color:#04700d\">N</span><span style=\"color:#04700d\">N</span><span style=\"color:#ff0d0d\">E</span><span style=\"color:#04700d\">Q</span><span style=\"color:#04700d\">Q</span><span style=\"color:#04700d\">N</span><span style=\"color:#04700d\">N</span><span style=\"color:#ff0d0d\">D</span><span style=\"color:#04700d\">N</span><span style=\"color:#04700d\">Q</span><span style=\"color:#04700d\">N</span><span style=\"color:#04700d\">N</span><span style=\"color:#ff0d0d\">E</span><span style=\"color:#04700d\">N</span><span style=\"color:#04700d\">Q</span><span style=\"color:#04700d\">N</span><span style=\"color:#04700d\">S</span><span style=\"color:#ff0d0d\">D</span><span style=\"color:#04700d\">Q</span><span style=\"color:#04700d\">S</span><span style=\"color:#ff0d0d\">E</span><span style=\"color:#ff0d0d\">D</span><span style=\"color:#ff0d0d\">D</span><span style=\"color:#ff0d0d\">D</span><span style=\"color:#ff0d0d\">D</span></p>"
      ],
      "text/plain": [
       "<IPython.core.display.HTML object>"
      ]
     },
     "metadata": {},
     "output_type": "display_data"
    },
    {
     "data": {
      "text/html": [
       "<p style=\"font-family:Courier;font-size: 14px\"><span style=\"color:#ff0d0d\">D</span><span style=\"color:#ff0d0d\">D</span><span style=\"color:#2900f5\">R</span><span style=\"color:#04700d\">T</span><span style=\"color:#171616\">M</span><span style=\"color:#2900f5\">R</span><span style=\"color:#2900f5\">R</span><span style=\"color:#2900f5\">K</span><span style=\"color:#cf30b7\">P</span><span style=\"color:#04700d\">N</span><span style=\"color:#2900f5\">K</span><span style=\"color:#2900f5\">K</span><span style=\"color:#ff0d0d\">E</span><span style=\"color:#cf30b7\">P</span><span style=\"color:#cf30b7\">P</span><span style=\"color:#2900f5\">R</span><span style=\"color:#2900f5\">R</span><span style=\"color:#2900f5\">R</span><span style=\"color:#04700d\">Q</span><span style=\"color:#04700d\">Q</span><span style=\"color:#2900f5\">K</span><span style=\"color:#2900f5\">K</span><span style=\"color:#ff0d0d\">D</span><span style=\"color:#04700d\">N</span><span style=\"color:#04700d\">N</span><span style=\"color:#2900f5\">R</span><span style=\"color:#2900f5\">R</span><span style=\"color:#2900f5\">K</span><span style=\"color:#04700d\">Q</span><span style=\"color:#04700d\">Q</span><span style=\"color:#04700d\">N</span><span style=\"color:#04700d\">N</span><span style=\"color:#2900f5\">R</span><span style=\"color:#2900f5\">R</span><span style=\"color:#ff0d0d\">E</span><span style=\"color:#04700d\">N</span><span style=\"color:#04700d\">Q</span><span style=\"color:#2900f5\">R</span><span style=\"color:#2900f5\">R</span><span style=\"color:#ff0d0d\">D</span><span style=\"color:#04700d\">N</span><span style=\"color:#04700d\">N</span><span style=\"color:#2900f5\">R</span><span style=\"color:#2900f5\">K</span><span style=\"color:#2900f5\">K</span><span style=\"color:#04700d\">N</span><span style=\"color:#04700d\">Q</span><span style=\"color:#2900f5\">K</span><span style=\"color:#2900f5\">K</span><span style=\"color:#2900f5\">R</span><span style=\"color:#04700d\">N</span><span style=\"color:#04700d\">S</span><span style=\"color:#2900f5\">K</span><span style=\"color:#2900f5\">K</span><span style=\"color:#ff0d0d\">D</span><span style=\"color:#04700d\">Q</span><span style=\"color:#04700d\">S</span><span style=\"color:#2900f5\">R</span><span style=\"color:#ff0d0d\">D</span><span style=\"color:#ff0d0d\">E</span></p>"
      ],
      "text/plain": [
       "<IPython.core.display.HTML object>"
      ]
     },
     "metadata": {},
     "output_type": "display_data"
    },
    {
     "data": {
      "text/html": [
       "<p style=\"font-family:Courier;font-size: 14px\"><span style=\"color:#2900f5\">K</span><span style=\"color:#2900f5\">K</span><span style=\"color:#2900f5\">K</span><span style=\"color:#2900f5\">K</span><span style=\"color:#171616\">M</span><span style=\"color:#171616\">V</span><span style=\"color:#171616\">V</span><span style=\"color:#04700d\">S</span><span style=\"color:#2900f5\">R</span><span style=\"color:#04700d\">S</span><span style=\"color:#171616\">V</span><span style=\"color:#171616\">V</span><span style=\"color:#04700d\">G</span><span style=\"color:#2900f5\">R</span><span style=\"color:#171616\">A</span><span style=\"color:#04700d\">G</span><span style=\"color:#171616\">M</span><span style=\"color:#171616\">A</span><span style=\"color:#2900f5\">R</span><span style=\"color:#04700d\">S</span><span style=\"color:#171616\">V</span><span style=\"color:#171616\">V</span><span style=\"color:#171616\">A</span><span style=\"color:#2900f5\">K</span><span style=\"color:#04700d\">S</span><span style=\"color:#171616\">V</span><span style=\"color:#171616\">V</span><span style=\"color:#171616\">A</span><span style=\"color:#2900f5\">R</span><span style=\"color:#cf30b7\">P</span><span style=\"color:#171616\">V</span><span style=\"color:#04700d\">S</span><span style=\"color:#04700d\">G</span><span style=\"color:#ff0d0d\">D</span><span style=\"color:#ff0d0d\">D</span><span style=\"color:#ff0d0d\">D</span><span style=\"color:#ff0d0d\">E</span><span style=\"color:#ff0d0d\">E</span><span style=\"color:#ff0d0d\">E</span><span style=\"color:#ff0d0d\">E</span><span style=\"color:#ff0d0d\">E</span><span style=\"color:#ff0d0d\">D</span><span style=\"color:#ff0d0d\">D</span><span style=\"color:#ff0d0d\">D</span><span style=\"color:#ff0d0d\">E</span><span style=\"color:#ff0d0d\">D</span><span style=\"color:#ff0d0d\">D</span><span style=\"color:#ff0d0d\">D</span><span style=\"color:#ff0d0d\">D</span><span style=\"color:#ff0d0d\">D</span><span style=\"color:#ff0d0d\">E</span><span style=\"color:#ff0d0d\">E</span><span style=\"color:#ff0d0d\">D</span><span style=\"color:#ff0d0d\">E</span><span style=\"color:#ff0d0d\">D</span><span style=\"color:#ff0d0d\">D</span><span style=\"color:#ff0d0d\">D</span><span style=\"color:#ff0d0d\">D</span><span style=\"color:#ff0d0d\">D</span><span style=\"color:#ff0d0d\">D</span></p>"
      ],
      "text/plain": [
       "<IPython.core.display.HTML object>"
      ]
     },
     "metadata": {},
     "output_type": "display_data"
    },
    {
     "data": {
      "text/html": [
       "<p style=\"font-family:Courier;font-size: 14px\"><span style=\"color:#ff0d0d\">D</span><span style=\"color:#ff0d0d\">D</span><span style=\"color:#2900f5\">K</span><span style=\"color:#ff0d0d\">E</span><span style=\"color:#171616\">M</span><span style=\"color:#171616\">V</span><span style=\"color:#ff0d0d\">D</span><span style=\"color:#2900f5\">K</span><span style=\"color:#ff0d0d\">D</span><span style=\"color:#171616\">V</span><span style=\"color:#04700d\">S</span><span style=\"color:#ff0d0d\">E</span><span style=\"color:#ff0d0d\">E</span><span style=\"color:#2900f5\">K</span><span style=\"color:#04700d\">S</span><span style=\"color:#171616\">V</span><span style=\"color:#ff0d0d\">D</span><span style=\"color:#ff0d0d\">E</span><span style=\"color:#ff0d0d\">D</span><span style=\"color:#171616\">V</span><span style=\"color:#04700d\">G</span><span style=\"color:#2900f5\">K</span><span style=\"color:#2900f5\">R</span><span style=\"color:#ff0d0d\">D</span><span style=\"color:#171616\">A</span><span style=\"color:#04700d\">G</span><span style=\"color:#ff0d0d\">D</span><span style=\"color:#ff0d0d\">D</span><span style=\"color:#ff0d0d\">D</span><span style=\"color:#171616\">M</span><span style=\"color:#171616\">A</span><span style=\"color:#04700d\">S</span><span style=\"color:#171616\">V</span><span style=\"color:#171616\">V</span><span style=\"color:#ff0d0d\">D</span><span style=\"color:#ff0d0d\">D</span><span style=\"color:#171616\">A</span><span style=\"color:#04700d\">S</span><span style=\"color:#171616\">V</span><span style=\"color:#ff0d0d\">D</span><span style=\"color:#ff0d0d\">E</span><span style=\"color:#171616\">V</span><span style=\"color:#171616\">A</span><span style=\"color:#cf30b7\">P</span><span style=\"color:#2900f5\">R</span><span style=\"color:#ff0d0d\">E</span><span style=\"color:#171616\">V</span><span style=\"color:#04700d\">S</span><span style=\"color:#04700d\">G</span><span style=\"color:#ff0d0d\">E</span><span style=\"color:#2900f5\">R</span><span style=\"color:#ff0d0d\">D</span><span style=\"color:#2900f5\">R</span><span style=\"color:#ff0d0d\">D</span><span style=\"color:#2900f5\">K</span><span style=\"color:#ff0d0d\">D</span><span style=\"color:#ff0d0d\">E</span><span style=\"color:#ff0d0d\">D</span><span style=\"color:#ff0d0d\">E</span><span style=\"color:#ff0d0d\">D</span></p>"
      ],
      "text/plain": [
       "<IPython.core.display.HTML object>"
      ]
     },
     "metadata": {},
     "output_type": "display_data"
    },
    {
     "data": {
      "text/html": [
       "<p style=\"font-family:Courier;font-size: 14px\"><span style=\"color:#2900f5\">K</span><span style=\"color:#2900f5\">R</span><span style=\"color:#2900f5\">R</span><span style=\"color:#171616\">A</span><span style=\"color:#171616\">V</span><span style=\"color:#2900f5\">K</span><span style=\"color:#2900f5\">K</span><span style=\"color:#2900f5\">K</span><span style=\"color:#171616\">V</span><span style=\"color:#171616\">A</span><span style=\"color:#2900f5\">K</span><span style=\"color:#2900f5\">R</span><span style=\"color:#2900f5\">K</span><span style=\"color:#04700d\">S</span><span style=\"color:#04700d\">S</span><span style=\"color:#2900f5\">R</span><span style=\"color:#2900f5\">K</span><span style=\"color:#2900f5\">K</span><span style=\"color:#171616\">V</span><span style=\"color:#171616\">V</span><span style=\"color:#2900f5\">K</span><span style=\"color:#2900f5\">K</span><span style=\"color:#2900f5\">R</span><span style=\"color:#04700d\">G</span><span style=\"color:#171616\">A</span><span style=\"color:#2900f5\">R</span><span style=\"color:#2900f5\">K</span><span style=\"color:#2900f5\">K</span><span style=\"color:#04700d\">S</span><span style=\"color:#171616\">V</span><span style=\"color:#04700d\">S</span><span style=\"color:#171616\">V</span><span style=\"color:#ff0d0d\">D</span><span style=\"color:#ff0d0d\">E</span><span style=\"color:#ff0d0d\">D</span><span style=\"color:#171616\">V</span><span style=\"color:#cf30b7\">P</span><span style=\"color:#ff0d0d\">E</span><span style=\"color:#ff0d0d\">D</span><span style=\"color:#ff0d0d\">D</span><span style=\"color:#171616\">V</span><span style=\"color:#171616\">V</span><span style=\"color:#ff0d0d\">D</span><span style=\"color:#ff0d0d\">D</span><span style=\"color:#ff0d0d\">D</span><span style=\"color:#04700d\">G</span><span style=\"color:#04700d\">S</span><span style=\"color:#ff0d0d\">D</span><span style=\"color:#ff0d0d\">D</span><span style=\"color:#ff0d0d\">D</span><span style=\"color:#171616\">V</span><span style=\"color:#04700d\">S</span><span style=\"color:#ff0d0d\">D</span><span style=\"color:#ff0d0d\">D</span><span style=\"color:#ff0d0d\">E</span><span style=\"color:#171616\">A</span><span style=\"color:#171616\">V</span><span style=\"color:#ff0d0d\">D</span><span style=\"color:#ff0d0d\">E</span><span style=\"color:#ff0d0d\">E</span></p>"
      ],
      "text/plain": [
       "<IPython.core.display.HTML object>"
      ]
     },
     "metadata": {},
     "output_type": "display_data"
    },
    {
     "data": {
      "text/html": [
       "<p style=\"font-family:Courier;font-size: 14px\"><span style=\"color:#ff0d0d\">E</span><span style=\"color:#2900f5\">K</span><span style=\"color:#ff0d0d\">D</span><span style=\"color:#171616\">A</span><span style=\"color:#171616\">V</span><span style=\"color:#ff0d0d\">D</span><span style=\"color:#ff0d0d\">E</span><span style=\"color:#2900f5\">K</span><span style=\"color:#171616\">V</span><span style=\"color:#171616\">A</span><span style=\"color:#ff0d0d\">D</span><span style=\"color:#2900f5\">K</span><span style=\"color:#2900f5\">K</span><span style=\"color:#04700d\">S</span><span style=\"color:#04700d\">S</span><span style=\"color:#2900f5\">K</span><span style=\"color:#ff0d0d\">D</span><span style=\"color:#2900f5\">K</span><span style=\"color:#171616\">V</span><span style=\"color:#171616\">V</span><span style=\"color:#ff0d0d\">D</span><span style=\"color:#ff0d0d\">D</span><span style=\"color:#2900f5\">R</span><span style=\"color:#04700d\">G</span><span style=\"color:#171616\">A</span><span style=\"color:#2900f5\">K</span><span style=\"color:#2900f5\">R</span><span style=\"color:#ff0d0d\">D</span><span style=\"color:#04700d\">S</span><span style=\"color:#171616\">V</span><span style=\"color:#04700d\">S</span><span style=\"color:#171616\">V</span><span style=\"color:#ff0d0d\">D</span><span style=\"color:#2900f5\">R</span><span style=\"color:#ff0d0d\">D</span><span style=\"color:#171616\">V</span><span style=\"color:#cf30b7\">P</span><span style=\"color:#ff0d0d\">D</span><span style=\"color:#ff0d0d\">E</span><span style=\"color:#2900f5\">K</span><span style=\"color:#171616\">V</span><span style=\"color:#171616\">V</span><span style=\"color:#2900f5\">R</span><span style=\"color:#ff0d0d\">D</span><span style=\"color:#2900f5\">K</span><span style=\"color:#04700d\">G</span><span style=\"color:#04700d\">S</span><span style=\"color:#ff0d0d\">D</span><span style=\"color:#2900f5\">R</span><span style=\"color:#ff0d0d\">E</span><span style=\"color:#171616\">V</span><span style=\"color:#04700d\">S</span><span style=\"color:#ff0d0d\">E</span><span style=\"color:#2900f5\">K</span><span style=\"color:#2900f5\">K</span><span style=\"color:#171616\">A</span><span style=\"color:#171616\">V</span><span style=\"color:#2900f5\">K</span><span style=\"color:#2900f5\">R</span><span style=\"color:#ff0d0d\">D</span></p>"
      ],
      "text/plain": [
       "<IPython.core.display.HTML object>"
      ]
     },
     "metadata": {},
     "output_type": "display_data"
    },
    {
     "data": {
      "text/html": [
       "<p style=\"font-family:Courier;font-size: 14px\"><span style=\"color:#04700d\">S</span><span style=\"color:#04700d\">S</span><span style=\"color:#04700d\">G</span><span style=\"color:#04700d\">S</span><span style=\"color:#04700d\">S</span><span style=\"color:#04700d\">G</span><span style=\"color:#04700d\">S</span><span style=\"color:#04700d\">S</span><span style=\"color:#ff0d0d\">E</span><span style=\"color:#2900f5\">K</span><span style=\"color:#ff0d0d\">D</span><span style=\"color:#171616\">A</span><span style=\"color:#171616\">V</span><span style=\"color:#ff0d0d\">D</span><span style=\"color:#ff0d0d\">E</span><span style=\"color:#2900f5\">K</span><span style=\"color:#171616\">V</span><span style=\"color:#171616\">A</span><span style=\"color:#ff0d0d\">D</span><span style=\"color:#2900f5\">K</span><span style=\"color:#2900f5\">K</span><span style=\"color:#2900f5\">K</span><span style=\"color:#ff0d0d\">D</span><span style=\"color:#2900f5\">K</span><span style=\"color:#171616\">V</span><span style=\"color:#171616\">V</span><span style=\"color:#ff0d0d\">D</span><span style=\"color:#ff0d0d\">D</span><span style=\"color:#2900f5\">R</span><span style=\"color:#171616\">A</span><span style=\"color:#2900f5\">K</span><span style=\"color:#2900f5\">R</span><span style=\"color:#ff0d0d\">D</span><span style=\"color:#171616\">V</span><span style=\"color:#171616\">V</span><span style=\"color:#ff0d0d\">D</span><span style=\"color:#2900f5\">R</span><span style=\"color:#ff0d0d\">D</span><span style=\"color:#171616\">V</span><span style=\"color:#cf30b7\">P</span><span style=\"color:#ff0d0d\">D</span><span style=\"color:#ff0d0d\">E</span><span style=\"color:#2900f5\">K</span><span style=\"color:#171616\">V</span><span style=\"color:#171616\">V</span><span style=\"color:#2900f5\">R</span><span style=\"color:#ff0d0d\">D</span><span style=\"color:#2900f5\">K</span><span style=\"color:#ff0d0d\">D</span><span style=\"color:#2900f5\">R</span><span style=\"color:#ff0d0d\">E</span><span style=\"color:#171616\">V</span><span style=\"color:#ff0d0d\">E</span><span style=\"color:#2900f5\">K</span><span style=\"color:#2900f5\">K</span><span style=\"color:#171616\">A</span><span style=\"color:#171616\">V</span><span style=\"color:#2900f5\">K</span><span style=\"color:#2900f5\">R</span><span style=\"color:#ff0d0d\">D</span></p>"
      ],
      "text/plain": [
       "<IPython.core.display.HTML object>"
      ]
     },
     "metadata": {},
     "output_type": "display_data"
    },
    {
     "data": {
      "text/html": [
       "<p style=\"font-family:Courier;font-size: 14px\"><span style=\"color:#04700d\">S</span><span style=\"color:#ff0d0d\">E</span><span style=\"color:#04700d\">S</span><span style=\"color:#2900f5\">K</span><span style=\"color:#04700d\">G</span><span style=\"color:#ff0d0d\">D</span><span style=\"color:#04700d\">S</span><span style=\"color:#171616\">A</span><span style=\"color:#04700d\">S</span><span style=\"color:#171616\">V</span><span style=\"color:#04700d\">G</span><span style=\"color:#ff0d0d\">D</span><span style=\"color:#04700d\">S</span><span style=\"color:#ff0d0d\">E</span><span style=\"color:#04700d\">S</span><span style=\"color:#2900f5\">K</span><span style=\"color:#171616\">V</span><span style=\"color:#171616\">A</span><span style=\"color:#ff0d0d\">D</span><span style=\"color:#2900f5\">K</span><span style=\"color:#2900f5\">K</span><span style=\"color:#2900f5\">K</span><span style=\"color:#ff0d0d\">D</span><span style=\"color:#2900f5\">K</span><span style=\"color:#171616\">V</span><span style=\"color:#171616\">V</span><span style=\"color:#ff0d0d\">D</span><span style=\"color:#ff0d0d\">D</span><span style=\"color:#2900f5\">R</span><span style=\"color:#171616\">A</span><span style=\"color:#2900f5\">K</span><span style=\"color:#2900f5\">R</span><span style=\"color:#ff0d0d\">D</span><span style=\"color:#171616\">V</span><span style=\"color:#171616\">V</span><span style=\"color:#ff0d0d\">D</span><span style=\"color:#2900f5\">R</span><span style=\"color:#ff0d0d\">D</span><span style=\"color:#171616\">V</span><span style=\"color:#cf30b7\">P</span><span style=\"color:#ff0d0d\">D</span><span style=\"color:#ff0d0d\">E</span><span style=\"color:#2900f5\">K</span><span style=\"color:#171616\">V</span><span style=\"color:#171616\">V</span><span style=\"color:#2900f5\">R</span><span style=\"color:#ff0d0d\">D</span><span style=\"color:#2900f5\">K</span><span style=\"color:#ff0d0d\">D</span><span style=\"color:#2900f5\">R</span><span style=\"color:#ff0d0d\">E</span><span style=\"color:#171616\">V</span><span style=\"color:#ff0d0d\">E</span><span style=\"color:#2900f5\">K</span><span style=\"color:#2900f5\">K</span><span style=\"color:#171616\">A</span><span style=\"color:#171616\">V</span><span style=\"color:#2900f5\">K</span><span style=\"color:#2900f5\">R</span><span style=\"color:#ff0d0d\">D</span></p>"
      ],
      "text/plain": [
       "<IPython.core.display.HTML object>"
      ]
     },
     "metadata": {},
     "output_type": "display_data"
    },
    {
     "data": {
      "text/html": [
       "<p style=\"font-family:Courier;font-size: 14px\"><span style=\"color:#2900f5\">K</span><span style=\"color:#2900f5\">R</span><span style=\"color:#2900f5\">R</span><span style=\"color:#2900f5\">K</span><span style=\"color:#2900f5\">R</span><span style=\"color:#2900f5\">K</span><span style=\"color:#2900f5\">R</span><span style=\"color:#171616\">V</span><span style=\"color:#2900f5\">R</span><span style=\"color:#2900f5\">K</span><span style=\"color:#2900f5\">R</span><span style=\"color:#2900f5\">R</span><span style=\"color:#171616\">V</span><span style=\"color:#2900f5\">K</span><span style=\"color:#2900f5\">R</span><span style=\"color:#2900f5\">K</span><span style=\"color:#2900f5\">K</span><span style=\"color:#171616\">A</span><span style=\"color:#2900f5\">K</span><span style=\"color:#2900f5\">R</span><span style=\"color:#2900f5\">R</span><span style=\"color:#2900f5\">R</span><span style=\"color:#171616\">A</span><span style=\"color:#2900f5\">K</span><span style=\"color:#2900f5\">R</span><span style=\"color:#2900f5\">R</span><span style=\"color:#2900f5\">K</span><span style=\"color:#171616\">V</span><span style=\"color:#2900f5\">K</span><span style=\"color:#2900f5\">K</span><span style=\"color:#2900f5\">K</span><span style=\"color:#2900f5\">R</span><span style=\"color:#04700d\">S</span><span style=\"color:#171616\">A</span><span style=\"color:#171616\">A</span><span style=\"color:#171616\">V</span><span style=\"color:#04700d\">G</span><span style=\"color:#ff0d0d\">E</span><span style=\"color:#171616\">A</span><span style=\"color:#171616\">V</span><span style=\"color:#171616\">A</span><span style=\"color:#171616\">A</span><span style=\"color:#ff0d0d\">D</span><span style=\"color:#04700d\">S</span><span style=\"color:#171616\">A</span><span style=\"color:#171616\">V</span><span style=\"color:#171616\">A</span><span style=\"color:#ff0d0d\">D</span><span style=\"color:#171616\">A</span><span style=\"color:#171616\">V</span><span style=\"color:#171616\">V</span><span style=\"color:#171616\">V</span><span style=\"color:#ff0d0d\">D</span><span style=\"color:#04700d\">S</span><span style=\"color:#171616\">A</span><span style=\"color:#ff0d0d\">D</span><span style=\"color:#ff0d0d\">D</span><span style=\"color:#ff0d0d\">D</span><span style=\"color:#ff0d0d\">D</span><span style=\"color:#ff0d0d\">D</span></p>"
      ],
      "text/plain": [
       "<IPython.core.display.HTML object>"
      ]
     },
     "metadata": {},
     "output_type": "display_data"
    },
    {
     "data": {
      "text/html": [
       "<p style=\"font-family:Courier;font-size: 14px\"><span style=\"color:#2900f5\">K</span><span style=\"color:#2900f5\">R</span><span style=\"color:#2900f5\">K</span><span style=\"color:#171616\">V</span><span style=\"color:#171616\">V</span><span style=\"color:#ff0d0d\">D</span><span style=\"color:#2900f5\">R</span><span style=\"color:#ff0d0d\">D</span><span style=\"color:#171616\">A</span><span style=\"color:#171616\">A</span><span style=\"color:#2900f5\">R</span><span style=\"color:#2900f5\">R</span><span style=\"color:#2900f5\">R</span><span style=\"color:#171616\">V</span><span style=\"color:#04700d\">S</span><span style=\"color:#ff0d0d\">D</span><span style=\"color:#2900f5\">R</span><span style=\"color:#2900f5\">K</span><span style=\"color:#171616\">A</span><span style=\"color:#171616\">A</span><span style=\"color:#2900f5\">K</span><span style=\"color:#ff0d0d\">D</span><span style=\"color:#2900f5\">R</span><span style=\"color:#171616\">V</span><span style=\"color:#04700d\">G</span><span style=\"color:#2900f5\">K</span><span style=\"color:#2900f5\">R</span><span style=\"color:#2900f5\">K</span><span style=\"color:#171616\">A</span><span style=\"color:#171616\">V</span><span style=\"color:#171616\">A</span><span style=\"color:#171616\">A</span><span style=\"color:#2900f5\">R</span><span style=\"color:#2900f5\">K</span><span style=\"color:#2900f5\">K</span><span style=\"color:#04700d\">S</span><span style=\"color:#171616\">A</span><span style=\"color:#2900f5\">R</span><span style=\"color:#2900f5\">K</span><span style=\"color:#ff0d0d\">D</span><span style=\"color:#171616\">V</span><span style=\"color:#171616\">A</span><span style=\"color:#ff0d0d\">D</span><span style=\"color:#ff0d0d\">E</span><span style=\"color:#2900f5\">K</span><span style=\"color:#171616\">A</span><span style=\"color:#171616\">V</span><span style=\"color:#2900f5\">R</span><span style=\"color:#ff0d0d\">D</span><span style=\"color:#2900f5\">R</span><span style=\"color:#171616\">V</span><span style=\"color:#171616\">V</span><span style=\"color:#2900f5\">K</span><span style=\"color:#2900f5\">R</span><span style=\"color:#2900f5\">K</span><span style=\"color:#04700d\">S</span><span style=\"color:#171616\">A</span><span style=\"color:#ff0d0d\">D</span><span style=\"color:#2900f5\">R</span><span style=\"color:#2900f5\">K</span></p>"
      ],
      "text/plain": [
       "<IPython.core.display.HTML object>"
      ]
     },
     "metadata": {},
     "output_type": "display_data"
    }
   ],
   "source": [
    "for s in seqs:\n",
    "    Protein(seqs[s]).show_sequence(blocksize=100)"
   ]
  },
  {
   "cell_type": "code",
   "execution_count": 21,
   "id": "fcc56e93-9b64-4bb9-9c4b-78a9b319c34c",
   "metadata": {},
   "outputs": [
    {
     "name": "stdout",
     "output_type": "stream",
     "text": [
      "0.0, 0.0, -1.0, 1, 0.88\n",
      "0.0, 0.0, -1.0, 3, 0.89\n",
      "0.0, 0.0, -1.0, 3, 0.91\n",
      "0.0, 0.0, -1.0, 3, 0.9\n",
      "0.3, -0.3, -1.0, 1, 0.94\n",
      "0.3, -0.3, -1.0, 1, 0.92\n",
      "0.3, -0.0, 0.53, 1, 0.92\n",
      "0.3, -0.0, 0.13, 1, 0.95\n",
      "0.3, 0.3, -1.0, 1, 0.85\n",
      "0.3, 0.3, -1.0, 1, 0.9\n",
      "0.3, -0.3, -1.0, 3, 0.94\n",
      "0.3, -0.3, -1.0, 3, 0.94\n",
      "0.3, -0.0, 0.53, 3, 0.95\n",
      "0.3, -0.0, 0.13, 3, 0.95\n",
      "0.3, -0.0, 0.01, 3, 0.89\n",
      "0.3, -0.0, 0.06, 3, 0.95\n",
      "0.3, 0.3, -1.0, 3, 0.94\n",
      "0.3, 0.3, -1.0, 3, 0.94\n",
      "0.6, -0.3, 0.84, 1, 0.95\n",
      "0.6, -0.3, 0.19, 1, 0.97\n",
      "0.6, 0.0, 0.64, 1, 0.96\n",
      "0.6, 0.0, 0.06, 1, 0.96\n",
      "0.6, 0.3, 0.72, 1, 0.94\n",
      "0.6, 0.3, 0.22, 1, 0.91\n",
      "0.6, -0.3, 0.84, 3, 0.86\n",
      "0.6, -0.3, 0.16, 3, 0.92\n",
      "0.6, 0.0, 0.64, 3, 0.88\n",
      "0.6, 0.0, 0.06, 3, 0.9\n",
      "0.6, 0.0, 0.05, 3, 0.84\n",
      "0.6, 0.0, 0.05, 3, 0.86\n",
      "0.6, 0.3, 0.72, 3, 0.76\n",
      "0.6, 0.3, 0.18, 3, 0.61\n"
     ]
    }
   ],
   "source": [
    "for s in seqs:\n",
    "    FCR = Protein(seqs[s]).FCR\n",
    "    NCPR = Protein(seqs[s]).NCPR\n",
    "    k = Protein(seqs[s]).kappa\n",
    "    H = Protein(seqs[s]).hydrophobicity\n",
    "    d = np.mean(Protein(seqs[s]).predictor.disorder())\n",
    "    print(f\"{np.round(FCR,2)}, {np.round(NCPR,2)}, {np.round(k,2)}, {int(np.round(H))}, {np.round(d,2)}\")\n",
    "    "
   ]
  }
 ],
 "metadata": {
  "kernelspec": {
   "display_name": "Python 3 (ipykernel)",
   "language": "python",
   "name": "python3"
  },
  "language_info": {
   "codemirror_mode": {
    "name": "ipython",
    "version": 3
   },
   "file_extension": ".py",
   "mimetype": "text/x-python",
   "name": "python",
   "nbconvert_exporter": "python",
   "pygments_lexer": "ipython3",
   "version": "3.8.17"
  }
 },
 "nbformat": 4,
 "nbformat_minor": 5
}
