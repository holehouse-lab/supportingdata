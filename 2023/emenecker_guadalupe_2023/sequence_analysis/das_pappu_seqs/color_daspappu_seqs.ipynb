{
 "cells": [
  {
   "cell_type": "code",
   "execution_count": 1,
   "id": "1dd05122-f22b-4d55-9bf2-e4311cba36e8",
   "metadata": {},
   "outputs": [],
   "source": [
    "import protfasta\n",
    "from sparrow import Protein"
   ]
  },
  {
   "cell_type": "code",
   "execution_count": 2,
   "id": "802c426e-399b-43e5-81ba-26380b3b5c79",
   "metadata": {},
   "outputs": [],
   "source": [
    "s = protfasta.read_fasta('das_seqs.fasta')"
   ]
  },
  {
   "cell_type": "code",
   "execution_count": 4,
   "id": "1d1b4c60-3799-43a0-bbff-1469bf8aaa99",
   "metadata": {},
   "outputs": [
    {
     "data": {
      "text/html": [
       "<p style=\"font-family:Courier;font-size: 14px\"><span style=\"color:#ff0d0d\">E</span><span style=\"color:#2900f5\">K</span><span style=\"color:#ff0d0d\">E</span><span style=\"color:#2900f5\">K</span><span style=\"color:#ff0d0d\">E</span><span style=\"color:#2900f5\">K</span><span style=\"color:#ff0d0d\">E</span><span style=\"color:#2900f5\">K</span><span style=\"color:#ff0d0d\">E</span><span style=\"color:#2900f5\">K</span><span style=\"color:#ff0d0d\">E</span><span style=\"color:#2900f5\">K</span><span style=\"color:#ff0d0d\">E</span><span style=\"color:#2900f5\">K</span><span style=\"color:#ff0d0d\">E</span><span style=\"color:#2900f5\">K</span><span style=\"color:#ff0d0d\">E</span><span style=\"color:#2900f5\">K</span><span style=\"color:#ff0d0d\">E</span><span style=\"color:#2900f5\">K</span><span style=\"color:#ff0d0d\">E</span><span style=\"color:#2900f5\">K</span><span style=\"color:#ff0d0d\">E</span><span style=\"color:#2900f5\">K</span><span style=\"color:#ff0d0d\">E</span><span style=\"color:#2900f5\">K</span><span style=\"color:#ff0d0d\">E</span><span style=\"color:#2900f5\">K</span><span style=\"color:#ff0d0d\">E</span><span style=\"color:#2900f5\">K</span><span style=\"color:#ff0d0d\">E</span><span style=\"color:#2900f5\">K</span><span style=\"color:#ff0d0d\">E</span><span style=\"color:#2900f5\">K</span><span style=\"color:#ff0d0d\">E</span><span style=\"color:#2900f5\">K</span><span style=\"color:#ff0d0d\">E</span><span style=\"color:#2900f5\">K</span><span style=\"color:#ff0d0d\">E</span><span style=\"color:#2900f5\">K</span><span style=\"color:#ff0d0d\">E</span><span style=\"color:#2900f5\">K</span><span style=\"color:#ff0d0d\">E</span><span style=\"color:#2900f5\">K</span><span style=\"color:#ff0d0d\">E</span><span style=\"color:#2900f5\">K</span><span style=\"color:#ff0d0d\">E</span><span style=\"color:#2900f5\">K</span><span style=\"color:#ff0d0d\">E</span><span style=\"color:#2900f5\">K</span></p>"
      ],
      "text/plain": [
       "<IPython.core.display.HTML object>"
      ]
     },
     "metadata": {},
     "output_type": "display_data"
    },
    {
     "data": {
      "text/html": [
       "<p style=\"font-family:Courier;font-size: 14px\"><span style=\"color:#ff0d0d\">E</span><span style=\"color:#ff0d0d\">E</span><span style=\"color:#ff0d0d\">E</span><span style=\"color:#2900f5\">K</span><span style=\"color:#2900f5\">K</span><span style=\"color:#2900f5\">K</span><span style=\"color:#ff0d0d\">E</span><span style=\"color:#ff0d0d\">E</span><span style=\"color:#ff0d0d\">E</span><span style=\"color:#2900f5\">K</span><span style=\"color:#2900f5\">K</span><span style=\"color:#2900f5\">K</span><span style=\"color:#ff0d0d\">E</span><span style=\"color:#ff0d0d\">E</span><span style=\"color:#ff0d0d\">E</span><span style=\"color:#2900f5\">K</span><span style=\"color:#2900f5\">K</span><span style=\"color:#2900f5\">K</span><span style=\"color:#ff0d0d\">E</span><span style=\"color:#ff0d0d\">E</span><span style=\"color:#ff0d0d\">E</span><span style=\"color:#2900f5\">K</span><span style=\"color:#2900f5\">K</span><span style=\"color:#2900f5\">K</span><span style=\"color:#ff0d0d\">E</span><span style=\"color:#ff0d0d\">E</span><span style=\"color:#ff0d0d\">E</span><span style=\"color:#2900f5\">K</span><span style=\"color:#2900f5\">K</span><span style=\"color:#2900f5\">K</span><span style=\"color:#ff0d0d\">E</span><span style=\"color:#ff0d0d\">E</span><span style=\"color:#ff0d0d\">E</span><span style=\"color:#2900f5\">K</span><span style=\"color:#2900f5\">K</span><span style=\"color:#2900f5\">K</span><span style=\"color:#ff0d0d\">E</span><span style=\"color:#ff0d0d\">E</span><span style=\"color:#ff0d0d\">E</span><span style=\"color:#2900f5\">K</span><span style=\"color:#2900f5\">K</span><span style=\"color:#2900f5\">K</span><span style=\"color:#ff0d0d\">E</span><span style=\"color:#ff0d0d\">E</span><span style=\"color:#ff0d0d\">E</span><span style=\"color:#2900f5\">K</span><span style=\"color:#2900f5\">K</span><span style=\"color:#2900f5\">K</span><span style=\"color:#ff0d0d\">E</span><span style=\"color:#2900f5\">K</span></p>"
      ],
      "text/plain": [
       "<IPython.core.display.HTML object>"
      ]
     },
     "metadata": {},
     "output_type": "display_data"
    },
    {
     "data": {
      "text/html": [
       "<p style=\"font-family:Courier;font-size: 14px\"><span style=\"color:#2900f5\">K</span><span style=\"color:#ff0d0d\">E</span><span style=\"color:#2900f5\">K</span><span style=\"color:#2900f5\">K</span><span style=\"color:#2900f5\">K</span><span style=\"color:#ff0d0d\">E</span><span style=\"color:#2900f5\">K</span><span style=\"color:#2900f5\">K</span><span style=\"color:#ff0d0d\">E</span><span style=\"color:#ff0d0d\">E</span><span style=\"color:#2900f5\">K</span><span style=\"color:#2900f5\">K</span><span style=\"color:#ff0d0d\">E</span><span style=\"color:#ff0d0d\">E</span><span style=\"color:#2900f5\">K</span><span style=\"color:#ff0d0d\">E</span><span style=\"color:#2900f5\">K</span><span style=\"color:#ff0d0d\">E</span><span style=\"color:#2900f5\">K</span><span style=\"color:#ff0d0d\">E</span><span style=\"color:#2900f5\">K</span><span style=\"color:#ff0d0d\">E</span><span style=\"color:#ff0d0d\">E</span><span style=\"color:#2900f5\">K</span><span style=\"color:#2900f5\">K</span><span style=\"color:#2900f5\">K</span><span style=\"color:#ff0d0d\">E</span><span style=\"color:#ff0d0d\">E</span><span style=\"color:#2900f5\">K</span><span style=\"color:#ff0d0d\">E</span><span style=\"color:#2900f5\">K</span><span style=\"color:#ff0d0d\">E</span><span style=\"color:#2900f5\">K</span><span style=\"color:#ff0d0d\">E</span><span style=\"color:#2900f5\">K</span><span style=\"color:#2900f5\">K</span><span style=\"color:#2900f5\">K</span><span style=\"color:#ff0d0d\">E</span><span style=\"color:#ff0d0d\">E</span><span style=\"color:#2900f5\">K</span><span style=\"color:#ff0d0d\">E</span><span style=\"color:#2900f5\">K</span><span style=\"color:#ff0d0d\">E</span><span style=\"color:#ff0d0d\">E</span><span style=\"color:#2900f5\">K</span><span style=\"color:#2900f5\">K</span><span style=\"color:#ff0d0d\">E</span><span style=\"color:#ff0d0d\">E</span><span style=\"color:#ff0d0d\">E</span><span style=\"color:#ff0d0d\">E</span></p>"
      ],
      "text/plain": [
       "<IPython.core.display.HTML object>"
      ]
     },
     "metadata": {},
     "output_type": "display_data"
    },
    {
     "data": {
      "text/html": [
       "<p style=\"font-family:Courier;font-size: 14px\"><span style=\"color:#2900f5\">K</span><span style=\"color:#ff0d0d\">E</span><span style=\"color:#2900f5\">K</span><span style=\"color:#ff0d0d\">E</span><span style=\"color:#2900f5\">K</span><span style=\"color:#2900f5\">K</span><span style=\"color:#ff0d0d\">E</span><span style=\"color:#ff0d0d\">E</span><span style=\"color:#2900f5\">K</span><span style=\"color:#ff0d0d\">E</span><span style=\"color:#2900f5\">K</span><span style=\"color:#2900f5\">K</span><span style=\"color:#ff0d0d\">E</span><span style=\"color:#ff0d0d\">E</span><span style=\"color:#ff0d0d\">E</span><span style=\"color:#2900f5\">K</span><span style=\"color:#2900f5\">K</span><span style=\"color:#ff0d0d\">E</span><span style=\"color:#2900f5\">K</span><span style=\"color:#ff0d0d\">E</span><span style=\"color:#2900f5\">K</span><span style=\"color:#ff0d0d\">E</span><span style=\"color:#2900f5\">K</span><span style=\"color:#2900f5\">K</span><span style=\"color:#2900f5\">K</span><span style=\"color:#ff0d0d\">E</span><span style=\"color:#ff0d0d\">E</span><span style=\"color:#2900f5\">K</span><span style=\"color:#2900f5\">K</span><span style=\"color:#2900f5\">K</span><span style=\"color:#ff0d0d\">E</span><span style=\"color:#ff0d0d\">E</span><span style=\"color:#2900f5\">K</span><span style=\"color:#ff0d0d\">E</span><span style=\"color:#ff0d0d\">E</span><span style=\"color:#2900f5\">K</span><span style=\"color:#2900f5\">K</span><span style=\"color:#ff0d0d\">E</span><span style=\"color:#ff0d0d\">E</span><span style=\"color:#2900f5\">K</span><span style=\"color:#2900f5\">K</span><span style=\"color:#2900f5\">K</span><span style=\"color:#ff0d0d\">E</span><span style=\"color:#ff0d0d\">E</span><span style=\"color:#2900f5\">K</span><span style=\"color:#ff0d0d\">E</span><span style=\"color:#ff0d0d\">E</span><span style=\"color:#ff0d0d\">E</span><span style=\"color:#2900f5\">K</span><span style=\"color:#ff0d0d\">E</span></p>"
      ],
      "text/plain": [
       "<IPython.core.display.HTML object>"
      ]
     },
     "metadata": {},
     "output_type": "display_data"
    },
    {
     "data": {
      "text/html": [
       "<p style=\"font-family:Courier;font-size: 14px\"><span style=\"color:#2900f5\">K</span><span style=\"color:#ff0d0d\">E</span><span style=\"color:#2900f5\">K</span><span style=\"color:#ff0d0d\">E</span><span style=\"color:#ff0d0d\">E</span><span style=\"color:#2900f5\">K</span><span style=\"color:#ff0d0d\">E</span><span style=\"color:#2900f5\">K</span><span style=\"color:#2900f5\">K</span><span style=\"color:#2900f5\">K</span><span style=\"color:#ff0d0d\">E</span><span style=\"color:#ff0d0d\">E</span><span style=\"color:#ff0d0d\">E</span><span style=\"color:#ff0d0d\">E</span><span style=\"color:#2900f5\">K</span><span style=\"color:#ff0d0d\">E</span><span style=\"color:#2900f5\">K</span><span style=\"color:#2900f5\">K</span><span style=\"color:#2900f5\">K</span><span style=\"color:#2900f5\">K</span><span style=\"color:#ff0d0d\">E</span><span style=\"color:#ff0d0d\">E</span><span style=\"color:#2900f5\">K</span><span style=\"color:#ff0d0d\">E</span><span style=\"color:#2900f5\">K</span><span style=\"color:#ff0d0d\">E</span><span style=\"color:#2900f5\">K</span><span style=\"color:#ff0d0d\">E</span><span style=\"color:#2900f5\">K</span><span style=\"color:#ff0d0d\">E</span><span style=\"color:#ff0d0d\">E</span><span style=\"color:#2900f5\">K</span><span style=\"color:#2900f5\">K</span><span style=\"color:#ff0d0d\">E</span><span style=\"color:#ff0d0d\">E</span><span style=\"color:#2900f5\">K</span><span style=\"color:#2900f5\">K</span><span style=\"color:#2900f5\">K</span><span style=\"color:#2900f5\">K</span><span style=\"color:#ff0d0d\">E</span><span style=\"color:#ff0d0d\">E</span><span style=\"color:#2900f5\">K</span><span style=\"color:#ff0d0d\">E</span><span style=\"color:#ff0d0d\">E</span><span style=\"color:#2900f5\">K</span><span style=\"color:#ff0d0d\">E</span><span style=\"color:#2900f5\">K</span><span style=\"color:#ff0d0d\">E</span><span style=\"color:#2900f5\">K</span><span style=\"color:#ff0d0d\">E</span></p>"
      ],
      "text/plain": [
       "<IPython.core.display.HTML object>"
      ]
     },
     "metadata": {},
     "output_type": "display_data"
    },
    {
     "data": {
      "text/html": [
       "<p style=\"font-family:Courier;font-size: 14px\"><span style=\"color:#ff0d0d\">E</span><span style=\"color:#ff0d0d\">E</span><span style=\"color:#ff0d0d\">E</span><span style=\"color:#2900f5\">K</span><span style=\"color:#2900f5\">K</span><span style=\"color:#ff0d0d\">E</span><span style=\"color:#2900f5\">K</span><span style=\"color:#2900f5\">K</span><span style=\"color:#ff0d0d\">E</span><span style=\"color:#ff0d0d\">E</span><span style=\"color:#2900f5\">K</span><span style=\"color:#ff0d0d\">E</span><span style=\"color:#ff0d0d\">E</span><span style=\"color:#2900f5\">K</span><span style=\"color:#2900f5\">K</span><span style=\"color:#ff0d0d\">E</span><span style=\"color:#2900f5\">K</span><span style=\"color:#2900f5\">K</span><span style=\"color:#ff0d0d\">E</span><span style=\"color:#2900f5\">K</span><span style=\"color:#ff0d0d\">E</span><span style=\"color:#ff0d0d\">E</span><span style=\"color:#ff0d0d\">E</span><span style=\"color:#2900f5\">K</span><span style=\"color:#2900f5\">K</span><span style=\"color:#2900f5\">K</span><span style=\"color:#ff0d0d\">E</span><span style=\"color:#2900f5\">K</span><span style=\"color:#ff0d0d\">E</span><span style=\"color:#ff0d0d\">E</span><span style=\"color:#2900f5\">K</span><span style=\"color:#2900f5\">K</span><span style=\"color:#ff0d0d\">E</span><span style=\"color:#ff0d0d\">E</span><span style=\"color:#ff0d0d\">E</span><span style=\"color:#2900f5\">K</span><span style=\"color:#2900f5\">K</span><span style=\"color:#2900f5\">K</span><span style=\"color:#ff0d0d\">E</span><span style=\"color:#2900f5\">K</span><span style=\"color:#ff0d0d\">E</span><span style=\"color:#ff0d0d\">E</span><span style=\"color:#ff0d0d\">E</span><span style=\"color:#ff0d0d\">E</span><span style=\"color:#2900f5\">K</span><span style=\"color:#2900f5\">K</span><span style=\"color:#2900f5\">K</span><span style=\"color:#2900f5\">K</span><span style=\"color:#ff0d0d\">E</span><span style=\"color:#2900f5\">K</span></p>"
      ],
      "text/plain": [
       "<IPython.core.display.HTML object>"
      ]
     },
     "metadata": {},
     "output_type": "display_data"
    },
    {
     "data": {
      "text/html": [
       "<p style=\"font-family:Courier;font-size: 14px\"><span style=\"color:#ff0d0d\">E</span><span style=\"color:#ff0d0d\">E</span><span style=\"color:#ff0d0d\">E</span><span style=\"color:#ff0d0d\">E</span><span style=\"color:#2900f5\">K</span><span style=\"color:#2900f5\">K</span><span style=\"color:#2900f5\">K</span><span style=\"color:#2900f5\">K</span><span style=\"color:#ff0d0d\">E</span><span style=\"color:#ff0d0d\">E</span><span style=\"color:#ff0d0d\">E</span><span style=\"color:#ff0d0d\">E</span><span style=\"color:#2900f5\">K</span><span style=\"color:#2900f5\">K</span><span style=\"color:#2900f5\">K</span><span style=\"color:#2900f5\">K</span><span style=\"color:#ff0d0d\">E</span><span style=\"color:#ff0d0d\">E</span><span style=\"color:#ff0d0d\">E</span><span style=\"color:#ff0d0d\">E</span><span style=\"color:#2900f5\">K</span><span style=\"color:#2900f5\">K</span><span style=\"color:#2900f5\">K</span><span style=\"color:#2900f5\">K</span><span style=\"color:#ff0d0d\">E</span><span style=\"color:#ff0d0d\">E</span><span style=\"color:#ff0d0d\">E</span><span style=\"color:#ff0d0d\">E</span><span style=\"color:#2900f5\">K</span><span style=\"color:#2900f5\">K</span><span style=\"color:#2900f5\">K</span><span style=\"color:#2900f5\">K</span><span style=\"color:#ff0d0d\">E</span><span style=\"color:#ff0d0d\">E</span><span style=\"color:#ff0d0d\">E</span><span style=\"color:#ff0d0d\">E</span><span style=\"color:#2900f5\">K</span><span style=\"color:#2900f5\">K</span><span style=\"color:#2900f5\">K</span><span style=\"color:#2900f5\">K</span><span style=\"color:#ff0d0d\">E</span><span style=\"color:#ff0d0d\">E</span><span style=\"color:#ff0d0d\">E</span><span style=\"color:#ff0d0d\">E</span><span style=\"color:#2900f5\">K</span><span style=\"color:#2900f5\">K</span><span style=\"color:#2900f5\">K</span><span style=\"color:#2900f5\">K</span><span style=\"color:#ff0d0d\">E</span><span style=\"color:#2900f5\">K</span></p>"
      ],
      "text/plain": [
       "<IPython.core.display.HTML object>"
      ]
     },
     "metadata": {},
     "output_type": "display_data"
    },
    {
     "data": {
      "text/html": [
       "<p style=\"font-family:Courier;font-size: 14px\"><span style=\"color:#2900f5\">K</span><span style=\"color:#2900f5\">K</span><span style=\"color:#2900f5\">K</span><span style=\"color:#2900f5\">K</span><span style=\"color:#ff0d0d\">E</span><span style=\"color:#ff0d0d\">E</span><span style=\"color:#ff0d0d\">E</span><span style=\"color:#ff0d0d\">E</span><span style=\"color:#2900f5\">K</span><span style=\"color:#2900f5\">K</span><span style=\"color:#2900f5\">K</span><span style=\"color:#2900f5\">K</span><span style=\"color:#ff0d0d\">E</span><span style=\"color:#ff0d0d\">E</span><span style=\"color:#ff0d0d\">E</span><span style=\"color:#ff0d0d\">E</span><span style=\"color:#2900f5\">K</span><span style=\"color:#2900f5\">K</span><span style=\"color:#2900f5\">K</span><span style=\"color:#2900f5\">K</span><span style=\"color:#ff0d0d\">E</span><span style=\"color:#ff0d0d\">E</span><span style=\"color:#ff0d0d\">E</span><span style=\"color:#ff0d0d\">E</span><span style=\"color:#2900f5\">K</span><span style=\"color:#2900f5\">K</span><span style=\"color:#2900f5\">K</span><span style=\"color:#2900f5\">K</span><span style=\"color:#ff0d0d\">E</span><span style=\"color:#ff0d0d\">E</span><span style=\"color:#ff0d0d\">E</span><span style=\"color:#ff0d0d\">E</span><span style=\"color:#2900f5\">K</span><span style=\"color:#2900f5\">K</span><span style=\"color:#2900f5\">K</span><span style=\"color:#2900f5\">K</span><span style=\"color:#ff0d0d\">E</span><span style=\"color:#ff0d0d\">E</span><span style=\"color:#ff0d0d\">E</span><span style=\"color:#ff0d0d\">E</span><span style=\"color:#2900f5\">K</span><span style=\"color:#2900f5\">K</span><span style=\"color:#2900f5\">K</span><span style=\"color:#2900f5\">K</span><span style=\"color:#ff0d0d\">E</span><span style=\"color:#ff0d0d\">E</span><span style=\"color:#ff0d0d\">E</span><span style=\"color:#ff0d0d\">E</span><span style=\"color:#2900f5\">K</span><span style=\"color:#ff0d0d\">E</span></p>"
      ],
      "text/plain": [
       "<IPython.core.display.HTML object>"
      ]
     },
     "metadata": {},
     "output_type": "display_data"
    },
    {
     "data": {
      "text/html": [
       "<p style=\"font-family:Courier;font-size: 14px\"><span style=\"color:#ff0d0d\">E</span><span style=\"color:#ff0d0d\">E</span><span style=\"color:#2900f5\">K</span><span style=\"color:#2900f5\">K</span><span style=\"color:#ff0d0d\">E</span><span style=\"color:#ff0d0d\">E</span><span style=\"color:#ff0d0d\">E</span><span style=\"color:#2900f5\">K</span><span style=\"color:#ff0d0d\">E</span><span style=\"color:#2900f5\">K</span><span style=\"color:#ff0d0d\">E</span><span style=\"color:#2900f5\">K</span><span style=\"color:#ff0d0d\">E</span><span style=\"color:#ff0d0d\">E</span><span style=\"color:#ff0d0d\">E</span><span style=\"color:#ff0d0d\">E</span><span style=\"color:#ff0d0d\">E</span><span style=\"color:#2900f5\">K</span><span style=\"color:#2900f5\">K</span><span style=\"color:#ff0d0d\">E</span><span style=\"color:#2900f5\">K</span><span style=\"color:#2900f5\">K</span><span style=\"color:#ff0d0d\">E</span><span style=\"color:#2900f5\">K</span><span style=\"color:#2900f5\">K</span><span style=\"color:#ff0d0d\">E</span><span style=\"color:#2900f5\">K</span><span style=\"color:#2900f5\">K</span><span style=\"color:#2900f5\">K</span><span style=\"color:#ff0d0d\">E</span><span style=\"color:#ff0d0d\">E</span><span style=\"color:#2900f5\">K</span><span style=\"color:#ff0d0d\">E</span><span style=\"color:#2900f5\">K</span><span style=\"color:#ff0d0d\">E</span><span style=\"color:#2900f5\">K</span><span style=\"color:#2900f5\">K</span><span style=\"color:#2900f5\">K</span><span style=\"color:#ff0d0d\">E</span><span style=\"color:#2900f5\">K</span><span style=\"color:#2900f5\">K</span><span style=\"color:#2900f5\">K</span><span style=\"color:#2900f5\">K</span><span style=\"color:#ff0d0d\">E</span><span style=\"color:#2900f5\">K</span><span style=\"color:#ff0d0d\">E</span><span style=\"color:#ff0d0d\">E</span><span style=\"color:#ff0d0d\">E</span><span style=\"color:#2900f5\">K</span><span style=\"color:#ff0d0d\">E</span></p>"
      ],
      "text/plain": [
       "<IPython.core.display.HTML object>"
      ]
     },
     "metadata": {},
     "output_type": "display_data"
    },
    {
     "data": {
      "text/html": [
       "<p style=\"font-family:Courier;font-size: 14px\"><span style=\"color:#ff0d0d\">E</span><span style=\"color:#2900f5\">K</span><span style=\"color:#2900f5\">K</span><span style=\"color:#2900f5\">K</span><span style=\"color:#2900f5\">K</span><span style=\"color:#2900f5\">K</span><span style=\"color:#2900f5\">K</span><span style=\"color:#ff0d0d\">E</span><span style=\"color:#ff0d0d\">E</span><span style=\"color:#2900f5\">K</span><span style=\"color:#2900f5\">K</span><span style=\"color:#2900f5\">K</span><span style=\"color:#ff0d0d\">E</span><span style=\"color:#ff0d0d\">E</span><span style=\"color:#ff0d0d\">E</span><span style=\"color:#ff0d0d\">E</span><span style=\"color:#ff0d0d\">E</span><span style=\"color:#2900f5\">K</span><span style=\"color:#2900f5\">K</span><span style=\"color:#2900f5\">K</span><span style=\"color:#ff0d0d\">E</span><span style=\"color:#ff0d0d\">E</span><span style=\"color:#ff0d0d\">E</span><span style=\"color:#2900f5\">K</span><span style=\"color:#2900f5\">K</span><span style=\"color:#2900f5\">K</span><span style=\"color:#ff0d0d\">E</span><span style=\"color:#2900f5\">K</span><span style=\"color:#2900f5\">K</span><span style=\"color:#ff0d0d\">E</span><span style=\"color:#ff0d0d\">E</span><span style=\"color:#2900f5\">K</span><span style=\"color:#ff0d0d\">E</span><span style=\"color:#2900f5\">K</span><span style=\"color:#ff0d0d\">E</span><span style=\"color:#ff0d0d\">E</span><span style=\"color:#2900f5\">K</span><span style=\"color:#ff0d0d\">E</span><span style=\"color:#2900f5\">K</span><span style=\"color:#2900f5\">K</span><span style=\"color:#ff0d0d\">E</span><span style=\"color:#2900f5\">K</span><span style=\"color:#2900f5\">K</span><span style=\"color:#ff0d0d\">E</span><span style=\"color:#ff0d0d\">E</span><span style=\"color:#2900f5\">K</span><span style=\"color:#ff0d0d\">E</span><span style=\"color:#ff0d0d\">E</span><span style=\"color:#ff0d0d\">E</span><span style=\"color:#ff0d0d\">E</span></p>"
      ],
      "text/plain": [
       "<IPython.core.display.HTML object>"
      ]
     },
     "metadata": {},
     "output_type": "display_data"
    },
    {
     "data": {
      "text/html": [
       "<p style=\"font-family:Courier;font-size: 14px\"><span style=\"color:#ff0d0d\">E</span><span style=\"color:#2900f5\">K</span><span style=\"color:#ff0d0d\">E</span><span style=\"color:#2900f5\">K</span><span style=\"color:#2900f5\">K</span><span style=\"color:#2900f5\">K</span><span style=\"color:#2900f5\">K</span><span style=\"color:#2900f5\">K</span><span style=\"color:#ff0d0d\">E</span><span style=\"color:#ff0d0d\">E</span><span style=\"color:#ff0d0d\">E</span><span style=\"color:#2900f5\">K</span><span style=\"color:#2900f5\">K</span><span style=\"color:#ff0d0d\">E</span><span style=\"color:#2900f5\">K</span><span style=\"color:#ff0d0d\">E</span><span style=\"color:#ff0d0d\">E</span><span style=\"color:#ff0d0d\">E</span><span style=\"color:#ff0d0d\">E</span><span style=\"color:#2900f5\">K</span><span style=\"color:#ff0d0d\">E</span><span style=\"color:#ff0d0d\">E</span><span style=\"color:#ff0d0d\">E</span><span style=\"color:#ff0d0d\">E</span><span style=\"color:#2900f5\">K</span><span style=\"color:#2900f5\">K</span><span style=\"color:#2900f5\">K</span><span style=\"color:#2900f5\">K</span><span style=\"color:#2900f5\">K</span><span style=\"color:#ff0d0d\">E</span><span style=\"color:#2900f5\">K</span><span style=\"color:#ff0d0d\">E</span><span style=\"color:#ff0d0d\">E</span><span style=\"color:#ff0d0d\">E</span><span style=\"color:#2900f5\">K</span><span style=\"color:#ff0d0d\">E</span><span style=\"color:#ff0d0d\">E</span><span style=\"color:#2900f5\">K</span><span style=\"color:#2900f5\">K</span><span style=\"color:#ff0d0d\">E</span><span style=\"color:#ff0d0d\">E</span><span style=\"color:#2900f5\">K</span><span style=\"color:#ff0d0d\">E</span><span style=\"color:#2900f5\">K</span><span style=\"color:#2900f5\">K</span><span style=\"color:#2900f5\">K</span><span style=\"color:#ff0d0d\">E</span><span style=\"color:#ff0d0d\">E</span><span style=\"color:#2900f5\">K</span><span style=\"color:#2900f5\">K</span></p>"
      ],
      "text/plain": [
       "<IPython.core.display.HTML object>"
      ]
     },
     "metadata": {},
     "output_type": "display_data"
    },
    {
     "data": {
      "text/html": [
       "<p style=\"font-family:Courier;font-size: 14px\"><span style=\"color:#ff0d0d\">E</span><span style=\"color:#2900f5\">K</span><span style=\"color:#2900f5\">K</span><span style=\"color:#ff0d0d\">E</span><span style=\"color:#ff0d0d\">E</span><span style=\"color:#ff0d0d\">E</span><span style=\"color:#ff0d0d\">E</span><span style=\"color:#ff0d0d\">E</span><span style=\"color:#ff0d0d\">E</span><span style=\"color:#2900f5\">K</span><span style=\"color:#ff0d0d\">E</span><span style=\"color:#2900f5\">K</span><span style=\"color:#2900f5\">K</span><span style=\"color:#ff0d0d\">E</span><span style=\"color:#ff0d0d\">E</span><span style=\"color:#ff0d0d\">E</span><span style=\"color:#ff0d0d\">E</span><span style=\"color:#2900f5\">K</span><span style=\"color:#ff0d0d\">E</span><span style=\"color:#2900f5\">K</span><span style=\"color:#ff0d0d\">E</span><span style=\"color:#2900f5\">K</span><span style=\"color:#2900f5\">K</span><span style=\"color:#ff0d0d\">E</span><span style=\"color:#2900f5\">K</span><span style=\"color:#ff0d0d\">E</span><span style=\"color:#ff0d0d\">E</span><span style=\"color:#2900f5\">K</span><span style=\"color:#ff0d0d\">E</span><span style=\"color:#2900f5\">K</span><span style=\"color:#2900f5\">K</span><span style=\"color:#ff0d0d\">E</span><span style=\"color:#2900f5\">K</span><span style=\"color:#2900f5\">K</span><span style=\"color:#2900f5\">K</span><span style=\"color:#ff0d0d\">E</span><span style=\"color:#2900f5\">K</span><span style=\"color:#2900f5\">K</span><span style=\"color:#ff0d0d\">E</span><span style=\"color:#ff0d0d\">E</span><span style=\"color:#ff0d0d\">E</span><span style=\"color:#2900f5\">K</span><span style=\"color:#ff0d0d\">E</span><span style=\"color:#2900f5\">K</span><span style=\"color:#2900f5\">K</span><span style=\"color:#2900f5\">K</span><span style=\"color:#2900f5\">K</span><span style=\"color:#ff0d0d\">E</span><span style=\"color:#2900f5\">K</span><span style=\"color:#2900f5\">K</span></p>"
      ],
      "text/plain": [
       "<IPython.core.display.HTML object>"
      ]
     },
     "metadata": {},
     "output_type": "display_data"
    },
    {
     "data": {
      "text/html": [
       "<p style=\"font-family:Courier;font-size: 14px\"><span style=\"color:#2900f5\">K</span><span style=\"color:#ff0d0d\">E</span><span style=\"color:#2900f5\">K</span><span style=\"color:#2900f5\">K</span><span style=\"color:#2900f5\">K</span><span style=\"color:#ff0d0d\">E</span><span style=\"color:#2900f5\">K</span><span style=\"color:#ff0d0d\">E</span><span style=\"color:#2900f5\">K</span><span style=\"color:#2900f5\">K</span><span style=\"color:#ff0d0d\">E</span><span style=\"color:#2900f5\">K</span><span style=\"color:#2900f5\">K</span><span style=\"color:#2900f5\">K</span><span style=\"color:#ff0d0d\">E</span><span style=\"color:#ff0d0d\">E</span><span style=\"color:#ff0d0d\">E</span><span style=\"color:#2900f5\">K</span><span style=\"color:#2900f5\">K</span><span style=\"color:#2900f5\">K</span><span style=\"color:#ff0d0d\">E</span><span style=\"color:#ff0d0d\">E</span><span style=\"color:#ff0d0d\">E</span><span style=\"color:#2900f5\">K</span><span style=\"color:#ff0d0d\">E</span><span style=\"color:#2900f5\">K</span><span style=\"color:#2900f5\">K</span><span style=\"color:#2900f5\">K</span><span style=\"color:#ff0d0d\">E</span><span style=\"color:#ff0d0d\">E</span><span style=\"color:#2900f5\">K</span><span style=\"color:#2900f5\">K</span><span style=\"color:#ff0d0d\">E</span><span style=\"color:#2900f5\">K</span><span style=\"color:#2900f5\">K</span><span style=\"color:#ff0d0d\">E</span><span style=\"color:#2900f5\">K</span><span style=\"color:#2900f5\">K</span><span style=\"color:#ff0d0d\">E</span><span style=\"color:#ff0d0d\">E</span><span style=\"color:#ff0d0d\">E</span><span style=\"color:#ff0d0d\">E</span><span style=\"color:#ff0d0d\">E</span><span style=\"color:#ff0d0d\">E</span><span style=\"color:#ff0d0d\">E</span><span style=\"color:#2900f5\">K</span><span style=\"color:#ff0d0d\">E</span><span style=\"color:#ff0d0d\">E</span><span style=\"color:#2900f5\">K</span><span style=\"color:#ff0d0d\">E</span></p>"
      ],
      "text/plain": [
       "<IPython.core.display.HTML object>"
      ]
     },
     "metadata": {},
     "output_type": "display_data"
    },
    {
     "data": {
      "text/html": [
       "<p style=\"font-family:Courier;font-size: 14px\"><span style=\"color:#ff0d0d\">E</span><span style=\"color:#2900f5\">K</span><span style=\"color:#2900f5\">K</span><span style=\"color:#ff0d0d\">E</span><span style=\"color:#2900f5\">K</span><span style=\"color:#ff0d0d\">E</span><span style=\"color:#ff0d0d\">E</span><span style=\"color:#2900f5\">K</span><span style=\"color:#ff0d0d\">E</span><span style=\"color:#ff0d0d\">E</span><span style=\"color:#ff0d0d\">E</span><span style=\"color:#ff0d0d\">E</span><span style=\"color:#2900f5\">K</span><span style=\"color:#2900f5\">K</span><span style=\"color:#2900f5\">K</span><span style=\"color:#2900f5\">K</span><span style=\"color:#2900f5\">K</span><span style=\"color:#ff0d0d\">E</span><span style=\"color:#ff0d0d\">E</span><span style=\"color:#2900f5\">K</span><span style=\"color:#ff0d0d\">E</span><span style=\"color:#2900f5\">K</span><span style=\"color:#2900f5\">K</span><span style=\"color:#ff0d0d\">E</span><span style=\"color:#2900f5\">K</span><span style=\"color:#2900f5\">K</span><span style=\"color:#2900f5\">K</span><span style=\"color:#2900f5\">K</span><span style=\"color:#ff0d0d\">E</span><span style=\"color:#2900f5\">K</span><span style=\"color:#2900f5\">K</span><span style=\"color:#2900f5\">K</span><span style=\"color:#2900f5\">K</span><span style=\"color:#2900f5\">K</span><span style=\"color:#ff0d0d\">E</span><span style=\"color:#ff0d0d\">E</span><span style=\"color:#ff0d0d\">E</span><span style=\"color:#ff0d0d\">E</span><span style=\"color:#ff0d0d\">E</span><span style=\"color:#ff0d0d\">E</span><span style=\"color:#2900f5\">K</span><span style=\"color:#ff0d0d\">E</span><span style=\"color:#ff0d0d\">E</span><span style=\"color:#2900f5\">K</span><span style=\"color:#ff0d0d\">E</span><span style=\"color:#2900f5\">K</span><span style=\"color:#ff0d0d\">E</span><span style=\"color:#2900f5\">K</span><span style=\"color:#ff0d0d\">E</span><span style=\"color:#ff0d0d\">E</span></p>"
      ],
      "text/plain": [
       "<IPython.core.display.HTML object>"
      ]
     },
     "metadata": {},
     "output_type": "display_data"
    },
    {
     "data": {
      "text/html": [
       "<p style=\"font-family:Courier;font-size: 14px\"><span style=\"color:#2900f5\">K</span><span style=\"color:#2900f5\">K</span><span style=\"color:#ff0d0d\">E</span><span style=\"color:#2900f5\">K</span><span style=\"color:#2900f5\">K</span><span style=\"color:#ff0d0d\">E</span><span style=\"color:#2900f5\">K</span><span style=\"color:#2900f5\">K</span><span style=\"color:#2900f5\">K</span><span style=\"color:#ff0d0d\">E</span><span style=\"color:#2900f5\">K</span><span style=\"color:#2900f5\">K</span><span style=\"color:#ff0d0d\">E</span><span style=\"color:#2900f5\">K</span><span style=\"color:#2900f5\">K</span><span style=\"color:#ff0d0d\">E</span><span style=\"color:#ff0d0d\">E</span><span style=\"color:#ff0d0d\">E</span><span style=\"color:#2900f5\">K</span><span style=\"color:#ff0d0d\">E</span><span style=\"color:#2900f5\">K</span><span style=\"color:#ff0d0d\">E</span><span style=\"color:#2900f5\">K</span><span style=\"color:#2900f5\">K</span><span style=\"color:#ff0d0d\">E</span><span style=\"color:#2900f5\">K</span><span style=\"color:#2900f5\">K</span><span style=\"color:#2900f5\">K</span><span style=\"color:#2900f5\">K</span><span style=\"color:#ff0d0d\">E</span><span style=\"color:#2900f5\">K</span><span style=\"color:#ff0d0d\">E</span><span style=\"color:#2900f5\">K</span><span style=\"color:#2900f5\">K</span><span style=\"color:#ff0d0d\">E</span><span style=\"color:#ff0d0d\">E</span><span style=\"color:#ff0d0d\">E</span><span style=\"color:#ff0d0d\">E</span><span style=\"color:#ff0d0d\">E</span><span style=\"color:#ff0d0d\">E</span><span style=\"color:#ff0d0d\">E</span><span style=\"color:#ff0d0d\">E</span><span style=\"color:#2900f5\">K</span><span style=\"color:#ff0d0d\">E</span><span style=\"color:#ff0d0d\">E</span><span style=\"color:#2900f5\">K</span><span style=\"color:#2900f5\">K</span><span style=\"color:#ff0d0d\">E</span><span style=\"color:#ff0d0d\">E</span><span style=\"color:#ff0d0d\">E</span></p>"
      ],
      "text/plain": [
       "<IPython.core.display.HTML object>"
      ]
     },
     "metadata": {},
     "output_type": "display_data"
    },
    {
     "data": {
      "text/html": [
       "<p style=\"font-family:Courier;font-size: 14px\"><span style=\"color:#ff0d0d\">E</span><span style=\"color:#2900f5\">K</span><span style=\"color:#ff0d0d\">E</span><span style=\"color:#2900f5\">K</span><span style=\"color:#ff0d0d\">E</span><span style=\"color:#ff0d0d\">E</span><span style=\"color:#2900f5\">K</span><span style=\"color:#2900f5\">K</span><span style=\"color:#2900f5\">K</span><span style=\"color:#ff0d0d\">E</span><span style=\"color:#ff0d0d\">E</span><span style=\"color:#2900f5\">K</span><span style=\"color:#2900f5\">K</span><span style=\"color:#2900f5\">K</span><span style=\"color:#2900f5\">K</span><span style=\"color:#ff0d0d\">E</span><span style=\"color:#2900f5\">K</span><span style=\"color:#2900f5\">K</span><span style=\"color:#ff0d0d\">E</span><span style=\"color:#2900f5\">K</span><span style=\"color:#ff0d0d\">E</span><span style=\"color:#ff0d0d\">E</span><span style=\"color:#2900f5\">K</span><span style=\"color:#2900f5\">K</span><span style=\"color:#ff0d0d\">E</span><span style=\"color:#2900f5\">K</span><span style=\"color:#ff0d0d\">E</span><span style=\"color:#2900f5\">K</span><span style=\"color:#ff0d0d\">E</span><span style=\"color:#2900f5\">K</span><span style=\"color:#2900f5\">K</span><span style=\"color:#ff0d0d\">E</span><span style=\"color:#ff0d0d\">E</span><span style=\"color:#ff0d0d\">E</span><span style=\"color:#ff0d0d\">E</span><span style=\"color:#ff0d0d\">E</span><span style=\"color:#ff0d0d\">E</span><span style=\"color:#ff0d0d\">E</span><span style=\"color:#ff0d0d\">E</span><span style=\"color:#ff0d0d\">E</span><span style=\"color:#2900f5\">K</span><span style=\"color:#ff0d0d\">E</span><span style=\"color:#2900f5\">K</span><span style=\"color:#2900f5\">K</span><span style=\"color:#ff0d0d\">E</span><span style=\"color:#2900f5\">K</span><span style=\"color:#2900f5\">K</span><span style=\"color:#2900f5\">K</span><span style=\"color:#2900f5\">K</span><span style=\"color:#ff0d0d\">E</span></p>"
      ],
      "text/plain": [
       "<IPython.core.display.HTML object>"
      ]
     },
     "metadata": {},
     "output_type": "display_data"
    },
    {
     "data": {
      "text/html": [
       "<p style=\"font-family:Courier;font-size: 14px\"><span style=\"color:#ff0d0d\">E</span><span style=\"color:#2900f5\">K</span><span style=\"color:#ff0d0d\">E</span><span style=\"color:#2900f5\">K</span><span style=\"color:#2900f5\">K</span><span style=\"color:#2900f5\">K</span><span style=\"color:#2900f5\">K</span><span style=\"color:#2900f5\">K</span><span style=\"color:#2900f5\">K</span><span style=\"color:#ff0d0d\">E</span><span style=\"color:#2900f5\">K</span><span style=\"color:#ff0d0d\">E</span><span style=\"color:#2900f5\">K</span><span style=\"color:#2900f5\">K</span><span style=\"color:#2900f5\">K</span><span style=\"color:#2900f5\">K</span><span style=\"color:#ff0d0d\">E</span><span style=\"color:#2900f5\">K</span><span style=\"color:#ff0d0d\">E</span><span style=\"color:#2900f5\">K</span><span style=\"color:#2900f5\">K</span><span style=\"color:#ff0d0d\">E</span><span style=\"color:#2900f5\">K</span><span style=\"color:#2900f5\">K</span><span style=\"color:#ff0d0d\">E</span><span style=\"color:#2900f5\">K</span><span style=\"color:#ff0d0d\">E</span><span style=\"color:#ff0d0d\">E</span><span style=\"color:#ff0d0d\">E</span><span style=\"color:#2900f5\">K</span><span style=\"color:#ff0d0d\">E</span><span style=\"color:#ff0d0d\">E</span><span style=\"color:#2900f5\">K</span><span style=\"color:#ff0d0d\">E</span><span style=\"color:#2900f5\">K</span><span style=\"color:#ff0d0d\">E</span><span style=\"color:#2900f5\">K</span><span style=\"color:#2900f5\">K</span><span style=\"color:#ff0d0d\">E</span><span style=\"color:#ff0d0d\">E</span><span style=\"color:#2900f5\">K</span><span style=\"color:#2900f5\">K</span><span style=\"color:#ff0d0d\">E</span><span style=\"color:#ff0d0d\">E</span><span style=\"color:#ff0d0d\">E</span><span style=\"color:#ff0d0d\">E</span><span style=\"color:#ff0d0d\">E</span><span style=\"color:#ff0d0d\">E</span><span style=\"color:#ff0d0d\">E</span><span style=\"color:#ff0d0d\">E</span></p>"
      ],
      "text/plain": [
       "<IPython.core.display.HTML object>"
      ]
     },
     "metadata": {},
     "output_type": "display_data"
    },
    {
     "data": {
      "text/html": [
       "<p style=\"font-family:Courier;font-size: 14px\"><span style=\"color:#2900f5\">K</span><span style=\"color:#ff0d0d\">E</span><span style=\"color:#ff0d0d\">E</span><span style=\"color:#2900f5\">K</span><span style=\"color:#2900f5\">K</span><span style=\"color:#ff0d0d\">E</span><span style=\"color:#ff0d0d\">E</span><span style=\"color:#ff0d0d\">E</span><span style=\"color:#ff0d0d\">E</span><span style=\"color:#ff0d0d\">E</span><span style=\"color:#ff0d0d\">E</span><span style=\"color:#ff0d0d\">E</span><span style=\"color:#2900f5\">K</span><span style=\"color:#ff0d0d\">E</span><span style=\"color:#ff0d0d\">E</span><span style=\"color:#2900f5\">K</span><span style=\"color:#2900f5\">K</span><span style=\"color:#2900f5\">K</span><span style=\"color:#2900f5\">K</span><span style=\"color:#2900f5\">K</span><span style=\"color:#ff0d0d\">E</span><span style=\"color:#2900f5\">K</span><span style=\"color:#2900f5\">K</span><span style=\"color:#2900f5\">K</span><span style=\"color:#ff0d0d\">E</span><span style=\"color:#2900f5\">K</span><span style=\"color:#2900f5\">K</span><span style=\"color:#ff0d0d\">E</span><span style=\"color:#ff0d0d\">E</span><span style=\"color:#ff0d0d\">E</span><span style=\"color:#2900f5\">K</span><span style=\"color:#2900f5\">K</span><span style=\"color:#2900f5\">K</span><span style=\"color:#ff0d0d\">E</span><span style=\"color:#ff0d0d\">E</span><span style=\"color:#2900f5\">K</span><span style=\"color:#2900f5\">K</span><span style=\"color:#2900f5\">K</span><span style=\"color:#ff0d0d\">E</span><span style=\"color:#ff0d0d\">E</span><span style=\"color:#ff0d0d\">E</span><span style=\"color:#ff0d0d\">E</span><span style=\"color:#ff0d0d\">E</span><span style=\"color:#ff0d0d\">E</span><span style=\"color:#2900f5\">K</span><span style=\"color:#2900f5\">K</span><span style=\"color:#2900f5\">K</span><span style=\"color:#2900f5\">K</span><span style=\"color:#ff0d0d\">E</span><span style=\"color:#2900f5\">K</span></p>"
      ],
      "text/plain": [
       "<IPython.core.display.HTML object>"
      ]
     },
     "metadata": {},
     "output_type": "display_data"
    },
    {
     "data": {
      "text/html": [
       "<p style=\"font-family:Courier;font-size: 14px\"><span style=\"color:#ff0d0d\">E</span><span style=\"color:#ff0d0d\">E</span><span style=\"color:#ff0d0d\">E</span><span style=\"color:#ff0d0d\">E</span><span style=\"color:#ff0d0d\">E</span><span style=\"color:#2900f5\">K</span><span style=\"color:#2900f5\">K</span><span style=\"color:#2900f5\">K</span><span style=\"color:#2900f5\">K</span><span style=\"color:#2900f5\">K</span><span style=\"color:#ff0d0d\">E</span><span style=\"color:#ff0d0d\">E</span><span style=\"color:#ff0d0d\">E</span><span style=\"color:#ff0d0d\">E</span><span style=\"color:#ff0d0d\">E</span><span style=\"color:#2900f5\">K</span><span style=\"color:#2900f5\">K</span><span style=\"color:#2900f5\">K</span><span style=\"color:#2900f5\">K</span><span style=\"color:#2900f5\">K</span><span style=\"color:#ff0d0d\">E</span><span style=\"color:#ff0d0d\">E</span><span style=\"color:#ff0d0d\">E</span><span style=\"color:#ff0d0d\">E</span><span style=\"color:#ff0d0d\">E</span><span style=\"color:#2900f5\">K</span><span style=\"color:#2900f5\">K</span><span style=\"color:#2900f5\">K</span><span style=\"color:#2900f5\">K</span><span style=\"color:#2900f5\">K</span><span style=\"color:#ff0d0d\">E</span><span style=\"color:#ff0d0d\">E</span><span style=\"color:#ff0d0d\">E</span><span style=\"color:#ff0d0d\">E</span><span style=\"color:#ff0d0d\">E</span><span style=\"color:#2900f5\">K</span><span style=\"color:#2900f5\">K</span><span style=\"color:#2900f5\">K</span><span style=\"color:#2900f5\">K</span><span style=\"color:#2900f5\">K</span><span style=\"color:#ff0d0d\">E</span><span style=\"color:#ff0d0d\">E</span><span style=\"color:#ff0d0d\">E</span><span style=\"color:#ff0d0d\">E</span><span style=\"color:#ff0d0d\">E</span><span style=\"color:#2900f5\">K</span><span style=\"color:#2900f5\">K</span><span style=\"color:#2900f5\">K</span><span style=\"color:#2900f5\">K</span><span style=\"color:#2900f5\">K</span></p>"
      ],
      "text/plain": [
       "<IPython.core.display.HTML object>"
      ]
     },
     "metadata": {},
     "output_type": "display_data"
    },
    {
     "data": {
      "text/html": [
       "<p style=\"font-family:Courier;font-size: 14px\"><span style=\"color:#ff0d0d\">E</span><span style=\"color:#ff0d0d\">E</span><span style=\"color:#2900f5\">K</span><span style=\"color:#ff0d0d\">E</span><span style=\"color:#ff0d0d\">E</span><span style=\"color:#ff0d0d\">E</span><span style=\"color:#ff0d0d\">E</span><span style=\"color:#ff0d0d\">E</span><span style=\"color:#ff0d0d\">E</span><span style=\"color:#2900f5\">K</span><span style=\"color:#ff0d0d\">E</span><span style=\"color:#ff0d0d\">E</span><span style=\"color:#ff0d0d\">E</span><span style=\"color:#2900f5\">K</span><span style=\"color:#ff0d0d\">E</span><span style=\"color:#ff0d0d\">E</span><span style=\"color:#2900f5\">K</span><span style=\"color:#2900f5\">K</span><span style=\"color:#ff0d0d\">E</span><span style=\"color:#ff0d0d\">E</span><span style=\"color:#ff0d0d\">E</span><span style=\"color:#2900f5\">K</span><span style=\"color:#ff0d0d\">E</span><span style=\"color:#2900f5\">K</span><span style=\"color:#2900f5\">K</span><span style=\"color:#ff0d0d\">E</span><span style=\"color:#2900f5\">K</span><span style=\"color:#2900f5\">K</span><span style=\"color:#ff0d0d\">E</span><span style=\"color:#2900f5\">K</span><span style=\"color:#ff0d0d\">E</span><span style=\"color:#ff0d0d\">E</span><span style=\"color:#2900f5\">K</span><span style=\"color:#2900f5\">K</span><span style=\"color:#ff0d0d\">E</span><span style=\"color:#2900f5\">K</span><span style=\"color:#2900f5\">K</span><span style=\"color:#2900f5\">K</span><span style=\"color:#2900f5\">K</span><span style=\"color:#2900f5\">K</span><span style=\"color:#2900f5\">K</span><span style=\"color:#2900f5\">K</span><span style=\"color:#2900f5\">K</span><span style=\"color:#2900f5\">K</span><span style=\"color:#2900f5\">K</span><span style=\"color:#2900f5\">K</span><span style=\"color:#2900f5\">K</span><span style=\"color:#ff0d0d\">E</span><span style=\"color:#ff0d0d\">E</span><span style=\"color:#ff0d0d\">E</span></p>"
      ],
      "text/plain": [
       "<IPython.core.display.HTML object>"
      ]
     },
     "metadata": {},
     "output_type": "display_data"
    },
    {
     "data": {
      "text/html": [
       "<p style=\"font-family:Courier;font-size: 14px\"><span style=\"color:#ff0d0d\">E</span><span style=\"color:#ff0d0d\">E</span><span style=\"color:#ff0d0d\">E</span><span style=\"color:#ff0d0d\">E</span><span style=\"color:#ff0d0d\">E</span><span style=\"color:#ff0d0d\">E</span><span style=\"color:#ff0d0d\">E</span><span style=\"color:#ff0d0d\">E</span><span style=\"color:#ff0d0d\">E</span><span style=\"color:#2900f5\">K</span><span style=\"color:#ff0d0d\">E</span><span style=\"color:#2900f5\">K</span><span style=\"color:#2900f5\">K</span><span style=\"color:#2900f5\">K</span><span style=\"color:#2900f5\">K</span><span style=\"color:#2900f5\">K</span><span style=\"color:#ff0d0d\">E</span><span style=\"color:#2900f5\">K</span><span style=\"color:#ff0d0d\">E</span><span style=\"color:#ff0d0d\">E</span><span style=\"color:#2900f5\">K</span><span style=\"color:#2900f5\">K</span><span style=\"color:#2900f5\">K</span><span style=\"color:#2900f5\">K</span><span style=\"color:#2900f5\">K</span><span style=\"color:#2900f5\">K</span><span style=\"color:#ff0d0d\">E</span><span style=\"color:#2900f5\">K</span><span style=\"color:#2900f5\">K</span><span style=\"color:#ff0d0d\">E</span><span style=\"color:#2900f5\">K</span><span style=\"color:#2900f5\">K</span><span style=\"color:#2900f5\">K</span><span style=\"color:#2900f5\">K</span><span style=\"color:#ff0d0d\">E</span><span style=\"color:#2900f5\">K</span><span style=\"color:#2900f5\">K</span><span style=\"color:#ff0d0d\">E</span><span style=\"color:#ff0d0d\">E</span><span style=\"color:#ff0d0d\">E</span><span style=\"color:#ff0d0d\">E</span><span style=\"color:#ff0d0d\">E</span><span style=\"color:#ff0d0d\">E</span><span style=\"color:#2900f5\">K</span><span style=\"color:#ff0d0d\">E</span><span style=\"color:#ff0d0d\">E</span><span style=\"color:#ff0d0d\">E</span><span style=\"color:#2900f5\">K</span><span style=\"color:#2900f5\">K</span><span style=\"color:#2900f5\">K</span></p>"
      ],
      "text/plain": [
       "<IPython.core.display.HTML object>"
      ]
     },
     "metadata": {},
     "output_type": "display_data"
    },
    {
     "data": {
      "text/html": [
       "<p style=\"font-family:Courier;font-size: 14px\"><span style=\"color:#2900f5\">K</span><span style=\"color:#ff0d0d\">E</span><span style=\"color:#ff0d0d\">E</span><span style=\"color:#ff0d0d\">E</span><span style=\"color:#ff0d0d\">E</span><span style=\"color:#2900f5\">K</span><span style=\"color:#ff0d0d\">E</span><span style=\"color:#ff0d0d\">E</span><span style=\"color:#2900f5\">K</span><span style=\"color:#ff0d0d\">E</span><span style=\"color:#ff0d0d\">E</span><span style=\"color:#2900f5\">K</span><span style=\"color:#2900f5\">K</span><span style=\"color:#2900f5\">K</span><span style=\"color:#2900f5\">K</span><span style=\"color:#ff0d0d\">E</span><span style=\"color:#2900f5\">K</span><span style=\"color:#ff0d0d\">E</span><span style=\"color:#ff0d0d\">E</span><span style=\"color:#2900f5\">K</span><span style=\"color:#ff0d0d\">E</span><span style=\"color:#2900f5\">K</span><span style=\"color:#2900f5\">K</span><span style=\"color:#2900f5\">K</span><span style=\"color:#2900f5\">K</span><span style=\"color:#2900f5\">K</span><span style=\"color:#2900f5\">K</span><span style=\"color:#2900f5\">K</span><span style=\"color:#2900f5\">K</span><span style=\"color:#2900f5\">K</span><span style=\"color:#2900f5\">K</span><span style=\"color:#2900f5\">K</span><span style=\"color:#2900f5\">K</span><span style=\"color:#ff0d0d\">E</span><span style=\"color:#2900f5\">K</span><span style=\"color:#2900f5\">K</span><span style=\"color:#ff0d0d\">E</span><span style=\"color:#ff0d0d\">E</span><span style=\"color:#ff0d0d\">E</span><span style=\"color:#ff0d0d\">E</span><span style=\"color:#ff0d0d\">E</span><span style=\"color:#ff0d0d\">E</span><span style=\"color:#ff0d0d\">E</span><span style=\"color:#ff0d0d\">E</span><span style=\"color:#2900f5\">K</span><span style=\"color:#ff0d0d\">E</span><span style=\"color:#2900f5\">K</span><span style=\"color:#ff0d0d\">E</span><span style=\"color:#ff0d0d\">E</span><span style=\"color:#ff0d0d\">E</span></p>"
      ],
      "text/plain": [
       "<IPython.core.display.HTML object>"
      ]
     },
     "metadata": {},
     "output_type": "display_data"
    },
    {
     "data": {
      "text/html": [
       "<p style=\"font-family:Courier;font-size: 14px\"><span style=\"color:#ff0d0d\">E</span><span style=\"color:#ff0d0d\">E</span><span style=\"color:#ff0d0d\">E</span><span style=\"color:#ff0d0d\">E</span><span style=\"color:#ff0d0d\">E</span><span style=\"color:#2900f5\">K</span><span style=\"color:#ff0d0d\">E</span><span style=\"color:#ff0d0d\">E</span><span style=\"color:#ff0d0d\">E</span><span style=\"color:#ff0d0d\">E</span><span style=\"color:#ff0d0d\">E</span><span style=\"color:#ff0d0d\">E</span><span style=\"color:#ff0d0d\">E</span><span style=\"color:#ff0d0d\">E</span><span style=\"color:#ff0d0d\">E</span><span style=\"color:#ff0d0d\">E</span><span style=\"color:#ff0d0d\">E</span><span style=\"color:#2900f5\">K</span><span style=\"color:#ff0d0d\">E</span><span style=\"color:#ff0d0d\">E</span><span style=\"color:#2900f5\">K</span><span style=\"color:#ff0d0d\">E</span><span style=\"color:#2900f5\">K</span><span style=\"color:#2900f5\">K</span><span style=\"color:#2900f5\">K</span><span style=\"color:#2900f5\">K</span><span style=\"color:#2900f5\">K</span><span style=\"color:#2900f5\">K</span><span style=\"color:#ff0d0d\">E</span><span style=\"color:#2900f5\">K</span><span style=\"color:#2900f5\">K</span><span style=\"color:#2900f5\">K</span><span style=\"color:#2900f5\">K</span><span style=\"color:#2900f5\">K</span><span style=\"color:#2900f5\">K</span><span style=\"color:#2900f5\">K</span><span style=\"color:#ff0d0d\">E</span><span style=\"color:#2900f5\">K</span><span style=\"color:#ff0d0d\">E</span><span style=\"color:#2900f5\">K</span><span style=\"color:#2900f5\">K</span><span style=\"color:#2900f5\">K</span><span style=\"color:#2900f5\">K</span><span style=\"color:#ff0d0d\">E</span><span style=\"color:#2900f5\">K</span><span style=\"color:#2900f5\">K</span><span style=\"color:#ff0d0d\">E</span><span style=\"color:#ff0d0d\">E</span><span style=\"color:#2900f5\">K</span><span style=\"color:#2900f5\">K</span></p>"
      ],
      "text/plain": [
       "<IPython.core.display.HTML object>"
      ]
     },
     "metadata": {},
     "output_type": "display_data"
    },
    {
     "data": {
      "text/html": [
       "<p style=\"font-family:Courier;font-size: 14px\"><span style=\"color:#ff0d0d\">E</span><span style=\"color:#ff0d0d\">E</span><span style=\"color:#ff0d0d\">E</span><span style=\"color:#ff0d0d\">E</span><span style=\"color:#2900f5\">K</span><span style=\"color:#ff0d0d\">E</span><span style=\"color:#ff0d0d\">E</span><span style=\"color:#ff0d0d\">E</span><span style=\"color:#ff0d0d\">E</span><span style=\"color:#ff0d0d\">E</span><span style=\"color:#2900f5\">K</span><span style=\"color:#ff0d0d\">E</span><span style=\"color:#ff0d0d\">E</span><span style=\"color:#ff0d0d\">E</span><span style=\"color:#ff0d0d\">E</span><span style=\"color:#ff0d0d\">E</span><span style=\"color:#ff0d0d\">E</span><span style=\"color:#ff0d0d\">E</span><span style=\"color:#ff0d0d\">E</span><span style=\"color:#ff0d0d\">E</span><span style=\"color:#ff0d0d\">E</span><span style=\"color:#ff0d0d\">E</span><span style=\"color:#ff0d0d\">E</span><span style=\"color:#2900f5\">K</span><span style=\"color:#2900f5\">K</span><span style=\"color:#2900f5\">K</span><span style=\"color:#ff0d0d\">E</span><span style=\"color:#ff0d0d\">E</span><span style=\"color:#2900f5\">K</span><span style=\"color:#2900f5\">K</span><span style=\"color:#2900f5\">K</span><span style=\"color:#2900f5\">K</span><span style=\"color:#2900f5\">K</span><span style=\"color:#ff0d0d\">E</span><span style=\"color:#2900f5\">K</span><span style=\"color:#2900f5\">K</span><span style=\"color:#2900f5\">K</span><span style=\"color:#2900f5\">K</span><span style=\"color:#2900f5\">K</span><span style=\"color:#2900f5\">K</span><span style=\"color:#2900f5\">K</span><span style=\"color:#ff0d0d\">E</span><span style=\"color:#2900f5\">K</span><span style=\"color:#2900f5\">K</span><span style=\"color:#2900f5\">K</span><span style=\"color:#2900f5\">K</span><span style=\"color:#2900f5\">K</span><span style=\"color:#2900f5\">K</span><span style=\"color:#2900f5\">K</span><span style=\"color:#2900f5\">K</span></p>"
      ],
      "text/plain": [
       "<IPython.core.display.HTML object>"
      ]
     },
     "metadata": {},
     "output_type": "display_data"
    },
    {
     "data": {
      "text/html": [
       "<p style=\"font-family:Courier;font-size: 14px\"><span style=\"color:#ff0d0d\">E</span><span style=\"color:#ff0d0d\">E</span><span style=\"color:#ff0d0d\">E</span><span style=\"color:#ff0d0d\">E</span><span style=\"color:#ff0d0d\">E</span><span style=\"color:#ff0d0d\">E</span><span style=\"color:#ff0d0d\">E</span><span style=\"color:#ff0d0d\">E</span><span style=\"color:#ff0d0d\">E</span><span style=\"color:#ff0d0d\">E</span><span style=\"color:#ff0d0d\">E</span><span style=\"color:#2900f5\">K</span><span style=\"color:#ff0d0d\">E</span><span style=\"color:#ff0d0d\">E</span><span style=\"color:#ff0d0d\">E</span><span style=\"color:#ff0d0d\">E</span><span style=\"color:#2900f5\">K</span><span style=\"color:#ff0d0d\">E</span><span style=\"color:#ff0d0d\">E</span><span style=\"color:#2900f5\">K</span><span style=\"color:#ff0d0d\">E</span><span style=\"color:#ff0d0d\">E</span><span style=\"color:#2900f5\">K</span><span style=\"color:#ff0d0d\">E</span><span style=\"color:#2900f5\">K</span><span style=\"color:#2900f5\">K</span><span style=\"color:#2900f5\">K</span><span style=\"color:#2900f5\">K</span><span style=\"color:#2900f5\">K</span><span style=\"color:#2900f5\">K</span><span style=\"color:#2900f5\">K</span><span style=\"color:#2900f5\">K</span><span style=\"color:#2900f5\">K</span><span style=\"color:#2900f5\">K</span><span style=\"color:#2900f5\">K</span><span style=\"color:#2900f5\">K</span><span style=\"color:#2900f5\">K</span><span style=\"color:#2900f5\">K</span><span style=\"color:#2900f5\">K</span><span style=\"color:#2900f5\">K</span><span style=\"color:#2900f5\">K</span><span style=\"color:#2900f5\">K</span><span style=\"color:#ff0d0d\">E</span><span style=\"color:#ff0d0d\">E</span><span style=\"color:#2900f5\">K</span><span style=\"color:#2900f5\">K</span><span style=\"color:#ff0d0d\">E</span><span style=\"color:#ff0d0d\">E</span><span style=\"color:#2900f5\">K</span><span style=\"color:#ff0d0d\">E</span></p>"
      ],
      "text/plain": [
       "<IPython.core.display.HTML object>"
      ]
     },
     "metadata": {},
     "output_type": "display_data"
    },
    {
     "data": {
      "text/html": [
       "<p style=\"font-family:Courier;font-size: 14px\"><span style=\"color:#2900f5\">K</span><span style=\"color:#ff0d0d\">E</span><span style=\"color:#ff0d0d\">E</span><span style=\"color:#ff0d0d\">E</span><span style=\"color:#ff0d0d\">E</span><span style=\"color:#ff0d0d\">E</span><span style=\"color:#ff0d0d\">E</span><span style=\"color:#ff0d0d\">E</span><span style=\"color:#2900f5\">K</span><span style=\"color:#ff0d0d\">E</span><span style=\"color:#ff0d0d\">E</span><span style=\"color:#2900f5\">K</span><span style=\"color:#ff0d0d\">E</span><span style=\"color:#ff0d0d\">E</span><span style=\"color:#ff0d0d\">E</span><span style=\"color:#ff0d0d\">E</span><span style=\"color:#ff0d0d\">E</span><span style=\"color:#ff0d0d\">E</span><span style=\"color:#ff0d0d\">E</span><span style=\"color:#ff0d0d\">E</span><span style=\"color:#ff0d0d\">E</span><span style=\"color:#2900f5\">K</span><span style=\"color:#ff0d0d\">E</span><span style=\"color:#ff0d0d\">E</span><span style=\"color:#ff0d0d\">E</span><span style=\"color:#ff0d0d\">E</span><span style=\"color:#2900f5\">K</span><span style=\"color:#ff0d0d\">E</span><span style=\"color:#ff0d0d\">E</span><span style=\"color:#2900f5\">K</span><span style=\"color:#2900f5\">K</span><span style=\"color:#2900f5\">K</span><span style=\"color:#2900f5\">K</span><span style=\"color:#2900f5\">K</span><span style=\"color:#2900f5\">K</span><span style=\"color:#2900f5\">K</span><span style=\"color:#2900f5\">K</span><span style=\"color:#2900f5\">K</span><span style=\"color:#2900f5\">K</span><span style=\"color:#2900f5\">K</span><span style=\"color:#2900f5\">K</span><span style=\"color:#2900f5\">K</span><span style=\"color:#2900f5\">K</span><span style=\"color:#2900f5\">K</span><span style=\"color:#2900f5\">K</span><span style=\"color:#2900f5\">K</span><span style=\"color:#2900f5\">K</span><span style=\"color:#2900f5\">K</span><span style=\"color:#2900f5\">K</span><span style=\"color:#ff0d0d\">E</span></p>"
      ],
      "text/plain": [
       "<IPython.core.display.HTML object>"
      ]
     },
     "metadata": {},
     "output_type": "display_data"
    },
    {
     "data": {
      "text/html": [
       "<p style=\"font-family:Courier;font-size: 14px\"><span style=\"color:#2900f5\">K</span><span style=\"color:#2900f5\">K</span><span style=\"color:#ff0d0d\">E</span><span style=\"color:#2900f5\">K</span><span style=\"color:#2900f5\">K</span><span style=\"color:#2900f5\">K</span><span style=\"color:#ff0d0d\">E</span><span style=\"color:#2900f5\">K</span><span style=\"color:#2900f5\">K</span><span style=\"color:#ff0d0d\">E</span><span style=\"color:#ff0d0d\">E</span><span style=\"color:#ff0d0d\">E</span><span style=\"color:#ff0d0d\">E</span><span style=\"color:#ff0d0d\">E</span><span style=\"color:#ff0d0d\">E</span><span style=\"color:#ff0d0d\">E</span><span style=\"color:#ff0d0d\">E</span><span style=\"color:#ff0d0d\">E</span><span style=\"color:#ff0d0d\">E</span><span style=\"color:#ff0d0d\">E</span><span style=\"color:#ff0d0d\">E</span><span style=\"color:#ff0d0d\">E</span><span style=\"color:#ff0d0d\">E</span><span style=\"color:#ff0d0d\">E</span><span style=\"color:#ff0d0d\">E</span><span style=\"color:#ff0d0d\">E</span><span style=\"color:#ff0d0d\">E</span><span style=\"color:#ff0d0d\">E</span><span style=\"color:#ff0d0d\">E</span><span style=\"color:#2900f5\">K</span><span style=\"color:#ff0d0d\">E</span><span style=\"color:#ff0d0d\">E</span><span style=\"color:#2900f5\">K</span><span style=\"color:#2900f5\">K</span><span style=\"color:#2900f5\">K</span><span style=\"color:#2900f5\">K</span><span style=\"color:#2900f5\">K</span><span style=\"color:#2900f5\">K</span><span style=\"color:#2900f5\">K</span><span style=\"color:#2900f5\">K</span><span style=\"color:#2900f5\">K</span><span style=\"color:#2900f5\">K</span><span style=\"color:#2900f5\">K</span><span style=\"color:#2900f5\">K</span><span style=\"color:#2900f5\">K</span><span style=\"color:#2900f5\">K</span><span style=\"color:#2900f5\">K</span><span style=\"color:#ff0d0d\">E</span><span style=\"color:#2900f5\">K</span><span style=\"color:#2900f5\">K</span></p>"
      ],
      "text/plain": [
       "<IPython.core.display.HTML object>"
      ]
     },
     "metadata": {},
     "output_type": "display_data"
    },
    {
     "data": {
      "text/html": [
       "<p style=\"font-family:Courier;font-size: 14px\"><span style=\"color:#ff0d0d\">E</span><span style=\"color:#2900f5\">K</span><span style=\"color:#2900f5\">K</span><span style=\"color:#2900f5\">K</span><span style=\"color:#2900f5\">K</span><span style=\"color:#2900f5\">K</span><span style=\"color:#2900f5\">K</span><span style=\"color:#2900f5\">K</span><span style=\"color:#2900f5\">K</span><span style=\"color:#2900f5\">K</span><span style=\"color:#2900f5\">K</span><span style=\"color:#2900f5\">K</span><span style=\"color:#2900f5\">K</span><span style=\"color:#2900f5\">K</span><span style=\"color:#2900f5\">K</span><span style=\"color:#2900f5\">K</span><span style=\"color:#2900f5\">K</span><span style=\"color:#2900f5\">K</span><span style=\"color:#2900f5\">K</span><span style=\"color:#2900f5\">K</span><span style=\"color:#2900f5\">K</span><span style=\"color:#2900f5\">K</span><span style=\"color:#ff0d0d\">E</span><span style=\"color:#ff0d0d\">E</span><span style=\"color:#ff0d0d\">E</span><span style=\"color:#ff0d0d\">E</span><span style=\"color:#ff0d0d\">E</span><span style=\"color:#ff0d0d\">E</span><span style=\"color:#ff0d0d\">E</span><span style=\"color:#ff0d0d\">E</span><span style=\"color:#ff0d0d\">E</span><span style=\"color:#ff0d0d\">E</span><span style=\"color:#ff0d0d\">E</span><span style=\"color:#ff0d0d\">E</span><span style=\"color:#ff0d0d\">E</span><span style=\"color:#ff0d0d\">E</span><span style=\"color:#ff0d0d\">E</span><span style=\"color:#ff0d0d\">E</span><span style=\"color:#ff0d0d\">E</span><span style=\"color:#ff0d0d\">E</span><span style=\"color:#2900f5\">K</span><span style=\"color:#2900f5\">K</span><span style=\"color:#ff0d0d\">E</span><span style=\"color:#ff0d0d\">E</span><span style=\"color:#ff0d0d\">E</span><span style=\"color:#ff0d0d\">E</span><span style=\"color:#ff0d0d\">E</span><span style=\"color:#2900f5\">K</span><span style=\"color:#ff0d0d\">E</span><span style=\"color:#2900f5\">K</span></p>"
      ],
      "text/plain": [
       "<IPython.core.display.HTML object>"
      ]
     },
     "metadata": {},
     "output_type": "display_data"
    },
    {
     "data": {
      "text/html": [
       "<p style=\"font-family:Courier;font-size: 14px\"><span style=\"color:#2900f5\">K</span><span style=\"color:#ff0d0d\">E</span><span style=\"color:#ff0d0d\">E</span><span style=\"color:#ff0d0d\">E</span><span style=\"color:#ff0d0d\">E</span><span style=\"color:#2900f5\">K</span><span style=\"color:#ff0d0d\">E</span><span style=\"color:#ff0d0d\">E</span><span style=\"color:#ff0d0d\">E</span><span style=\"color:#ff0d0d\">E</span><span style=\"color:#ff0d0d\">E</span><span style=\"color:#ff0d0d\">E</span><span style=\"color:#ff0d0d\">E</span><span style=\"color:#ff0d0d\">E</span><span style=\"color:#ff0d0d\">E</span><span style=\"color:#ff0d0d\">E</span><span style=\"color:#ff0d0d\">E</span><span style=\"color:#ff0d0d\">E</span><span style=\"color:#ff0d0d\">E</span><span style=\"color:#ff0d0d\">E</span><span style=\"color:#ff0d0d\">E</span><span style=\"color:#ff0d0d\">E</span><span style=\"color:#ff0d0d\">E</span><span style=\"color:#ff0d0d\">E</span><span style=\"color:#ff0d0d\">E</span><span style=\"color:#ff0d0d\">E</span><span style=\"color:#ff0d0d\">E</span><span style=\"color:#2900f5\">K</span><span style=\"color:#2900f5\">K</span><span style=\"color:#2900f5\">K</span><span style=\"color:#2900f5\">K</span><span style=\"color:#2900f5\">K</span><span style=\"color:#2900f5\">K</span><span style=\"color:#2900f5\">K</span><span style=\"color:#2900f5\">K</span><span style=\"color:#2900f5\">K</span><span style=\"color:#2900f5\">K</span><span style=\"color:#2900f5\">K</span><span style=\"color:#2900f5\">K</span><span style=\"color:#2900f5\">K</span><span style=\"color:#2900f5\">K</span><span style=\"color:#2900f5\">K</span><span style=\"color:#2900f5\">K</span><span style=\"color:#2900f5\">K</span><span style=\"color:#2900f5\">K</span><span style=\"color:#2900f5\">K</span><span style=\"color:#2900f5\">K</span><span style=\"color:#2900f5\">K</span><span style=\"color:#2900f5\">K</span><span style=\"color:#2900f5\">K</span></p>"
      ],
      "text/plain": [
       "<IPython.core.display.HTML object>"
      ]
     },
     "metadata": {},
     "output_type": "display_data"
    },
    {
     "data": {
      "text/html": [
       "<p style=\"font-family:Courier;font-size: 14px\"><span style=\"color:#ff0d0d\">E</span><span style=\"color:#ff0d0d\">E</span><span style=\"color:#ff0d0d\">E</span><span style=\"color:#ff0d0d\">E</span><span style=\"color:#ff0d0d\">E</span><span style=\"color:#ff0d0d\">E</span><span style=\"color:#ff0d0d\">E</span><span style=\"color:#ff0d0d\">E</span><span style=\"color:#ff0d0d\">E</span><span style=\"color:#ff0d0d\">E</span><span style=\"color:#ff0d0d\">E</span><span style=\"color:#ff0d0d\">E</span><span style=\"color:#ff0d0d\">E</span><span style=\"color:#ff0d0d\">E</span><span style=\"color:#ff0d0d\">E</span><span style=\"color:#ff0d0d\">E</span><span style=\"color:#ff0d0d\">E</span><span style=\"color:#ff0d0d\">E</span><span style=\"color:#ff0d0d\">E</span><span style=\"color:#ff0d0d\">E</span><span style=\"color:#ff0d0d\">E</span><span style=\"color:#ff0d0d\">E</span><span style=\"color:#ff0d0d\">E</span><span style=\"color:#ff0d0d\">E</span><span style=\"color:#ff0d0d\">E</span><span style=\"color:#2900f5\">K</span><span style=\"color:#2900f5\">K</span><span style=\"color:#2900f5\">K</span><span style=\"color:#2900f5\">K</span><span style=\"color:#2900f5\">K</span><span style=\"color:#2900f5\">K</span><span style=\"color:#2900f5\">K</span><span style=\"color:#2900f5\">K</span><span style=\"color:#2900f5\">K</span><span style=\"color:#2900f5\">K</span><span style=\"color:#2900f5\">K</span><span style=\"color:#2900f5\">K</span><span style=\"color:#2900f5\">K</span><span style=\"color:#2900f5\">K</span><span style=\"color:#2900f5\">K</span><span style=\"color:#2900f5\">K</span><span style=\"color:#2900f5\">K</span><span style=\"color:#2900f5\">K</span><span style=\"color:#2900f5\">K</span><span style=\"color:#2900f5\">K</span><span style=\"color:#2900f5\">K</span><span style=\"color:#2900f5\">K</span><span style=\"color:#2900f5\">K</span><span style=\"color:#2900f5\">K</span><span style=\"color:#2900f5\">K</span></p>"
      ],
      "text/plain": [
       "<IPython.core.display.HTML object>"
      ]
     },
     "metadata": {},
     "output_type": "display_data"
    }
   ],
   "source": [
    "for x in s:\n",
    "    Protein(s[x]).show_sequence(blocksize=100)"
   ]
  }
 ],
 "metadata": {
  "kernelspec": {
   "display_name": "Python 3 (ipykernel)",
   "language": "python",
   "name": "python3"
  },
  "language_info": {
   "codemirror_mode": {
    "name": "ipython",
    "version": 3
   },
   "file_extension": ".py",
   "mimetype": "text/x-python",
   "name": "python",
   "nbconvert_exporter": "python",
   "pygments_lexer": "ipython3",
   "version": "3.8.17"
  }
 },
 "nbformat": 4,
 "nbformat_minor": 5
}
