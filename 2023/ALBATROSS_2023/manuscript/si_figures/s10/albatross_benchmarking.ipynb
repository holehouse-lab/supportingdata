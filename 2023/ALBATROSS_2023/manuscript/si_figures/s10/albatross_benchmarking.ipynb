{
 "cells": [
  {
   "cell_type": "markdown",
   "id": "e24ac940",
   "metadata": {},
   "source": [
    "# Benchmarking ALBATROSS Predictions"
   ]
  },
  {
   "cell_type": "markdown",
   "id": "12b9082b",
   "metadata": {},
   "source": [
    "## Imports"
   ]
  },
  {
   "cell_type": "code",
   "execution_count": 25,
   "id": "eda13585",
   "metadata": {},
   "outputs": [],
   "source": [
    "from goose import create\n",
    "from collections import defaultdict\n",
    "import numpy as np\n",
    "from tqdm import tqdm\n",
    "import protfasta\n",
    "from natsort import natsorted,ns \n",
    "import pandas as pd\n",
    "import time\n",
    "import matplotlib.pyplot as plt\n",
    "import pickle\n",
    "import sparrow\n",
    "from glob import glob\n",
    "import os"
   ]
  },
  {
   "cell_type": "markdown",
   "id": "f750d32a",
   "metadata": {},
   "source": [
    "## define functions"
   ]
  },
  {
   "cell_type": "code",
   "execution_count": 30,
   "id": "6738bfda",
   "metadata": {},
   "outputs": [],
   "source": [
    "def run_inference(proteins, network,use_scaled=False):\n",
    "    start_time = time.time()\n",
    "    if use_scaled:\n",
    "        predictions = [getattr(protein.predictor,f\"{network}\")(use_scaled=True) for label, protein in benchmarking_proteins.items()]\n",
    "    else:\n",
    "        predictions = [getattr(protein.predictor,f\"{network}\")(use_scaled=False) for label, protein in benchmarking_proteins.items()]\n",
    "\n",
    "    end_time = time.time()\n",
    "    time_taken = end_time - start_time\n",
    "    return predictions, time_taken\n",
    "\n",
    "def plot_performance(times_taken,network_name,output_directory=\"benchmarking\",color=\"red\"):\n",
    "    fig,ax = plt.subplots()\n",
    "    sequence_length = list(times_taken.keys())\n",
    "    iterations_per_second = 250 / np.array(list(times_taken.values()))\n",
    "    scatter = ax.scatter(sequence_length,iterations_per_second,color=color,s=20)\n",
    "    ax.set_xlabel(\"Sequence Length\")\n",
    "    ax.set_ylabel(\"Sequence predictions / second (CPU)\")\n",
    "    plt.tight_layout()\n",
    "    plt.savefig(f\"{output_directory}/scaled_{network_name}_cpu_performance.pdf\",dpi=300)\n",
    "    return fig, ax, scatter\n"
   ]
  },
  {
   "cell_type": "code",
   "execution_count": null,
   "id": "7220bda7",
   "metadata": {},
   "outputs": [],
   "source": []
  },
  {
   "cell_type": "code",
   "execution_count": 8,
   "id": "1a6c14bd",
   "metadata": {},
   "outputs": [
    {
     "name": "stderr",
     "output_type": "stream",
     "text": [
      "100%|█████████████████████████████████████████████████████████████████| 250/250 [00:37<00:00,  6.66it/s]\n"
     ]
    }
   ],
   "source": [
    "outer_list = []\n",
    "for i in tqdm(range(250)):\n",
    "    seqs = []\n",
    "    for l in range(25, 751, 25):\n",
    "        seqs.append(create.sequence(length=l))\n",
    "    outer_list.append(seqs)"
   ]
  },
  {
   "cell_type": "code",
   "execution_count": 9,
   "id": "160a6df0",
   "metadata": {},
   "outputs": [],
   "source": [
    "sequences = {i : sequence for i,sequence in enumerate(np.array(outer_list).T)}"
   ]
  },
  {
   "cell_type": "code",
   "execution_count": 13,
   "id": "1093933e",
   "metadata": {},
   "outputs": [
    {
     "data": {
      "text/html": [
       "<div>\n",
       "<style scoped>\n",
       "    .dataframe tbody tr th:only-of-type {\n",
       "        vertical-align: middle;\n",
       "    }\n",
       "\n",
       "    .dataframe tbody tr th {\n",
       "        vertical-align: top;\n",
       "    }\n",
       "\n",
       "    .dataframe thead th {\n",
       "        text-align: right;\n",
       "    }\n",
       "</style>\n",
       "<table border=\"1\" class=\"dataframe\">\n",
       "  <thead>\n",
       "    <tr style=\"text-align: right;\">\n",
       "      <th></th>\n",
       "      <th>sequence</th>\n",
       "      <th>length</th>\n",
       "      <th>header</th>\n",
       "    </tr>\n",
       "  </thead>\n",
       "  <tbody>\n",
       "    <tr>\n",
       "      <th>7495</th>\n",
       "      <td>TEEGDQSHNKTAEGDGNDSSHTAGSHHQTKQDTDHGAKKDNTGVST...</td>\n",
       "      <td>750</td>\n",
       "      <td>seq7495</td>\n",
       "    </tr>\n",
       "    <tr>\n",
       "      <th>7496</th>\n",
       "      <td>QQATKEEHEAHNESADSKEGQKREKGSNETHATDEEHKGNDHDNRA...</td>\n",
       "      <td>750</td>\n",
       "      <td>seq7496</td>\n",
       "    </tr>\n",
       "    <tr>\n",
       "      <th>7497</th>\n",
       "      <td>NSGDRHSEEHGNTHHNAETTKGNNNTHGGKNDGTKAKHTDNGAAGN...</td>\n",
       "      <td>750</td>\n",
       "      <td>seq7497</td>\n",
       "    </tr>\n",
       "    <tr>\n",
       "      <th>7498</th>\n",
       "      <td>NAQNKQDRKPAKDSDETTTHQKAQTSKAQTSQTQSTNKRTQHHAQG...</td>\n",
       "      <td>750</td>\n",
       "      <td>seq7498</td>\n",
       "    </tr>\n",
       "    <tr>\n",
       "      <th>7499</th>\n",
       "      <td>KHDNHGKDRKQRESHHGDHQKKSKENGGGPTEEGNQEADTTKTTDA...</td>\n",
       "      <td>750</td>\n",
       "      <td>seq7499</td>\n",
       "    </tr>\n",
       "  </tbody>\n",
       "</table>\n",
       "</div>"
      ],
      "text/plain": [
       "                                               sequence length   header\n",
       "7495  TEEGDQSHNKTAEGDGNDSSHTAGSHHQTKQDTDHGAKKDNTGVST...    750  seq7495\n",
       "7496  QQATKEEHEAHNESADSKEGQKREKGSNETHATDEEHKGNDHDNRA...    750  seq7496\n",
       "7497  NSGDRHSEEHGNTHHNAETTKGNNNTHGGKNDGTKAKHTDNGAAGN...    750  seq7497\n",
       "7498  NAQNKQDRKPAKDSDETTTHQKAQTSKAQTSQTQSTNKRTQHHAQG...    750  seq7498\n",
       "7499  KHDNHGKDRKQRESHHGDHQKKSKENGGGPTEEGNQEADTTKTTDA...    750  seq7499"
      ]
     },
     "execution_count": 13,
     "metadata": {},
     "output_type": "execute_result"
    }
   ],
   "source": [
    "# create a sample dataframe\n",
    "df = pd.DataFrame.from_dict(sequences)\n",
    "\n",
    "# create a list of columns to melt\n",
    "cols_to_melt = df.columns.tolist()\n",
    "\n",
    "# create a new dataframe to store the melted data\n",
    "melted_df = pd.DataFrame(columns=['sequence', 'length'])\n",
    "\n",
    "# loop over each column in the original dataframe\n",
    "for col in cols_to_melt:\n",
    "    # extract the length of the sequences in the column\n",
    "    seq_len = len(df[col][0])\n",
    "    # melt the column into a dataframe with two columns: 'sequence' and 'length'\n",
    "    melted_col = pd.melt(df[[col]], value_name='sequence', var_name='length')\n",
    "    # add the sequence length to the 'length' column of the melted dataframe\n",
    "    melted_col['length'] = seq_len\n",
    "    # append the melted column to the final melted dataframe\n",
    "    melted_df = pd.concat([melted_df, melted_col], ignore_index=True)\n",
    "\n",
    "# display the final melted dataframe\n",
    "melted_df[\"header\"] = [f\"seq{i}\" for i in range(len(melted_df))]\n",
    "melted_df.tail()"
   ]
  },
  {
   "cell_type": "code",
   "execution_count": 17,
   "id": "a62c5ec1",
   "metadata": {},
   "outputs": [],
   "source": [
    "for length in set(melted_df[\"length\"]):\n",
    "    trimmed_df = melted_df[melted_df[\"length\"] == length]\n",
    "    headers = trimmed_df[\"header\"].tolist()\n",
    "    seqs = trimmed_df[\"sequence\"].tolist()\n",
    "\n",
    "    fastas = {header : sequence for header,sequence  in zip(headers,seqs)}\n",
    "    os.makedirs(\"benchmarking\",exist_ok=True)\n",
    "    protfasta.write_fasta(fastas,f\"benchmarking/seqs_of_length_{length}.fasta\")"
   ]
  },
  {
   "cell_type": "code",
   "execution_count": 18,
   "id": "4ee8fd5e",
   "metadata": {},
   "outputs": [],
   "source": [
    "benchmarking_files = natsorted(glob(\"benchmarking/*fasta\"))"
   ]
  },
  {
   "cell_type": "code",
   "execution_count": null,
   "id": "9d649f61",
   "metadata": {},
   "outputs": [],
   "source": []
  },
  {
   "cell_type": "code",
   "execution_count": null,
   "id": "38f513e3",
   "metadata": {},
   "outputs": [],
   "source": []
  },
  {
   "cell_type": "code",
   "execution_count": null,
   "id": "9952e0fb",
   "metadata": {},
   "outputs": [],
   "source": []
  },
  {
   "cell_type": "code",
   "execution_count": 28,
   "id": "19ac7a46",
   "metadata": {},
   "outputs": [
    {
     "name": "stdout",
     "output_type": "stream",
     "text": [
      "radius_of_gyration\n",
      "benchmarking/seqs_of_length_25.fasta\n",
      "benchmarking/seqs_of_length_50.fasta\n",
      "end_to_end_distance\n",
      "benchmarking/seqs_of_length_25.fasta\n",
      "benchmarking/seqs_of_length_50.fasta\n"
     ]
    }
   ],
   "source": [
    "\n",
    "# for network in [\"end_to_end_distance\",\"scaling_exponent\",\n",
    "#                 \"asphericity\",\"prefactor\"]:\n",
    "for network in [\"radius_of_gyration\",\"end_to_end_distance\"]:  \n",
    "# for network in [\"radius_of_gyration\",\"end_to_end_distance\",\"scaling_exponent\",\n",
    "#                 \"asphericity\",\"prefactor\"]:\n",
    "    times_taken = {}\n",
    "    print(network)\n",
    "    for fasta_file in benchmarking_files:\n",
    "        print(fasta_file)\n",
    "        benchmarking_proteins = sparrow.read_fasta(fasta_file)\n",
    "        length = len(list(benchmarking_proteins.values())[0])\n",
    "        predictons, time_taken = run_inference(benchmarking_proteins,network=network,use_scaled=True)\n",
    "        times_taken[length] = time_taken\n",
    "    with open(f\"benchmarking/scaled_{network}_predictions_per_second.pickle\", \"wb\") as f:\n",
    "        pickle.dump(times_taken, f)"
   ]
  },
  {
   "cell_type": "code",
   "execution_count": 31,
   "id": "e9525284",
   "metadata": {},
   "outputs": [
    {
     "data": {
      "image/png": "[encoded data removed]",
      "text/plain": [
       "<Figure size 640x480 with 1 Axes>"
      ]
     },
     "metadata": {},
     "output_type": "display_data"
    },
    {
     "data": {
      "image/png": "[encoded data removed]",
      "text/plain": [
       "<Figure size 640x480 with 1 Axes>"
      ]
     },
     "metadata": {},
     "output_type": "display_data"
    }
   ],
   "source": [
    "for network in [\"radius_of_gyration\",\"end_to_end_distance\",]:#\"scaling_exponent\",\"asphericity\",\"prefactor\"]:\n",
    "    times_taken = np.load(f\"benchmarking/scaled_{network}_predictions_per_second.pickle\",allow_pickle=True)\n",
    "\n",
    "    fig, ax, scatter = plot_performance(times_taken,network_name=network)\n"
   ]
  },
  {
   "cell_type": "code",
   "execution_count": null,
   "id": "9bf9cee4",
   "metadata": {},
   "outputs": [],
   "source": []
  },
  {
   "cell_type": "code",
   "execution_count": null,
   "id": "4327170a",
   "metadata": {},
   "outputs": [],
   "source": []
  }
 ],
 "metadata": {
  "kernelspec": {
   "display_name": "labconda",
   "language": "python",
   "name": "labconda"
  },
  "language_info": {
   "codemirror_mode": {
    "name": "ipython",
    "version": 3
   },
   "file_extension": ".py",
   "mimetype": "text/x-python",
   "name": "python",
   "nbconvert_exporter": "python",
   "pygments_lexer": "ipython3",
   "version": "3.8.16"
  }
 },
 "nbformat": 4,
 "nbformat_minor": 5
}
