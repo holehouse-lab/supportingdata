{
 "cells": [
  {
   "cell_type": "markdown",
   "id": "opening-wrestling",
   "metadata": {},
   "source": [
    "## About\n",
    "This notebook calculates the root mean-squared 1-68 distance for the NTD either unbound or in the presence of RNA."
   ]
  },
  {
   "cell_type": "code",
   "execution_count": 5,
   "id": "underlying-chapter",
   "metadata": {},
   "outputs": [],
   "source": [
    "from soursop.sstrajectory import SSTrajectory\n",
    "import mdtraj as md\n",
    "import numpy as np"
   ]
  },
  {
   "cell_type": "code",
   "execution_count": 7,
   "id": "religious-bailey",
   "metadata": {},
   "outputs": [],
   "source": [
    "# define the directory where NTD-RBD simulations are found\n",
    "prefix = '/work/alstonj/2022/Binding/FINAL/NTDRBD/'\n",
    "\n",
    "e2e_final = []\n",
    "e2e_std = []\n",
    "\n",
    "e2e_final_raw = []\n",
    "e2e_std_raw = []\n",
    "\n",
    "RNA_lengths = [0,10, 12, 15, 17, 20, 25, 30, 35, 40]\n",
    "n_reps=3\n",
    "\n",
    "# cycle over RNA lengths\n",
    "for RNA_len in RNA_lengths:\n",
    "    \n",
    "    e2e_local = []\n",
    "    e2e_local_raw = []\n",
    "    \n",
    "    for rep in range(1,n_reps+1):\n",
    "        \n",
    "        \n",
    "        # if RNA length is 0 select all frames\n",
    "        if RNA_len == 0:\n",
    "            xtcfilename = prefix + f'{RNA_len}/{rep}/equilibrated.xtc'\n",
    "            pdbfilename = prefix + f'{RNA_len}/{rep}/equilibrated.pdb'   \n",
    "            \n",
    "        # if RNA length is greater than 0 we only analyse the bound-state frames\n",
    "        else:\n",
    "            xtcfilename = prefix + f'{RNA_len}/{rep}/bound.xtc'\n",
    "            pdbfilename = prefix + f'{RNA_len}/{rep}/equilibrated.pdb'   \n",
    "            \n",
    "        T = SSTrajectory(xtcfilename,pdbfilename, extra_valid_residue_names=['RPU'])\n",
    "        \n",
    "        e2e = T.proteinTrajectoryList[0].get_inter_residue_COM_distance(R1=1, R2=68)\n",
    "\n",
    "        e2e = e2e/10\n",
    "        \n",
    "        # calculate root-mean square distance  (i..e rms end-to-end distance)\n",
    "        e2e_local.append(np.sqrt(np.mean(np.power(e2e,2))))\n",
    "        e2e_local_raw.append(np.mean(e2e))\n",
    "        \n",
    "        \n",
    "    e2e_final.append(np.mean(e2e_local))\n",
    "    e2e_std.append(np.std(e2e_local))\n",
    "    \n",
    "    e2e_final_raw.append(np.mean(e2e_local_raw))\n",
    "    e2e_std_raw.append(np.std(e2e_local_raw))"
   ]
  },
  {
   "cell_type": "code",
   "execution_count": 8,
   "id": "every-vietnam",
   "metadata": {},
   "outputs": [],
   "source": [
    "with open('rmsd_ntd_1_68.csv','w') as fh:\n",
    "    fh.write('#RNA length, RMS 1-68, std RMS 1-68, <r> 1-68, std(<r>) 1-68\\n')\n",
    "    for idx in range(len(e2e_std)):\n",
    "        fh.write(f'{RNA_lengths[idx]}, {e2e_final[idx]}, {e2e_std[idx]}, {e2e_final_raw[idx]}, {e2e_std_raw[idx]}\\n')"
   ]
  },
  {
   "cell_type": "code",
   "execution_count": null,
   "id": "pregnant-expense",
   "metadata": {},
   "outputs": [],
   "source": []
  }
 ],
 "metadata": {
  "kernelspec": {
   "display_name": "Python 3",
   "language": "python",
   "name": "python3"
  },
  "language_info": {
   "codemirror_mode": {
    "name": "ipython",
    "version": 3
   },
   "file_extension": ".py",
   "mimetype": "text/x-python",
   "name": "python",
   "nbconvert_exporter": "python",
   "pygments_lexer": "ipython3",
   "version": "3.7.6"
  }
 },
 "nbformat": 4,
 "nbformat_minor": 5
}
