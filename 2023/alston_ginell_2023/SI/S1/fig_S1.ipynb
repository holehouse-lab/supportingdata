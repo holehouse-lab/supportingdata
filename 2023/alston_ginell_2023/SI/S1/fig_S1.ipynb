{
 "cells": [
  {
   "cell_type": "code",
   "execution_count": 2,
   "id": "c0569f02",
   "metadata": {},
   "outputs": [],
   "source": [
    "from soursop.sstrajectory import SSTrajectory # import CTTrajectory, the main trajectory reading module\n",
    "import numpy as np\n",
    "import mdtraj as md\n",
    "import matplotlib.pyplot as plt\n",
    "\n",
    "RESOLUTION=5\n",
    "ANGLE_BINS=np.arange(-180,185,RESOLUTION,dtype=float)\n"
   ]
  },
  {
   "cell_type": "code",
   "execution_count": 3,
   "id": "c981be18",
   "metadata": {},
   "outputs": [],
   "source": [
    "\n",
    "\n",
    "\n",
    "#\n",
    "for AA in ['A','C','D','E','F','G','H','I','K','L','M','N','P','Q','R','S','T','V','W','Y']:\n",
    "\n",
    "    PHI = np.loadtxt(f'FRC_data/subsampled_{AA}_phi.csv')\n",
    "    PSI = np.loadtxt(f'FRC_data/subsampled_{AA}_psi.csv')\n",
    "\n",
    "    # generate a 2D histogram\n",
    "    local_hist = np.histogram2d(PSI, PHI,bins=[ANGLE_BINS,ANGLE_BINS])[0]\n",
    "    fig, ax1 = plt.subplots(1,1)\n",
    "\n",
    "    # note NB: we set extents to opposite because histogram bins MUST be monotonic and increasing, so do this and then\n",
    "    # subsequently flip the axis back around\n",
    "    ax1.imshow(local_hist, cmap='Reds', interpolation='nearest',extent=[ANGLE_BINS[0],ANGLE_BINS[-1], ANGLE_BINS[-1], ANGLE_BINS[0]])\n",
    "    ax1.invert_yaxis()\n",
    "\n",
    "    # save the figure\n",
    "    plt.savefig('figures/RAMA_%s.pdf'%(AA), format='pdf')\n",
    "    plt.close()\n"
   ]
  },
  {
   "cell_type": "code",
   "execution_count": null,
   "id": "d5e57e69",
   "metadata": {},
   "outputs": [],
   "source": []
  }
 ],
 "metadata": {
  "kernelspec": {
   "display_name": "Python 3 (ipykernel)",
   "language": "python",
   "name": "python3"
  },
  "language_info": {
   "codemirror_mode": {
    "name": "ipython",
    "version": 3
   },
   "file_extension": ".py",
   "mimetype": "text/x-python",
   "name": "python",
   "nbconvert_exporter": "python",
   "pygments_lexer": "ipython3",
   "version": "3.8.12"
  }
 },
 "nbformat": 4,
 "nbformat_minor": 5
}
