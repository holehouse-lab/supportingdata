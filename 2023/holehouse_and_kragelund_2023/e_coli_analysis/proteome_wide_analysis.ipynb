{
 "cells": [
  {
   "cell_type": "markdown",
   "id": "079a9b37-3d5f-42c0-aded-4573c6c4a80e",
   "metadata": {},
   "source": [
    "## E. coli proteome-wide disorder analysis\n",
    "This notebook is analagous to the one in `/human_idr_analysis` directory but for the E. coli proteome."
   ]
  },
  {
   "cell_type": "code",
   "execution_count": 1,
   "id": "864ccc3f",
   "metadata": {},
   "outputs": [],
   "source": [
    "from shephard import apis, interfaces\n",
    "import metapredict as meta\n",
    "from matplotlib import pyplot  as plt\n",
    "from sparrow import Protein"
   ]
  },
  {
   "cell_type": "code",
   "execution_count": 2,
   "id": "5b315201",
   "metadata": {},
   "outputs": [],
   "source": [
    "\n",
    "# read in the ecoli proteome\n",
    "hp = apis.uniprot.uniprot_fasta_to_proteome('ecoli_proteome_clean.fasta')\n",
    "\n",
    "# annotate the ecoli proteome with the IDRs\n",
    "interfaces.si_domains.add_domains_from_file(hp, 'shprd_domains_idrs.tsv')\n",
    "\n",
    "\n",
    "# variable - set shortest IDR for analysis\n",
    "shortest_size  = 30"
   ]
  },
  {
   "cell_type": "code",
   "execution_count": 3,
   "id": "625ddfc9-03fd-44f5-a834-d41a2c01aa4c",
   "metadata": {},
   "outputs": [
    {
     "name": "stdout",
     "output_type": "stream",
     "text": [
      "Fraction of proteins with IDRs of length 30 or longer:    0.117\n",
      "Fraction of proteins that contain no IDRs longer than 30: 0.883\n",
      "\n",
      "Fraction of proteins that are completely disordered:      0.042\n",
      "Fraction of proteins that are completely folded:          0.678\n",
      "Fraction of residues in IDRs that are longer than 30:     0.027\n"
     ]
    }
   ],
   "source": [
    "idr = 0\n",
    "fp = 0\n",
    "idr_proteins = []\n",
    "\n",
    "\n",
    "# count find proteins with one or more IDR above length shortest_size\n",
    "for p in hp:\n",
    "\n",
    "    found = False\n",
    "\n",
    "    \n",
    "    for d in p.domains:\n",
    "        if len(d) > shortest_size:\n",
    "            found = True\n",
    "            break\n",
    "\n",
    "    if found:\n",
    "        idr = idr + 1\n",
    "        idr_proteins.append(p)\n",
    "    else:\n",
    "        fp = fp + 1\n",
    "\n",
    "disordered_residues = 0\n",
    "all_residues = 0\n",
    "# count residues in IDRs > shortest\n",
    "for p in hp:\n",
    "    all_residues = all_residues + len(p)\n",
    "\n",
    "    for d in p.domains:\n",
    "        if len(d) > shortest_size:\n",
    "            disordered_residues = disordered_residues + len(d)\n",
    "\n",
    "# count the number of proteins that are bona fide IPDs\n",
    "idp = 0\n",
    "for p in hp:\n",
    "    if np.sum([len(d) for d in p.domains]) == len(p):\n",
    "        idp = idp + 1\n",
    "\n",
    "# count the number of proteins that contain no IDRs at all (length 12 or longer)\n",
    "fully_folded = 0\n",
    "for p in hp:\n",
    "    if len(p.domains) == 0:\n",
    "        fully_folded = fully_folded + 1\n",
    "\n",
    "\n",
    "# assemble all IDRs above length shortest_size for further analysis\n",
    "all_idrs = []\n",
    "for p in idr_proteins:\n",
    "    for d in p.domains:\n",
    "        all_idrs.append(d)\n",
    "\n",
    "\n",
    "print(f\"Fraction of proteins with IDRs of length {shortest_size} or longer:    {idr/len(hp):.3f}\")\n",
    "print(f\"Fraction of proteins that contain no IDRs longer than {shortest_size}: {fp/len(hp):.3f}\\n\")\n",
    "print(f\"Fraction of proteins that are completely disordered:      {idp/len(hp):.3f}\")\n",
    "print(f\"Fraction of proteins that are completely folded:          {fully_folded/len(hp):.3f}\")\n",
    "print(f\"Fraction of residues in IDRs that are longer than {shortest_size}:     {disordered_residues/all_residues:.3f}\")\n",
    "\n",
    "\n",
    "            \n",
    "            \n",
    "    \n",
    "        "
   ]
  },
  {
   "cell_type": "code",
   "execution_count": 4,
   "id": "30b80e67-e682-4be7-8ffb-c475ecf86606",
   "metadata": {},
   "outputs": [
    {
     "name": "stdout",
     "output_type": "stream",
     "text": [
      "Fraction of IDRs above 30 that are found as full proteins: 0.188\n",
      "Fraction of IDRs above 30 that are N-terminal tails      : 0.393\n",
      "Fraction of IDRs above 30 that are C-terminal tails      : 0.230\n",
      "Fraction of IDRs above 30 that are linkers               : 0.189\n"
     ]
    }
   ],
   "source": [
    "fully_disordered_protein = 0\n",
    "N_tail = 0\n",
    "C_tail = 0\n",
    "linker = 0\n",
    "\n",
    "for idr in all_idrs:\n",
    "    if idr.start == 1 and idr.end == len(idr.protein):\n",
    "        fully_disordered_protein = fully_disordered_protein + 1\n",
    "    elif idr.start == 1:\n",
    "        N_tail = N_tail + 1\n",
    "    elif idr.end == len(idr.protein):\n",
    "        C_tail = C_tail + 1\n",
    "    else:\n",
    "        linker = linker + 1\n",
    "\n",
    "\n",
    "print(f\"Fraction of IDRs above {shortest_size} that are found as full proteins: {fully_disordered_protein/len(all_idrs):.3f}\")\n",
    "print(f\"Fraction of IDRs above {shortest_size} that are N-terminal tails      : {N_tail/len(all_idrs):.3f}\")\n",
    "print(f\"Fraction of IDRs above {shortest_size} that are C-terminal tails      : {C_tail/len(all_idrs):.3f}\")\n",
    "print(f\"Fraction of IDRs above {shortest_size} that are linkers               : {linker/len(all_idrs):.3f}\")"
   ]
  }
 ],
 "metadata": {
  "kernelspec": {
   "display_name": "Python 3 (ipykernel)",
   "language": "python",
   "name": "python3"
  },
  "language_info": {
   "codemirror_mode": {
    "name": "ipython",
    "version": 3
   },
   "file_extension": ".py",
   "mimetype": "text/x-python",
   "name": "python",
   "nbconvert_exporter": "python",
   "pygments_lexer": "ipython3",
   "version": "3.8.17"
  }
 },
 "nbformat": 4,
 "nbformat_minor": 5
}
