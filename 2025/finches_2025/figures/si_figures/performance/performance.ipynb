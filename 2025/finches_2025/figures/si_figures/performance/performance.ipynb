{
 "cells": [
  {
   "cell_type": "markdown",
   "id": "6c979f07-8668-484e-8d51-e2fe4a6b56df",
   "metadata": {},
   "source": [
    "## About\n",
    "This notebook will generate the performance figure (Fig. S2)"
   ]
  },
  {
   "cell_type": "code",
   "execution_count": null,
   "id": "321196a6-5f22-4bc0-9eb2-451941aba655",
   "metadata": {},
   "outputs": [],
   "source": [
    "import numpy as np\n",
    "import matplotlib\n",
    "\n",
    "import matplotlib.pyplot as plt\n",
    "from matplotlib.pyplot import figure\n",
    "\t\n",
    "# Set such that PDF fonts export in a manner that they\n",
    "# are editable in illustrator/affinity\n",
    "matplotlib.rcParams['pdf.fonttype'] = 42\n",
    "matplotlib.rcParams['ps.fonttype'] = 42\n",
    "\n",
    "# set to define axes linewidths\n",
    "matplotlib.rcParams['axes.linewidth'] = 0.5\n",
    "\n",
    "matplotlib.rcParams['xtick.major.size'] = 1.5  # length of major xticks\n",
    "matplotlib.rcParams['xtick.major.width'] = 0.25   # width of major xticks\n",
    "matplotlib.rcParams['ytick.major.size'] = 1.5  # length of major yticks\n",
    "matplotlib.rcParams['ytick.major.width'] = 0.25   # width of major yticks\n",
    "\n",
    "\n",
    "# this defines some prefactors so inline figures look nice\n",
    "# on a retina macbook. These can be commented out without any\n",
    "# issue and are solely asthetic.\n",
    "%matplotlib inline\n",
    "%config InlineBackend.figure_format='retina'\n",
    "\n",
    "# UPDATE 2020-12-31 (my preferred font is Avenir...)\n",
    "font = {'family' : 'avenir',\n",
    "    \t'weight' : 'normal'}\n",
    "\n",
    "matplotlib.rc('font', **font)\n",
    "\n",
    "from tqdm import tqdm\n",
    "import pickle\n",
    "from sparrow import Protein\n",
    "import protfasta\n",
    "from tqdm.auto import tqdm"
   ]
  },
  {
   "cell_type": "code",
   "execution_count": null,
   "id": "cfee1a63-c666-4891-a6cb-da6b8d3d2db3",
   "metadata": {},
   "outputs": [],
   "source": [
    "from goose import create\n",
    "import datetime\n",
    "\n",
    "from finches import Mpipi_frontend\n",
    "mf = Mpipi_frontend()"
   ]
  },
  {
   "cell_type": "code",
   "execution_count": null,
   "id": "38ad2fa2-2fff-4b25-a40e-4d1c4172f389",
   "metadata": {},
   "outputs": [],
   "source": [
    "all_seq_lens = np.linspace(40,2000,50,dtype=int)"
   ]
  },
  {
   "cell_type": "markdown",
   "id": "6ed8bc1e-0770-4597-b4f8-bc3cc49dfc7c",
   "metadata": {},
   "source": [
    "### Create sequences\n",
    "The code below uses GOOSE to generate a large number of sequences which we'll then run through FINCHES-based predictions. We separate this out because right now the sequence generation part is actually slower than the FINCHES epsilon prediction part..."
   ]
  },
  {
   "cell_type": "code",
   "execution_count": null,
   "id": "8a0531d7-2b26-4d7d-a703-f910b4293691",
   "metadata": {},
   "outputs": [],
   "source": [
    "n_seqs = 50\n",
    "all_sequences = {}\n",
    "\n",
    "all_seq_lens = np.linspace(40,2000,50,dtype=int)\n",
    "\n",
    "for i in tqdm(all_seq_lens):    \n",
    "    all_sequences[i] = []\n",
    "    for j in range(n_seqs):        \n",
    "        all_sequences[i].append(create.seq_fractions(int(i)))\n",
    "        \n",
    "    \n",
    "    "
   ]
  },
  {
   "cell_type": "markdown",
   "id": "5d37c3c5-76a5-450b-be5d-095f86d14c59",
   "metadata": {},
   "source": [
    "## Predict performance\n",
    "Finally, using the sequences generated in the cell above, we predict homotypic epsilon for all of these to guage how predition scales with sequence length"
   ]
  },
  {
   "cell_type": "code",
   "execution_count": null,
   "id": "aeee8180-2977-4d4a-a459-8745f3b7629e",
   "metadata": {},
   "outputs": [],
   "source": [
    "timings = []\n",
    "for i in tqdm(all_seq_lens):    \n",
    "    start_time = datetime.datetime.now()\n",
    "    for s in all_sequences[i]:\n",
    "        e = mf.epsilon(s,s)    \n",
    "    end_time = datetime.datetime.now()\n",
    "    timings.append(end_time - start_time)\n",
    "\n"
   ]
  },
  {
   "cell_type": "code",
   "execution_count": null,
   "id": "9020ffe5-a5df-40bb-aa2d-a2d2fc386fcb",
   "metadata": {},
   "outputs": [],
   "source": [
    "sequences_per_second = []\n",
    "for i in timings:\n",
    "    secs = i.seconds + i.microseconds/1000000\n",
    "    sequences_per_second.append((n_seqs)/secs)\n",
    "    "
   ]
  },
  {
   "cell_type": "code",
   "execution_count": null,
   "id": "c3357f42-08d4-4594-a68f-456ef5597f2f",
   "metadata": {},
   "outputs": [],
   "source": [
    "fig = plt.figure(figsize=(4.5, 2.5), dpi=450)\n",
    "plt.plot(all_seq_lens, sequences_per_second, color='k',lw=0.5)\n",
    "plt.yscale('log')\n",
    "plt.ylabel('Sequence per second',fontsize=9)\n",
    "plt.xlabel('Sequence length (residues)',fontsize=9)\n",
    "plt.xticks(fontsize=7)\n",
    "plt.yticks(fontsize=7)\n",
    "plt.tight_layout()\n",
    "plt.savefig('performance.pdf')"
   ]
  }
 ],
 "metadata": {
  "kernelspec": {
   "display_name": "Python 3 (ipykernel)",
   "language": "python",
   "name": "python3"
  },
  "language_info": {
   "codemirror_mode": {
    "name": "ipython",
    "version": 3
   },
   "file_extension": ".py",
   "mimetype": "text/x-python",
   "name": "python",
   "nbconvert_exporter": "python",
   "pygments_lexer": "ipython3",
   "version": "3.11.10"
  }
 },
 "nbformat": 4,
 "nbformat_minor": 5
}
