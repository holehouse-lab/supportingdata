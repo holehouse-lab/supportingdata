{
 "cells": [
  {
   "cell_type": "markdown",
   "id": "ce5fc626-052a-4a60-82f0-5fb18d2ceb95",
   "metadata": {},
   "source": [
    "# Clean up the SAXS data\n",
    "This is an ad-hoc generated notebook to ensure scattering data all conforms to the same format in terms of:\n",
    "\n",
    "1. q being in Å\n",
    "2. Files being *bona fide* TSV files (e.g. separated using a tab character, not a comma)\n",
    "3. Remove comment lines (e.g. lines that start with a `#` character)\n",
    "\n",
    "Note that there should be no need to re-run this code, but we include it for completeness."
   ]
  },
  {
   "cell_type": "code",
   "execution_count": 5,
   "id": "8a321959-440e-4a6a-a2ac-4d5316340d70",
   "metadata": {},
   "outputs": [],
   "source": [
    "import protfasta\n",
    "\n",
    "# get all the names for the sequences we're gonna look at\n",
    "names = list(protfasta.read_fasta('experiment/sequences.fasta').keys())"
   ]
  },
  {
   "cell_type": "code",
   "execution_count": 6,
   "id": "342cbe8c-7d20-4145-9c31-6c9d264d3665",
   "metadata": {},
   "outputs": [],
   "source": [
    "# one type of fixing - sequences where q is n nanometers\n",
    "\n",
    "converter = ['a1_lcd', 'alpha_syn', 'ghr_icd', 'anac046', \n",
    "             'hst5', 'nurs_red1','eif4f_p150', 'tir_ctd', 'tau_504_758', 'n_fatz1', 'fatz1_delta91', 'bmal1_530_625', 'n_cornid',\n",
    "             'atcp12', 'mbp','ANAC013_161_274']\n",
    "for n in converter:\n",
    "  \n",
    "    multiplier = 0.1\n",
    "\n",
    "    # read in old file\n",
    "    with open(f'experiment/{n}/{n}.dat','r') as fh:\n",
    "        content = fh.readlines()\n",
    "\n",
    "    # write out new file\n",
    "    with open(f'experiment/{n}/{n}_clean.dat','w') as fh:\n",
    "\n",
    "        # for each line in the original file\n",
    "        for line in content:        \n",
    "            sline = line.strip()\n",
    "            sline = sline.split()            \n",
    "\n",
    "            # skip any comment lines\n",
    "            if len(sline) == 0 or sline[0] == '#':\n",
    "                continue\n",
    "\n",
    "            # if a line doesn't break down into 3 values\n",
    "            if len(sline) == 3:\n",
    "                fh.write(f\"{float(sline[0])*multiplier}\\t{sline[1]}\\t{sline[2]}\"+\"\\n\")\n",
    "            else:\n",
    "                print(line)    "
   ]
  },
  {
   "cell_type": "code",
   "execution_count": 7,
   "id": "3615bf02-ed9d-4b5c-bd86-42a06338e57e",
   "metadata": {},
   "outputs": [],
   "source": [
    "# Another type of fixing for files with four columns instead of three (we skip 4th column).\n",
    "converter = ['ebna1_381_455']\n",
    "for n in converter:\n",
    "  \n",
    "    multiplier = 1\n",
    "    \n",
    "    with open(f'experiment/{n}/{n}.dat','r') as fh:\n",
    "        content = fh.readlines()\n",
    "    \n",
    "    with open(f'experiment/{n}/{n}_clean.dat','w') as fh:\n",
    "          \n",
    "        for line in content:        \n",
    "            sline = line.strip()\n",
    "            sline = sline.split()            \n",
    "            if len(sline) == 0 or sline[0] == '#':\n",
    "                continue\n",
    "            if len(sline) == 4:\n",
    "                try:\n",
    "                    fh.write(f\"{float(sline[0])*multiplier}\\t{sline[1]}\\t{sline[2]}\"+\"\\n\")\n",
    "                except ValueError as e:\n",
    "                    print(f'ERROR WITH {n}')\n",
    "                    raise(e)\n",
    "                    \n",
    "            else:\n",
    "                print(line)    "
   ]
  },
  {
   "cell_type": "code",
   "execution_count": 8,
   "id": "83aa9960-136a-48fc-b4ae-958d3a376d56",
   "metadata": {},
   "outputs": [
    {
     "name": "stdout",
     "output_type": "stream",
     "text": [
      "### HEADER:\n",
      "\n",
      "#{\n",
      "\n",
      "#}\n",
      "\n",
      "### DATA:\n",
      "\n",
      "#471\n",
      "\n"
     ]
    }
   ],
   "source": [
    "# a third type of fixing, where we are just removing comment lines but not converting\n",
    "# nm to angstroms\n",
    "converter = ['sfafp','prota','sic1','nhE6cmdd','dss1','ash1','pol2_ctd', \n",
    "             'serf','hev_pnt3', 'hev_pnt3_yyy_aaa', 'hev_pnt3_200_314',\n",
    "             'e1a_36_146','syndecan3_ed','syndecan4_ed','ul11','trf2_ntd',\n",
    "             'laf1_rgg_ysg2max']\n",
    "for n in converter:\n",
    "  \n",
    "    multiplier = 1\n",
    "    \n",
    "    with open(f'experiment/{n}/{n}.dat','r') as fh:\n",
    "        content = fh.readlines()\n",
    "    \n",
    "    with open(f'experiment/{n}/{n}_clean.dat','w') as fh:\n",
    "          \n",
    "        for line in content:        \n",
    "            sline = line.strip()\n",
    "            sline = sline.split()            \n",
    "            if len(sline) == 0 or sline[0] == '#':\n",
    "                continue\n",
    "            if len(sline) == 3:\n",
    "                try:\n",
    "                    fh.write(f\"{float(sline[0])*multiplier}\\t{sline[1]}\\t{sline[2]}\"+\"\\n\")\n",
    "                except ValueError as e:\n",
    "                    print(f'ERROR WITH {n}')\n",
    "                    raise(e)\n",
    "                    \n",
    "            else:\n",
    "                print(line)    "
   ]
  }
 ],
 "metadata": {
  "kernelspec": {
   "display_name": "Python 3 (ipykernel)",
   "language": "python",
   "name": "python3"
  },
  "language_info": {
   "codemirror_mode": {
    "name": "ipython",
    "version": 3
   },
   "file_extension": ".py",
   "mimetype": "text/x-python",
   "name": "python",
   "nbconvert_exporter": "python",
   "pygments_lexer": "ipython3",
   "version": "3.12.10"
  }
 },
 "nbformat": 4,
 "nbformat_minor": 5
}
