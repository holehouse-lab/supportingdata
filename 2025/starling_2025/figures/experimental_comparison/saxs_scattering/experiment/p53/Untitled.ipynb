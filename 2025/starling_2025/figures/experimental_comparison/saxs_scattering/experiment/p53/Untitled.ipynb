{
 "cells": [
  {
   "cell_type": "code",
   "execution_count": 1,
   "id": "737dd347-7fc8-462e-9231-dd2ff3ef0bab",
   "metadata": {},
   "outputs": [],
   "source": [
    "with open('p53_NTD_SAXS.dat','r') as fh:\n",
    "    content = fh.readlines()"
   ]
  },
  {
   "cell_type": "code",
   "execution_count": 7,
   "id": "59636b26-4b13-4362-8117-6d016eb2b901",
   "metadata": {},
   "outputs": [],
   "source": [
    "fh  = open('clean_p53_NTD_SAXS.dat','w')\n",
    "for i in content:\n",
    "    sline = i.split()\n",
    "    fh.write(f\"{sline[0]}\\t{sline[1]}\\t{sline[2]}\\n\")"
   ]
  },
  {
   "cell_type": "code",
   "execution_count": null,
   "id": "483985b9-2b5f-4bc8-9afa-b5a0b56f3905",
   "metadata": {},
   "outputs": [],
   "source": []
  }
 ],
 "metadata": {
  "kernelspec": {
   "display_name": "Python 3 (ipykernel)",
   "language": "python",
   "name": "python3"
  },
  "language_info": {
   "codemirror_mode": {
    "name": "ipython",
    "version": 3
   },
   "file_extension": ".py",
   "mimetype": "text/x-python",
   "name": "python",
   "nbconvert_exporter": "python",
   "pygments_lexer": "ipython3",
   "version": "3.8.17"
  }
 },
 "nbformat": 4,
 "nbformat_minor": 5
}
