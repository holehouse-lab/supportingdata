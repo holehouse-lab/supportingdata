{
 "cells": [
  {
   "cell_type": "markdown",
   "id": "0aa55c52-a70d-4442-9e43-ed667c10084b",
   "metadata": {},
   "source": [
    "## About\n",
    "This notebook generates the sequence files which are then used to generate ensembles for this analysis. Specifically, this notebook generates three files:\n",
    "\n",
    "* `starling_comparison_data.csv` - CSV file with STARLING SAXS comparison sequences, associated experimental data, and predictions for a bunch of other methods.\n",
    "*  `all_comparison_seqs.fasta` - sequences for SAXS comparison in STARLING (i.e. sequences in `starling_comparison_data.csv`)\n",
    "*  `all_comparison_seqs_GS_versions.fasta` - sequences length-matched to `all_comparison_seqs.fasta` but as GS repeats.\n",
    " \n",
    "Ensembles were then generated using:\n",
    "\n",
    "    starling all_comparison_seqs.fasta -c 600 -r\n",
    "\n",
    "i.e. we generated with 600 conformers instead of 400 (default).\n",
    "\n",
    "    "
   ]
  },
  {
   "cell_type": "code",
   "execution_count": 2,
   "id": "9f163877-9ac9-402a-82c4-740e93572f86",
   "metadata": {},
   "outputs": [],
   "source": [
    "import protfasta\n",
    "import pandas as pd\n",
    "\n",
    "def build_gs(inseq):\n",
    "    \"\"\"\n",
    "    Function which takes an input sequence and returns a GS sequence that is \n",
    "    length matched.\n",
    "\n",
    "    Parameters\n",
    "    -------------\n",
    "    inseq : str\n",
    "        Input sequence for reference\n",
    "\n",
    "    Returns\n",
    "    ------------\n",
    "    str\n",
    "        GS repeat of length = inseq\n",
    "    \"\"\"\n",
    "\n",
    "    gs = ''\n",
    "    next_res = 'G'\n",
    "    while len(inseq) != len(gs):\n",
    "        gs = gs + next_res\n",
    "        if next_res == 'G':\n",
    "            next_res='S'\n",
    "        else:\n",
    "            next_res='G'\n",
    "    return gs\n",
    "    "
   ]
  },
  {
   "cell_type": "code",
   "execution_count": 9,
   "id": "a031fc7f-04de-45cc-949a-25682fa44d72",
   "metadata": {},
   "outputs": [
    {
     "name": "stdout",
     "output_type": "stream",
     "text": [
      "Initially, we have 137 sequences...\n"
     ]
    }
   ],
   "source": [
    "# Read our data in and print number of sequences\n",
    "df = pd.read_csv('all_comparison_data.csv', delimiter=', ', engine='python')  \n",
    "print(f\"Initially, we have {len(df)} sequences...\")"
   ]
  },
  {
   "cell_type": "code",
   "execution_count": 12,
   "id": "8c810ba5-e27b-45b8-928d-a419c768b063",
   "metadata": {},
   "outputs": [
    {
     "name": "stdout",
     "output_type": "stream",
     "text": [
      "After filtering, we have 133 sequences...\n"
     ]
    }
   ],
   "source": [
    "# filter down to select sequences less than 383 residues\n",
    "filtered_df = df[df['sequence'].str.len() <= 383]\n",
    "\n",
    "print(f\"After filtering, we have {len(filtered_df)} sequences...\")\n",
    "\n",
    "# save that filtered dataset out...\n",
    "filtered_df.to_csv('starling_comparison_data.csv', index=False)\n",
    "\n",
    "# Access each column and convert its values into a list, and build a dictionary\n",
    "# of those sequences\n",
    "sequence_list = filtered_df['sequence'].tolist()\n",
    "name_list = filtered_df['name'].tolist()\n",
    "\n",
    "seqs = {}\n",
    "for i in range(len(name_list)):\n",
    "    seqs[name_list[i]] = sequence_list[i]\n",
    "\n",
    "# save our STARLING comparison sequences out to a FASTA file\n",
    "protfasta.write_fasta(seqs,'all_comparison_seqs.fasta')    "
   ]
  },
  {
   "cell_type": "markdown",
   "id": "d0aa41e1-ae02-4c96-a878-b86041b162a7",
   "metadata": {},
   "source": [
    "### Build GS equivalents \n",
    "We also build GS-length sequences for reference"
   ]
  },
  {
   "cell_type": "code",
   "execution_count": 11,
   "id": "33d04cf8-8e39-4e0a-acd6-04034e33ffbf",
   "metadata": {},
   "outputs": [],
   "source": [
    "gs_seqs = {}\n",
    "for index, row in filtered_df.iterrows():\n",
    "    name = row['name']\n",
    "    s    = row['sequence']\n",
    "    gs = build_gs(s)\n",
    "    gs_seqs['GS_' + name] = gs\n",
    "protfasta.write_fasta(gs_seqs, 'all_comparison_seqs_GS_versions.fasta')\n"
   ]
  }
 ],
 "metadata": {
  "kernelspec": {
   "display_name": "Python 3 (ipykernel)",
   "language": "python",
   "name": "python3"
  },
  "language_info": {
   "codemirror_mode": {
    "name": "ipython",
    "version": 3
   },
   "file_extension": ".py",
   "mimetype": "text/x-python",
   "name": "python",
   "nbconvert_exporter": "python",
   "pygments_lexer": "ipython3",
   "version": "3.12.10"
  }
 },
 "nbformat": 4,
 "nbformat_minor": 5
}
