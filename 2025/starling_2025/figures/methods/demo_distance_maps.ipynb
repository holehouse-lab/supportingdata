{
 "cells": [
  {
   "cell_type": "markdown",
   "id": "385311cd-0339-4ea7-a9c2-bf80d2905178",
   "metadata": {},
   "source": [
    "# Demo \n",
    "Demo notebook for generating inter-residue distance maps"
   ]
  },
  {
   "cell_type": "code",
   "execution_count": 1,
   "id": "663589df-898c-4c3c-926d-d22611f979fa",
   "metadata": {},
   "outputs": [],
   "source": [
    "import matplotlib\n",
    "import matplotlib.pyplot as plt\n",
    "from matplotlib.pyplot import figure\n",
    "from tqdm import tqdm\n",
    "from scipy.optimize import curve_fit\n",
    "\n",
    "import matplotlib as mpl\n",
    "\n",
    "mpl.rcParams['xtick.major.pad'] = 1\n",
    "mpl.rcParams['ytick.major.pad'] = 1\n",
    "\n",
    "mpl.rcParams['xtick.major.size'] = 2  # Major tick length for x-axis\n",
    "mpl.rcParams['xtick.minor.size'] = 0.5   # Minor tick length for x-axis\n",
    "mpl.rcParams['ytick.major.size'] = 2  # Major tick length for y-axis\n",
    "mpl.rcParams['ytick.minor.size'] = 0.5   # Minor tick length for y-axis\n",
    "\n",
    "mpl.rcParams['xtick.major.width'] = 0.375  # Major tick width for x-axis\n",
    "mpl.rcParams['ytick.major.width'] = 0.375  # Major tick width for y-axis\n",
    "mpl.rcParams['xtick.minor.width'] = 0.375  # Major tick width for x-axis\n",
    "mpl.rcParams['ytick.minor.width'] = 0.375  # Major tick width for y-axis\n",
    "\n",
    "\n",
    "\t\n",
    "# Set such that PDF fonts export in a manner that they\n",
    "# are editable in illustrator/affinity\n",
    "matplotlib.rcParams['pdf.fonttype'] = 42\n",
    "matplotlib.rcParams['ps.fonttype'] = 42\n",
    "\n",
    "# set to define axes linewidths\n",
    "matplotlib.rcParams['axes.linewidth'] = 0.375\n",
    "tqdm\n",
    "# this defines some prefactors so inline figures look nice\n",
    "# on a retina macbook. These can be commented out without any\n",
    "# issue and are solely asthetic.\n",
    "%matplotlib inline\n",
    "%config InlineBackend.figure_format='retina'\n",
    "\n",
    "font = {'family' : 'arial',\n",
    "    \t'weight' : 'normal'}\n",
    "\n",
    "matplotlib.rc('font', **font)\n",
    "from sparrow.data.amino_acids import VALID_AMINO_ACIDS\n",
    "\n",
    "import matplotlib.pyplot as plt\n",
    "import numpy as np\n",
    "import matplotlib.cm as cm\n",
    "import matplotlib.colors as mcolors"
   ]
  },
  {
   "cell_type": "code",
   "execution_count": 2,
   "id": "3494d6e5-cc11-46d0-8d97-0c4e72a699e6",
   "metadata": {},
   "outputs": [],
   "source": [
    "from starling import load_ensemble"
   ]
  },
  {
   "cell_type": "code",
   "execution_count": 3,
   "id": "44840449-affe-48e9-9036-b85c86795679",
   "metadata": {},
   "outputs": [],
   "source": [
    "e = load_ensemble('demo_10.starling')"
   ]
  },
  {
   "cell_type": "code",
   "execution_count": 5,
   "id": "12a15be0-5b4b-41a2-843c-e70b4b758e06",
   "metadata": {},
   "outputs": [],
   "source": [
    "for i in range(1,6):\n",
    "    plt.imshow(e.distance_maps()[i], cmap='PuOr_r')\n",
    "    plt.savefig(f'matrix_figures/matrix_{i}.pdf')\n",
    "    plt.close()"
   ]
  },
  {
   "cell_type": "code",
   "execution_count": 7,
   "id": "35ff32e4-3ea9-4b5e-bc20-669265e959ef",
   "metadata": {},
   "outputs": [],
   "source": [
    "plt.imshow(e.distance_maps()[0], cmap='PuOr_r', vmin=0, vmax=15)\n",
    "plt.colorbar()\n",
    "plt.savefig('matrix_figures/matrix_cbar.pdf')\n",
    "plt.close()"
   ]
  },
  {
   "cell_type": "code",
   "execution_count": 8,
   "id": "1ecff09e-ad06-48c4-a21b-1f7313c5c6ae",
   "metadata": {},
   "outputs": [],
   "source": [
    "plt.imshow(e.distance_maps(return_mean=True), cmap='PuOr_r', vmin=0, vmax=15)\n",
    "plt.savefig('matrix_figures/matrix_average.pdf')\n",
    "plt.close()"
   ]
  }
 ],
 "metadata": {
  "kernelspec": {
   "display_name": "Python 3 (ipykernel)",
   "language": "python",
   "name": "python3"
  },
  "language_info": {
   "codemirror_mode": {
    "name": "ipython",
    "version": 3
   },
   "file_extension": ".py",
   "mimetype": "text/x-python",
   "name": "python",
   "nbconvert_exporter": "python",
   "pygments_lexer": "ipython3",
   "version": "3.12.10"
  }
 },
 "nbformat": 4,
 "nbformat_minor": 5
}
