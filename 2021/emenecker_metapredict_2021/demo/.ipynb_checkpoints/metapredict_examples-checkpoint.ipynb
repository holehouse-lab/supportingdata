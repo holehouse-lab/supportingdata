{
 "cells": [
  {
   "cell_type": "markdown",
   "metadata": {},
   "source": [
    "# Metapredict examples"
   ]
  },
  {
   "cell_type": "code",
   "execution_count": 1,
   "metadata": {},
   "outputs": [],
   "source": [
    "# Make graphs show up properly\n",
    "%matplotlib inline"
   ]
  },
  {
   "cell_type": "markdown",
   "metadata": {},
   "source": [
    "## Predicting Disorder"
   ]
  },
  {
   "cell_type": "code",
   "execution_count": 2,
   "metadata": {},
   "outputs": [],
   "source": [
    "import metapredict\n",
    "from metapredict import meta"
   ]
  },
  {
   "cell_type": "markdown",
   "metadata": {},
   "source": [
    "### Predicting Disorder From a Sequence"
   ]
  },
  {
   "cell_type": "code",
   "execution_count": 3,
   "metadata": {},
   "outputs": [],
   "source": [
    "# Example sequence is hnRNPA1 UniprotID P09651\n",
    "hnRNPA1 = 'MSKSESPKEPEQLRKLFIGGLSFETTDESLRSHFEQWGTLTDCVVMRDPNTKRSRGFGFVTYATVEEVDAAMNARPHKVDGRVVEPKRAVSREDSQRPGAHLTVKKIFVGGIKEDTEEHHLRDYFEQYGKIEVIEIMTDRGSGKKRGFAFVTFDDHDSVDKIVIQKYHTVNGHNCEVRKALSKQEMASASSSQRGRSGSGNFGGGRGGGFGGNDNFGRGGNFSGRGGFGGSRGGGGYGGSGDGYNGFGNDGGYGGGGPGYSGGSRGYGSGGQGYGNQGSGYGGSGSYDSYNNGGGGGFGGGSGSNFGGGGSYNDFGNYNNQSSNFGPMKGGNFGGRSSGPYGGGGQYFAKPRNQGGYGGSSSSSSYGSGRRF'"
   ]
  },
  {
   "cell_type": "code",
   "execution_count": 4,
   "metadata": {},
   "outputs": [
    {
     "name": "stdout",
     "output_type": "stream",
     "text": [
      "[1, 1, 1, 1, 0.965, 0.895, 0.828, 0.729, 0.631, 0.615, 0.537, 0.448, 0.473, 0.373, 0.374, 0.346, 0.226, 0.169, 0.199, 0.195, 0.177, 0.205, 0.17, 0.24, 0.215, 0.213, 0.226, 0.247, 0.285, 0.24, 0.228, 0.256, 0.269, 0.187, 0.185, 0.205, 0.149, 0.136, 0.135, 0.104, 0.088, 0.105, 0.093, 0.121, 0.215, 0.297, 0.354, 0.327, 0.306, 0.265, 0.274, 0.283, 0.29, 0.312, 0.323, 0.343, 0.253, 0.199, 0.13, 0.042, 0.01, 0.028, 0.033, 0.021, 0.063, 0.092, 0.085, 0.12, 0.184, 0.202, 0.252, 0.286, 0.354, 0.372, 0.393, 0.41, 0.38, 0.403, 0.377, 0.437, 0.426, 0.418, 0.35, 0.385, 0.447, 0.444, 0.411, 0.446, 0.454, 0.482, 0.562, 0.563, 0.559, 0.557, 0.564, 0.523, 0.496, 0.524, 0.517, 0.486, 0.448, 0.389, 0.314, 0.239, 0.197, 0.214, 0.136, 0.098, 0.15, 0.163, 0.137, 0.152, 0.234, 0.198, 0.172, 0.16, 0.169, 0.187, 0.203, 0.208, 0.164, 0.113, 0.141, 0.109, 0.04, 0.006, 0.009, 0.012, 0, 0, 0, 0, 0, 0.029, 0.069, 0.163, 0.268, 0.326, 0.314, 0.297, 0.291, 0.283, 0.279, 0.262, 0.257, 0.261, 0.285, 0.189, 0.127, 0.097, 0.14, 0.174, 0.23, 0.247, 0.199, 0.146, 0.114, 0.084, 0.065, 0.039, 0.026, 0.026, 0.044, 0.126, 0.14, 0.137, 0.209, 0.238, 0.261, 0.318, 0.323, 0.329, 0.319, 0.327, 0.308, 0.31, 0.318, 0.332, 0.335, 0.354, 0.415, 0.39, 0.415, 0.428, 0.47, 0.487, 0.521, 0.548, 0.603, 0.628, 0.694, 0.758, 0.782, 0.794, 0.814, 0.825, 0.81, 0.836, 0.839, 0.847, 0.853, 0.816, 0.725, 0.732, 0.739, 0.766, 0.732, 0.724, 0.718, 0.722, 0.638, 0.635, 0.632, 0.631, 0.626, 0.634, 0.571, 0.608, 0.597, 0.602, 0.619, 0.641, 0.566, 0.598, 0.637, 0.62, 0.644, 0.681, 0.586, 0.604, 0.636, 0.681, 0.649, 0.648, 0.643, 0.647, 0.687, 0.585, 0.583, 0.585, 0.579, 0.576, 0.566, 0.594, 0.509, 0.526, 0.588, 0.492, 0.506, 0.534, 0.536, 0.563, 0.619, 0.518, 0.539, 0.565, 0.576, 0.583, 0.594, 0.641, 0.562, 0.58, 0.583, 0.58, 0.597, 0.59, 0.628, 0.537, 0.549, 0.57, 0.568, 0.57, 0.588, 0.622, 0.547, 0.556, 0.576, 0.589, 0.588, 0.601, 0.63, 0.566, 0.564, 0.564, 0.56, 0.546, 0.573, 0.519, 0.53, 0.568, 0.481, 0.502, 0.526, 0.545, 0.558, 0.564, 0.57, 0.604, 0.548, 0.554, 0.561, 0.558, 0.557, 0.534, 0.532, 0.554, 0.518, 0.503, 0.485, 0.452, 0.418, 0.431, 0.415, 0.42, 0.442, 0.428, 0.436, 0.481, 0.466, 0.496, 0.528, 0.556, 0.575, 0.593, 0.6, 0.581, 0.604, 0.618, 0.642, 0.654, 0.655, 0.662, 0.691, 0.669, 0.69, 0.733, 0.73, 0.735, 0.716, 0.68, 0.649, 0.65, 0.615, 0.573, 0.527, 0.507, 0.536, 0.63, 0.688, 0.695, 0.724, 0.777, 0.788, 0.844, 0.843, 0.829, 0.909, 0.879, 0.889, 0.915, 0.94, 0.955, 0.94, 0.938, 0.866, 0.93, 0.91, 0.92, 0.846, 0.863, 0.863, 0.766]\n"
     ]
    }
   ],
   "source": [
    "# print predicted disorder for hnRNPA1\n",
    "print(meta.predict_disorder(hnRNPA1))"
   ]
  },
  {
   "cell_type": "markdown",
   "metadata": {},
   "source": [
    "NOTE: You do not need to set the sequence to a variable and then predict disorder using that variable. You can directly input the sequence as a String into the meta.predict_disorder() function."
   ]
  },
  {
   "cell_type": "code",
   "execution_count": 5,
   "metadata": {},
   "outputs": [
    {
     "name": "stdout",
     "output_type": "stream",
     "text": [
      "[1, 1, 1, 1, 0.965, 0.895, 0.828, 0.729, 0.631, 0.615, 0.537, 0.448, 0.473, 0.373, 0.374, 0.346, 0.226, 0.169, 0.199, 0.195, 0.177, 0.205, 0.17, 0.24, 0.215, 0.213, 0.226, 0.247, 0.285, 0.24, 0.228, 0.256, 0.269, 0.187, 0.185, 0.205, 0.149, 0.136, 0.135, 0.104, 0.088, 0.105, 0.093, 0.121, 0.215, 0.297, 0.354, 0.327, 0.306, 0.265, 0.274, 0.283, 0.29, 0.312, 0.323, 0.343, 0.253, 0.199, 0.13, 0.042, 0.01, 0.028, 0.033, 0.021, 0.063, 0.092, 0.085, 0.12, 0.184, 0.202, 0.252, 0.286, 0.354, 0.372, 0.393, 0.41, 0.38, 0.403, 0.377, 0.437, 0.426, 0.418, 0.35, 0.385, 0.447, 0.444, 0.411, 0.446, 0.454, 0.482, 0.562, 0.563, 0.559, 0.557, 0.564, 0.523, 0.496, 0.524, 0.517, 0.486, 0.448, 0.389, 0.314, 0.239, 0.197, 0.214, 0.136, 0.098, 0.15, 0.163, 0.137, 0.152, 0.234, 0.198, 0.172, 0.16, 0.169, 0.187, 0.203, 0.208, 0.164, 0.113, 0.141, 0.109, 0.04, 0.006, 0.009, 0.012, 0, 0, 0, 0, 0, 0.029, 0.069, 0.163, 0.268, 0.326, 0.314, 0.297, 0.291, 0.283, 0.279, 0.262, 0.257, 0.261, 0.285, 0.189, 0.127, 0.097, 0.14, 0.174, 0.23, 0.247, 0.199, 0.146, 0.114, 0.084, 0.065, 0.039, 0.026, 0.026, 0.044, 0.126, 0.14, 0.137, 0.209, 0.238, 0.261, 0.318, 0.323, 0.329, 0.319, 0.327, 0.308, 0.31, 0.318, 0.332, 0.335, 0.354, 0.415, 0.39, 0.415, 0.428, 0.47, 0.487, 0.521, 0.548, 0.603, 0.628, 0.694, 0.758, 0.782, 0.794, 0.814, 0.825, 0.81, 0.836, 0.839, 0.847, 0.853, 0.816, 0.725, 0.732, 0.739, 0.766, 0.732, 0.724, 0.718, 0.722, 0.638, 0.635, 0.632, 0.631, 0.626, 0.634, 0.571, 0.608, 0.597, 0.602, 0.619, 0.641, 0.566, 0.598, 0.637, 0.62, 0.644, 0.681, 0.586, 0.604, 0.636, 0.681, 0.649, 0.648, 0.643, 0.647, 0.687, 0.585, 0.583, 0.585, 0.579, 0.576, 0.566, 0.594, 0.509, 0.526, 0.588, 0.492, 0.506, 0.534, 0.536, 0.563, 0.619, 0.518, 0.539, 0.565, 0.576, 0.583, 0.594, 0.641, 0.562, 0.58, 0.583, 0.58, 0.597, 0.59, 0.628, 0.537, 0.549, 0.57, 0.568, 0.57, 0.588, 0.622, 0.547, 0.556, 0.576, 0.589, 0.588, 0.601, 0.63, 0.566, 0.564, 0.564, 0.56, 0.546, 0.573, 0.519, 0.53, 0.568, 0.481, 0.502, 0.526, 0.545, 0.558, 0.564, 0.57, 0.604, 0.548, 0.554, 0.561, 0.558, 0.557, 0.534, 0.532, 0.554, 0.518, 0.503, 0.485, 0.452, 0.418, 0.431, 0.415, 0.42, 0.442, 0.428, 0.436, 0.481, 0.466, 0.496, 0.528, 0.556, 0.575, 0.593, 0.6, 0.581, 0.604, 0.618, 0.642, 0.654, 0.655, 0.662, 0.691, 0.669, 0.69, 0.733, 0.73, 0.735, 0.716, 0.68, 0.649, 0.65, 0.615, 0.573, 0.527, 0.507, 0.536, 0.63, 0.688, 0.695, 0.724, 0.777, 0.788, 0.844, 0.843, 0.829, 0.909, 0.879, 0.889, 0.915, 0.94, 0.955, 0.94, 0.938, 0.866, 0.93, 0.91, 0.92, 0.846, 0.863, 0.863, 0.766]\n"
     ]
    }
   ],
   "source": [
    "# directly input sequence...\n",
    "print(meta.predict_disorder('MSKSESPKEPEQLRKLFIGGLSFETTDESLRSHFEQWGTLTDCVVMRDPNTKRSRGFGFVTYATVEEVDAAMNARPHKVDGRVVEPKRAVSREDSQRPGAHLTVKKIFVGGIKEDTEEHHLRDYFEQYGKIEVIEIMTDRGSGKKRGFAFVTFDDHDSVDKIVIQKYHTVNGHNCEVRKALSKQEMASASSSQRGRSGSGNFGGGRGGGFGGNDNFGRGGNFSGRGGFGGSRGGGGYGGSGDGYNGFGNDGGYGGGGPGYSGGSRGYGSGGQGYGNQGSGYGGSGSYDSYNNGGGGGFGGGSGSNFGGGGSYNDFGNYNNQSSNFGPMKGGNFGGRSSGPYGGGGQYFAKPRNQGGYGGSSSSSSYGSGRRF'))"
   ]
  },
  {
   "cell_type": "markdown",
   "metadata": {},
   "source": [
    "### Predicting disorder using a Uniprot ID"
   ]
  },
  {
   "cell_type": "markdown",
   "metadata": {},
   "source": [
    "metapredict allows disorder predictions by inputting the Uniprot ID rather than the sequence. The Uniprot ID for p53 is P04637. Let's give that a go."
   ]
  },
  {
   "cell_type": "code",
   "execution_count": 6,
   "metadata": {},
   "outputs": [
    {
     "name": "stdout",
     "output_type": "stream",
     "text": [
      "[1, 1, 1, 1, 1, 1, 0.993, 0.982, 0.882, 0.86, 0.824, 0.794, 0.719, 0.668, 0.634, 0.562, 0.513, 0.498, 0.457, 0.4, 0.404, 0.377, 0.271, 0.266, 0.246, 0.294, 0.337, 0.317, 0.337, 0.356, 0.367, 0.402, 0.417, 0.449, 0.428, 0.487, 0.482, 0.484, 0.478, 0.45, 0.465, 0.46, 0.407, 0.398, 0.406, 0.376, 0.385, 0.373, 0.392, 0.374, 0.437, 0.478, 0.467, 0.534, 0.504, 0.521, 0.549, 0.617, 0.696, 0.755, 0.791, 0.812, 0.807, 0.803, 0.793, 0.762, 0.759, 0.764, 0.771, 0.764, 0.764, 0.741, 0.747, 0.761, 0.76, 0.766, 0.765, 0.768, 0.782, 0.777, 0.765, 0.74, 0.718, 0.738, 0.728, 0.694, 0.68, 0.641, 0.627, 0.565, 0.572, 0.58, 0.527, 0.585, 0.567, 0.541, 0.5, 0.503, 0.456, 0.454, 0.455, 0.45, 0.405, 0.361, 0.352, 0.35, 0.352, 0.269, 0.247, 0.18, 0.149, 0.131, 0.115, 0.106, 0.148, 0.144, 0.152, 0.16, 0.173, 0.187, 0.219, 0.204, 0.165, 0.119, 0.071, 0.062, 0.024, 0.05, 0.084, 0.054, 0.013, 0.031, 0.027, 0, 0, 0, 0, 0, 0, 0, 0.032, 0.01, 0.058, 0.071, 0.116, 0.234, 0.396, 0.409, 0.368, 0.346, 0.313, 0.304, 0.303, 0.3, 0.302, 0.302, 0.218, 0.18, 0.144, 0.09, 0.047, 0.037, 0.08, 0.139, 0.124, 0.107, 0.106, 0.113, 0.102, 0.1, 0.122, 0.111, 0.117, 0.158, 0.176, 0.199, 0.299, 0.272, 0.294, 0.327, 0.354, 0.329, 0.448, 0.435, 0.45, 0.446, 0.44, 0.336, 0.296, 0.3, 0.292, 0.308, 0.314, 0.23, 0.109, 0.058, 0.033, 0.014, 0.023, 0.032, 0.035, 0, 0.011, 0.004, 0.036, 0.074, 0.081, 0.058, 0.051, 0.062, 0.075, 0.064, 0.09, 0.1, 0.125, 0.13, 0.149, 0.22, 0.269, 0.252, 0.312, 0.303, 0.292, 0.299, 0.27, 0.279, 0.275, 0.273, 0.191, 0.115, 0.106, 0.049, 0, 0.006, 0, 0.007, 0.007, 0.074, 0.124, 0.1, 0.088, 0.133, 0.207, 0.235, 0.204, 0.19, 0.167, 0.105, 0.052, 0.044, 0.035, 0, 0, 0.038, 0.149, 0.235, 0.314, 0.363, 0.345, 0.306, 0.281, 0.276, 0.273, 0.229, 0.254, 0.301, 0.264, 0.244, 0.222, 0.177, 0.218, 0.22, 0.264, 0.311, 0.408, 0.44, 0.504, 0.453, 0.472, 0.495, 0.531, 0.545, 0.574, 0.603, 0.632, 0.665, 0.699, 0.737, 0.709, 0.716, 0.739, 0.761, 0.809, 0.844, 0.908, 0.927, 0.93, 0.947, 0.927, 0.892, 0.929, 0.939, 0.939, 0.944, 0.944, 0.954, 0.944, 0.912, 0.875, 0.922, 0.957, 0.992, 0.993, 1, 1, 0.978, 0.935, 0.863, 0.788, 0.754, 0.709, 0.637, 0.596, 0.522, 0.46, 0.431, 0.426, 0.305, 0.263, 0.225, 0.221, 0.203, 0.222, 0.211, 0.193, 0.184, 0.204, 0.19, 0.184, 0.175, 0.173, 0.198, 0.204, 0.229, 0.272, 0.295, 0.336, 0.375, 0.44, 0.485, 0.502, 0.559, 0.603, 0.641, 0.68, 0.728, 0.793, 0.841, 0.899, 0.941, 0.954, 0.947, 0.946, 0.941, 0.939, 0.923, 0.894, 0.875, 0.904, 0.951, 0.944, 0.964, 0.979, 0.949, 0.925, 0.853, 0.789, 0.719, 0.662, 0.615, 0.601, 0.61, 0.64, 0.696, 0.731, 0.872, 0.846, 0.954, 0.997, 1, 1, 1, 1]\n"
     ]
    }
   ],
   "source": [
    "print(meta.predict_disorder_uniprot('P04637'))\n",
    "# NOTE: This function can take a little bit of time due to having to fetch the sequence from Uniprot -\n",
    "# the time depends on your internet connectivity!"
   ]
  },
  {
   "cell_type": "markdown",
   "metadata": {},
   "source": [
    "### Calculating percent disorder"
   ]
  },
  {
   "cell_type": "markdown",
   "metadata": {},
   "source": [
    "If you just need the percent disorder of a sequence, metapredict can do that using the percent_disorder() function."
   ]
  },
  {
   "cell_type": "code",
   "execution_count": null,
   "metadata": {},
   "outputs": [],
   "source": [
    "# We will use the hnRNPA1 sequence we set before for this.\n",
    "# Like meta.predict_disorder(), you can also just input a sequence.\n",
    "print(meta.percent_disorder(hnRNPA1))"
   ]
  },
  {
   "cell_type": "markdown",
   "metadata": {},
   "source": [
    "The cutoff for a residue to be considered disordered in the percent_disorder() function for metapredict is by default set to 0.3. However, you can manually alter this cutoff to make the classification of a residue as disorder more strict by increasing the cutoff value."
   ]
  },
  {
   "cell_type": "code",
   "execution_count": null,
   "metadata": {},
   "outputs": [],
   "source": [
    "print(\"Cutoff value of 0.5 gives percent disorder of {}\".format(meta.percent_disorder(hnRNPA1, cutoff=0.5)))\n",
    "print(\"Cutoff value of 0.75 gives percent disorder of {}\".format(meta.percent_disorder(hnRNPA1, cutoff=0.75)))\n",
    "print(\"Cutoff value of 1.0 gives percent disorder of {}\".format(meta.percent_disorder(hnRNPA1, cutoff=1.0)))"
   ]
  },
  {
   "cell_type": "markdown",
   "metadata": {},
   "source": [
    "### Predicting disorder using a FASTA formatted file"
   ]
  },
  {
   "cell_type": "markdown",
   "metadata": {},
   "source": [
    "Metapredict allows users to predict disorder from all sequences in a fasta file. The utility of this is that you can download an entire proteome (in FASTA format) and predict disorder for all sequences in that proteome using a single command. However, for obvious reasons, in this example we will just look at 2 sequences."
   ]
  },
  {
   "cell_type": "code",
   "execution_count": null,
   "metadata": {},
   "outputs": [],
   "source": [
    "print(meta.predict_disorder_fasta('Tau_and_p53.fasta'))"
   ]
  },
  {
   "cell_type": "markdown",
   "metadata": {},
   "source": [
    "When predicting disorder form a FASTA file, metapredict will return the values as a dictionary to make it easy to retrieve individual disorder scores."
   ]
  },
  {
   "cell_type": "code",
   "execution_count": null,
   "metadata": {},
   "outputs": [],
   "source": [
    "fasta_disorder=meta.predict_disorder_fasta('Tau_and_p53.fasta')"
   ]
  },
  {
   "cell_type": "code",
   "execution_count": null,
   "metadata": {},
   "outputs": [],
   "source": [
    "print(fasta_disorder['TAU'])"
   ]
  },
  {
   "cell_type": "code",
   "execution_count": null,
   "metadata": {},
   "outputs": [],
   "source": [
    "print(fasta_disorder['p53'])"
   ]
  },
  {
   "cell_type": "markdown",
   "metadata": {},
   "source": [
    "You can also save the output from the predict_disorder_fasta() function by setting *save=True*. By default, this will save the output to your current directory. Additionally, by default this wiil save the file as **predicted_disorder_values.csv**; however, you can specify the name by setting *output_name=\"my_awesome_predictions.csv\"*."
   ]
  },
  {
   "cell_type": "code",
   "execution_count": null,
   "metadata": {},
   "outputs": [],
   "source": [
    "meta.predict_disorder_fasta('Tau_and_p53.fasta', save=True, output_name='Tau_and_p53_predictions.csv')"
   ]
  },
  {
   "cell_type": "markdown",
   "metadata": {},
   "source": [
    "You can also specify the location that the .csv will save by specifying *output_path=/Users/exampleUser/Desktop/ExampleFolder*"
   ]
  },
  {
   "cell_type": "code",
   "execution_count": null,
   "metadata": {},
   "outputs": [],
   "source": [
    "# get the current file path\n",
    "import os\n",
    "path=\"{}/example_output_path/\".format(os.getcwd())\n",
    "meta.predict_disorder_fasta('Tau_and_p53.fasta', save=True, output_path=path, output_name=\"Tau_and_p53_prediction.csv\")"
   ]
  },
  {
   "cell_type": "markdown",
   "metadata": {},
   "source": [
    "### Predicting disorder domains"
   ]
  },
  {
   "cell_type": "markdown",
   "metadata": {},
   "source": [
    "metapredict holds functionality to predict 'ordered' and disordered domains in a sequence. This can be done by inputting a sequnce or by using a Uniprot ID. We have found that using this function is slightly more accurate than simply using a binary classification of regions by looking at a resiude and whether it is above or below the cutoff value."
   ]
  },
  {
   "cell_type": "code",
   "execution_count": null,
   "metadata": {},
   "outputs": [],
   "source": [
    "print(meta.predict_disorder_domains(\"MKAPSNGFLPSSNEGEKKPINSQLWHACAGPLVSLPPVGSLVVYFPQGHSEQVAASMQKQTDFIPNYPNLPSKLICLLHS\"))"
   ]
  },
  {
   "cell_type": "markdown",
   "metadata": {},
   "source": [
    "The formatting can look a little confusing, so let's walk through it quickly. The returned tuple is broken down as follows:\n",
    " 0. the raw disorder scores from 0 to 1 where 1 is the highest probability that a residue is disordered, 1. the smoothed disorder score used for boundary identification, 2. a list of elements where each element is a list where 0 and 1 define the IDR location and 2 gives the actual sequence, and 3. a list of elements where each element is a list where 0 and 1 define the folded domain location and 2 gives the actual sequence"
   ]
  },
  {
   "cell_type": "code",
   "execution_count": null,
   "metadata": {},
   "outputs": [],
   "source": [
    "testing_domains_func=meta.predict_disorder_domains(\"MKAPSNGFLPSSNEGEKKPINSQLWHACAGPLVSLPPVGSLVVYFPQGHSEQVAASMQKQTDFIPNYPNLPSKLICLLHS\")"
   ]
  },
  {
   "cell_type": "code",
   "execution_count": null,
   "metadata": {},
   "outputs": [],
   "source": [
    "# if we want the raw disorder scores for the sequence, we simply call the 0 item in the tuple\n",
    "raw_dis_scores=testing_domains_func[0]\n",
    "print(raw_dis_scores)"
   ]
  },
  {
   "cell_type": "code",
   "execution_count": null,
   "metadata": {},
   "outputs": [],
   "source": [
    "# if we want the 'smoothed' disorder scores, which are used for defining the domains, we call the 1 item\n",
    "smoothed_dis_scores = testing_domains_func[1]\n",
    "print(smoothed_dis_scores)"
   ]
  },
  {
   "cell_type": "code",
   "execution_count": null,
   "metadata": {},
   "outputs": [],
   "source": [
    "# if we want the list of IDRs, we call the 2 item\n",
    "IDRs = testing_domains_func[2]\n",
    "print(IDRs)"
   ]
  },
  {
   "cell_type": "code",
   "execution_count": null,
   "metadata": {},
   "outputs": [],
   "source": [
    "# in IDRs, the first two items in the list are the coordinates for the IDR and the third item is the sequence\n",
    "# this sequence only has 1 IDR, so let's grab that from the list of IDRs.\n",
    "IDR1 = IDRs[0]\n",
    "# now we can grab the coordinates and the sequence from the IDR.\n",
    "Coordinate1 = IDR1[0]\n",
    "Coordinate2 = IDR1[1]\n",
    "IDRSequence = IDR1[2]\n",
    "print(\"The coordinates for this IDR are {} and {}. The sequence of the IDR is {}\".format(Coordinate1, Coordinate2, IDRSequence))"
   ]
  },
  {
   "cell_type": "markdown",
   "metadata": {},
   "source": [
    "#### Additional arguments"
   ]
  },
  {
   "cell_type": "markdown",
   "metadata": {},
   "source": [
    "With the predict_disorder_domains() function, you can specify various parameters including the cutoff value for the disorder *default is 0.42*, the minimum IDR size *default is 12*, the minimum size of the folded domain *default is 50*, and the gap closure size *default is 10*. Information on the various paramters can be found below:\n",
    "\n",
    "**disorder_threshold : float**\n",
    "        Value that defines what 'disordered' is based on the metapredict disorder score. The higher the value the more stringent the cutoff. Default = 0.42\n",
    "\n",
    "**minimum_IDR_size : int**\n",
    "        Defines the smallest possible IDR. This is a hard limit - i.e. we CANNOT get IDRs smaller than this. Default = 12.\n",
    "\n",
    "**minimum_folded_domain : int** \n",
    "        Defines where we expect the limit of small folded domains to be. This is NOT a hard limit and functions to modulate the removal of large gaps (i.e. gaps less than this size are treated less strictly). Note that, in addition, gaps < 35 are evaluated with a threshold of 0.35*disorder_threshold and gaps < 20 are evaluated with a threshold of 0.25*disorder_threshold. These two lengthscales were decided based on the fact that coiled-coiled regions (which are IDRs in isolation) often show up with reduced apparent disorder within IDRs, and but can be as short as 20-30 residues. The folded_domain_threshold is used based on the idea that it allows a 'shortest reasonable' folded domain to be identified. Default=50.\n",
    "\n",
    "**gap_closure : int**\n",
    "        Defines the largest gap that would be 'closed'. Gaps here refer to a scenario in which you have two groups of disordered residues seprated by a 'gap' of un-disordered residues. In general large gap sizes will favour larger contigous IDRs. It's worth noting that gap_closure becomes relevant only when minimum_region_size becomes very small (i.e. < 5) because really gaps emerge when the smoothed disorder fit is \"noisy\", but when smoothed gaps are increasingly rare. Default=10."
   ]
  },
  {
   "cell_type": "code",
   "execution_count": null,
   "metadata": {},
   "outputs": [],
   "source": [
    "# example specifying all parameters\n",
    "print(meta.predict_disorder_domains(hnRNPA1, disorder_threshold=0.3, minimum_IDR_size=15, minimum_folded_domain=60, gap_closure=12))"
   ]
  },
  {
   "cell_type": "markdown",
   "metadata": {},
   "source": [
    "### Predicting disorder domains from a Uniprot ID"
   ]
  },
  {
   "cell_type": "markdown",
   "metadata": {},
   "source": [
    "Similar to being able to predict disorder scores from a Uniprot ID, you can also predict disorder domains using a Uniprot ID."
   ]
  },
  {
   "cell_type": "code",
   "execution_count": null,
   "metadata": {},
   "outputs": [],
   "source": [
    "predict_disorder_domains_uniprot('P04637')"
   ]
  },
  {
   "cell_type": "markdown",
   "metadata": {},
   "source": [
    "# Graphing Disorder"
   ]
  },
  {
   "cell_type": "markdown",
   "metadata": {},
   "source": [
    "Metapredict contains substantial functionality for graphing disorder to make it easy to quickly visualise which parts of your sequence of interest are disorderd. In addition, we added some functionality so you can customize your graph in a few *nifty* ways."
   ]
  },
  {
   "cell_type": "markdown",
   "metadata": {},
   "source": [
    "### Graphing disorder form a sequence"
   ]
  },
  {
   "cell_type": "markdown",
   "metadata": {},
   "source": [
    "Similar to the meta.predict_disorder(), metapredict can generate graphs directly from a sequence using the *meta.graph_disorder()* function."
   ]
  },
  {
   "cell_type": "code",
   "execution_count": null,
   "metadata": {},
   "outputs": [],
   "source": [
    "# graph disorder using previously defined hnRNPA1 sequence\n",
    "meta.graph_disorder(hnRNPA1)"
   ]
  },
  {
   "cell_type": "code",
   "execution_count": null,
   "metadata": {},
   "outputs": [],
   "source": [
    "# in the same way as the predict_disordeR() function, you can also directly\n",
    "# input the amino. acid sequence as a String for grpahing.\n",
    "meta.graph_disorder('MSKSESPKEPEQLRKLFIGGLSFETTDESLRSHFEQWGTLTDCVVMRDPNTKRSRGFGFVTYATVEEVDAAMNARPHKVDGRVVEPKRAVSREDSQRPGAHLTVKKIFVGGIKEDTEEHHLRDYFEQYGKIEVIEIMTDRGSGKKRGFAFVTFDDHDSVDKIVIQKYHTVNGHNCEVRKALSKQEMASASSSQRGRSGSGNFGGGRGGGFGGNDNFGRGGNFSGRGGFGGSRGGGGYGGSGDGYNGFGNDGGYGGGGPGYSGGSRGYGSGGQGYGNQGSGYGGSGSYDSYNNGGGGGFGGGSGSNFGGGGSYNDFGNYNNQSSNFGPMKGGNFGGRSSGPYGGGGQYFAKPRNQGGYGGSSSSSSYGSGRRF')"
   ]
  },
  {
   "cell_type": "markdown",
   "metadata": {},
   "source": [
    "The graph_disorder() function has a few arguments that allows you to customize the graph. Here are a few examples:"
   ]
  },
  {
   "cell_type": "markdown",
   "metadata": {},
   "source": [
    "### Adding the name of the protein to the title of the graph"
   ]
  },
  {
   "cell_type": "code",
   "execution_count": null,
   "metadata": {},
   "outputs": [],
   "source": [
    "meta.graph_disorder(hnRNPA1, name=\"hnRNPA1\")"
   ]
  },
  {
   "cell_type": "markdown",
   "metadata": {},
   "source": [
    "### Changing the lines on the graph"
   ]
  },
  {
   "cell_type": "code",
   "execution_count": null,
   "metadata": {},
   "outputs": [],
   "source": [
    "meta.graph_disorder(hnRNPA1, line_intervals=[0, 0.5])"
   ]
  },
  {
   "cell_type": "markdown",
   "metadata": {},
   "source": [
    "### Saving the output graph"
   ]
  },
  {
   "cell_type": "markdown",
   "metadata": {},
   "source": [
    "Metapredict also makes it easy for you to save graphs directly from Python. Simply set save=True and output=\"name of my graph.png\" and the graph will save to your current directory (whatever folder this jupyter notebook is in). You can also specify the path by: output=\"/Users/thisUser/Desktop/MyCoolGraphs/myGraph.png\n",
    "where the last part of the path is the name of your output graph."
   ]
  },
  {
   "cell_type": "code",
   "execution_count": null,
   "metadata": {},
   "outputs": [],
   "source": [
    "meta.graph_disorder(hnRNPA1, save=True, output = \"hnRNPA1_disorder.png\")"
   ]
  },
  {
   "cell_type": "markdown",
   "metadata": {},
   "source": [
    "### Specify the DPI of the output"
   ]
  },
  {
   "cell_type": "markdown",
   "metadata": {},
   "source": [
    "Lastly, you can also specify the DPI of the generated graph. The higher the DPI, the higher the resolution of the graph."
   ]
  },
  {
   "cell_type": "code",
   "execution_count": null,
   "metadata": {},
   "outputs": [],
   "source": [
    "meta.graph_disorder(hnRNPA1, DPI=600)"
   ]
  },
  {
   "cell_type": "markdown",
   "metadata": {},
   "source": [
    "## Graph disorder from a .fasta file"
   ]
  },
  {
   "cell_type": "markdown",
   "metadata": {},
   "source": [
    "Similar to being able to predict disorder from a FASTA file, you can also generate graphs from a FASTA file from Python. "
   ]
  },
  {
   "cell_type": "code",
   "execution_count": null,
   "metadata": {},
   "outputs": [],
   "source": [
    "meta.graph_disorder_fasta('Tau_and_p53.fasta', save=False)"
   ]
  },
  {
   "cell_type": "markdown",
   "metadata": {},
   "source": [
    "By default the graph_disorder_fasta() function will specify the title of the graph as the FASTA header. However, you can set save=False to get the graphs returned immediately. **Warning** if you have a large FASTA file and you set save=False, you will have to individually close each individual graph. I do not recommend setting save=False for large .fasta files."
   ]
  },
  {
   "cell_type": "markdown",
   "metadata": {},
   "source": [
    "### Saving graphs generated from a FASTA file"
   ]
  },
  {
   "cell_type": "markdown",
   "metadata": {},
   "source": [
    "metapredict makes it easy for you to generate a large number of graphs from any fasta file using the graph_disorder_fasta() function. By default, it will save the graphs to your current directory, but you can specify the output path as well. Here are a few examples:"
   ]
  },
  {
   "cell_type": "code",
   "execution_count": null,
   "metadata": {},
   "outputs": [],
   "source": [
    "# just save the graphs of the sequences in the FASTA file to the curdir \n",
    "meta.graph_disorder_fasta(\"Tau_and_p53.fasta\")"
   ]
  },
  {
   "cell_type": "code",
   "execution_count": null,
   "metadata": {},
   "outputs": [],
   "source": [
    "# save the output to a specific folder\n",
    "import os\n",
    "path=\"{}/my_cool_graphs\".format(os.getcwd())\n",
    "meta.graph_disorder_fasta(\"Tau_and_p53.fasta\", output_path=path)"
   ]
  },
  {
   "cell_type": "markdown",
   "metadata": {},
   "source": [
    "By default the files will save as the part of the FASTA header. However, depending on how you download the FASTA file, the header may contain characters that some operating systems cannot use for file names. To bypass this, you can set remove_characters=True"
   ]
  },
  {
   "cell_type": "markdown",
   "metadata": {},
   "source": [
    "### Generating graphs from a Uniprot ID"
   ]
  },
  {
   "cell_type": "markdown",
   "metadata": {},
   "source": [
    "Similar to being able to predict disorder of a sequence using the Uniprot ID, you can also generate graphs using a Uniprot ID. "
   ]
  },
  {
   "cell_type": "code",
   "execution_count": null,
   "metadata": {},
   "outputs": [],
   "source": [
    "meta.graph_disorder_uniprot('P04637')"
   ]
  },
  {
   "cell_type": "markdown",
   "metadata": {},
   "source": [
    "When using a Uniprot ID to generate a graph, all of the same functionality as meta.graph_disorder() can be used including setting the title of the graph by setting *name=myCoolProtein*, setting *save=True* to save a graph, altering the resolution by changing *DPI=300* (DPI can be changed to numbers other than 300), *line_intervals=[0.25, 0.5, 0.75]* to change the dashed lines on the graph (you can use any float between 0 and 1 in the list as far as specifying the lines), specifying the output name of the graph by setting *output=my_cool_graph.png*, and finally specifying the name and the output of the generated graph using *output=/Users/ThisUser/Desktop/MyCoolGraphsFolder/ThisProtein.png*"
   ]
  },
  {
   "cell_type": "markdown",
   "metadata": {},
   "source": [
    "# For full documentation of metapredict, please see:"
   ]
  },
  {
   "cell_type": "markdown",
   "metadata": {},
   "source": [
    "http://metapredict.readthedocs.io"
   ]
  },
  {
   "cell_type": "markdown",
   "metadata": {},
   "source": [
    "# For access to the code for metapredict, please see:"
   ]
  },
  {
   "cell_type": "markdown",
   "metadata": {},
   "source": [
    "https://github.com/idptools/metapredict"
   ]
  }
 ],
 "metadata": {
  "kernelspec": {
   "display_name": "Python 3",
   "language": "python",
   "name": "python3"
  },
  "language_info": {
   "codemirror_mode": {
    "name": "ipython",
    "version": 3
   },
   "file_extension": ".py",
   "mimetype": "text/x-python",
   "name": "python",
   "nbconvert_exporter": "python",
   "pygments_lexer": "ipython3",
   "version": "3.7.6"
  }
 },
 "nbformat": 4,
 "nbformat_minor": 4
}
