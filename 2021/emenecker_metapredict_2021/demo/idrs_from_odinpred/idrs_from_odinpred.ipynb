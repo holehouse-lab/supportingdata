{
 "cells": [
  {
   "cell_type": "markdown",
   "id": "dda60f90",
   "metadata": {},
   "source": [
    "### Short notebook for parsing/reading ODiNPred disorder data\n",
    "###### Last updated 2021-05-31\n",
    "The following short code snipped shows how one could predict IDRs from another prediction tool that provides per-residue disorder scores. We're using [ODiNPred](https://st-protein.chem.au.dk/odinpred) as our example because it's GREAT, but, other predictors are out there and could obviously be used in the same way!\n",
    "\n",
    "If you have any questions about this code please shoot Alex an email :-).\n",
    "\n",
    "\n",
    "NOTE that because it's memorial day, the function `predict_disorder_domains_from_external_scores()` is not on the main PyPI version of metapredict, but, you can still get the current working version where it CAN be found by running:\n",
    "\n",
    "    pip install metapredict@git+git://github.com/holehouse-lab/metapredict.git\n",
    "    \n",
    "Which will install the current version [from our GitHub repository](https://github.com/idptools/metapredict)."
   ]
  },
  {
   "cell_type": "code",
   "execution_count": 1,
   "id": "6a5fb3b8",
   "metadata": {},
   "outputs": [
    {
     "name": "stdout",
     "output_type": "stream",
     "text": [
      "[[0, 103], [290, 327], [349, 393]]\n"
     ]
    }
   ],
   "source": [
    "import metapredict as meta\n",
    "\n",
    "odinpred_file = 'DisorderPredictionssp_P04637_P53_HUMANC.txt'\n",
    "\n",
    "# read the file into Python\n",
    "with open(odinpred_file, 'r') as fh:\n",
    "    content = fh.readlines()\n",
    "\n",
    "# this line extracts the 4th (idx=3) column from the file, discarding the\n",
    "# first (1) line to build a list of disorder scores\n",
    "disorder = [float(x.strip().split()[3]) for x in content[1:]]\n",
    "\n",
    "idrs = meta.predict_disorder_domains_from_external_scores(disorder)\n",
    "print(idrs[1])"
   ]
  },
  {
   "cell_type": "markdown",
   "id": "8b6a5eab",
   "metadata": {},
   "source": [
    "The output about should look something like:\n",
    "\n",
    "    [[0, 103], [290, 327], [349, 393]]\n",
    "\n",
    "i.e. this uses Python indexing to say there is an IDR between index position 0 and 103, a second between 290 and 327, and another between 349 and 393. NOTE that these boundaries DEPEND on the settings passwed to `predict_disorder_domains_from_external_scores()`. By default the 'disorder' threshold is set to 0.5, but, depending on your disorder scores this might not make any sense.\n",
    "\n",
    "Re-running with a higher threshold:"
   ]
  },
  {
   "cell_type": "code",
   "execution_count": 2,
   "id": "3bb055a8",
   "metadata": {},
   "outputs": [
    {
     "name": "stdout",
     "output_type": "stream",
     "text": [
      "[[0, 99], [294, 393]]\n"
     ]
    }
   ],
   "source": [
    "idrs = meta.predict_disorder_domains_from_external_scores(disorder, disorder_threshold=0.8)\n",
    "print(idrs[1])"
   ]
  },
  {
   "cell_type": "markdown",
   "id": "93cc40d8",
   "metadata": {},
   "source": [
    "Reveals a different set of \n",
    "\n",
    "    [[0, 99], [294, 393]]\n",
    "\n",
    "\n",
    "Which of these two scenarios is right? In general, my recommendation at this stage is to see what OTHER extant data exists on this protein - i.e., have people obtained structural information? Perhaps there's a reason which is predicted to be borderline because it folds on binding a partner (e.g. DNA, RNA, protein, ion *etc.*). In any case, for protein-specific analysis a combination of disorder predictor plus primary literature is generally the best approach to build a high-confidence map of which regions are disordered *in the context you care about*."
   ]
  },
  {
   "cell_type": "markdown",
   "id": "c1036716",
   "metadata": {},
   "source": [
    "#### Getting sequence information as well\n",
    "If you can provide the amino acid sequence, the function `predict_disorder_domains_from_external_scores()` will also give you the IDR sequences by extracting them based on the identified boundaries. For example:"
   ]
  },
  {
   "cell_type": "code",
   "execution_count": 3,
   "id": "40ddaf53",
   "metadata": {},
   "outputs": [
    {
     "name": "stdout",
     "output_type": "stream",
     "text": [
      "[[0, 103, 'MEEPQSDPSVEPPLSQETFSDLWKLLPENNVLSPLPSQAMDDLMLSPDDIEQWFTEDPGPDEAPRMPEAAPPVAPAPAAPTPAAPAPAPSWPLSSSVPSQKTY'], [290, 327, 'KKGEPHHELPPGSTKRALPNNTSSSPQPKKKPLDGEY'], [349, 393, 'LKDAQAGKEPGGSRAHSSHLKSKKGQSTSRHKKLMFKTEGPDSD']]\n"
     ]
    }
   ],
   "source": [
    "import metapredict as meta\n",
    "odinpred_file = 'DisorderPredictionssp_P04637_P53_HUMANC.txt'\n",
    "\n",
    "# read the file into Python\n",
    "with open(odinpred_file, 'r') as fh:\n",
    "    content = fh.readlines()\n",
    "\n",
    "# this line extracts the 4th (idx=3) column from the file, discarding the\n",
    "# first (1) line to build a list of disorder scores\n",
    "disorder = [float(x.strip().split()[3]) for x in content[1:]]\n",
    "\n",
    "# now we select the first (idx=0) column to extract the amino acid, and finally\n",
    "# include a \"\".join() call to combine the list of residues into a string\n",
    "local_sequence = \"\".join([x.strip().split()[0] for x in content[1:]])\n",
    "\n",
    "idrs = meta.predict_disorder_domains_from_external_scores(disorder, sequence=local_sequence)\n",
    "print(idrs[1])"
   ]
  },
  {
   "cell_type": "markdown",
   "id": "673ad8ac",
   "metadata": {},
   "source": [
    "The above output should now look something like:\n",
    "\n",
    "    [[0, 103, 'MEEPQSDPSVEPPLSQETFSDLWKLLPENNVLSPLPSQAMDDLMLSPDDIEQWFTEDPGPDEAPRMPEAAPPVAPAPAAPTPAAPAPAPSWPLSSSVPSQKTY'], [290, 327, 'KKGEPHHELPPGSTKRALPNNTSSSPQPKKKPLDGEY'], [349, 393, 'LKDAQAGKEPGGSRAHSSHLKSKKGQSTSRHKKLMFKTEGPDSD']]\n",
    "\n",
    "\n",
    "Where the protein sequences define the amino acids encompassed by the disordered region defined by the index positions"
   ]
  }
 ],
 "metadata": {
  "kernelspec": {
   "display_name": "Python 3",
   "language": "python",
   "name": "python3"
  },
  "language_info": {
   "codemirror_mode": {
    "name": "ipython",
    "version": 3
   },
   "file_extension": ".py",
   "mimetype": "text/x-python",
   "name": "python",
   "nbconvert_exporter": "python",
   "pygments_lexer": "ipython3",
   "version": "3.8.10"
  }
 },
 "nbformat": 4,
 "nbformat_minor": 5
}
