{
 "cells": [
  {
   "cell_type": "markdown",
   "metadata": {},
   "source": [
    "# metapredict: A deep-learning based predictor of consensus disorder in proteins"
   ]
  },
  {
   "cell_type": "markdown",
   "metadata": {},
   "source": [
    "This Jupyter Notebook contains examples to be used for *metapredict*. This notebook was updated for version 1.2 of metapredict. For more information on metapredict, please see: https://metapredict.readthedocs.io/en/latest/"
   ]
  },
  {
   "cell_type": "markdown",
   "metadata": {},
   "source": [
    "# Setting up the notebook"
   ]
  },
  {
   "cell_type": "code",
   "execution_count": null,
   "metadata": {},
   "outputs": [],
   "source": [
    "# Make graphs show up properly\n",
    "%matplotlib inline\n",
    "\n",
    "from metapredict import meta\n",
    "import os"
   ]
  },
  {
   "cell_type": "markdown",
   "metadata": {},
   "source": [
    "# Predicting disorder"
   ]
  },
  {
   "cell_type": "markdown",
   "metadata": {},
   "source": [
    "### Predicting Disorder From a Sequence"
   ]
  },
  {
   "cell_type": "code",
   "execution_count": null,
   "metadata": {},
   "outputs": [],
   "source": [
    "# Example sequence is hnRNPA1 UniprotID P09651\n",
    "hnRNPA1 = 'MSKSESPKEPEQLRKLFIGGLSFETTDESLRSHFEQWGTLTDCVVMRDPNTKRSRGFGFVTYATVEEVDAAMNARPHKVDGRVVEPKRAVSREDSQRPGAHLTVKKIFVGGIKEDTEEHHLRDYFEQYGKIEVIEIMTDRGSGKKRGFAFVTFDDHDSVDKIVIQKYHTVNGHNCEVRKALSKQEMASASSSQRGRSGSGNFGGGRGGGFGGNDNFGRGGNFSGRGGFGGSRGGGGYGGSGDGYNGFGNDGGYGGGGPGYSGGSRGYGSGGQGYGNQGSGYGGSGSYDSYNNGGGGGFGGGSGSNFGGGGSYNDFGNYNNQSSNFGPMKGGNFGGRSSGPYGGGGQYFAKPRNQGGYGGSSSSSSYGSGRRF'"
   ]
  },
  {
   "cell_type": "code",
   "execution_count": null,
   "metadata": {},
   "outputs": [],
   "source": [
    "# print predicted disorder for hnRNPA1\n",
    "print(meta.predict_disorder(hnRNPA1))"
   ]
  },
  {
   "cell_type": "markdown",
   "metadata": {},
   "source": [
    "NOTE: You do not need to set the sequence to a variable and then predict disorder using that variable. You can directly input the sequence as a String into the meta.predict_disorder() function."
   ]
  },
  {
   "cell_type": "code",
   "execution_count": null,
   "metadata": {},
   "outputs": [],
   "source": [
    "# directly input sequence...\n",
    "print(meta.predict_disorder('MSKSESPKEPEQLRKLFIGGLSFETTDESLRSHFEQWGTLTDCVVMRDPNTKRSRGFGFVTYATVEEVDAAMNARPHKVDGRVVEPKRAVSREDSQRPGAHLTVKKIFVGGIKEDTEEHHLRDYFEQYGKIEVIEIMTDRGSGKKRGFAFVTFDDHDSVDKIVIQKYHTVNGHNCEVRKALSKQEMASASSSQRGRSGSGNFGGGRGGGFGGNDNFGRGGNFSGRGGFGGSRGGGGYGGSGDGYNGFGNDGGYGGGGPGYSGGSRGYGSGGQGYGNQGSGYGGSGSYDSYNNGGGGGFGGGSGSNFGGGGSYNDFGNYNNQSSNFGPMKGGNFGGRSSGPYGGGGQYFAKPRNQGGYGGSSSSSSYGSGRRF'))"
   ]
  },
  {
   "cell_type": "markdown",
   "metadata": {},
   "source": [
    "### Predicting disorder using a Uniprot ID"
   ]
  },
  {
   "cell_type": "markdown",
   "metadata": {},
   "source": [
    "metapredict allows disorder predictions by inputting the Uniprot ID rather than the sequence. The Uniprot ID for p53 is P04637. Let's give that a go."
   ]
  },
  {
   "cell_type": "code",
   "execution_count": null,
   "metadata": {},
   "outputs": [],
   "source": [
    "print(meta.predict_disorder_uniprot('P04637'))\n",
    "# NOTE: This function can take a little bit of time due to having to fetch the sequence from Uniprot."
   ]
  },
  {
   "cell_type": "markdown",
   "metadata": {},
   "source": [
    "### Calculating percent disorder"
   ]
  },
  {
   "cell_type": "markdown",
   "metadata": {},
   "source": [
    "If you just need the percent disorder of a sequence, metapredict can do that using the percent_disorder() function."
   ]
  },
  {
   "cell_type": "code",
   "execution_count": null,
   "metadata": {},
   "outputs": [],
   "source": [
    "# We will use the hnRNPA1 sequence we set before for this.\n",
    "# Like meta.predict_disorder(), you can also just input a sequence.\n",
    "print(meta.percent_disorder(hnRNPA1))"
   ]
  },
  {
   "cell_type": "markdown",
   "metadata": {},
   "source": [
    "The cutoff for a residue to be considered disordered in the percent_disorder() function for metapredict is by default set to 0.3. However, you can manually alter this cutoff to make the classification of a residue as disorder more strict by increasing the cutoff value."
   ]
  },
  {
   "cell_type": "code",
   "execution_count": null,
   "metadata": {},
   "outputs": [],
   "source": [
    "print(\"Cutoff value of 0.5 gives percent disorder of {}\".format(meta.percent_disorder(hnRNPA1, cutoff=0.5)))\n",
    "print(\"Cutoff value of 0.75 gives percent disorder of {}\".format(meta.percent_disorder(hnRNPA1, cutoff=0.75)))\n",
    "print(\"Cutoff value of 1.0 gives percent disorder of {}\".format(meta.percent_disorder(hnRNPA1, cutoff=1.0)))"
   ]
  },
  {
   "cell_type": "markdown",
   "metadata": {},
   "source": [
    "### Predicting disorder using a FASTA formatted file"
   ]
  },
  {
   "cell_type": "markdown",
   "metadata": {},
   "source": [
    "Metapredict allows users to predict disorder from all sequences in a fasta file. The utility of this is that you can download an entire proteome (in FASTA format) and predict disorder for all sequences in that proteome using a single command. However, for obvious reasons, in this example we will just look at 2 sequences."
   ]
  },
  {
   "cell_type": "code",
   "execution_count": null,
   "metadata": {},
   "outputs": [],
   "source": [
    "print(meta.predict_disorder_fasta('Tau_and_p53.fasta'))"
   ]
  },
  {
   "cell_type": "markdown",
   "metadata": {},
   "source": [
    "When predicting disorder form a FASTA file, metapredict will return the values as a dictionary to make it easy to retrieve individual disorder scores."
   ]
  },
  {
   "cell_type": "code",
   "execution_count": null,
   "metadata": {},
   "outputs": [],
   "source": [
    "fasta_disorder=meta.predict_disorder_fasta('Tau_and_p53.fasta')"
   ]
  },
  {
   "cell_type": "code",
   "execution_count": null,
   "metadata": {},
   "outputs": [],
   "source": [
    "print(fasta_disorder['TAU'])"
   ]
  },
  {
   "cell_type": "code",
   "execution_count": null,
   "metadata": {},
   "outputs": [],
   "source": [
    "print(fasta_disorder['p53'])"
   ]
  },
  {
   "cell_type": "markdown",
   "metadata": {},
   "source": [
    "You can also save the output from the predict_disorder_fasta() function by specifying `output_file=` and then specifying the file path and the file name. This writes to the relative/absolute location, using the current working directory as default."
   ]
  },
  {
   "cell_type": "code",
   "execution_count": null,
   "metadata": {},
   "outputs": [],
   "source": [
    "meta.predict_disorder_fasta('Tau_and_p53.fasta', output_file='Tau_and_p53_predictions.csv')"
   ]
  },
  {
   "cell_type": "markdown",
   "metadata": {},
   "source": [
    "You can also specify a different directory that the `.csv` will save by "
   ]
  },
  {
   "cell_type": "code",
   "execution_count": null,
   "metadata": {},
   "outputs": [],
   "source": [
    "# set the file path to the current directory followed by the example_output_path\n",
    "meta.predict_disorder_fasta('Tau_and_p53.fasta', output_file=\"example_output_path/Tau_and_p53_predictions\")"
   ]
  },
  {
   "cell_type": "markdown",
   "metadata": {},
   "source": [
    "### Predicting disorder domains"
   ]
  },
  {
   "cell_type": "markdown",
   "metadata": {},
   "source": [
    "metapredict holds functionality to predict 'ordered' and disordered domains in a sequence. This can be done by inputting a sequnce or by using a Uniprot ID. We have found that using this function is slightly more accurate than simply using a binary classification of regions by looking at a resiude and whether it is above or below the cutoff value."
   ]
  },
  {
   "cell_type": "code",
   "execution_count": null,
   "metadata": {},
   "outputs": [],
   "source": [
    "disorder_domains = meta.predict_disorder_domains(\"MKAPSNGFLPSSNEGEKKPINSQLWHACAGPLVSLPPVGSLVVYFPQGHSEQVAASMQKQTDFIPNYPNLPSKLICLLHS\")"
   ]
  },
  {
   "cell_type": "markdown",
   "metadata": {},
   "source": [
    "The output from `predict_disordered_domains())` is a 4-element list with the following components:\n",
    "\n",
    "* 0: The raw per-residue disorder scores from 0 to 1\n",
    "* 1: The smoothed per-residue disorder score used for boundary identification (may extend above and below 0 and 1)\n",
    "* 2: A list of the IDRs \n",
    "* 3: A list of the folded domains\n",
    "\n",
    "The IDRs and folded domains combined should equal the full sequence.\n",
    "\n",
    "The IDRs and folded domains are themselves defined as a list of lists, where each sublist has three elements:\n",
    "* 0 domain start position (0 indexed)\n",
    "* 1 domain end position (0 indexed)\n",
    "* 2 IDR sequence\n",
    "\n",
    "Note that the start and end positions are Python-indexed (as opposed to human indexed) so one can do `sequence[start:end]` and get the same IDR back.\n",
    "\n",
    "As an example:"
   ]
  },
  {
   "cell_type": "code",
   "execution_count": null,
   "metadata": {},
   "outputs": [],
   "source": [
    "print('IDR(s) shown below')\n",
    "disorder_domains[2]"
   ]
  },
  {
   "cell_type": "code",
   "execution_count": null,
   "metadata": {},
   "outputs": [],
   "source": [
    "print('Folded domains(s) shown below')\n",
    "disorder_domains[3]"
   ]
  },
  {
   "cell_type": "code",
   "execution_count": null,
   "metadata": {},
   "outputs": [],
   "source": [
    "testing_domains_func = meta.predict_disorder_domains(\"MKAPSNGFLPSSNEGEKKPINSQLWHACAGPLVSLPPVGSLVVYFPQGHSEQVAASMQKQTDFIPNYPNLPSKLICLLHS\")"
   ]
  },
  {
   "cell_type": "code",
   "execution_count": null,
   "metadata": {},
   "outputs": [],
   "source": [
    "# if we want the raw disorder scores for the sequence, we simply call the 0 item in the tuple\n",
    "raw_dis_scores=testing_domains_func[0]\n",
    "print(raw_dis_scores)"
   ]
  },
  {
   "cell_type": "code",
   "execution_count": null,
   "metadata": {},
   "outputs": [],
   "source": [
    "# if we want the 'smoothed' disorder scores, which are used for defining the domains, we call the 1 item\n",
    "smoothed_dis_scores = testing_domains_func[1]\n",
    "print(smoothed_dis_scores)"
   ]
  },
  {
   "cell_type": "code",
   "execution_count": null,
   "metadata": {},
   "outputs": [],
   "source": [
    "# if we want the list of IDRs, we call the 2 item\n",
    "IDRs = testing_domains_func[2]\n",
    "print(IDRs)"
   ]
  },
  {
   "cell_type": "code",
   "execution_count": null,
   "metadata": {},
   "outputs": [],
   "source": [
    "# in IDRs, the first two items in the list are the coordinates for the IDR and the third item is the sequence\n",
    "# this sequence only has 1 IDR, so let's grab that from the list of IDRs.\n",
    "IDR1 = IDRs[0]\n",
    "# now we can grab the coordinates and the sequence from the IDR.\n",
    "start = IDR1[0]\n",
    "end = IDR1[1]\n",
    "local_idr_sequence = IDR1[2]\n",
    "print(\"The coordinates for this IDR are {} and {}. The sequence of the IDR is {}\".format(start, end, local_idr_sequence))"
   ]
  },
  {
   "cell_type": "markdown",
   "metadata": {},
   "source": [
    "#### Additional arguments"
   ]
  },
  {
   "cell_type": "markdown",
   "metadata": {},
   "source": [
    "With the predict_disorder_domains() function, you can specify various parameters including the cutoff value for the disorder *default is 0.42*, the minimum IDR size *default is 12*, the minimum size of the folded domain *default is 50*, and the gap closure size *default is 10*. Information on the various paramters can be found below:\n",
    "\n",
    "**disorder_threshold : float**\n",
    "        Value that defines what 'disordered' is based on the metapredict disorder score. The higher the value the more stringent the cutoff. Default = 0.42\n",
    "\n",
    "**minimum_IDR_size : int**\n",
    "        Defines the smallest possible IDR. This is a hard limit - i.e. we CANNOT get IDRs smaller than this. Default = 12.\n",
    "\n",
    "**minimum_folded_domain : int** \n",
    "        Defines where we expect the limit of small folded domains to be. This is NOT a hard limit and functions to modulate the removal of large gaps (i.e. gaps less than this size are treated less strictly). Note that, in addition, gaps < 35 are evaluated with a threshold of 0.35\\*disorder_threshold and gaps < 20 are evaluated with a threshold of 0.25\\*disorder_threshold. These two lengthscales were decided based on the fact that coiled-coiled regions (which are IDRs in isolation) often show up with reduced apparent disorder within IDRs, and but can be as short as 20-30 residues. The folded_domain_threshold is used based on the idea that it allows a 'shortest reasonable' folded domain to be identified. Default=50.\n",
    "\n",
    "**gap_closure : int**\n",
    "        Defines the largest gap that would be 'closed'. Gaps here refer to a scenario in which you have two groups of disordered residues seprated by a 'gap' of un-disordered residues. In general large gap sizes will favour larger contigous IDRs. It's worth noting that gap_closure becomes relevant only when minimum_region_size becomes very small (i.e. < 5) because really gaps emerge when the smoothed disorder fit is \"noisy\", but when smoothed gaps are increasingly rare. Default=10."
   ]
  },
  {
   "cell_type": "code",
   "execution_count": null,
   "metadata": {},
   "outputs": [],
   "source": [
    "# example specifying all parameters\n",
    "print(meta.predict_disorder_domains(hnRNPA1, disorder_threshold=0.3, minimum_IDR_size=15, minimum_folded_domain=60, gap_closure=12))"
   ]
  },
  {
   "cell_type": "markdown",
   "metadata": {},
   "source": [
    "### Predicting disorder domains from a Uniprot ID"
   ]
  },
  {
   "cell_type": "markdown",
   "metadata": {},
   "source": [
    "Similar to being able to predict disorder scores from a Uniprot ID, you can also predict disorder domains using a Uniprot ID."
   ]
  },
  {
   "cell_type": "code",
   "execution_count": null,
   "metadata": {},
   "outputs": [],
   "source": [
    "print(meta.predict_disorder_domains_uniprot('P04637'))"
   ]
  },
  {
   "cell_type": "markdown",
   "metadata": {},
   "source": [
    "# Graphing Disorder"
   ]
  },
  {
   "cell_type": "markdown",
   "metadata": {},
   "source": [
    "Metapredict contains substantial functionality for graphing disorder to make it easy to quickly visualise which parts of your sequence of interest are disorderd. In addition, we added some functionality so you can customize your graph in a few *nifty* ways."
   ]
  },
  {
   "cell_type": "markdown",
   "metadata": {},
   "source": [
    "### Graphing disorder form a sequence"
   ]
  },
  {
   "cell_type": "markdown",
   "metadata": {},
   "source": [
    "Similar to the meta.predict_disorder(), metapredict can generate graphs directly from a sequence using the *meta.graph_disorder()* function."
   ]
  },
  {
   "cell_type": "code",
   "execution_count": null,
   "metadata": {},
   "outputs": [],
   "source": [
    "# graph disorder using previously defined hnRNPA1 sequence\n",
    "meta.graph_disorder(hnRNPA1)"
   ]
  },
  {
   "cell_type": "markdown",
   "metadata": {},
   "source": [
    "The graph_disorder() function has a few arguments that allows you to customize the graph. Here are a few examples:"
   ]
  },
  {
   "cell_type": "markdown",
   "metadata": {},
   "source": [
    "### Adding the name of the protein to the title of the graph"
   ]
  },
  {
   "cell_type": "code",
   "execution_count": null,
   "metadata": {},
   "outputs": [],
   "source": [
    "meta.graph_disorder(hnRNPA1, title=\"hnRNPA1\")"
   ]
  },
  {
   "cell_type": "markdown",
   "metadata": {},
   "source": [
    "### Shading regions of the graph"
   ]
  },
  {
   "cell_type": "code",
   "execution_count": null,
   "metadata": {},
   "outputs": [],
   "source": [
    "meta.graph_disorder(hnRNPA1, shaded_regions=[[1, 20],[73, 103], [175, 373]])"
   ]
  },
  {
   "cell_type": "markdown",
   "metadata": {},
   "source": [
    "### Specifying color of the shaded regions of the graph"
   ]
  },
  {
   "cell_type": "code",
   "execution_count": null,
   "metadata": {},
   "outputs": [],
   "source": [
    "meta.graph_disorder(hnRNPA1, shaded_regions=[[1, 20],[73, 103], [175, 373]], shaded_region_color=\"orange\")"
   ]
  },
  {
   "cell_type": "markdown",
   "metadata": {},
   "source": [
    "### Saving the output graph"
   ]
  },
  {
   "cell_type": "markdown",
   "metadata": {},
   "source": [
    "Metapredict also makes it easy for you to save graphs directly from Python. Simply set `output_file=` with the file path and the name."
   ]
  },
  {
   "cell_type": "code",
   "execution_count": null,
   "metadata": {},
   "outputs": [],
   "source": [
    "meta.graph_disorder(hnRNPA1, output_file = \"example_output_path/hnRNPA1_disorder.png\")"
   ]
  },
  {
   "cell_type": "markdown",
   "metadata": {},
   "source": [
    "### Specify the DPI of the output"
   ]
  },
  {
   "cell_type": "markdown",
   "metadata": {},
   "source": [
    "You can also specify the DPI of the generated graph. The higher the DPI, the higher the resolution of the graph."
   ]
  },
  {
   "cell_type": "code",
   "execution_count": null,
   "metadata": {},
   "outputs": [],
   "source": [
    "meta.graph_disorder(hnRNPA1, DPI=600)"
   ]
  },
  {
   "cell_type": "markdown",
   "metadata": {},
   "source": [
    "### Change output filetype\n",
    "You can also change the output filetype simply by changing the file extension - e.g. generate a PDF instead:\n"
   ]
  },
  {
   "cell_type": "code",
   "execution_count": null,
   "metadata": {},
   "outputs": [],
   "source": [
    "meta.graph_disorder(hnRNPA1, output_file = \"example_output_path/hnRNPA1_disorder.pdf\")"
   ]
  },
  {
   "cell_type": "markdown",
   "metadata": {},
   "source": [
    "## Graph disorder from a .fasta file"
   ]
  },
  {
   "cell_type": "markdown",
   "metadata": {},
   "source": [
    "Similar to being able to predict disorder from a FASTA file, you can also generate graphs from a FASTA file from Python. If no `output_file` is defined all the sequences in the FASTA file render in the notebook."
   ]
  },
  {
   "cell_type": "code",
   "execution_count": null,
   "metadata": {},
   "outputs": [],
   "source": [
    "meta.graph_disorder_fasta('Tau_and_p53.fasta')"
   ]
  },
  {
   "cell_type": "markdown",
   "metadata": {},
   "source": [
    "By default the `graph_disorder_fasta()` function will specify the title of the graph as the FASTA header. "
   ]
  },
  {
   "cell_type": "markdown",
   "metadata": {},
   "source": [
    "### Saving graphs generated from a FASTA file"
   ]
  },
  {
   "cell_type": "markdown",
   "metadata": {},
   "source": [
    "metapredict makes it easy for you to generate a large number of graphs from any fasta file using the `graph_disorder_fasta()` function. By default, it will save the graphs to your current directory, but you can specify the output directory as well. Here are a few examples:"
   ]
  },
  {
   "cell_type": "code",
   "execution_count": null,
   "metadata": {},
   "outputs": [],
   "source": [
    "# save the output to a specific folder\n",
    "output_path = \"my_cool_graphs\"\n",
    "meta.graph_disorder_fasta(\"Tau_and_p53.fasta\", output_dir=output_path)"
   ]
  },
  {
   "cell_type": "markdown",
   "metadata": {},
   "source": [
    "By default the files names generated will be (up to) the first alpha-numeric characters in the FASTA header. "
   ]
  },
  {
   "cell_type": "markdown",
   "metadata": {},
   "source": [
    "### Avoiding overwriting in output files\n",
    "You may have sequences that have almost identical fasta headers (or may be identical in the first 14 characters). To avoid these overwriting, the `meta.graph_disorder_fasta()` function comes with an `indexed_filenames=` parameter which, if set to `True`, means each output file generated contains a leading integer (starting at 1 and monotonically increasing) guarenteeing uniqueness."
   ]
  },
  {
   "cell_type": "code",
   "execution_count": null,
   "metadata": {},
   "outputs": [],
   "source": [
    "output_path = \"my_cool_graphs\"\n",
    "meta.graph_disorder_fasta(\"Tau_and_p53.fasta\", output_dir=output_path, indexed_filenames=True)"
   ]
  },
  {
   "cell_type": "markdown",
   "metadata": {},
   "source": [
    "### Generating graphs from a Uniprot ID"
   ]
  },
  {
   "cell_type": "markdown",
   "metadata": {},
   "source": [
    "Similar to being able to predict disorder of a sequence using the Uniprot ID, you can also generate graphs using a Uniprot ID. "
   ]
  },
  {
   "cell_type": "code",
   "execution_count": null,
   "metadata": {},
   "outputs": [],
   "source": [
    "meta.graph_disorder_uniprot('P04637')"
   ]
  },
  {
   "cell_type": "markdown",
   "metadata": {},
   "source": [
    "# For full documentation of metapredict, please see:"
   ]
  },
  {
   "cell_type": "markdown",
   "metadata": {},
   "source": [
    "http://metapredict.readthedocs.io"
   ]
  },
  {
   "cell_type": "markdown",
   "metadata": {},
   "source": [
    "# For access to the code for metapredict, please see:"
   ]
  },
  {
   "cell_type": "markdown",
   "metadata": {},
   "source": [
    "https://github.com/idptools/metapredict"
   ]
  },
  {
   "cell_type": "markdown",
   "metadata": {},
   "source": [
    "# For predicting disorder using our server please ee:"
   ]
  },
  {
   "cell_type": "markdown",
   "metadata": {},
   "source": [
    "https://metapredict.net"
   ]
  },
  {
   "cell_type": "code",
   "execution_count": null,
   "metadata": {},
   "outputs": [],
   "source": []
  }
 ],
 "metadata": {
  "kernelspec": {
   "display_name": "Python 3",
   "language": "python",
   "name": "python3"
  },
  "language_info": {
   "codemirror_mode": {
    "name": "ipython",
    "version": 3
   },
   "file_extension": ".py",
   "mimetype": "text/x-python",
   "name": "python",
   "nbconvert_exporter": "python",
   "pygments_lexer": "ipython3",
   "version": "3.8.10"
  }
 },
 "nbformat": 4,
 "nbformat_minor": 4
}
