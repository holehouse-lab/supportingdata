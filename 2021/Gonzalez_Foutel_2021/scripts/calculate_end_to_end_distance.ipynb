{
 "cells": [
  {
   "cell_type": "markdown",
   "id": "5ed7a898",
   "metadata": {},
   "source": [
    "### Code for computing end-to-end distance\n"
   ]
  },
  {
   "cell_type": "code",
   "execution_count": null,
   "id": "ee556625",
   "metadata": {},
   "outputs": [],
   "source": [
    "import numpy as np\n",
    "from camparitraj.cttrajectory import CTTrajectory\n",
    "\n",
    "CT = CTTrajectory('full.pdb','full.xtc')\n",
    "CP = CT.proteinTrajectoryList[0]\n",
    "\n",
    "e2e = CP.get_end_to_end_distance()\n",
    "\n",
    "np.savetxt('end_to_end_distance.csv', e2e)"
   ]
  }
 ],
 "metadata": {
  "kernelspec": {
   "display_name": "Python 3",
   "language": "python",
   "name": "python3"
  },
  "language_info": {
   "codemirror_mode": {
    "name": "ipython",
    "version": 3
   },
   "file_extension": ".py",
   "mimetype": "text/x-python",
   "name": "python",
   "nbconvert_exporter": "python",
   "pygments_lexer": "ipython3",
   "version": "3.8.10"
  }
 },
 "nbformat": 4,
 "nbformat_minor": 5
}
